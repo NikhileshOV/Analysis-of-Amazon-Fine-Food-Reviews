{
 "cells": [
  {
   "cell_type": "code",
   "execution_count": 1,
   "metadata": {
    "colab": {},
    "colab_type": "code",
    "id": "7kCz3GwpLaH5"
   },
   "outputs": [],
   "source": [
    "import warnings\n",
    "warnings.filterwarnings(\"ignore\")\n",
    "\n",
    "import sqlite3\n",
    "import numpy as np\n",
    "import pandas as pd\n",
    "import matplotlib.pyplot as plt\n",
    "import nltk\n",
    "import string\n",
    "import seaborn as sns\n",
    "from sklearn.feature_extraction.text import TfidfTransformer\n",
    "from sklearn.feature_extraction.text import TfidfVectorizer\n",
    "\n",
    "from sklearn.feature_extraction.text import CountVectorizer\n",
    "from sklearn.metrics import confusion_matrix\n",
    "from sklearn import metrics\n",
    "from sklearn.metrics import roc_curve, auc\n",
    "from nltk.stem.porter import PorterStemmer\n",
    "from sklearn.decomposition import TruncatedSVD\n",
    "\n",
    "import re\n",
    "from nltk.corpus import stopwords\n",
    "from nltk.stem import PorterStemmer\n",
    "from nltk.stem.wordnet import WordNetLemmatizer\n",
    "\n",
    "from gensim.models import Word2Vec\n",
    "from gensim.models import KeyedVectors\n",
    "import pickle\n",
    "\n",
    "from sklearn.cross_validation import train_test_split\n",
    "from sklearn.neighbors import KNeighborsClassifier\n",
    "from sklearn.metrics import accuracy_score\n",
    "from sklearn.metrics import classification_report\n",
    "from sklearn.cross_validation import cross_val_score\n",
    "from collections import Counter\n",
    "from sklearn.metrics import accuracy_score\n",
    "from sklearn import cross_validation\n",
    "from prettytable import PrettyTable"
   ]
  },
  {
   "cell_type": "markdown",
   "metadata": {},
   "source": [
    "## Import the data"
   ]
  },
  {
   "cell_type": "code",
   "execution_count": 7,
   "metadata": {},
   "outputs": [
    {
     "name": "stdout",
     "output_type": "stream",
     "text": [
      "The shape of grouped data is (50000, 11)\n"
     ]
    }
   ],
   "source": [
    "import pandas as pd\n",
    "final = pd.read_csv(\"final.csv\") #csv file which consists of Amazon food reviews with data cleaning performed upon previously\n",
    "p = final.groupby('Score')\n",
    "pos = p.get_group('Positive') #Gets the groups with Positive score\n",
    "neg = p.get_group('Negative') #Gets the groups with Negative score\n",
    "pos_2000 = pos.sample(30000) #Gets 1000 reviews of positive and negative scores\n",
    "neg_2000 = neg.sample(20000)\n",
    "grouped_data = pd.concat([pos_2000, neg_2000], ignore_index = True) #This data now contains positive and negative data in order.\n",
    "print(\"The shape of grouped data is {}\".format(grouped_data.shape))"
   ]
  },
  {
   "cell_type": "markdown",
   "metadata": {},
   "source": [
    "Observations:\n",
    "We choose 30000 positive and 20000 negative reviews from the final dataframe obtained after data cleaning process."
   ]
  },
  {
   "cell_type": "code",
   "execution_count": 8,
   "metadata": {},
   "outputs": [
    {
     "name": "stdout",
     "output_type": "stream",
     "text": [
      "The shape of grouped data after time based splitting is (50000, 11)\n"
     ]
    }
   ],
   "source": [
    "import datetime\n",
    "grouped_data['Time'] = grouped_data['Time'].map(lambda a: datetime.datetime.fromtimestamp(int(a)).strftime('%Y-%m-%d %H:%M:%S'))\n",
    "grouped_data = grouped_data.sort_values('Time', axis=0, ascending=True, kind='quicksort')\n",
    "scores = grouped_data['Score']\n",
    "print(\"The shape of grouped data after time based splitting is {}\".format(grouped_data.shape))"
   ]
  },
  {
   "cell_type": "markdown",
   "metadata": {},
   "source": [
    "Observations:\n",
    "Time based splitting is done on the obtained dataframe."
   ]
  },
  {
   "cell_type": "code",
   "execution_count": null,
   "metadata": {},
   "outputs": [],
   "source": [
    "grouped_data.to_csv(\"grouped_data\")"
   ]
  },
  {
   "cell_type": "markdown",
   "metadata": {},
   "source": [
    "Observations:\n",
    "Saving this dataframe into a new csv file."
   ]
  },
  {
   "cell_type": "markdown",
   "metadata": {},
   "source": [
    "# Utility Functions"
   ]
  },
  {
   "cell_type": "code",
   "execution_count": 2,
   "metadata": {
    "colab": {},
    "colab_type": "code",
    "id": "bvRx-hoBLaH-"
   },
   "outputs": [],
   "source": [
    "#We create a few utility functions whose use is described below\n",
    "\n",
    "\n",
    "def optimalk_brute(x_train,y_train,x_test,y_test): #This function finds optimal k with brute force algorithm.\n",
    "    neighbors = list(filter(lambda a: a%2!=0, list(range(1,50)))) #This produces odd numbers from 1 to 50 as neighbours\n",
    "    cv_scores=[]\n",
    "    for k in neighbors:\n",
    "        knn = KNeighborsClassifier(n_neighbors=k, algorithm='brute') #This implements K nearest neighbours for brute force algorithm\n",
    "        scores = cross_val_score(knn, x_train, y_train, cv=10, scoring='accuracy')\n",
    "        cv_scores.append(scores.mean()) #The mean of the obtained scores is taken\n",
    "    \n",
    "    MSE = [1 - x for x in cv_scores] #This lists the misclassification error for respective scores\n",
    "    optimal_k = neighbors[MSE.index(min(MSE))] #Optimal k is calculated\n",
    "    print('The optimal number of neighbors for brute force is: ',optimal_k)\n",
    "    print(\"The Misclassification error for k = {} is: {}\".format(optimal_k,np.round(min(MSE),3)))\n",
    "\n",
    "    # Plot misclassification error vs k \n",
    "    plt.plot(neighbors, MSE)\n",
    "\n",
    "    for xy in zip(neighbors, np.round(MSE,3)):\n",
    "        plt.annotate('(%s, %s)' % xy, xy=xy, textcoords='data')\n",
    "\n",
    "    plt.xlabel('Number of Neighbors K')\n",
    "    plt.ylabel('Misclassification Error')\n",
    "    plt.show()\n",
    "\n",
    "    print(\"The Misclassification error for each k value is : \", np.round(MSE,3))\n",
    "    \n",
    "    '''\n",
    "    Find test accuracy\n",
    "    '''\n",
    "    knn_optimal = KNeighborsClassifier(n_neighbors=optimal_k, algorithm='brute')\n",
    "    knn_optimal.fit(x_train, y_train) # Fitting the model\n",
    "    pred = knn_optimal.predict(x_test) # Predict the response\n",
    "    acc = accuracy_score(y_test, pred) * 100 # Evaluate accuracy\n",
    "    print('\\nThe accuracy of the knn classifier for k = %d is %f%%' % (optimal_k, acc))\n",
    "    print(\"*\"*50)\n",
    "    \n",
    "    '''\n",
    "    Plot confusion matrix\n",
    "    '''\n",
    "    labels = ['Positive','Negative']\n",
    "    cm = confusion_matrix(y_test,pred,labels)\n",
    "    fig = plt.figure()\n",
    "    sp = fig.add_subplot(111)\n",
    "    csp = sp.matshow(cm)\n",
    "    plt.title('Confusion matrix of the classifier')\n",
    "    fig.colorbar(csp)\n",
    "    sp.set_xticklabels([''] + labels)\n",
    "    sp.set_yticklabels([''] + labels)\n",
    "    plt.xlabel('Predicted')\n",
    "    plt.ylabel('True')\n",
    "    plt.show()\n",
    "    print(\"*\"*50)\n",
    "    \n",
    "    '''\n",
    "    Classification report\n",
    "    '''\n",
    "    print(classification_report(y_test,pred))\n",
    "    \n",
    "    \n",
    "def optimalk_kdtree(x_train,y_train,x_test,y_test): #This function finds optimal k with kd tree algorithm.\n",
    "    neighbors = list(filter(lambda a: a%2!=0, list(range(1,50)))) #This produces odd numbers from 1 to 50 as neighbours\n",
    "    cv_scores=[]\n",
    "    for k in neighbors:\n",
    "        knn = KNeighborsClassifier(n_neighbors=k, algorithm='kd_tree') #This implements K nearest neighbours for kd tree algorithm\n",
    "        scores = cross_val_score(knn, x_train, y_train, cv=10, scoring='accuracy')\n",
    "        cv_scores.append(scores.mean()) #The mean of the obtained scores is taken\n",
    "    \n",
    "    MSE = [1 - x for x in cv_scores] #This lists the misclassification error for respective scores\n",
    "    optimal_k = neighbors[MSE.index(min(MSE))] #Optimal k is calculated\n",
    "    print('The optimal number of neighbors for kd tree is: ',optimal_k)\n",
    "    print(\"The Misclassification error for k = {} is: {}\".format(optimal_k,np.round(min(MSE),3)))\n",
    "\n",
    "    # Plot misclassification error vs k \n",
    "    plt.plot(neighbors, MSE)\n",
    "\n",
    "    for xy in zip(neighbors, np.round(MSE,3)):\n",
    "        plt.annotate('(%s, %s)' % xy, xy=xy, textcoords='data')\n",
    "\n",
    "    plt.xlabel('Number of Neighbors K')\n",
    "    plt.ylabel('Misclassification Error')\n",
    "    plt.show()\n",
    "\n",
    "    print(\"The Misclassification error for each k value is : \", np.round(MSE,3))\n",
    "    \n",
    "    '''\n",
    "    Find test accuracy\n",
    "    '''\n",
    "    knn_optimal = KNeighborsClassifier(n_neighbors=optimal_k, algorithm='kd_tree')\n",
    "    knn_optimal.fit(x_train, y_train) # Fitting the model\n",
    "    pred = knn_optimal.predict(x_test) # Predict the response\n",
    "    acc = accuracy_score(y_test, pred) * 100 # Evaluate accuracy\n",
    "    print('\\nThe accuracy of the knn classifier for k = %d is %f%%' % (optimal_k, acc))\n",
    "    print(\"*\"*50)\n",
    "    \n",
    "    '''\n",
    "    Plot confusion matrix\n",
    "    '''\n",
    "    labels = ['Positive','Negative']\n",
    "    cm = confusion_matrix(y_test,pred,labels)\n",
    "    fig = plt.figure()\n",
    "    sp = fig.add_subplot(111)\n",
    "    csp = sp.matshow(cm)\n",
    "    plt.title('Confusion matrix of the classifier')\n",
    "    fig.colorbar(csp)\n",
    "    sp.set_xticklabels([''] + labels)\n",
    "    sp.set_yticklabels([''] + labels)\n",
    "    plt.xlabel('Predicted')\n",
    "    plt.ylabel('True')\n",
    "    plt.show()\n",
    "    print(\"*\"*50)\n",
    "    \n",
    "    '''\n",
    "    Classification report\n",
    "    '''\n",
    "    print(classification_report(y_test,pred))\n",
    "    \n",
    "    \n",
    "def select_tsvd(data,var,comp): #This function finds the cumulative variance at a certain specified number of components.\n",
    "    n=0\n",
    "    tsvd = TruncatedSVD(n_components=comp) #Find Truncated SVD for the given components\n",
    "    X_tsvd = tsvd.fit(data)\n",
    "    tsvd_var_ratios = list(X_tsvd.explained_variance_ratio_.cumsum()) #List the variance ratios\n",
    "    for a in tsvd_var_ratios:\n",
    "        if a>=var: #Finds n at this variance\n",
    "            n = tsvd_var_ratios.index(a)+1 #This finds the n value at the given variance\n",
    "            break\n",
    "    if n!=0:\n",
    "        print(\"The number of components is: \",n)\n",
    "    print(\"The final vaue of cumulative variance is\",tsvd_var_ratios[-1])"
   ]
  },
  {
   "cell_type": "markdown",
   "metadata": {},
   "source": [
    "**Observations:**\n",
    "\n",
    "1) We define two functions which splits the dataframe into train, cv and test and finds the optimal k for the respective algorithm.\n",
    "\n",
    "2) It then plots the number of neighbours vs misclassification error graph for visualisation.\n",
    "\n",
    "3) Then it predicts the test accuracy of the algorithm and returns the results.\n",
    "\n",
    "4) Also it plots the confusion matrix.\n",
    "\n",
    "5) The third function gets the optimal n value for performing dimensionality reductioon"
   ]
  },
  {
   "cell_type": "markdown",
   "metadata": {
    "colab_type": "text",
    "id": "8uyA6VM9N4s0"
   },
   "source": [
    "# Bag of Words"
   ]
  },
  {
   "cell_type": "code",
   "execution_count": 19,
   "metadata": {
    "colab": {
     "base_uri": "https://localhost:8080/",
     "height": 34
    },
    "colab_type": "code",
    "executionInfo": {
     "elapsed": 1725,
     "status": "ok",
     "timestamp": 1537518877556,
     "user": {
      "displayName": "NIKHILESH",
      "photoUrl": "//lh6.googleusercontent.com/-WNfhSkUr68w/AAAAAAAAAAI/AAAAAAAAB1s/kSQ9i4zEiiI/s50-c-k-no/photo.jpg",
      "userId": "114267043080753533199"
     },
     "user_tz": -330
    },
    "id": "Kyw1qdUYgYxH",
    "outputId": "e33a6c5c-2df8-49be-a1fe-2432b40c2d28"
   },
   "outputs": [
    {
     "name": "stdout",
     "output_type": "stream",
     "text": [
      "The shape of grouped data after time based splitting is (50000, 12)\n"
     ]
    }
   ],
   "source": [
    "import pandas as pd\n",
    "grouped_data = pd.read_csv(\"grouped_data.csv\")\n",
    "scores = grouped_data['Score']\n",
    "print(\"The shape of grouped data after time based splitting is {}\".format(grouped_data.shape))"
   ]
  },
  {
   "cell_type": "markdown",
   "metadata": {},
   "source": [
    "Observations:\n",
    "A csv file is imported which consists of 50000 data points. These data points are already sorted on the basis of time."
   ]
  },
  {
   "cell_type": "code",
   "execution_count": 20,
   "metadata": {},
   "outputs": [],
   "source": [
    "x_1, x_test, y_1, y_test = cross_validation.train_test_split(grouped_data, scores, test_size=0.3, random_state=0)\n",
    "x_train, x_cv, y_train, y_cv = cross_validation.train_test_split(x_1, y_1, test_size=0.3)"
   ]
  },
  {
   "cell_type": "markdown",
   "metadata": {},
   "source": [
    "Observations:\n",
    "The data is split into train, test and cross validate."
   ]
  },
  {
   "cell_type": "code",
   "execution_count": 21,
   "metadata": {},
   "outputs": [
    {
     "name": "stdout",
     "output_type": "stream",
     "text": [
      "The shape of train data for BOW is (24500, 20066)\n",
      "The shape of test data for BOW is (15000, 20066)\n"
     ]
    }
   ],
   "source": [
    "count_vect = CountVectorizer()\n",
    "vocab = count_vect.fit(x_train['CleanedText'].values)\n",
    "data_train = count_vect.transform(x_train['CleanedText'].values)\n",
    "data_test = count_vect.transform(x_test['CleanedText'].values)\n",
    "print(\"The shape of train data for BOW is {}\".format(data_train.shape))\n",
    "print(\"The shape of test data for BOW is {}\".format(data_test.shape))"
   ]
  },
  {
   "cell_type": "markdown",
   "metadata": {},
   "source": [
    "Observations:\n",
    "We build out Bag of words vocabulary only on train data and get vectors of train and test data."
   ]
  },
  {
   "cell_type": "code",
   "execution_count": 22,
   "metadata": {},
   "outputs": [
    {
     "name": "stdout",
     "output_type": "stream",
     "text": [
      "The type of standard_train is  <class 'scipy.sparse.csr.csr_matrix'>\n",
      "The type of standard_test is  <class 'scipy.sparse.csr.csr_matrix'>\n",
      "The shape of standard_train is  (24500, 20066)\n",
      "The shape of standard_test is  (15000, 20066)\n"
     ]
    }
   ],
   "source": [
    "import warnings\n",
    "warnings.filterwarnings(\"ignore\")\n",
    "from sklearn.preprocessing import StandardScaler\n",
    "standard_train = StandardScaler(with_mean=False).fit_transform(data_train)\n",
    "standard_test = StandardScaler(with_mean=False).fit_transform(data_test)\n",
    "print(\"The type of standard_train is \",type(data_train))\n",
    "print(\"The type of standard_test is \",type(data_test))\n",
    "print(\"The shape of standard_train is \",standard_train.get_shape())\n",
    "print(\"The shape of standard_test is \",standard_test.get_shape())"
   ]
  },
  {
   "cell_type": "markdown",
   "metadata": {},
   "source": [
    "Observations:\n",
    "The data is standardized."
   ]
  },
  {
   "cell_type": "code",
   "execution_count": 9,
   "metadata": {
    "colab": {
     "base_uri": "https://localhost:8080/",
     "height": 990
    },
    "colab_type": "code",
    "executionInfo": {
     "elapsed": 699562,
     "status": "ok",
     "timestamp": 1537423081499,
     "user": {
      "displayName": "NIKHILESH",
      "photoUrl": "//lh6.googleusercontent.com/-WNfhSkUr68w/AAAAAAAAAAI/AAAAAAAAB1s/kSQ9i4zEiiI/s50-c-k-no/photo.jpg",
      "userId": "114267043080753533199"
     },
     "user_tz": -330
    },
    "id": "gpiZDRy2g0KB",
    "outputId": "94499eaa-3240-4edc-f298-ce6c3779bcf4"
   },
   "outputs": [
    {
     "name": "stdout",
     "output_type": "stream",
     "text": [
      "The optimal number of neighbors for brute force is:  7\n",
      "The Misclassification error for k = 7 is: 0.302\n"
     ]
    },
    {
     "data": {
      "image/png": "[encoded data removed]",
      "text/plain": [
       "<matplotlib.figure.Figure at 0x7ff8a34ae128>"
      ]
     },
     "metadata": {
      "tags": []
     },
     "output_type": "display_data"
    },
    {
     "name": "stdout",
     "output_type": "stream",
     "text": [
      "The Misclassification error for each k value is :  [0.374 0.333 0.312 0.302 0.307 0.313 0.325 0.334 0.343 0.35  0.356 0.363\n",
      " 0.369 0.374 0.378 0.381 0.383 0.386 0.388 0.389 0.391 0.392 0.393 0.394\n",
      " 0.395]\n",
      "\n",
      "The accuracy of the knn classifier for k = 7 is 69.826667%\n",
      "**************************************************\n"
     ]
    },
    {
     "data": {
      "image/png": "[encoded data removed]",
      "text/plain": [
       "<matplotlib.figure.Figure at 0x7ff8a322d5c0>"
      ]
     },
     "metadata": {
      "tags": []
     },
     "output_type": "display_data"
    },
    {
     "name": "stdout",
     "output_type": "stream",
     "text": [
      "**************************************************\n",
      "             precision    recall  f1-score   support\n",
      "\n",
      "   Negative       0.73      0.40      0.51      6041\n",
      "   Positive       0.69      0.90      0.78      8959\n",
      "\n",
      "avg / total       0.71      0.70      0.67     15000\n",
      "\n"
     ]
    }
   ],
   "source": [
    "optimalk_brute(standard_train, y_train, standard_test, y_test)"
   ]
  },
  {
   "cell_type": "code",
   "execution_count": 23,
   "metadata": {
    "colab": {
     "base_uri": "https://localhost:8080/",
     "height": 34
    },
    "colab_type": "code",
    "executionInfo": {
     "elapsed": 2743,
     "status": "ok",
     "timestamp": 1537508685520,
     "user": {
      "displayName": "NIKHILESH",
      "photoUrl": "//lh6.googleusercontent.com/-WNfhSkUr68w/AAAAAAAAAAI/AAAAAAAAB1s/kSQ9i4zEiiI/s50-c-k-no/photo.jpg",
      "userId": "114267043080753533199"
     },
     "user_tz": -330
    },
    "id": "zAKGuKvveuhE",
    "outputId": "e3ff56b5-0d4a-4752-a5aa-5e58cbd86ea1"
   },
   "outputs": [
    {
     "name": "stdout",
     "output_type": "stream",
     "text": [
      "The shape of grouped data after time based splitting is (7000, 11)\n"
     ]
    }
   ],
   "source": [
    "import pandas as pd\n",
    "import datetime\n",
    "final = pd.read_csv(\"grouped_data_20k.csv\")\n",
    "p = final.groupby('Score')\n",
    "pos = p.get_group('Positive') #Gets the groups with Positive score\n",
    "neg = p.get_group('Negative') #Gets the groups with Negative score\n",
    "pos_2000 = pos.sample(4000) #Gets 1000 reviews of positive and negative scores\n",
    "neg_2000 = neg.sample(3000)\n",
    "grouped_data = pd.concat([pos_2000, neg_2000], ignore_index = True) #This data now contains positive and negative data in order.\n",
    "grouped_data['Time'] = grouped_data['Time'].map(lambda a: datetime.datetime.fromtimestamp(int(a)).strftime('%Y-%m-%d %H:%M:%S'))\n",
    "grouped_data = grouped_data.sort_values('Time', axis=0, ascending=True, kind='quicksort')\n",
    "scores = grouped_data['Score']\n",
    "print(\"The shape of grouped data after time based splitting is {}\".format(grouped_data.shape))"
   ]
  },
  {
   "cell_type": "markdown",
   "metadata": {},
   "source": [
    "Observations:\n",
    "We import a csv file containing 20000 data points, get 4000 positive and 3000 negative points to form another dataframe.\n",
    "This is then split and sorted on the basis of time."
   ]
  },
  {
   "cell_type": "code",
   "execution_count": 25,
   "metadata": {
    "colab": {},
    "colab_type": "code",
    "id": "o-XYs35dLaIC"
   },
   "outputs": [],
   "source": [
    "x_1, x_test, y_1, y_test = cross_validation.train_test_split(grouped_data, scores, test_size=0.3, random_state=0)\n",
    "x_train, x_cv, y_train, y_cv = cross_validation.train_test_split(x_1, y_1, test_size=0.3)"
   ]
  },
  {
   "cell_type": "markdown",
   "metadata": {},
   "source": [
    "Observations:\n",
    "The data is split into train, test and cross validate."
   ]
  },
  {
   "cell_type": "code",
   "execution_count": 26,
   "metadata": {
    "colab": {
     "base_uri": "https://localhost:8080/",
     "height": 51
    },
    "colab_type": "code",
    "executionInfo": {
     "elapsed": 2192,
     "status": "ok",
     "timestamp": 1537518902519,
     "user": {
      "displayName": "NIKHILESH",
      "photoUrl": "//lh6.googleusercontent.com/-WNfhSkUr68w/AAAAAAAAAAI/AAAAAAAAB1s/kSQ9i4zEiiI/s50-c-k-no/photo.jpg",
      "userId": "114267043080753533199"
     },
     "user_tz": -330
    },
    "id": "brkNArE3LaIF",
    "outputId": "c1da90eb-8108-4ba5-f223-653ef23b991f"
   },
   "outputs": [
    {
     "name": "stdout",
     "output_type": "stream",
     "text": [
      "The shape of train data for BOW is (3430, 8207)\n",
      "The shape of test data for BOW is (2100, 8207)\n"
     ]
    }
   ],
   "source": [
    "count_vect = CountVectorizer()\n",
    "vocab = count_vect.fit(x_train['CleanedText'].values)\n",
    "data_train = count_vect.transform(x_train['CleanedText'].values)\n",
    "data_test = count_vect.transform(x_test['CleanedText'].values)\n",
    "print(\"The shape of train data for BOW is {}\".format(data_train.shape))\n",
    "print(\"The shape of test data for BOW is {}\".format(data_test.shape))"
   ]
  },
  {
   "cell_type": "markdown",
   "metadata": {},
   "source": [
    "Observations:\n",
    "We build out Bag of words vocabulary only on train data and get vectors of train and test data."
   ]
  },
  {
   "cell_type": "code",
   "execution_count": 28,
   "metadata": {
    "colab": {
     "base_uri": "https://localhost:8080/",
     "height": 85
    },
    "colab_type": "code",
    "executionInfo": {
     "elapsed": 1341,
     "status": "ok",
     "timestamp": 1537518906154,
     "user": {
      "displayName": "NIKHILESH",
      "photoUrl": "//lh6.googleusercontent.com/-WNfhSkUr68w/AAAAAAAAAAI/AAAAAAAAB1s/kSQ9i4zEiiI/s50-c-k-no/photo.jpg",
      "userId": "114267043080753533199"
     },
     "user_tz": -330
    },
    "id": "xceqWAvqLaIJ",
    "outputId": "a545ef50-c99f-49bc-d99f-ab538b8662ce"
   },
   "outputs": [
    {
     "name": "stdout",
     "output_type": "stream",
     "text": [
      "The type of standard_train is  <class 'scipy.sparse.csr.csr_matrix'>\n",
      "The type of standard_test is  <class 'scipy.sparse.csr.csr_matrix'>\n",
      "The shape of standard_train is  (3430, 8207)\n",
      "The shape of standard_test is  (2100, 8207)\n"
     ]
    }
   ],
   "source": [
    "import warnings\n",
    "warnings.filterwarnings(\"ignore\")\n",
    "from sklearn.preprocessing import StandardScaler\n",
    "standard_train = StandardScaler(with_mean=False).fit_transform(data_train)\n",
    "standard_test = StandardScaler(with_mean=False).fit_transform(data_test)\n",
    "print(\"The type of standard_train is \",type(data_train))\n",
    "print(\"The type of standard_test is \",type(data_test))\n",
    "print(\"The shape of standard_train is \",standard_train.get_shape())\n",
    "print(\"The shape of standard_test is \",standard_test.get_shape())"
   ]
  },
  {
   "cell_type": "markdown",
   "metadata": {},
   "source": [
    "Observations:\n",
    "The data is standardized."
   ]
  },
  {
   "cell_type": "code",
   "execution_count": 29,
   "metadata": {},
   "outputs": [
    {
     "name": "stdout",
     "output_type": "stream",
     "text": [
      "The number of components is:  80\n",
      "The final vaue of cumulative variance is 0.47485592158763223\n"
     ]
    }
   ],
   "source": [
    "select_tsvd(standard_train,0.20,400)"
   ]
  },
  {
   "cell_type": "markdown",
   "metadata": {},
   "source": [
    "Observations: We find the variance at given number of components and select the right n_components value."
   ]
  },
  {
   "cell_type": "code",
   "execution_count": 30,
   "metadata": {},
   "outputs": [
    {
     "name": "stdout",
     "output_type": "stream",
     "text": [
      "The shape of train data after dimensionality reduction is (3430, 400)\n"
     ]
    }
   ],
   "source": [
    "svd = TruncatedSVD(n_components = 400)\n",
    "red_train = svd.fit_transform(standard_train)\n",
    "print('The shape of train data after dimensionality reduction is',red_train.shape)"
   ]
  },
  {
   "cell_type": "markdown",
   "metadata": {},
   "source": [
    "Observations: Dimensionality reduction is performed upon train data."
   ]
  },
  {
   "cell_type": "code",
   "execution_count": 31,
   "metadata": {},
   "outputs": [
    {
     "name": "stdout",
     "output_type": "stream",
     "text": [
      "The shape of test data after dimensionality reduction is (2100, 400)\n"
     ]
    }
   ],
   "source": [
    "svd = TruncatedSVD(n_components = 400)\n",
    "red_test = svd.fit_transform(standard_test)\n",
    "print('The shape of test data after dimensionality reduction is',red_test.shape)"
   ]
  },
  {
   "cell_type": "markdown",
   "metadata": {},
   "source": [
    "Observations: Dimensionality reduction is performed upon test data."
   ]
  },
  {
   "cell_type": "code",
   "execution_count": 32,
   "metadata": {},
   "outputs": [
    {
     "name": "stdout",
     "output_type": "stream",
     "text": [
      "The optimal number of neighbors for kd tree is:  17\n",
      "The Misclassification error for k = 17 is: 0.327\n"
     ]
    },
    {
     "data": {
      "image/png": "[encoded data removed]",
      "text/plain": [
       "<Figure size 432x288 with 1 Axes>"
      ]
     },
     "metadata": {},
     "output_type": "display_data"
    },
    {
     "name": "stdout",
     "output_type": "stream",
     "text": [
      "The Misclassification error for each k value is :  [0.389 0.351 0.342 0.334 0.332 0.329 0.331 0.334 0.327 0.329 0.333 0.338\n",
      " 0.343 0.346 0.347 0.345 0.35  0.35  0.349 0.354 0.352 0.355 0.355 0.359\n",
      " 0.36 ]\n",
      "\n",
      "The accuracy of the knn classifier for k = 17 is 56.714286%\n",
      "**************************************************\n"
     ]
    },
    {
     "data": {
      "image/png": "[encoded data removed]",
      "text/plain": [
       "<Figure size 432x288 with 2 Axes>"
      ]
     },
     "metadata": {},
     "output_type": "display_data"
    },
    {
     "name": "stdout",
     "output_type": "stream",
     "text": [
      "**************************************************\n",
      "             precision    recall  f1-score   support\n",
      "\n",
      "   Negative       0.45      0.11      0.18       888\n",
      "   Positive       0.58      0.90      0.71      1212\n",
      "\n",
      "avg / total       0.53      0.57      0.48      2100\n",
      "\n"
     ]
    }
   ],
   "source": [
    "optimalk_kdtree(red_train,y_train,red_test,y_test)"
   ]
  },
  {
   "cell_type": "markdown",
   "metadata": {
    "colab_type": "text",
    "id": "Uy9lMqY-XPmF"
   },
   "source": [
    "# TFIDF"
   ]
  },
  {
   "cell_type": "code",
   "execution_count": 35,
   "metadata": {
    "colab": {
     "base_uri": "https://localhost:8080/",
     "height": 34
    },
    "colab_type": "code",
    "executionInfo": {
     "elapsed": 8132,
     "status": "ok",
     "timestamp": 1537188484313,
     "user": {
      "displayName": "NIKHILESH",
      "photoUrl": "//lh6.googleusercontent.com/-WNfhSkUr68w/AAAAAAAAAAI/AAAAAAAAB1s/kSQ9i4zEiiI/s50-c-k-no/photo.jpg",
      "userId": "114267043080753533199"
     },
     "user_tz": -330
    },
    "id": "AWFJArzTZNwn",
    "outputId": "4a0b79be-e2b8-4327-cdd1-fdfb7fa82b07"
   },
   "outputs": [
    {
     "name": "stdout",
     "output_type": "stream",
     "text": [
      "The shape of grouped data after time based splitting is (50000, 12)\n"
     ]
    }
   ],
   "source": [
    "import pandas as pd\n",
    "grouped_data = pd.read_csv(\"grouped_data.csv\")\n",
    "scores = grouped_data['Score']\n",
    "print(\"The shape of grouped data after time based splitting is {}\".format(grouped_data.shape))"
   ]
  },
  {
   "cell_type": "markdown",
   "metadata": {},
   "source": [
    "Observations:\n",
    "A csv file is imported which consists of 50000 data points. These data points are already sorted on the basis of time."
   ]
  },
  {
   "cell_type": "code",
   "execution_count": 37,
   "metadata": {
    "colab": {},
    "colab_type": "code",
    "id": "bao77DWKYr_P"
   },
   "outputs": [],
   "source": [
    "x_1, x_test, y_1, y_test = cross_validation.train_test_split(grouped_data, scores, test_size=0.3, random_state=0)\n",
    "x_train, x_cv, y_train, y_cv = cross_validation.train_test_split(x_1, y_1, test_size=0.3)"
   ]
  },
  {
   "cell_type": "markdown",
   "metadata": {},
   "source": [
    "Observations: Data is split into train, test and cross validate"
   ]
  },
  {
   "cell_type": "code",
   "execution_count": 38,
   "metadata": {
    "colab": {
     "base_uri": "https://localhost:8080/",
     "height": 68
    },
    "colab_type": "code",
    "executionInfo": {
     "elapsed": 2153,
     "status": "ok",
     "timestamp": 1537188493798,
     "user": {
      "displayName": "NIKHILESH",
      "photoUrl": "//lh6.googleusercontent.com/-WNfhSkUr68w/AAAAAAAAAAI/AAAAAAAAB1s/kSQ9i4zEiiI/s50-c-k-no/photo.jpg",
      "userId": "114267043080753533199"
     },
     "user_tz": -330
    },
    "id": "7bAhVkyFXVcl",
    "outputId": "ced2425a-56fc-46ea-9610-56b1bfdd4af0"
   },
   "outputs": [
    {
     "name": "stdout",
     "output_type": "stream",
     "text": [
      "the type of count vectorizer  <class 'scipy.sparse.csr.csr_matrix'>\n",
      "The shape of train_tf_idf  (24500, 482178)\n",
      "The shape of test_tf_idf  (15000, 482178)\n"
     ]
    }
   ],
   "source": [
    "tf_idf_vect = TfidfVectorizer(ngram_range=(1,2))\n",
    "vocab_tf_idf = tf_idf_vect.fit(x_train['CleanedText'].values) #Converts to a sparse matrix of TF-IDF vectors.\n",
    "train_tf_idf = tf_idf_vect.transform(x_train['CleanedText'].values)\n",
    "test_tf_idf = tf_idf_vect.transform(x_test['CleanedText'].values)\n",
    "print(\"the type of count vectorizer \",type(train_tf_idf))\n",
    "print(\"The shape of train_tf_idf \",train_tf_idf.get_shape())\n",
    "print(\"The shape of test_tf_idf \", test_tf_idf.get_shape())"
   ]
  },
  {
   "cell_type": "markdown",
   "metadata": {},
   "source": [
    "Observations:\n",
    "Vocabulary of TF-IDF is trained for train data and vectors for train and test data are obtained."
   ]
  },
  {
   "cell_type": "code",
   "execution_count": 39,
   "metadata": {
    "colab": {},
    "colab_type": "code",
    "id": "WMyhqsiTfIPb"
   },
   "outputs": [
    {
     "name": "stdout",
     "output_type": "stream",
     "text": [
      "The shape of standardized train data is (24500, 482178)\n",
      "The shape of standardized test data is (15000, 482178)\n"
     ]
    }
   ],
   "source": [
    "from sklearn.preprocessing import StandardScaler\n",
    "from sklearn.decomposition import TruncatedSVD\n",
    "standardized_train = StandardScaler(with_mean=False).fit_transform(train_tf_idf) #It gets the mean, variance and performs standardization.\n",
    "standardized_test = StandardScaler(with_mean=False).fit_transform(test_tf_idf)\n",
    "print(\"The shape of standardized train data is\",standardized_train.shape)\n",
    "print(\"The shape of standardized test data is\",standardized_test.shape)"
   ]
  },
  {
   "cell_type": "markdown",
   "metadata": {},
   "source": [
    "Observations:\n",
    "Data is standardized."
   ]
  },
  {
   "cell_type": "code",
   "execution_count": 40,
   "metadata": {
    "colab": {},
    "colab_type": "code",
    "id": "jUQf0qSdfqBg"
   },
   "outputs": [
    {
     "name": "stdout",
     "output_type": "stream",
     "text": [
      "The optimal number of neighbors for brute force is:  3\n",
      "The Misclassification error for k = 3 is: 0.396\n"
     ]
    },
    {
     "data": {
      "image/png": "[encoded data removed]",
      "text/plain": [
       "<Figure size 432x288 with 1 Axes>"
      ]
     },
     "metadata": {},
     "output_type": "display_data"
    },
    {
     "name": "stdout",
     "output_type": "stream",
     "text": [
      "The Misclassification error for each k value is :  [0.417 0.396 0.397 0.397 0.397 0.397 0.397 0.397 0.397 0.397 0.397 0.397\n",
      " 0.397 0.397 0.397 0.397 0.397 0.397 0.397 0.397 0.397 0.397 0.397 0.397\n",
      " 0.397]\n",
      "\n",
      "The accuracy of the knn classifier for k = 3 is 59.933333%\n",
      "**************************************************\n"
     ]
    },
    {
     "data": {
      "image/png": "[encoded data removed]",
      "text/plain": [
       "<Figure size 432x288 with 2 Axes>"
      ]
     },
     "metadata": {},
     "output_type": "display_data"
    },
    {
     "name": "stdout",
     "output_type": "stream",
     "text": [
      "**************************************************\n",
      "             precision    recall  f1-score   support\n",
      "\n",
      "   Negative       0.82      0.01      0.01      6041\n",
      "   Positive       0.60      1.00      0.75      8959\n",
      "\n",
      "avg / total       0.69      0.60      0.45     15000\n",
      "\n"
     ]
    }
   ],
   "source": [
    "optimalk_brute(standardized_train,y_train,standardized_test,y_test)"
   ]
  },
  {
   "cell_type": "code",
   "execution_count": 17,
   "metadata": {},
   "outputs": [
    {
     "name": "stdout",
     "output_type": "stream",
     "text": [
      "The shape of grouped data after time based splitting is (7000, 11)\n"
     ]
    }
   ],
   "source": [
    "import pandas as pd\n",
    "import datetime\n",
    "final = pd.read_csv(\"grouped_data_20k.csv\")\n",
    "p = final.groupby('Score')\n",
    "pos = p.get_group('Positive') #Gets the groups with Positive score\n",
    "neg = p.get_group('Negative') #Gets the groups with Negative score\n",
    "pos_2000 = pos.sample(4000) #Gets 1000 reviews of positive and negative scores\n",
    "neg_2000 = neg.sample(3000)\n",
    "grouped_data = pd.concat([pos_2000, neg_2000], ignore_index = True) #This data now contains positive and negative data in order.\n",
    "grouped_data['Time'] = grouped_data['Time'].map(lambda a: datetime.datetime.fromtimestamp(int(a)).strftime('%Y-%m-%d %H:%M:%S'))\n",
    "grouped_data = grouped_data.sort_values('Time', axis=0, ascending=True, kind='quicksort')\n",
    "scores = grouped_data['Score']\n",
    "print(\"The shape of grouped data after time based splitting is {}\".format(grouped_data.shape))"
   ]
  },
  {
   "cell_type": "markdown",
   "metadata": {},
   "source": [
    "Observations:\n",
    "We import a csv file containing 20000 data points, get 4000 positive and 3000 negative points to form another dataframe.\n",
    "This is then split and sorted on the basis of time."
   ]
  },
  {
   "cell_type": "code",
   "execution_count": 18,
   "metadata": {},
   "outputs": [],
   "source": [
    "x_1, x_test, y_1, y_test = cross_validation.train_test_split(grouped_data, scores, test_size=0.3, random_state=0)\n",
    "x_train, x_cv, y_train, y_cv = cross_validation.train_test_split(x_1, y_1, test_size=0.3)"
   ]
  },
  {
   "cell_type": "markdown",
   "metadata": {},
   "source": [
    "Observations: Data is split into train, test and cross validate."
   ]
  },
  {
   "cell_type": "code",
   "execution_count": 19,
   "metadata": {},
   "outputs": [
    {
     "name": "stdout",
     "output_type": "stream",
     "text": [
      "the type of count vectorizer  <class 'scipy.sparse.csr.csr_matrix'>\n",
      "The shape of train_tf_idf  (3430, 104876)\n",
      "The shape of test_tf_idf  (2100, 104876)\n"
     ]
    }
   ],
   "source": [
    "tf_idf_vect = TfidfVectorizer(ngram_range=(1,2))\n",
    "vocab_tf_idf = tf_idf_vect.fit(x_train['CleanedText'].values) #Converts to a sparse matrix of TF-IDF vectors.\n",
    "train_tf_idf = tf_idf_vect.transform(x_train['CleanedText'].values)\n",
    "test_tf_idf = tf_idf_vect.transform(x_test['CleanedText'].values)\n",
    "print(\"the type of count vectorizer \",type(train_tf_idf))\n",
    "print(\"The shape of train_tf_idf \",train_tf_idf.get_shape())\n",
    "print(\"The shape of test_tf_idf \", test_tf_idf.get_shape())"
   ]
  },
  {
   "cell_type": "markdown",
   "metadata": {},
   "source": [
    "Observations:\n",
    "Vocabulary of TF-IDF is trained for train data and vectors for train and test data are obtained."
   ]
  },
  {
   "cell_type": "code",
   "execution_count": 23,
   "metadata": {},
   "outputs": [
    {
     "name": "stdout",
     "output_type": "stream",
     "text": [
      "The shape of standardized train data is (3430, 104876)\n",
      "The shape of standardized test data is (2100, 104876)\n"
     ]
    }
   ],
   "source": [
    "from sklearn.preprocessing import StandardScaler\n",
    "from sklearn.decomposition import TruncatedSVD\n",
    "standardized_train = StandardScaler(with_mean=False).fit_transform(train_tf_idf) #It gets the mean, variance and performs standardization.\n",
    "standardized_test = StandardScaler(with_mean=False).fit_transform(test_tf_idf)\n",
    "print(\"The shape of standardized train data is\",standardized_train.shape)\n",
    "print(\"The shape of standardized test data is\",standardized_test.shape)"
   ]
  },
  {
   "cell_type": "markdown",
   "metadata": {},
   "source": [
    "Observations:\n",
    "The data is standardized."
   ]
  },
  {
   "cell_type": "code",
   "execution_count": 25,
   "metadata": {},
   "outputs": [
    {
     "name": "stdout",
     "output_type": "stream",
     "text": [
      "The number of components is:  505\n",
      "The final vaue of cumulative variance is 0.43991216315449194\n"
     ]
    }
   ],
   "source": [
    "select_tsvd(standardized_train,0.40,600)"
   ]
  },
  {
   "cell_type": "markdown",
   "metadata": {},
   "source": [
    "Observations: We find the variance at given number of components and select the right n_components value."
   ]
  },
  {
   "cell_type": "code",
   "execution_count": 26,
   "metadata": {},
   "outputs": [
    {
     "name": "stdout",
     "output_type": "stream",
     "text": [
      "The shape of train data after dimensionality reduction is (3430, 600)\n"
     ]
    }
   ],
   "source": [
    "svd = TruncatedSVD(n_components = 600)\n",
    "red_train = svd.fit_transform(standardized_train)\n",
    "print('The shape of train data after dimensionality reduction is',red_train.shape)"
   ]
  },
  {
   "cell_type": "markdown",
   "metadata": {},
   "source": [
    "Observations: Dimensionality reduction is performed upon train data."
   ]
  },
  {
   "cell_type": "code",
   "execution_count": 27,
   "metadata": {},
   "outputs": [
    {
     "name": "stdout",
     "output_type": "stream",
     "text": [
      "The shape of train data after dimensionality reduction is (2100, 600)\n"
     ]
    }
   ],
   "source": [
    "svd = TruncatedSVD(n_components = 600)\n",
    "red_test = svd.fit_transform(standardized_test)\n",
    "print('The shape of train data after dimensionality reduction is',red_test.shape)"
   ]
  },
  {
   "cell_type": "markdown",
   "metadata": {},
   "source": [
    "Observations: Dimensionality reduction is performed upon test data."
   ]
  },
  {
   "cell_type": "code",
   "execution_count": 28,
   "metadata": {},
   "outputs": [
    {
     "name": "stdout",
     "output_type": "stream",
     "text": [
      "The optimal number of neighbors for kd tree is:  9\n",
      "The Misclassification error for k = 9 is: 0.369\n"
     ]
    },
    {
     "data": {
      "image/png": "[encoded data removed]",
      "text/plain": [
       "<Figure size 432x288 with 1 Axes>"
      ]
     },
     "metadata": {},
     "output_type": "display_data"
    },
    {
     "name": "stdout",
     "output_type": "stream",
     "text": [
      "The Misclassification error for each k value is :  [0.398 0.385 0.38  0.378 0.369 0.372 0.374 0.373 0.372 0.373 0.376 0.376\n",
      " 0.373 0.373 0.374 0.371 0.374 0.373 0.374 0.374 0.378 0.379 0.381 0.38\n",
      " 0.382]\n",
      "\n",
      "The accuracy of the knn classifier for k = 9 is 55.523810%\n",
      "**************************************************\n"
     ]
    },
    {
     "data": {
      "image/png": "[encoded data removed]",
      "text/plain": [
       "<Figure size 432x288 with 2 Axes>"
      ]
     },
     "metadata": {},
     "output_type": "display_data"
    },
    {
     "name": "stdout",
     "output_type": "stream",
     "text": [
      "**************************************************\n",
      "             precision    recall  f1-score   support\n",
      "\n",
      "   Negative       0.47      0.24      0.31       902\n",
      "   Positive       0.58      0.79      0.67      1198\n",
      "\n",
      "avg / total       0.53      0.56      0.52      2100\n",
      "\n"
     ]
    }
   ],
   "source": [
    "optimalk_kdtree(red_train,y_train,red_test,y_test)"
   ]
  },
  {
   "cell_type": "markdown",
   "metadata": {
    "colab_type": "text",
    "id": "M8mASGVEvV-i"
   },
   "source": [
    "# Word2Vec"
   ]
  },
  {
   "cell_type": "code",
   "execution_count": 0,
   "metadata": {
    "colab": {
     "base_uri": "https://localhost:8080/",
     "height": 34
    },
    "colab_type": "code",
    "executionInfo": {
     "elapsed": 7637,
     "status": "ok",
     "timestamp": 1537201106543,
     "user": {
      "displayName": "NIKHILESH",
      "photoUrl": "//lh6.googleusercontent.com/-WNfhSkUr68w/AAAAAAAAAAI/AAAAAAAAB1s/kSQ9i4zEiiI/s50-c-k-no/photo.jpg",
      "userId": "114267043080753533199"
     },
     "user_tz": -330
    },
    "id": "XA9sQD73xFvk",
    "outputId": "0e82c892-0ae5-47a1-b4a1-ca4c4b651568"
   },
   "outputs": [
    {
     "name": "stdout",
     "output_type": "stream",
     "text": [
      "The shape of grouped data is (50000, 11)\n"
     ]
    }
   ],
   "source": [
    "import pandas as pd\n",
    "grouped_data = pd.read_csv(\"grouped_data.csv\")\n",
    "scores = grouped_data['Score']\n",
    "print(\"The shape of grouped data after time based splitting is {}\".format(grouped_data.shape))"
   ]
  },
  {
   "cell_type": "markdown",
   "metadata": {},
   "source": [
    "Observations:\n",
    "A csv file is imported which consists of 50000 data points. These data points are already sorted on the basis of time."
   ]
  },
  {
   "cell_type": "code",
   "execution_count": 15,
   "metadata": {
    "colab": {},
    "colab_type": "code",
    "id": "AhJRTa54xZOC"
   },
   "outputs": [],
   "source": [
    "x_1, x_test, y_1, y_test = cross_validation.train_test_split(grouped_data, scores, test_size=0.3, random_state=0)\n",
    "x_train, x_cv, y_train, y_cv = cross_validation.train_test_split(x_1, y_1, test_size=0.3)"
   ]
  },
  {
   "cell_type": "markdown",
   "metadata": {},
   "source": [
    "Observations: The data is split into train, test and cross validate."
   ]
  },
  {
   "cell_type": "code",
   "execution_count": 16,
   "metadata": {
    "colab": {
     "base_uri": "https://localhost:8080/",
     "height": 88
    },
    "colab_type": "code",
    "executionInfo": {
     "elapsed": 1283,
     "status": "ok",
     "timestamp": 1537201119062,
     "user": {
      "displayName": "NIKHILESH",
      "photoUrl": "//lh6.googleusercontent.com/-WNfhSkUr68w/AAAAAAAAAAI/AAAAAAAAB1s/kSQ9i4zEiiI/s50-c-k-no/photo.jpg",
      "userId": "114267043080753533199"
     },
     "user_tz": -330
    },
    "id": "qI6rQsHAvUA_",
    "outputId": "cde88e52-1355-4b54-b257-54035fa1e974"
   },
   "outputs": [
    {
     "name": "stdout",
     "output_type": "stream",
     "text": [
      "sent christma present amaz hear recipi arriv well christma report pear arriv perfect condit delici\n",
      "*****************************************************************\n",
      "['sent', 'christma', 'present', 'amaz', 'hear', 'recipi', 'arriv', 'well', 'christma', 'report', 'pear', 'arriv', 'perfect', 'condit', 'delici']\n"
     ]
    }
   ],
   "source": [
    "list_of_sent=[]\n",
    "for sent in x_train['CleanedText'].values: #Splits sentences into words and stores it in a list\n",
    "    list_of_sent.append(sent.split())\n",
    "print(x_train['CleanedText'].values[9])\n",
    "print(\"*****************************************************************\")\n",
    "print(list_of_sent[9])"
   ]
  },
  {
   "cell_type": "markdown",
   "metadata": {},
   "source": [
    "Observations:\n",
    "Prints the corresponding split words in a given review."
   ]
  },
  {
   "cell_type": "code",
   "execution_count": 17,
   "metadata": {
    "colab": {
     "base_uri": "https://localhost:8080/",
     "height": 71
    },
    "colab_type": "code",
    "executionInfo": {
     "elapsed": 9418,
     "status": "ok",
     "timestamp": 1537201130459,
     "user": {
      "displayName": "NIKHILESH",
      "photoUrl": "//lh6.googleusercontent.com/-WNfhSkUr68w/AAAAAAAAAAI/AAAAAAAAB1s/kSQ9i4zEiiI/s50-c-k-no/photo.jpg",
      "userId": "114267043080753533199"
     },
     "user_tz": -330
    },
    "id": "5EHI72bTxtpn",
    "outputId": "3bfe3ef5-fa31-4dc2-e3e4-8126a6b543ca"
   },
   "outputs": [
    {
     "name": "stdout",
     "output_type": "stream",
     "text": [
      "number of words that occured minimum 5 times  6976\n",
      "sample words  ['scour', 'pic', 'vosg', 'declin', 'upon', 'stout', 'speci', 'squid', 'unnatur', 'anymor', 'power', 'safflow', 'bomb', 'compact', 'boat', 'photo', 'needl']\n"
     ]
    }
   ],
   "source": [
    "w2v_train=Word2Vec(list_of_sent,min_count=5,size=200, workers=4) #Initialises the Word2Vec model with words occuring more than 5 times.\n",
    "\n",
    "w2v_train_words = list(w2v_train.wv.vocab) #This gives a dictionary of words which tells about the uniqueness of a word among other things.\n",
    "print(\"number of words that occured minimum 5 times \",len(w2v_train_words))\n",
    "print(\"sample words \", w2v_train_words[298:315])"
   ]
  },
  {
   "cell_type": "markdown",
   "metadata": {},
   "source": [
    "Observations:\n",
    "Word2Vec model is built. We can see the number of times a word occured minimum 5 times."
   ]
  },
  {
   "cell_type": "code",
   "execution_count": 0,
   "metadata": {
    "colab": {
     "base_uri": "https://localhost:8080/",
     "height": 51
    },
    "colab_type": "code",
    "executionInfo": {
     "elapsed": 18826,
     "status": "ok",
     "timestamp": 1537201153377,
     "user": {
      "displayName": "NIKHILESH",
      "photoUrl": "//lh6.googleusercontent.com/-WNfhSkUr68w/AAAAAAAAAAI/AAAAAAAAB1s/kSQ9i4zEiiI/s50-c-k-no/photo.jpg",
      "userId": "114267043080753533199"
     },
     "user_tz": -330
    },
    "id": "zNMAHGUuyEMJ",
    "outputId": "567766bc-94a7-4858-c7de-74c5e757f2fe"
   },
   "outputs": [
    {
     "name": "stdout",
     "output_type": "stream",
     "text": [
      "15000\n",
      "200\n"
     ]
    }
   ],
   "source": [
    "sent_vectors = [];\n",
    "sent_list = []\n",
    "for sent in x_test['CleanedText'].values:\n",
    "    sent_list.append(sent.split())\n",
    "for sent in sent_list: # For a sentence in the previously created list of sentences\n",
    "    sent_vec = np.zeros(200) # As word vectors are of zero length, returns an array of size 50 filled with zeros\n",
    "    i = 0; # Number of words with a valid vector in the sentence/review\n",
    "    for word in sent: # For each word in a review/sentence\n",
    "        if word in w2v_train_words:\n",
    "            vec = w2v_train.wv[word] #Gets the corresponding vector for the word\n",
    "            sent_vec += vec\n",
    "            i += 1\n",
    "    if i != 0:\n",
    "        sent_vec /= i\n",
    "    sent_vectors.append(sent_vec)\n",
    "print(len(sent_vectors))\n",
    "print(len(sent_vectors[0]))"
   ]
  },
  {
   "cell_type": "markdown",
   "metadata": {},
   "source": [
    "Observations: Obtain the vector form of test data."
   ]
  },
  {
   "cell_type": "code",
   "execution_count": 0,
   "metadata": {
    "colab": {
     "base_uri": "https://localhost:8080/",
     "height": 51
    },
    "colab_type": "code",
    "executionInfo": {
     "elapsed": 29365,
     "status": "ok",
     "timestamp": 1537201188333,
     "user": {
      "displayName": "NIKHILESH",
      "photoUrl": "//lh6.googleusercontent.com/-WNfhSkUr68w/AAAAAAAAAAI/AAAAAAAAB1s/kSQ9i4zEiiI/s50-c-k-no/photo.jpg",
      "userId": "114267043080753533199"
     },
     "user_tz": -330
    },
    "id": "csoWhrZzzkhm",
    "outputId": "a5859144-d1f4-4df1-ec27-724036bb1d88"
   },
   "outputs": [
    {
     "name": "stdout",
     "output_type": "stream",
     "text": [
      "24500\n",
      "200\n"
     ]
    }
   ],
   "source": [
    "sent_vectors_train = [];\n",
    "sent_list = []\n",
    "for sent in x_train['CleanedText'].values:\n",
    "    sent_list.append(sent.split())\n",
    "for sent in sent_list: # For a sentence in the previously created list of sentences\n",
    "    sent_vec = np.zeros(200) # As word vectors are of zero length, returns an array of size 50 filled with zeros\n",
    "    i = 0; # Number of words with a valid vector in the sentence/review\n",
    "    for word in sent: # For each word in a review/sentence\n",
    "        if word in w2v_train_words:\n",
    "            vec = w2v_train.wv[word] #Gets the corresponding vector for the word\n",
    "            sent_vec += vec\n",
    "            i += 1\n",
    "    if i != 0:\n",
    "        sent_vec /= i\n",
    "    sent_vectors_train.append(sent_vec)\n",
    "print(len(sent_vectors_train))\n",
    "print(len(sent_vectors_train[0]))"
   ]
  },
  {
   "cell_type": "markdown",
   "metadata": {},
   "source": [
    "Observations: Obtain the vector form of train data."
   ]
  },
  {
   "cell_type": "code",
   "execution_count": 0,
   "metadata": {
    "colab": {},
    "colab_type": "code",
    "id": "eyfxA1XPyybj"
   },
   "outputs": [],
   "source": [
    "from sklearn.preprocessing import StandardScaler\n",
    "standardized_train = StandardScaler(with_mean=False).fit_transform(sent_vectors_train) #This standardises the list of vectors.\n",
    "standardized_test = StandardScaler(with_mean=False).fit_transform(sent_vectors) #This standardises the list of vectors."
   ]
  },
  {
   "cell_type": "markdown",
   "metadata": {},
   "source": [
    "Observations:\n",
    "Data is standardized."
   ]
  },
  {
   "cell_type": "code",
   "execution_count": 0,
   "metadata": {
    "colab": {
     "base_uri": "https://localhost:8080/",
     "height": 991
    },
    "colab_type": "code",
    "executionInfo": {
     "elapsed": 529565,
     "status": "ok",
     "timestamp": 1537200966001,
     "user": {
      "displayName": "NIKHILESH",
      "photoUrl": "//lh6.googleusercontent.com/-WNfhSkUr68w/AAAAAAAAAAI/AAAAAAAAB1s/kSQ9i4zEiiI/s50-c-k-no/photo.jpg",
      "userId": "114267043080753533199"
     },
     "user_tz": -330
    },
    "id": "qfGKDxUGSRbf",
    "outputId": "33687306-13d5-4403-a9e9-ea993a365329"
   },
   "outputs": [
    {
     "name": "stdout",
     "output_type": "stream",
     "text": [
      "The optimal number of neighbors for brute force is:  37\n",
      "The Misclassification error for k = 37 is: 0.197\n"
     ]
    },
    {
     "data": {
      "image/png": "[encoded data removed]",
      "text/plain": [
       "<matplotlib.figure.Figure at 0x7f2d77c65080>"
      ]
     },
     "metadata": {
      "tags": []
     },
     "output_type": "display_data"
    },
    {
     "name": "stdout",
     "output_type": "stream",
     "text": [
      "The Misclassification error for each k value is :  [0.267 0.234 0.216 0.213 0.209 0.205 0.204 0.201 0.2   0.2   0.2   0.2\n",
      " 0.198 0.199 0.199 0.2   0.199 0.198 0.197 0.198 0.198 0.198 0.198 0.198\n",
      " 0.198]\n",
      "\n",
      "The accuracy of the knn classifier for k = 37 is 80.106667%\n",
      "**************************************************\n"
     ]
    },
    {
     "data": {
      "image/png": "[encoded data removed]",
      "text/plain": [
       "<matplotlib.figure.Figure at 0x7f2d77bbfcf8>"
      ]
     },
     "metadata": {
      "tags": []
     },
     "output_type": "display_data"
    },
    {
     "name": "stdout",
     "output_type": "stream",
     "text": [
      "**************************************************\n",
      "             precision    recall  f1-score   support\n",
      "\n",
      "   Negative       0.79      0.68      0.73      6018\n",
      "   Positive       0.81      0.88      0.84      8982\n",
      "\n",
      "avg / total       0.80      0.80      0.80     15000\n",
      "\n"
     ]
    }
   ],
   "source": [
    "optimalk_brute(standardized_train,y_train,standardized_test,y_test)"
   ]
  },
  {
   "cell_type": "code",
   "execution_count": 0,
   "metadata": {
    "colab": {},
    "colab_type": "code",
    "id": "BQIUuqtU-acK",
    "outputId": "32474707-52cb-4378-a753-5f8b6d630e7d"
   },
   "outputs": [
    {
     "name": "stdout",
     "output_type": "stream",
     "text": [
      "The number of components is:  21\n"
     ]
    }
   ],
   "source": [
    "select_tsvd(standardized_train,0.90)"
   ]
  },
  {
   "cell_type": "markdown",
   "metadata": {},
   "source": [
    "Observations: The right value of n_components for the wanted variance."
   ]
  },
  {
   "cell_type": "code",
   "execution_count": 0,
   "metadata": {
    "colab": {},
    "colab_type": "code",
    "id": "3DdEisUTfqFh",
    "outputId": "df9d5134-5d08-456d-f163-d4f41cd9ce33"
   },
   "outputs": [
    {
     "name": "stdout",
     "output_type": "stream",
     "text": [
      "The number of components is:  21\n"
     ]
    }
   ],
   "source": [
    "select_tsvd(standardized_test,0.90)"
   ]
  },
  {
   "cell_type": "markdown",
   "metadata": {},
   "source": [
    "Observations: The right value of n_components for the wanted variance."
   ]
  },
  {
   "cell_type": "code",
   "execution_count": 0,
   "metadata": {
    "colab": {},
    "colab_type": "code",
    "id": "UXfF2IFefqFl",
    "outputId": "13e16008-fc2f-45bd-9a7b-c437ab86d61e"
   },
   "outputs": [
    {
     "name": "stdout",
     "output_type": "stream",
     "text": [
      "The shape of reduced train data is  (24500, 21)\n",
      "The shape of reduced test data is  (15000, 21)\n"
     ]
    }
   ],
   "source": [
    "svd = TruncatedSVD(n_components = 21, n_iter = 100)\n",
    "red_train = svd.fit_transform(standardized_train)\n",
    "red_test = svd.fit_transform(standardized_test)\n",
    "print(\"The shape of reduced train data is \",red_train.shape)\n",
    "print(\"The shape of reduced test data is \",red_test.shape)"
   ]
  },
  {
   "cell_type": "markdown",
   "metadata": {},
   "source": [
    "Observations: Dimensionality reduction is performed upon train and test data."
   ]
  },
  {
   "cell_type": "code",
   "execution_count": 0,
   "metadata": {
    "colab": {},
    "colab_type": "code",
    "id": "eCxavsawfqFq",
    "outputId": "69b01b9b-4f4e-441a-9de0-6d6e10adefc3"
   },
   "outputs": [
    {
     "name": "stdout",
     "output_type": "stream",
     "text": [
      "The optimal number of neighbors for kd tree is:  47\n",
      "The Misclassification error for k = 47 is: 0.193\n"
     ]
    },
    {
     "data": {
      "image/png": "[encoded data removed]",
      "text/plain": [
       "<Figure size 432x288 with 1 Axes>"
      ]
     },
     "metadata": {
      "tags": []
     },
     "output_type": "display_data"
    },
    {
     "name": "stdout",
     "output_type": "stream",
     "text": [
      "The Misclassification error for each k value is :  [0.269 0.23  0.218 0.213 0.209 0.207 0.203 0.201 0.199 0.199 0.199 0.198\n",
      " 0.198 0.196 0.197 0.196 0.195 0.194 0.194 0.194 0.194 0.193 0.193 0.193\n",
      " 0.195]\n",
      "\n",
      "The accuracy of the knn classifier for k = 47 is 67.800000%\n",
      "**************************************************\n"
     ]
    },
    {
     "data": {
      "image/png": "[encoded data removed]",
      "text/plain": [
       "<Figure size 432x288 with 2 Axes>"
      ]
     },
     "metadata": {
      "tags": []
     },
     "output_type": "display_data"
    },
    {
     "name": "stdout",
     "output_type": "stream",
     "text": [
      "**************************************************\n",
      "             precision    recall  f1-score   support\n",
      "\n",
      "   Negative       0.62      0.49      0.55      5942\n",
      "   Positive       0.71      0.80      0.75      9058\n",
      "\n",
      "avg / total       0.67      0.68      0.67     15000\n",
      "\n"
     ]
    }
   ],
   "source": [
    "optimalk_kdtree(red_train,y_train,red_test,y_test)"
   ]
  },
  {
   "cell_type": "markdown",
   "metadata": {
    "colab": {},
    "colab_type": "code",
    "id": "5dP2g44zfqFw"
   },
   "source": [
    "# TF-IDF Word2Vec"
   ]
  },
  {
   "cell_type": "code",
   "execution_count": 3,
   "metadata": {},
   "outputs": [
    {
     "name": "stdout",
     "output_type": "stream",
     "text": [
      "The shape of grouped data after time based splitting is (10000, 11)\n"
     ]
    }
   ],
   "source": [
    "import pandas as pd\n",
    "import datetime\n",
    "final = pd.read_csv(\"grouped_data_20k.csv\")\n",
    "p = final.groupby('Score')\n",
    "pos = p.get_group('Positive') #Gets the groups with Positive score\n",
    "neg = p.get_group('Negative') #Gets the groups with Negative score\n",
    "pos_2000 = pos.sample(6000) #Gets 1000 reviews of positive and negative scores\n",
    "neg_2000 = neg.sample(4000)\n",
    "grouped_data = pd.concat([pos_2000, neg_2000], ignore_index = True) #This data now contains positive and negative data in order.\n",
    "grouped_data['Time'] = grouped_data['Time'].map(lambda a: datetime.datetime.fromtimestamp(int(a)).strftime('%Y-%m-%d %H:%M:%S'))\n",
    "grouped_data = grouped_data.sort_values('Time', axis=0, ascending=True, kind='quicksort')\n",
    "scores = grouped_data['Score']\n",
    "print(\"The shape of grouped data after time based splitting is {}\".format(grouped_data.shape))"
   ]
  },
  {
   "cell_type": "markdown",
   "metadata": {},
   "source": [
    "Observations:\n",
    "Import a csv file containing 20000 data points and form a new dataframe with 10000 data points containing 6000 positive and 4000 negative points. Time based splitting is performed upon."
   ]
  },
  {
   "cell_type": "code",
   "execution_count": 4,
   "metadata": {},
   "outputs": [],
   "source": [
    "x_1, x_test, y_1, y_test = cross_validation.train_test_split(grouped_data, scores, test_size=0.3, random_state=0)\n",
    "x_train, x_cv, y_train, y_cv = cross_validation.train_test_split(x_1, y_1, test_size=0.3)"
   ]
  },
  {
   "cell_type": "markdown",
   "metadata": {},
   "source": [
    "Observations: Data is split into train, test and cross validate."
   ]
  },
  {
   "cell_type": "code",
   "execution_count": 5,
   "metadata": {},
   "outputs": [
    {
     "name": "stdout",
     "output_type": "stream",
     "text": [
      "love keurig one favorit flavor tast smell chocol raspberri pair good creamer love cup coffe heaven keurig differnt flavor\n",
      "*****************************************************************\n",
      "['love', 'keurig', 'one', 'favorit', 'flavor', 'tast', 'smell', 'chocol', 'raspberri', 'pair', 'good', 'creamer', 'love', 'cup', 'coffe', 'heaven', 'keurig', 'differnt', 'flavor']\n"
     ]
    }
   ],
   "source": [
    "list_of_sent=[]\n",
    "for sent in x_train['CleanedText'].values: #Splits sentences into words and stores it in a list\n",
    "    list_of_sent.append(sent.split())\n",
    "print(x_train['CleanedText'].values[9])\n",
    "print(\"*****************************************************************\")\n",
    "print(list_of_sent[9])"
   ]
  },
  {
   "cell_type": "markdown",
   "metadata": {},
   "source": [
    "Observations:\n",
    "Prints the corresponding split words in a given review."
   ]
  },
  {
   "cell_type": "code",
   "execution_count": 6,
   "metadata": {},
   "outputs": [
    {
     "name": "stdout",
     "output_type": "stream",
     "text": [
      "number of words that occured minimum 5 times  3327\n",
      "sample words  ['insulin', 'vegetarian', 'decreas', 'toxin', 'fresher', 'shop', 'rees', 'magnesium', 'profil', 'fail', 'soap', 'element', 'today', 'bay', 'artichok', 'honest', 'dispos']\n"
     ]
    }
   ],
   "source": [
    "w2v_train=Word2Vec(list_of_sent,min_count=5,size=100, workers=4) #Initialises the Word2Vec model with words occuring more than 5 times.\n",
    "\n",
    "w2v_train_words = list(w2v_train.wv.vocab) #This gives a dictionary of words which tells about the uniqueness of a word among other things.\n",
    "print(\"number of words that occured minimum 5 times \",len(w2v_train_words))\n",
    "print(\"sample words \", w2v_train_words[298:315])"
   ]
  },
  {
   "cell_type": "markdown",
   "metadata": {},
   "source": [
    "Observations:\n",
    "Word2Vec model is built. We can see the number of times a word occured minimum 5 times."
   ]
  },
  {
   "cell_type": "code",
   "execution_count": 7,
   "metadata": {},
   "outputs": [],
   "source": [
    "tf_idf_vect = TfidfVectorizer(ngram_range=(1,2))\n",
    "vocab_tf_idf = tf_idf_vect.fit(x_train['CleanedText'].values) #Converts to a sparse matrix of TF-IDF vectors.\n",
    "train_tf_idf = tf_idf_vect.transform(x_train['CleanedText'].values)\n",
    "test_tf_idf = tf_idf_vect.transform(x_test['CleanedText'].values)\n",
    "tfidf_feat = tf_idf_vect.get_feature_names()"
   ]
  },
  {
   "cell_type": "markdown",
   "metadata": {},
   "source": [
    "Observations:\n",
    "We build the vocabulary of TF-IDF on train data and obtain the vectors of train and test data."
   ]
  },
  {
   "cell_type": "code",
   "execution_count": 8,
   "metadata": {},
   "outputs": [
    {
     "name": "stdout",
     "output_type": "stream",
     "text": [
      "4900\n",
      "100\n"
     ]
    }
   ],
   "source": [
    "sent_vectors_train = []; # the tfidf-w2v for each sentence/review is stored in this list\n",
    "row=0;\n",
    "sent_list = []\n",
    "for sent in x_train['CleanedText'].values:\n",
    "    sent_list.append(sent.split())\n",
    "for sent in sent_list: # for each review/sentence \n",
    "    sent_vec = np.zeros(100) # as word vectors are of zero length\n",
    "    weight_sum =0; # num of words with a valid vector in the sentence/review\n",
    "    for word in sent: # for each word in a review/sentence\n",
    "        if word in w2v_train_words:\n",
    "            try:\n",
    "                vec = w2v_train.wv[word] # obtain the tf_idfidf of a word in a sentence/review\n",
    "                tf_idf = train_tf_idf[row, tfidf_feat.index(word)]\n",
    "                sent_vec += (vec * tf_idf)\n",
    "                weight_sum += tf_idf\n",
    "            except:\n",
    "                pass\n",
    "    if weight_sum != 0:\n",
    "        sent_vec /= weight_sum\n",
    "    sent_vectors_train.append(sent_vec)\n",
    "    row += 1\n",
    "print(len(sent_vectors_train))\n",
    "print(len(sent_vectors_train[0]))"
   ]
  },
  {
   "cell_type": "markdown",
   "metadata": {},
   "source": [
    "Observations:\n",
    "The vector form of train data is obtained."
   ]
  },
  {
   "cell_type": "code",
   "execution_count": 10,
   "metadata": {},
   "outputs": [
    {
     "name": "stdout",
     "output_type": "stream",
     "text": [
      "3000\n",
      "100\n"
     ]
    }
   ],
   "source": [
    "sent_vectors_test = [];\n",
    "row=0\n",
    "sent_list = []\n",
    "for sent in x_test['CleanedText'].values:\n",
    "    sent_list.append(sent.split())\n",
    "for sent in sent_list: # For a sentence in the previously created list of sentences\n",
    "    sent_vec = np.zeros(100) # As word vectors are of zero length, returns an array of size 50 filled with zeros\n",
    "    i = 0; # Number of words with a valid vector in the sentence/review\n",
    "    for word in sent: # For each word in a review/sentence\n",
    "        if word in w2v_train_words:\n",
    "            try:\n",
    "                vec = w2v_train.wv[word] #Gets the corresponding vector for the word\n",
    "                tf_idf = test_tf_idf[row, tfidf_feat.index(word)]\n",
    "                sent_vec += (vec * tf_idf)\n",
    "                i += tf_idf\n",
    "            except:\n",
    "                pass\n",
    "    if i != 0:\n",
    "        sent_vec /= i\n",
    "    sent_vectors_test.append(sent_vec)\n",
    "    row+=1\n",
    "print(len(sent_vectors_test))\n",
    "print(len(sent_vectors_test[0]))"
   ]
  },
  {
   "cell_type": "markdown",
   "metadata": {},
   "source": [
    "Observations:\n",
    "The vector form of test data is obtained."
   ]
  },
  {
   "cell_type": "code",
   "execution_count": 11,
   "metadata": {},
   "outputs": [],
   "source": [
    "from sklearn.preprocessing import StandardScaler\n",
    "standardized_train = StandardScaler(with_mean=False).fit_transform(sent_vectors_train) #This standardises the list of vectors.\n",
    "standardized_test = StandardScaler(with_mean=False).fit_transform(sent_vectors_test) #This standardises the list of vectors."
   ]
  },
  {
   "cell_type": "markdown",
   "metadata": {},
   "source": [
    "Observations: Data is standardized."
   ]
  },
  {
   "cell_type": "code",
   "execution_count": 12,
   "metadata": {},
   "outputs": [
    {
     "name": "stdout",
     "output_type": "stream",
     "text": [
      "The optimal number of neighbors for brute force is:  49\n",
      "The Misclassification error for k = 49 is: 0.354\n"
     ]
    },
    {
     "data": {
      "image/png": "[encoded data removed]",
      "text/plain": [
       "<Figure size 432x288 with 1 Axes>"
      ]
     },
     "metadata": {},
     "output_type": "display_data"
    },
    {
     "name": "stdout",
     "output_type": "stream",
     "text": [
      "The Misclassification error for each k value is :  [0.412 0.397 0.389 0.381 0.376 0.371 0.369 0.367 0.369 0.367 0.362 0.363\n",
      " 0.359 0.361 0.362 0.36  0.36  0.36  0.359 0.355 0.355 0.356 0.358 0.357\n",
      " 0.354]\n",
      "\n",
      "The accuracy of the knn classifier for k = 49 is 63.366667%\n",
      "**************************************************\n"
     ]
    },
    {
     "data": {
      "image/png": "[encoded data removed]",
      "text/plain": [
       "<Figure size 432x288 with 2 Axes>"
      ]
     },
     "metadata": {},
     "output_type": "display_data"
    },
    {
     "name": "stdout",
     "output_type": "stream",
     "text": [
      "**************************************************\n",
      "             precision    recall  f1-score   support\n",
      "\n",
      "   Negative       0.61      0.25      0.35      1206\n",
      "   Positive       0.64      0.89      0.74      1794\n",
      "\n",
      "avg / total       0.63      0.63      0.59      3000\n",
      "\n"
     ]
    }
   ],
   "source": [
    "optimalk_brute(standardized_train,y_train,standardized_test,y_test)"
   ]
  },
  {
   "cell_type": "code",
   "execution_count": 14,
   "metadata": {},
   "outputs": [
    {
     "name": "stdout",
     "output_type": "stream",
     "text": [
      "The number of components is:  3\n",
      "The final vaue of cumulative variance is 0.9999990655630695\n"
     ]
    }
   ],
   "source": [
    "select_tsvd(standardized_train,0.90,99)"
   ]
  },
  {
   "cell_type": "markdown",
   "metadata": {},
   "source": [
    "Observations: Selecting the right value of n_components."
   ]
  },
  {
   "cell_type": "code",
   "execution_count": 15,
   "metadata": {},
   "outputs": [
    {
     "name": "stdout",
     "output_type": "stream",
     "text": [
      "The shape of reduced train data is  (4900, 70)\n",
      "The shape of reduced test data is  (3000, 70)\n"
     ]
    }
   ],
   "source": [
    "svd = TruncatedSVD(n_components=70)\n",
    "red_train = svd.fit_transform(standardized_train)\n",
    "red_test = svd.fit_transform(standardized_test)\n",
    "print(\"The shape of reduced train data is \",red_train.shape)\n",
    "print(\"The shape of reduced test data is \",red_test.shape)"
   ]
  },
  {
   "cell_type": "markdown",
   "metadata": {},
   "source": [
    "Observations:\n",
    "The dimensions of train and test data are reduced to 70."
   ]
  },
  {
   "cell_type": "code",
   "execution_count": 16,
   "metadata": {},
   "outputs": [
    {
     "name": "stdout",
     "output_type": "stream",
     "text": [
      "The optimal number of neighbors for kd tree is:  49\n",
      "The Misclassification error for k = 49 is: 0.354\n"
     ]
    },
    {
     "data": {
      "image/png": "[encoded data removed]",
      "text/plain": [
       "<Figure size 432x288 with 1 Axes>"
      ]
     },
     "metadata": {},
     "output_type": "display_data"
    },
    {
     "name": "stdout",
     "output_type": "stream",
     "text": [
      "The Misclassification error for each k value is :  [0.413 0.397 0.391 0.379 0.376 0.371 0.369 0.368 0.369 0.368 0.363 0.363\n",
      " 0.359 0.361 0.362 0.361 0.359 0.36  0.358 0.355 0.356 0.356 0.357 0.357\n",
      " 0.354]\n",
      "\n",
      "The accuracy of the knn classifier for k = 49 is 55.066667%\n",
      "**************************************************\n"
     ]
    },
    {
     "data": {
      "image/png": "[encoded data removed]",
      "text/plain": [
       "<Figure size 432x288 with 2 Axes>"
      ]
     },
     "metadata": {},
     "output_type": "display_data"
    },
    {
     "name": "stdout",
     "output_type": "stream",
     "text": [
      "**************************************************\n",
      "             precision    recall  f1-score   support\n",
      "\n",
      "   Negative       0.30      0.09      0.13      1206\n",
      "   Positive       0.58      0.86      0.70      1794\n",
      "\n",
      "avg / total       0.47      0.55      0.47      3000\n",
      "\n"
     ]
    }
   ],
   "source": [
    "optimalk_kdtree(red_train,y_train,red_test,y_test)"
   ]
  },
  {
   "cell_type": "markdown",
   "metadata": {},
   "source": [
    "# Conclusion"
   ]
  },
  {
   "cell_type": "code",
   "execution_count": 6,
   "metadata": {},
   "outputs": [
    {
     "name": "stdout",
     "output_type": "stream",
     "text": [
      "+-----------------+-----------+-----------------+-------------------------+---------------+\n",
      "|      Model      | Algorithm | Hyper Parameter | Misclassification error | Test Accuracy |\n",
      "+-----------------+-----------+-----------------+-------------------------+---------------+\n",
      "|   Bag of Words  |   Brute   |      k = 7      |          0.302          |     69.83%    |\n",
      "|                 |  KD Tree  |      k = 17     |          0.327          |     56.71%    |\n",
      "|                 |           |                 |                         |               |\n",
      "|      TF-IDF     |   Brute   |      k = 3      |          0.396          |     59.93%    |\n",
      "|                 |  KD Tree  |      k = 9      |          0.369          |     55.52%    |\n",
      "|                 |           |                 |                         |               |\n",
      "|     Word2Vec    |   Brute   |      k = 37     |          0.197          |     80.11%    |\n",
      "|                 |  KD Tree  |      k = 47     |          0.193          |     67.80%    |\n",
      "|                 |           |                 |                         |               |\n",
      "| TF-IDF Word2Vec |   Brute   |      k = 49     |          0.354          |     63.37%    |\n",
      "|                 |  KD Tree  |      k = 49     |          0.354          |     55.10%    |\n",
      "+-----------------+-----------+-----------------+-------------------------+---------------+\n"
     ]
    }
   ],
   "source": [
    "x = PrettyTable()\n",
    "x.field_names = [\"Model\",\"Algorithm\", \"Hyper Parameter\", \"Misclassification error\", \"Test Accuracy\"]\n",
    "x.add_row([\"Bag of Words\",\"Brute\",\"k = 7\",0.302,\"69.83%\"])\n",
    "x.add_row([\" \",\"KD Tree\",\"k = 17\",0.327,\"56.71%\"])\n",
    "x.add_row([\"\",\"\",\"\",\"\",\"\"])\n",
    "x.add_row([\"TF-IDF\",\"Brute\",\"k = 3\",0.396,\"59.93%\"])\n",
    "x.add_row([\" \",\"KD Tree\",\"k = 9\",0.369,\"55.52%\"])\n",
    "x.add_row([\"\",\"\",\"\",\"\",\"\"])\n",
    "x.add_row([\"Word2Vec\",\"Brute\",\"k = 37\",0.197,\"80.11%\"])\n",
    "x.add_row([\" \",\"KD Tree\",\"k = 47\",0.193,\"67.80%\"])\n",
    "x.add_row([\"\",\"\",\"\",\"\",\"\"])\n",
    "x.add_row([\"TF-IDF Word2Vec\",\"Brute\",\"k = 49\",0.354,\"63.37%\"])\n",
    "x.add_row([\" \",\"KD Tree\",\"k = 49\",0.354,\"55.10%\"])\n",
    "print(x.get_string())"
   ]
  }
 ],
 "metadata": {
  "accelerator": "GPU",
  "colab": {
   "collapsed_sections": [
    "VGu18BT-vMYi",
    "Q3Y6iQacLaIn"
   ],
   "name": "Google Colab.ipynb",
   "provenance": [],
   "toc_visible": true,
   "version": "0.3.2"
  },
  "kernelspec": {
   "display_name": "Python 3",
   "language": "python",
   "name": "python3"
  },
  "language_info": {
   "codemirror_mode": {
    "name": "ipython",
    "version": 3
   },
   "file_extension": ".py",
   "mimetype": "text/x-python",
   "name": "python",
   "nbconvert_exporter": "python",
   "pygments_lexer": "ipython3",
   "version": "3.6.5"
  }
 },
 "nbformat": 4,
 "nbformat_minor": 1
}
