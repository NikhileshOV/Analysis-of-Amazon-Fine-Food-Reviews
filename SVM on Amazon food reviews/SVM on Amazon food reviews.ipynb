{
 "cells": [
  {
   "cell_type": "code",
   "execution_count": 0,
   "metadata": {
    "colab": {},
    "colab_type": "code",
    "id": "7kCz3GwpLaH5"
   },
   "outputs": [],
   "source": [
    "import warnings\n",
    "warnings.filterwarnings(\"ignore\")\n",
    "\n",
    "import sqlite3\n",
    "import numpy as np\n",
    "import pandas as pd\n",
    "import matplotlib.pyplot as plt\n",
    "import nltk\n",
    "import string\n",
    "import seaborn as sns\n",
    "from sklearn.feature_extraction.text import TfidfTransformer\n",
    "from sklearn.feature_extraction.text import TfidfVectorizer\n",
    "\n",
    "from sklearn.feature_extraction.text import CountVectorizer\n",
    "from sklearn.metrics import confusion_matrix\n",
    "from sklearn import metrics\n",
    "from sklearn.metrics import roc_curve, auc\n",
    "from nltk.stem.porter import PorterStemmer\n",
    "from sklearn.decomposition import TruncatedSVD\n",
    "\n",
    "import re\n",
    "from nltk.corpus import stopwords\n",
    "from nltk.stem import PorterStemmer\n",
    "from nltk.stem.wordnet import WordNetLemmatizer\n",
    "\n",
    "from gensim.models import Word2Vec\n",
    "from gensim.models import KeyedVectors\n",
    "import pickle\n",
    "\n",
    "from sklearn.cross_validation import train_test_split\n",
    "from sklearn.metrics import accuracy_score\n",
    "from sklearn.metrics import classification_report\n",
    "from sklearn.cross_validation import cross_val_score\n",
    "from collections import Counter\n",
    "from sklearn.metrics import accuracy_score\n",
    "from sklearn import cross_validation\n",
    "from prettytable import PrettyTable\n",
    "from sklearn.kernel_approximation import RBFSampler\n",
    "from sklearn.linear_model import SGDClassifier\n",
    "from sklearn.svm import SVC"
   ]
  },
  {
   "cell_type": "markdown",
   "metadata": {},
   "source": [
    "# Import the data"
   ]
  },
  {
   "cell_type": "code",
   "execution_count": 0,
   "metadata": {
    "colab": {},
    "colab_type": "code",
    "id": "VCYK5rf3aAMl"
   },
   "outputs": [],
   "source": [
    "import pandas as pd\n",
    "final = pd.read_csv(\"final.csv\") #csv file which consists of Amazon food reviews with data cleaning performed upon previously\n",
    "p = final.groupby('Score')\n",
    "pos = p.get_group('Positive') #Gets the groups with Positive score\n",
    "neg = p.get_group('Negative') #Gets the groups with Negative score\n",
    "pos_2000 = pos.sample(142897) #Gets 1000 reviews of positive and negative scores\n",
    "neg_2000 = neg.sample(57103)\n",
    "grouped_data = pd.concat([pos_2000, neg_2000], ignore_index = True) #This data now contains positive and negative data in order.\n",
    "print(\"The shape of grouped data is {}\".format(grouped_data.shape))"
   ]
  },
  {
   "cell_type": "markdown",
   "metadata": {
    "colab_type": "text",
    "id": "XyQc9vqWaAMw"
   },
   "source": [
    "Observations:\n",
    "We choose 142897 positive and 57103 negative reviews from the final dataframe obtained after data cleaning process."
   ]
  },
  {
   "cell_type": "code",
   "execution_count": 0,
   "metadata": {
    "colab": {},
    "colab_type": "code",
    "id": "P2mIJz29aAMz"
   },
   "outputs": [],
   "source": [
    "import datetime\n",
    "grouped_data['Time'] = grouped_data['Time'].map(lambda a: datetime.datetime.fromtimestamp(int(a)).strftime('%Y-%m-%d %H:%M:%S'))\n",
    "grouped_data = grouped_data.sort_values('Time', axis=0, ascending=True, kind='quicksort')\n",
    "scores = grouped_data['Score']\n",
    "print(\"The shape of grouped data after time based splitting is {}\".format(grouped_data.shape))"
   ]
  },
  {
   "cell_type": "markdown",
   "metadata": {
    "colab_type": "text",
    "id": "x5vHNZ_KaAM6"
   },
   "source": [
    "Observations:\n",
    "Time based splitting is done on the obtained dataframe."
   ]
  },
  {
   "cell_type": "code",
   "execution_count": 0,
   "metadata": {
    "colab": {},
    "colab_type": "code",
    "id": "Te2CFOSGaAM8"
   },
   "outputs": [],
   "source": [
    "grouped_data.to_csv(\"grouped_data_200\")"
   ]
  },
  {
   "cell_type": "markdown",
   "metadata": {
    "colab_type": "text",
    "id": "CqtaQHlzaAM_"
   },
   "source": [
    "Observations:\n",
    "Saving this dataframe into a new csv file."
   ]
  },
  {
   "cell_type": "markdown",
   "metadata": {},
   "source": [
    "# Utility Functions"
   ]
  },
  {
   "cell_type": "code",
   "execution_count": 0,
   "metadata": {
    "colab": {},
    "colab_type": "code",
    "id": "bvRx-hoBLaH-"
   },
   "outputs": [],
   "source": [
    "#We create a few utility functions whose use is described below\n",
    "\n",
    "\n",
    "def optimala_gs(x_train,y_train,x_test,y_test,x_cv,y_cv): #This function implements SVM using GridSearchCV and plots confusion matrix\n",
    "    my_cv = TimeSeriesSplit(n_splits=3).split(x_train)\n",
    "    param_svc = {'alpha' : [0.0001,0.001,0.01,0.1,1,10,100,1000]} #Parameter alpha for grid search\n",
    "    model1 = SGDClassifier()\n",
    "    f1_scorer = make_scorer(f1_score, pos_label='Positive')\n",
    "    \n",
    "    gsearch1 = GridSearchCV(estimator = model1, param_grid = param_svc,cv=my_cv, scoring = f1_scorer) #Initiate GridsearchCV\n",
    "    gsearch1.fit(x_train, y_train) #Fitting the model\n",
    "    print(\"The optimal Alpha value found using GridSearchCV is\",gsearch1.best_params_['alpha'])\n",
    "    print(\"The best CV value found is\",gsearch1.best_index_)\n",
    "    \n",
    "    gpred1 = gsearch1.predict(x_test) #Predicting test data\n",
    "    print('\\nThe test accuracy of SVM for alpha = %d is %f%%' % (gsearch1.best_params_['alpha'], accuracy_score(y_test, gpred1) * 100))\n",
    "    print('\\nThe test precision of SVM for alpha = %d is %f%%' % (gsearch1.best_params_['alpha'], precision_score(y_test,gpred1,pos_label='Positive')*100))\n",
    "    print('\\nThe test recall of SVM for alpha = %d is %f%%' % (gsearch1.best_params_['alpha'], recall_score(y_test,gpred1,pos_label='Positive')*100))\n",
    "    print('\\nThe test f1 score of SVM for alpha = %d is %f%%' % (gsearch1.best_params_['alpha'], f1_score(y_test,gpred1,pos_label='Positive')*100))\n",
    "    print('*'*50)\n",
    "    print(classification_report(y_test,gpred1))\n",
    "    print(\"*\"*50)\n",
    "    '''\n",
    "    Plot confusion matrix\n",
    "    '''\n",
    "    y_true = np.array(y_test)\n",
    "    y_pred = np.array(gpred1)\n",
    "    labels = ['Negative','Positive']\n",
    "    print(confusion_matrix(y_test, gpred1))\n",
    "    cm = ConfusionMatrix(np.where(y_true == 'Positive', True, False), np.where(y_pred == 'Negative',False, True)) #This the confusion matrix of pandas_ml which provides interesting stats.\n",
    "    confusion_matrix_plot = confusion_matrix(y_test,gpred1) #We are plotting confusion matrix of sklearn\n",
    "    heatmap = sns.heatmap(confusion_matrix_plot, annot=True,cmap='Blues', fmt='g',xticklabels=['Negative','Positive'],yticklabels=['Negative','Positive'])\n",
    "    plt.title('Confusion matrix of the classifier')\n",
    "    plt.xlabel('Predicted')\n",
    "    plt.ylabel('True')\n",
    "    plt.show()\n",
    "    print(\"*\"*50)\n",
    "    print(\"The True Positive Rate observed is\",cm.TPR) #This prints the True Positive Rate of the confusion matrix (using pandas_ml confusion matrix).\n",
    "    print(\"The True Negative Rate observed is\",cm.TNR)\n",
    "    print(\"The False Positive Rate observed is\",cm.FPR)\n",
    "    print(\"The False Negative Rate observed is\",cm.FNR)\n",
    "    print(\"*\"*50)\n",
    "    print(\"The stats observed for confusion matrix are:\")\n",
    "    cm.print_stats()#Prints all the stats of the confusion matrix plotted (using pandas_ml confusion matrix).\n",
    "    \n",
    "    print('\\n')\n",
    "    print('*'*28,\"Plotting Alpha, Error and number of non zero elements\",'*'*28)\n",
    "    test_error=[]\n",
    "    train_error=[]\n",
    "    for i in param_svc['alpha']:\n",
    "        model = SGDClassifier(alpha=i)\n",
    "        model.fit(x_train,y_train)\n",
    "        train_error.append(1-accuracy_score(y_cv, model.predict(x_cv)))\n",
    "        test_error.append(1-accuracy_score(y_test, model.predict(x_test)))\n",
    "\n",
    "    \n",
    "    plt.figure(1)\n",
    "    plt.plot([a for a in param_svc['alpha']], train_error)\n",
    "\n",
    "    for xy in zip([a for a in param_svc['alpha']], np.round(train_error,3)):\n",
    "        plt.annotate('(%s, %s)' % xy, xy=xy, textcoords='data')\n",
    "        \n",
    "    plt.title('Alpha vs Train Error')\n",
    "    plt.xlabel('Alpha')\n",
    "    plt.ylabel('Train Error')\n",
    "    plt.show()\n",
    "    \n",
    "    plt.figure(2)\n",
    "    plt.plot([a for a in param_svc['alpha']], test_error)\n",
    "\n",
    "    for xy in zip([a for a in param_svc['alpha']], np.round(test_error,3)):\n",
    "        plt.annotate('(%s, %s)' % xy, xy=xy, textcoords='data')\n",
    "        \n",
    "    plt.title('Alpha vs Test Error')\n",
    "    plt.xlabel('ALpha')\n",
    "    plt.ylabel('Test Error')\n",
    "    plt.show()\n",
    "    \n",
    "    print('*'*80)\n",
    "    print(\"The value of alpha is                   : \", [a for a in param_svc['alpha']])\n",
    "    print(\"The train error for each alpha value is : \", np.round(train_error,3))\n",
    "    print(\"The test error for each alpha value is : \", np.round(test_error,3))\n",
    "    \n",
    "def optimala_rs(x_train,y_train,x_test,y_test,cv): #This function implements SVM using RandomizedSearchCV and plots confusion matrix\n",
    "    my_cv = TimeSeriesSplit(n_splits=3).split(x_train)\n",
    "    param_svc = {'alpha' : [0.0001,0.001,0.01,0.1,1,10,100,1000]}\n",
    "    model1 = SGDClassifier()\n",
    "    f1_scorer = make_scorer(f1_score, pos_label='Positive')\n",
    "    \n",
    "    rsearch1 = RandomizedSearchCV(model1,param_svc,cv=cv, scoring = f1_scorer,n_iter=8)\n",
    "    rsearch1.fit(x_train, y_train)\n",
    "    print(\"The optimal Alpha value found using RandomizedSearchCV is\",rsearch1.best_params_['alpha'])\n",
    "    \n",
    "    gpred1 = rsearch1.predict(x_test)\n",
    "    print('\\nThe test accuracy of SVM for alpha = %d is %f%%' % (rsearch1.best_params_['alpha'], accuracy_score(y_test, gpred1) * 100))\n",
    "    print('\\nThe test precision of SVM for alpha = %d is %f%%' % (rsearch1.best_params_['alpha'], precision_score(y_test,gpred1,pos_label='Positive')*100))\n",
    "    print('\\nThe test recall of SVM for alpha = %d is %f%%' % (rsearch1.best_params_['alpha'], recall_score(y_test,gpred1,pos_label='Positive')*100))\n",
    "    print('\\nThe test f1 score of SVM for alpha = %d is %f%%' % (rsearch1.best_params_['alpha'], f1_score(y_test,gpred1,pos_label='Positive')*100))\n",
    "    print('*'*50)\n",
    "    print(classification_report(y_test,gpred1))\n",
    "    print(\"*\"*50)\n",
    "    '''\n",
    "    Plot confusion matrix\n",
    "    '''\n",
    "    y_true = np.array(y_test)\n",
    "    y_pred = np.array(gpred1)\n",
    "    labels = ['Negative','Positive']\n",
    "    print(confusion_matrix(y_test, gpred1))\n",
    "    cm = ConfusionMatrix(np.where(y_true == 'Positive', True, False), np.where(y_pred == 'Negative',False, True)) #This the confusion matrix of pandas_ml which provides interesting stats.\n",
    "    confusion_matrix_plot = confusion_matrix(y_test,gpred1) #We are plotting confusion matrix of sklearn\n",
    "    heatmap = sns.heatmap(confusion_matrix_plot, annot=True,cmap='Blues', fmt='g',xticklabels=['Negative','Positive'],yticklabels=['Negative','Positive'])\n",
    "    plt.title('Confusion matrix of the classifier')\n",
    "    plt.xlabel('Predicted')\n",
    "    plt.ylabel('True')\n",
    "    plt.show()\n",
    "    print(\"*\"*50)\n",
    "    print(\"The True Positive Rate observed is\",cm.TPR) #This prints the True Positive Rate of the confusion matrix (using pandas_ml confusion matrix).\n",
    "    print(\"The True Negative Rate observed is\",cm.TNR)\n",
    "    print(\"The False Positive Rate observed is\",cm.FPR)\n",
    "    print(\"The False Negative Rate observed is\",cm.FNR)\n",
    "    print(\"*\"*50)\n",
    "    print(\"The stats observed for confusion matrix are:\")\n",
    "    cm.print_stats()#Prints all the stats of the confusion matrix plotted (using pandas_ml confusion matrix).\n",
    "    \n",
    "def get_top_feats(x_train, y_train): #This function gets the feature importances in the form of a dataframe\n",
    "    count_vect = CountVectorizer() #Initialise count vectorizer\n",
    "    data_train = count_vect.fit_transform(x_train['CleanedText'].values)\n",
    "    X_train, X_test, y_train, y_test = train_test_split(data_train, y_train, random_state=0) #Train test splitting\n",
    "    standard_train = StandardScaler(with_mean=False).fit_transform(X_train) #Standardize data\n",
    "    \n",
    "    my_cv = TimeSeriesSplit(n_splits=2).split(X_train)\n",
    "    param_grid = {'alpha' : [0.0001,0.001,0.01,0.1,1,10,100,1000]} #Set parameters for gridsearch\n",
    "    model1 = SGDClassifier(penalty='l2') #Initialize the model\n",
    "    f1_scorer = make_scorer(f1_score, pos_label='Positive') #Set positive parameter for F1 score\n",
    "    gsearch1 = GridSearchCV(estimator = model1, param_grid = param_grid,cv=my_cv, scoring = f1_scorer) #Perform grid search\n",
    "    gsearch1.fit(standard_train,y_train)\n",
    "    gs = gsearch1.best_estimator_\n",
    "    acc = gsearch1.score(X_test, y_test) #Stores accuracy value in acc\n",
    "    print ('Model Accuracy:',acc)\n",
    "    \n",
    "    words = count_vect.get_feature_names() #Gets all the words in the vocabulary\n",
    "    print('The number of words available are', len(words))\n",
    "    gs.fit(standard_train,y_train)\n",
    "    coef = gs.coef_.tolist()[0] #Get the coefficients of features\n",
    "    df = pd.DataFrame({'Words': words, 'Coefficients':coef}) #Create a dataframe\n",
    "    return df\n",
    "\n",
    "def svc_gs(x_train,y_train,x_test,y_test,x_cv,y_cv): #This function implements SVC with RBF Kernel\n",
    "    my_cv = TimeSeriesSplit(n_splits=3).split(x_train)\n",
    "    param_svc = {'C' : [0.001,0.01,0.1,1,10,100,1000],'gamma' : [0.001,0.01,0.1,1,10,100]}\n",
    "    model1 = SVC()\n",
    "    f1_scorer = make_scorer(f1_score, pos_label='Positive')\n",
    "    \n",
    "    gsearch1 = GridSearchCV(estimator = model1, param_grid = param_svc,cv=my_cv, scoring = f1_scorer)\n",
    "    gsearch1.fit(x_train, y_train)\n",
    "    print(\"The optimal C value found using GridSearchCV is\",gsearch1.best_params_['C'])\n",
    "    print(\"The optimal Sigma value found using GridSearchCV is\",1/gsearch1.best_params_['gamma'])\n",
    "    print(\"The best CV value found is\",gsearch1.best_index_)\n",
    "    \n",
    "    gpred1 = gsearch1.predict(x_test)\n",
    "    print('\\nThe test accuracy of SVM for C = %d is %f%%' % (gsearch1.best_params_['C'], accuracy_score(y_test, gpred1) * 100))\n",
    "    print('\\nThe test precision of SVM for C = %d is %f%%' % (gsearch1.best_params_['C'], precision_score(y_test,gpred1,pos_label='Positive')*100))\n",
    "    print('\\nThe test recall of SVM for C = %d is %f%%' % (gsearch1.best_params_['C'], recall_score(y_test,gpred1,pos_label='Positive')*100))\n",
    "    print('\\nThe test f1 score of SVM for C = %d is %f%%' % (gsearch1.best_params_['C'], f1_score(y_test,gpred1,pos_label='Positive')*100))\n",
    "    print('*'*50)\n",
    "    print(classification_report(y_test,gpred1))\n",
    "    print(\"*\"*50)\n",
    "    '''\n",
    "    Plot confusion matrix\n",
    "    '''\n",
    "    y_true = np.array(y_test)\n",
    "    y_pred = np.array(gpred1)\n",
    "    labels = ['Negative','Positive']\n",
    "    print(confusion_matrix(y_test, gpred1))\n",
    "    cm = ConfusionMatrix(np.where(y_true == 'Positive', True, False), np.where(y_pred == 'Negative',False, True)) #This the confusion matrix of pandas_ml which provides interesting stats.\n",
    "    confusion_matrix_plot = confusion_matrix(y_test,gpred1) #We are plotting confusion matrix of sklearn\n",
    "    heatmap = sns.heatmap(confusion_matrix_plot, annot=True,cmap='Blues', fmt='g',xticklabels=['Negative','Positive'],yticklabels=['Negative','Positive'])\n",
    "    plt.title('Confusion matrix of the classifier')\n",
    "    plt.xlabel('Predicted')\n",
    "    plt.ylabel('True')\n",
    "    plt.show()\n",
    "    print(\"*\"*50)\n",
    "    print(\"The True Positive Rate observed is\",cm.TPR) #This prints the True Positive Rate of the confusion matrix (using pandas_ml confusion matrix).\n",
    "    print(\"The True Negative Rate observed is\",cm.TNR)\n",
    "    print(\"The False Positive Rate observed is\",cm.FPR)\n",
    "    print(\"The False Negative Rate observed is\",cm.FNR)\n",
    "    print(\"*\"*50)\n",
    "    print(\"The stats observed for confusion matrix are:\")\n",
    "    cm.print_stats()#Prints all the stats of the confusion matrix plotted (using pandas_ml confusion matrix).\n",
    "    "
   ]
  },
  {
   "cell_type": "markdown",
   "metadata": {
    "colab_type": "raw",
    "id": "lER5Sy1CaANO"
   },
   "source": [
    "**Observations:**\n",
    "\n",
    "1) The first function finds the optimal alpha value for SGDClassifier, plots confusion matrix and lists all of its stats using GridsearchCV.\n",
    "\n",
    "2) The second function does the same using RandomizedsearchCV.\n",
    "\n",
    "3) The third function returns a dataframe with all the important words in both positive and negative reviews.\n",
    "\n",
    "4) The fourth function performs SVC with RBF by selecting the right 'C' and 'gamma'."
   ]
  },
  {
   "cell_type": "markdown",
   "metadata": {
    "colab_type": "text",
    "id": "bYgTidwWUFQU"
   },
   "source": [
    "# Feature Importance"
   ]
  },
  {
   "cell_type": "code",
   "execution_count": 0,
   "metadata": {
    "colab": {},
    "colab_type": "code",
    "id": "gQU4sWKyt-5O"
   },
   "outputs": [],
   "source": [
    "grouped_data.dropna(inplace = True) #Drops rows with Nan\n",
    "grouped_data.reset_index(inplace=True) #Replaces missing indexes\n",
    "scores = grouped_data['Score']"
   ]
  },
  {
   "cell_type": "markdown",
   "metadata": {
    "colab_type": "text",
    "id": "gs6hnyp9tvVj"
   },
   "source": [
    "Observations: There are a few Nan valued data in the dataset. Also there are a few indexes missing. All these are resolved and all the words are obtained."
   ]
  },
  {
   "cell_type": "code",
   "execution_count": 39,
   "metadata": {
    "colab": {
     "base_uri": "https://localhost:8080/",
     "height": 51
    },
    "colab_type": "code",
    "id": "UrqhOEF5tvVk",
    "outputId": "ef4d22ba-1f2e-4e91-d241-1e4db5096aae"
   },
   "outputs": [
    {
     "name": "stdout",
     "output_type": "stream",
     "text": [
      "Model Accuracy: 0.8914746310895492\n",
      "The number of words available are 53788\n"
     ]
    }
   ],
   "source": [
    "df = get_top_feats(grouped_data, scores)"
   ]
  },
  {
   "cell_type": "markdown",
   "metadata": {
    "colab_type": "text",
    "id": "0p9dN7z9UFQj"
   },
   "source": [
    "Observations: A dataframe is created with all the words and their coefficients."
   ]
  },
  {
   "cell_type": "code",
   "execution_count": 40,
   "metadata": {
    "colab": {
     "base_uri": "https://localhost:8080/",
     "height": 266
    },
    "colab_type": "code",
    "id": "z2X2HnMrtvWG",
    "outputId": "255b0b38-bba5-4377-f3b3-91d7f31a2d35"
   },
   "outputs": [
    {
     "data": {
      "text/html": [
       "<div>\n",
       "<style scoped>\n",
       "    .dataframe tbody tr th:only-of-type {\n",
       "        vertical-align: middle;\n",
       "    }\n",
       "\n",
       "    .dataframe tbody tr th {\n",
       "        vertical-align: top;\n",
       "    }\n",
       "\n",
       "    .dataframe thead th {\n",
       "        text-align: right;\n",
       "    }\n",
       "</style>\n",
       "<table border=\"1\" class=\"dataframe\">\n",
       "  <thead>\n",
       "    <tr style=\"text-align: right;\">\n",
       "      <th></th>\n",
       "      <th>Coefficients</th>\n",
       "      <th>Words</th>\n",
       "    </tr>\n",
       "  </thead>\n",
       "  <tbody>\n",
       "    <tr>\n",
       "      <th>20216</th>\n",
       "      <td>0.239345</td>\n",
       "      <td>great</td>\n",
       "    </tr>\n",
       "    <tr>\n",
       "      <th>27549</th>\n",
       "      <td>0.198717</td>\n",
       "      <td>love</td>\n",
       "    </tr>\n",
       "    <tr>\n",
       "      <th>4394</th>\n",
       "      <td>0.168246</td>\n",
       "      <td>best</td>\n",
       "    </tr>\n",
       "    <tr>\n",
       "      <th>19791</th>\n",
       "      <td>0.159993</td>\n",
       "      <td>good</td>\n",
       "    </tr>\n",
       "    <tr>\n",
       "      <th>12302</th>\n",
       "      <td>0.137308</td>\n",
       "      <td>delici</td>\n",
       "    </tr>\n",
       "    <tr>\n",
       "      <th>35046</th>\n",
       "      <td>0.112754</td>\n",
       "      <td>perfect</td>\n",
       "    </tr>\n",
       "    <tr>\n",
       "      <th>16025</th>\n",
       "      <td>0.110957</td>\n",
       "      <td>excel</td>\n",
       "    </tr>\n",
       "  </tbody>\n",
       "</table>\n",
       "</div>"
      ],
      "text/plain": [
       "       Coefficients    Words\n",
       "20216      0.239345    great\n",
       "27549      0.198717     love\n",
       "4394       0.168246     best\n",
       "19791      0.159993     good\n",
       "12302      0.137308   delici\n",
       "35046      0.112754  perfect\n",
       "16025      0.110957    excel"
      ]
     },
     "execution_count": 40,
     "metadata": {
      "tags": []
     },
     "output_type": "execute_result"
    }
   ],
   "source": [
    "df.sort_values(['Coefficients'], ascending=False).head(7)"
   ]
  },
  {
   "cell_type": "markdown",
   "metadata": {
    "colab_type": "text",
    "id": "Oh9-K2w0UFQ7"
   },
   "source": [
    "Observations: Top 7 best words for positive reviews are 'great', 'love', 'best', 'good', 'delici', 'perfect', 'excel'."
   ]
  },
  {
   "cell_type": "code",
   "execution_count": 41,
   "metadata": {
    "colab": {
     "base_uri": "https://localhost:8080/",
     "height": 266
    },
    "colab_type": "code",
    "id": "tMEO_wBbtvV2",
    "outputId": "6c4abe5d-1909-4244-a63b-4cd3647aea0a"
   },
   "outputs": [
    {
     "data": {
      "text/html": [
       "<div>\n",
       "<style scoped>\n",
       "    .dataframe tbody tr th:only-of-type {\n",
       "        vertical-align: middle;\n",
       "    }\n",
       "\n",
       "    .dataframe tbody tr th {\n",
       "        vertical-align: top;\n",
       "    }\n",
       "\n",
       "    .dataframe thead th {\n",
       "        text-align: right;\n",
       "    }\n",
       "</style>\n",
       "<table border=\"1\" class=\"dataframe\">\n",
       "  <thead>\n",
       "    <tr style=\"text-align: right;\">\n",
       "      <th></th>\n",
       "      <th>Coefficients</th>\n",
       "      <th>Words</th>\n",
       "    </tr>\n",
       "  </thead>\n",
       "  <tbody>\n",
       "    <tr>\n",
       "      <th>13200</th>\n",
       "      <td>-0.163027</td>\n",
       "      <td>disappoint</td>\n",
       "    </tr>\n",
       "    <tr>\n",
       "      <th>52776</th>\n",
       "      <td>-0.102537</td>\n",
       "      <td>worst</td>\n",
       "    </tr>\n",
       "    <tr>\n",
       "      <th>47038</th>\n",
       "      <td>-0.093221</td>\n",
       "      <td>terribl</td>\n",
       "    </tr>\n",
       "    <tr>\n",
       "      <th>49671</th>\n",
       "      <td>-0.090840</td>\n",
       "      <td>unfortun</td>\n",
       "    </tr>\n",
       "    <tr>\n",
       "      <th>39573</th>\n",
       "      <td>-0.089086</td>\n",
       "      <td>return</td>\n",
       "    </tr>\n",
       "    <tr>\n",
       "      <th>3144</th>\n",
       "      <td>-0.084017</td>\n",
       "      <td>aw</td>\n",
       "    </tr>\n",
       "    <tr>\n",
       "      <th>22333</th>\n",
       "      <td>-0.083365</td>\n",
       "      <td>horribl</td>\n",
       "    </tr>\n",
       "  </tbody>\n",
       "</table>\n",
       "</div>"
      ],
      "text/plain": [
       "       Coefficients       Words\n",
       "13200     -0.163027  disappoint\n",
       "52776     -0.102537       worst\n",
       "47038     -0.093221     terribl\n",
       "49671     -0.090840    unfortun\n",
       "39573     -0.089086      return\n",
       "3144      -0.084017          aw\n",
       "22333     -0.083365     horribl"
      ]
     },
     "execution_count": 41,
     "metadata": {
      "tags": []
     },
     "output_type": "execute_result"
    }
   ],
   "source": [
    "df.sort_values(['Coefficients'], ascending=True).head(7)"
   ]
  },
  {
   "cell_type": "markdown",
   "metadata": {
    "colab_type": "text",
    "id": "-bSl2iPHUFQw"
   },
   "source": [
    "Observations: Top 7 best words for negative reviews are 'disappoint', 'worst', 'terribl', 'unfortun', 'return', 'aw', 'horribl'."
   ]
  },
  {
   "cell_type": "markdown",
   "metadata": {
    "colab_type": "text",
    "id": "8uyA6VM9N4s0"
   },
   "source": [
    "# Bag of Words"
   ]
  },
  {
   "cell_type": "code",
   "execution_count": 5,
   "metadata": {
    "colab": {
     "base_uri": "https://localhost:8080/",
     "height": 34
    },
    "colab_type": "code",
    "id": "Kyw1qdUYgYxH",
    "outputId": "19fd42dd-1cb8-498a-e845-8b6978766694"
   },
   "outputs": [
    {
     "name": "stdout",
     "output_type": "stream",
     "text": [
      "The shape of grouped data is (200000, 13)\n"
     ]
    }
   ],
   "source": [
    "import pandas as pd\n",
    "grouped_data = pd.read_csv(\"grouped_data_200.csv\")\n",
    "scores=grouped_data['Score']\n",
    "print(\"The shape of grouped data is {}\".format(grouped_data.shape))"
   ]
  },
  {
   "cell_type": "code",
   "execution_count": 18,
   "metadata": {
    "colab": {
     "base_uri": "https://localhost:8080/",
     "height": 68
    },
    "colab_type": "code",
    "id": "8W6oYhlQUmH1",
    "outputId": "70845a38-7cdb-4027-eab6-e22291fa25ed"
   },
   "outputs": [
    {
     "data": {
      "text/plain": [
       "Positive    142897\n",
       "Negative     57103\n",
       "Name: Score, dtype: int64"
      ]
     },
     "execution_count": 18,
     "metadata": {
      "tags": []
     },
     "output_type": "execute_result"
    }
   ],
   "source": [
    "grouped_data['Score'].value_counts()"
   ]
  },
  {
   "cell_type": "markdown",
   "metadata": {
    "colab_type": "text",
    "id": "RB84yNisaANW"
   },
   "source": [
    "Observations:\n",
    "A csv file is imported which consists of 200000 data points. These data points are already sorted on the basis of time."
   ]
  },
  {
   "cell_type": "code",
   "execution_count": 0,
   "metadata": {
    "colab": {},
    "colab_type": "code",
    "id": "ZEB-ipqkaANZ"
   },
   "outputs": [],
   "source": [
    "x_1, x_test, y_1, y_test = cross_validation.train_test_split(grouped_data, scores, test_size=0.3, random_state=0)\n",
    "x_train, x_cv, y_train, y_cv = cross_validation.train_test_split(x_1, y_1, test_size=0.3)"
   ]
  },
  {
   "cell_type": "markdown",
   "metadata": {
    "colab_type": "text",
    "id": "t8p84yshaANg"
   },
   "source": [
    "Observations:\n",
    "The data is split into train, test and cross validate."
   ]
  },
  {
   "cell_type": "code",
   "execution_count": 20,
   "metadata": {
    "colab": {
     "base_uri": "https://localhost:8080/",
     "height": 68
    },
    "colab_type": "code",
    "id": "P_5vpR8QaANh",
    "outputId": "57ffeb49-5893-4825-c30d-57f352d9c931"
   },
   "outputs": [
    {
     "name": "stdout",
     "output_type": "stream",
     "text": [
      "The shape of train data for BOW is (98000, 38101)\n",
      "The shape of test data for BOW is (60000, 38101)\n",
      "The shape of cv data for BOW is (42000, 38101)\n"
     ]
    }
   ],
   "source": [
    "count_vect = CountVectorizer()\n",
    "vocab = count_vect.fit(x_train['CleanedText'].values.astype('U'))\n",
    "data_train = count_vect.transform(x_train['CleanedText'].values.astype('U'))\n",
    "data_test = count_vect.transform(x_test['CleanedText'].values.astype('U'))\n",
    "data_cv = count_vect.transform(x_cv['CleanedText'].values.astype('U'))\n",
    "print(\"The shape of train data for BOW is {}\".format(data_train.shape))\n",
    "print(\"The shape of test data for BOW is {}\".format(data_test.shape))\n",
    "print(\"The shape of cv data for BOW is {}\".format(data_cv.shape))"
   ]
  },
  {
   "cell_type": "markdown",
   "metadata": {
    "colab_type": "text",
    "id": "PkcD4xDzaANp"
   },
   "source": [
    "Observations:\n",
    "We build out Bag of words vocabulary only on train data and get vectors of train and test data."
   ]
  },
  {
   "cell_type": "code",
   "execution_count": 21,
   "metadata": {
    "colab": {
     "base_uri": "https://localhost:8080/",
     "height": 102
    },
    "colab_type": "code",
    "id": "7jm36ZC3aANr",
    "outputId": "96c53c0d-fc9e-429a-9d2e-986a510f85af"
   },
   "outputs": [
    {
     "name": "stdout",
     "output_type": "stream",
     "text": [
      "The type of standard_train is  <class 'scipy.sparse.csr.csr_matrix'>\n",
      "The type of standard_test is  <class 'scipy.sparse.csr.csr_matrix'>\n",
      "The shape of standard_train is  (98000, 38101)\n",
      "The shape of standard_test is  (60000, 38101)\n",
      "The shape of standard_cv is  (42000, 38101)\n"
     ]
    }
   ],
   "source": [
    "import warnings\n",
    "warnings.filterwarnings(\"ignore\")\n",
    "from sklearn.preprocessing import StandardScaler\n",
    "std = StandardScaler(with_mean=False)\n",
    "std_vocab = std.fit(data_train)\n",
    "standard_train = std.transform(data_train)\n",
    "standard_test = std.transform(data_test)\n",
    "standard_cv = std.transform(data_cv)\n",
    "print(\"The type of standard_train is \",type(data_train))\n",
    "print(\"The type of standard_test is \",type(data_test))\n",
    "print(\"The shape of standard_train is \",standard_train.get_shape())\n",
    "print(\"The shape of standard_test is \",standard_test.get_shape())\n",
    "print(\"The shape of standard_cv is \",standard_cv.get_shape())"
   ]
  },
  {
   "cell_type": "markdown",
   "metadata": {
    "colab_type": "text",
    "id": "l0BZkpIstvW3"
   },
   "source": [
    "Observations: The data is standardized."
   ]
  },
  {
   "cell_type": "code",
   "execution_count": 22,
   "metadata": {
    "colab": {
     "base_uri": "https://localhost:8080/",
     "height": 2131
    },
    "colab_type": "code",
    "id": "BXq4_4Ccih3S",
    "outputId": "0afe4146-f878-4f6d-cde8-13deb4fe7936",
    "scrolled": false
   },
   "outputs": [
    {
     "name": "stdout",
     "output_type": "stream",
     "text": [
      "The optimal Alpha value found using GridSearchCV is 1\n",
      "The best CV value found is 4\n",
      "\n",
      "The test accuracy of SVM for alpha = 1 is 87.076667%\n",
      "\n",
      "The test precision of SVM for alpha = 1 is 86.769308%\n",
      "\n",
      "The test recall of SVM for alpha = 1 is 96.597685%\n",
      "\n",
      "The test f1 score of SVM for alpha = 1 is 91.420099%\n",
      "**************************************************\n",
      "             precision    recall  f1-score   support\n",
      "\n",
      "   Negative       0.88      0.63      0.74     17235\n",
      "   Positive       0.87      0.97      0.91     42765\n",
      "\n",
      "avg / total       0.87      0.87      0.86     60000\n",
      "\n",
      "**************************************************\n",
      "[[10936  6299]\n",
      " [ 1455 41310]]\n"
     ]
    },
    {
     "data": {
      "image/png": "[encoded data removed]",
      "text/plain": [
       "<matplotlib.figure.Figure at 0x7f4a8635a240>"
      ]
     },
     "metadata": {
      "tags": []
     },
     "output_type": "display_data"
    },
    {
     "name": "stdout",
     "output_type": "stream",
     "text": [
      "**************************************************\n",
      "The True Positive Rate observed is 0.9659768502279902\n",
      "The True Negative Rate observed is 0.6345227734261677\n",
      "The False Positive Rate observed is 0.3654772265738323\n",
      "The False Negative Rate observed is 0.03402314977200982\n",
      "**************************************************\n",
      "The stats observed for confusion matrix are:\n",
      "population: 60000\n",
      "P: 42765\n",
      "N: 17235\n",
      "PositiveTest: 47609\n",
      "NegativeTest: 12391\n",
      "TP: 41310\n",
      "TN: 10936\n",
      "FP: 6299\n",
      "FN: 1455\n",
      "TPR: 0.9659768502279902\n",
      "TNR: 0.6345227734261677\n",
      "PPV: 0.8676930832405637\n",
      "NPV: 0.8825760632717294\n",
      "FPR: 0.3654772265738323\n",
      "FDR: 0.13230691675943623\n",
      "FNR: 0.03402314977200982\n",
      "ACC: 0.8707666666666667\n",
      "F1_score: 0.9142009870095381\n",
      "MCC: 0.6712200385268294\n",
      "informedness: 0.6004996236541578\n",
      "markedness: 0.7502691465122933\n",
      "prevalence: 0.71275\n",
      "LRP: 2.6430562015684096\n",
      "LRN: 0.053620060929095575\n",
      "DOR: 49.29230134712924\n",
      "FOR: 0.11742393672827052\n",
      "\n",
      "\n",
      "**************************** Plotting Alpha, Error and number of non zero elements ****************************\n"
     ]
    },
    {
     "data": {
      "image/png": "[encoded data removed]",
      "text/plain": [
       "<matplotlib.figure.Figure at 0x7f4a7a394a20>"
      ]
     },
     "metadata": {
      "tags": []
     },
     "output_type": "display_data"
    },
    {
     "data": {
      "image/png": "[encoded data removed]",
      "text/plain": [
       "<matplotlib.figure.Figure at 0x7f4a83325a90>"
      ]
     },
     "metadata": {
      "tags": []
     },
     "output_type": "display_data"
    },
    {
     "name": "stdout",
     "output_type": "stream",
     "text": [
      "********************************************************************************\n",
      "The value of alpha is                   :  [0.0001, 0.001, 0.01, 0.1, 1, 10, 100, 1000]\n",
      "The train error for each alpha value is :  [0.154 0.153 0.143 0.121 0.126 0.252 0.283 0.284]\n",
      "The test error for each alpha value is :  [0.157 0.156 0.145 0.122 0.128 0.256 0.287 0.287]\n"
     ]
    }
   ],
   "source": [
    "optimala_gs(standard_train, y_train, standard_test, y_test, standard_cv, y_cv)"
   ]
  },
  {
   "cell_type": "code",
   "execution_count": 23,
   "metadata": {
    "colab": {
     "base_uri": "https://localhost:8080/",
     "height": 1277
    },
    "colab_type": "code",
    "id": "JkXVzm_rU9St",
    "outputId": "8d9da21a-aa0e-40f4-f0e3-ada004fa6886"
   },
   "outputs": [
    {
     "name": "stdout",
     "output_type": "stream",
     "text": [
      "The optimal Alpha value found using RandomizedSearchCV is 0.1\n",
      "\n",
      "The test accuracy of SVM for alpha = 0 is 87.756667%\n",
      "\n",
      "The test precision of SVM for alpha = 0 is 89.932129%\n",
      "\n",
      "The test recall of SVM for alpha = 0 is 93.263183%\n",
      "\n",
      "The test f1 score of SVM for alpha = 0 is 91.567371%\n",
      "**************************************************\n",
      "             precision    recall  f1-score   support\n",
      "\n",
      "   Negative       0.82      0.74      0.78     17235\n",
      "   Positive       0.90      0.93      0.92     42765\n",
      "\n",
      "avg / total       0.88      0.88      0.88     60000\n",
      "\n",
      "**************************************************\n",
      "[[12770  4465]\n",
      " [ 2881 39884]]\n"
     ]
    },
    {
     "data": {
      "image/png": "[encoded data removed]",
      "text/plain": [
       "<matplotlib.figure.Figure at 0x7f4a8a8492b0>"
      ]
     },
     "metadata": {
      "tags": []
     },
     "output_type": "display_data"
    },
    {
     "name": "stdout",
     "output_type": "stream",
     "text": [
      "**************************************************\n",
      "The True Positive Rate observed is 0.9326318250906115\n",
      "The True Negative Rate observed is 0.7409341456338845\n",
      "The False Positive Rate observed is 0.25906585436611546\n",
      "The False Negative Rate observed is 0.06736817490938851\n",
      "**************************************************\n",
      "The stats observed for confusion matrix are:\n",
      "population: 60000\n",
      "P: 42765\n",
      "N: 17235\n",
      "PositiveTest: 44349\n",
      "NegativeTest: 15651\n",
      "TP: 39884\n",
      "TN: 12770\n",
      "FP: 4465\n",
      "FN: 2881\n",
      "TPR: 0.9326318250906115\n",
      "TNR: 0.7409341456338845\n",
      "PPV: 0.8993212924755913\n",
      "NPV: 0.8159223052840074\n",
      "FPR: 0.25906585436611546\n",
      "FDR: 0.10067870752440866\n",
      "FNR: 0.06736817490938851\n",
      "ACC: 0.8775666666666667\n",
      "F1_score: 0.9156737149023119\n",
      "MCC: 0.694092031527106\n",
      "informedness: 0.6735659707244959\n",
      "markedness: 0.7152435977595988\n",
      "prevalence: 0.71275\n",
      "LRP: 3.599979732460625\n",
      "LRN: 0.09092329636361089\n",
      "DOR: 39.59359016267915\n",
      "FOR: 0.18407769471599258\n"
     ]
    }
   ],
   "source": [
    "optimala_rs(standard_train, y_train, standard_test, y_test,4)"
   ]
  },
  {
   "cell_type": "markdown",
   "metadata": {},
   "source": [
    "# Bag of Words using SVC"
   ]
  },
  {
   "cell_type": "code",
   "execution_count": 6,
   "metadata": {
    "colab": {
     "base_uri": "https://localhost:8080/",
     "height": 34
    },
    "colab_type": "code",
    "id": "N5tSifjzcMTS",
    "outputId": "72635e84-4b9c-4e47-ec6d-bbbd03cda6a6"
   },
   "outputs": [
    {
     "name": "stdout",
     "output_type": "stream",
     "text": [
      "The shape of grouped data is (50000, 13)\n"
     ]
    }
   ],
   "source": [
    "p = grouped_data.groupby('Score')\n",
    "pos = p.get_group('Positive') #Gets the groups with Positive score\n",
    "neg = p.get_group('Negative') #Gets the groups with Negative score\n",
    "pos_60k = pos.sample(30000) #Gets 1000 reviews of positive and negative scores\n",
    "neg_40k = neg.sample(20000)\n",
    "grouped_data = pd.concat([pos_60k, neg_40k], ignore_index = True) #This data now contains positive and negative data in order.\n",
    "grouped_data = grouped_data.sort_values('Time', axis=0, ascending=True, kind='quicksort')\n",
    "scores=grouped_data['Score']\n",
    "print(\"The shape of grouped data is {}\".format(grouped_data.shape))"
   ]
  },
  {
   "cell_type": "markdown",
   "metadata": {},
   "source": [
    "Observations: Create a new dataset with 50000 reviews and sort it based on time."
   ]
  },
  {
   "cell_type": "code",
   "execution_count": 7,
   "metadata": {
    "colab": {
     "base_uri": "https://localhost:8080/",
     "height": 153
    },
    "colab_type": "code",
    "id": "9bb2mvJ6dTUI",
    "outputId": "0cac9397-106d-4f20-b9cf-f37f5bb9b788"
   },
   "outputs": [
    {
     "name": "stdout",
     "output_type": "stream",
     "text": [
      "The shape of train data for BOW is (24500, 19954)\n",
      "The shape of test data for BOW is (15000, 19954)\n",
      "The shape of cv data for BOW is (10500, 19954)\n",
      "The type of standard_train is  <class 'scipy.sparse.csr.csr_matrix'>\n",
      "The type of standard_test is  <class 'scipy.sparse.csr.csr_matrix'>\n",
      "The shape of standard_train is  (24500, 19954)\n",
      "The shape of standard_test is  (15000, 19954)\n",
      "The shape of standard_cv is  (10500, 19954)\n"
     ]
    }
   ],
   "source": [
    "x_1, x_test, y_1, y_test = cross_validation.train_test_split(grouped_data, scores, test_size=0.3, random_state=0)\n",
    "x_train, x_cv, y_train, y_cv = cross_validation.train_test_split(x_1, y_1, test_size=0.3)\n",
    "count_vect = CountVectorizer()\n",
    "vocab = count_vect.fit(x_train['CleanedText'].values.astype('U'))\n",
    "data_train = count_vect.transform(x_train['CleanedText'].values.astype('U'))\n",
    "data_test = count_vect.transform(x_test['CleanedText'].values.astype('U'))\n",
    "data_cv = count_vect.transform(x_cv['CleanedText'].values.astype('U'))\n",
    "print(\"The shape of train data for BOW is {}\".format(data_train.shape))\n",
    "print(\"The shape of test data for BOW is {}\".format(data_test.shape))\n",
    "print(\"The shape of cv data for BOW is {}\".format(data_cv.shape))\n",
    "import warnings\n",
    "warnings.filterwarnings(\"ignore\")\n",
    "from sklearn.preprocessing import StandardScaler\n",
    "std = StandardScaler(with_mean=False)\n",
    "std_vocab = std.fit(data_train)\n",
    "standard_train = std.transform(data_train)\n",
    "standard_test = std.transform(data_test)\n",
    "standard_cv = std.transform(data_cv)\n",
    "print(\"The type of standard_train is \",type(data_train))\n",
    "print(\"The type of standard_test is \",type(data_test))\n",
    "print(\"The shape of standard_train is \",standard_train.get_shape())\n",
    "print(\"The shape of standard_test is \",standard_test.get_shape())\n",
    "print(\"The shape of standard_cv is \",standard_cv.get_shape())"
   ]
  },
  {
   "cell_type": "markdown",
   "metadata": {},
   "source": [
    "Observations: Perform vectorization, standardization on the train, test data."
   ]
  },
  {
   "cell_type": "code",
   "execution_count": 8,
   "metadata": {
    "colab": {
     "base_uri": "https://localhost:8080/",
     "height": 1311
    },
    "colab_type": "code",
    "id": "wijGzBKEcnkb",
    "outputId": "89cb2f38-0dc1-4029-ee06-b5cdd9c7e6b4"
   },
   "outputs": [
    {
     "name": "stdout",
     "output_type": "stream",
     "text": [
      "The optimal C value found using GridSearchCV is 10\n",
      "The optimal Sigma value found using GridSearchCV is 1000.0\n",
      "The best CV value found is 24\n",
      "\n",
      "The test accuracy of SVM for C = 10 is 68.133333%\n",
      "\n",
      "The test precision of SVM for C = 10 is 66.229684%\n",
      "\n",
      "The test recall of SVM for C = 10 is 95.839805%\n",
      "\n",
      "The test f1 score of SVM for C = 10 is 78.329858%\n",
      "**************************************************\n",
      "             precision    recall  f1-score   support\n",
      "\n",
      "   Negative       0.81      0.26      0.40      5986\n",
      "   Positive       0.66      0.96      0.78      9014\n",
      "\n",
      "avg / total       0.72      0.68      0.63     15000\n",
      "\n",
      "**************************************************\n",
      "[[1581 4405]\n",
      " [ 375 8639]]\n"
     ]
    },
    {
     "data": {
      "image/png": "[encoded data removed]",
      "text/plain": [
       "<matplotlib.figure.Figure at 0x7f39140b5160>"
      ]
     },
     "metadata": {
      "tags": []
     },
     "output_type": "display_data"
    },
    {
     "name": "stdout",
     "output_type": "stream",
     "text": [
      "**************************************************\n",
      "The True Positive Rate observed is 0.9583980474816951\n",
      "The True Negative Rate observed is 0.2641162712996993\n",
      "The False Positive Rate observed is 0.7358837287003007\n",
      "The False Negative Rate observed is 0.04160195251830486\n",
      "**************************************************\n",
      "The stats observed for confusion matrix are:\n",
      "population: 15000\n",
      "P: 9014\n",
      "N: 5986\n",
      "PositiveTest: 13044\n",
      "NegativeTest: 1956\n",
      "TP: 8639\n",
      "TN: 1581\n",
      "FP: 4405\n",
      "FN: 375\n",
      "TPR: 0.9583980474816951\n",
      "TNR: 0.2641162712996993\n",
      "PPV: 0.6622968414596749\n",
      "NPV: 0.808282208588957\n",
      "FPR: 0.7358837287003007\n",
      "FDR: 0.33770315854032507\n",
      "FNR: 0.04160195251830486\n",
      "ACC: 0.6813333333333333\n",
      "F1_score: 0.7832985764801886\n",
      "MCC: 0.32359013698561184\n",
      "informedness: 0.2225143187813945\n",
      "markedness: 0.470579050048632\n",
      "prevalence: 0.6009333333333333\n",
      "LRP: 1.3023770061805735\n",
      "LRN: 0.157513781008585\n",
      "DOR: 8.268336889897842\n",
      "FOR: 0.19171779141104295\n"
     ]
    }
   ],
   "source": [
    "svc_gs(standard_train, y_train, standard_test, y_test, standard_cv, y_cv)"
   ]
  },
  {
   "cell_type": "markdown",
   "metadata": {
    "colab_type": "text",
    "id": "Uy9lMqY-XPmF"
   },
   "source": [
    "# TFIDF"
   ]
  },
  {
   "cell_type": "code",
   "execution_count": 3,
   "metadata": {
    "colab": {
     "base_uri": "https://localhost:8080/",
     "height": 34
    },
    "colab_type": "code",
    "id": "AWFJArzTZNwn",
    "outputId": "e7aaf437-b34d-4b28-94b4-303d98ad2110"
   },
   "outputs": [
    {
     "name": "stdout",
     "output_type": "stream",
     "text": [
      "The shape of grouped data after time based splitting is (200000, 12)\n"
     ]
    }
   ],
   "source": [
    "import pandas as pd\n",
    "grouped_data = pd.read_csv(\"grouped_data_200.csv\")\n",
    "scores = grouped_data['Score']\n",
    "print(\"The shape of grouped data after time based splitting is {}\".format(grouped_data.shape))"
   ]
  },
  {
   "cell_type": "markdown",
   "metadata": {
    "colab_type": "text",
    "id": "AYi392MLaAPJ"
   },
   "source": [
    "Observations:\n",
    "A csv file is imported which consists of 200000 data points. These data points are already sorted on the basis of time."
   ]
  },
  {
   "cell_type": "code",
   "execution_count": 0,
   "metadata": {
    "colab": {},
    "colab_type": "code",
    "id": "bao77DWKYr_P"
   },
   "outputs": [],
   "source": [
    "x_1, x_test, y_1, y_test = cross_validation.train_test_split(grouped_data, scores, test_size=0.3, random_state=0)\n",
    "x_train, x_cv, y_train, y_cv = cross_validation.train_test_split(x_1, y_1, test_size=0.3)"
   ]
  },
  {
   "cell_type": "markdown",
   "metadata": {
    "colab_type": "text",
    "id": "WAIcrN0PaAPP"
   },
   "source": [
    "Observations: Data is split into train, test and cross validate"
   ]
  },
  {
   "cell_type": "code",
   "execution_count": 6,
   "metadata": {
    "colab": {
     "base_uri": "https://localhost:8080/",
     "height": 85
    },
    "colab_type": "code",
    "id": "7bAhVkyFXVcl",
    "outputId": "52654301-6089-40de-c767-8e12dbf6b286"
   },
   "outputs": [
    {
     "name": "stdout",
     "output_type": "stream",
     "text": [
      "the type of count vectorizer  <class 'scipy.sparse.csr.csr_matrix'>\n",
      "The shape of train_tf_idf  (98000, 1270507)\n",
      "The shape of test_tf_idf  (60000, 1270507)\n",
      "The shape of cv_tf_idf  (42000, 1270507)\n"
     ]
    }
   ],
   "source": [
    "tf_idf_vect = TfidfVectorizer(ngram_range=(1,2))\n",
    "vocab_tf_idf = tf_idf_vect.fit(x_train['CleanedText'].values.astype('U')) #Converts to a sparse matrix of TF-IDF vectors.\n",
    "train_tf_idf = tf_idf_vect.transform(x_train['CleanedText'].values.astype('U'))\n",
    "test_tf_idf = tf_idf_vect.transform(x_test['CleanedText'].values.astype('U'))\n",
    "cv_tf_idf = tf_idf_vect.transform(x_cv['CleanedText'].values.astype('U'))\n",
    "print(\"the type of count vectorizer \",type(train_tf_idf))\n",
    "print(\"The shape of train_tf_idf \",train_tf_idf.get_shape())\n",
    "print(\"The shape of test_tf_idf \", test_tf_idf.get_shape())\n",
    "print(\"The shape of cv_tf_idf \", cv_tf_idf.get_shape())"
   ]
  },
  {
   "cell_type": "markdown",
   "metadata": {
    "colab_type": "text",
    "id": "p4xtU-RiaAPb"
   },
   "source": [
    "Observations:\n",
    "Vocabulary of TF-IDF is trained for train data and vectors for train and test data are obtained."
   ]
  },
  {
   "cell_type": "code",
   "execution_count": 8,
   "metadata": {
    "colab": {
     "base_uri": "https://localhost:8080/",
     "height": 102
    },
    "colab_type": "code",
    "id": "XC6XeR5-J3KF",
    "outputId": "72592a35-4adf-4b61-e202-bbfd2af65ffc"
   },
   "outputs": [
    {
     "name": "stdout",
     "output_type": "stream",
     "text": [
      "The type of standard_train is  <class 'scipy.sparse.csr.csr_matrix'>\n",
      "The type of standard_test is  <class 'scipy.sparse.csr.csr_matrix'>\n",
      "The shape of standard_train is  (98000, 1270507)\n",
      "The shape of standard_test is  (60000, 1270507)\n",
      "The shape of standard_cv is  (42000, 1270507)\n"
     ]
    }
   ],
   "source": [
    "import warnings\n",
    "warnings.filterwarnings(\"ignore\")\n",
    "from sklearn.preprocessing import StandardScaler\n",
    "std = StandardScaler(with_mean=False)\n",
    "std_vocab = std.fit(train_tf_idf)\n",
    "standardized_train = std.transform(train_tf_idf)\n",
    "standardized_test = std.transform(test_tf_idf)\n",
    "standardized_cv = std.transform(cv_tf_idf)\n",
    "print(\"The type of standard_train is \",type(train_tf_idf))\n",
    "print(\"The type of standard_test is \",type(test_tf_idf))\n",
    "print(\"The shape of standard_train is \",standardized_train.get_shape())\n",
    "print(\"The shape of standard_test is \",standardized_test.get_shape())\n",
    "print(\"The shape of standard_cv is \",standardized_cv.get_shape())"
   ]
  },
  {
   "cell_type": "markdown",
   "metadata": {
    "colab_type": "text",
    "id": "16KFlMeIaAPj"
   },
   "source": [
    "Observations:\n",
    "Data is standardized."
   ]
  },
  {
   "cell_type": "code",
   "execution_count": 9,
   "metadata": {
    "colab": {
     "base_uri": "https://localhost:8080/",
     "height": 2131
    },
    "colab_type": "code",
    "id": "Y1yCQF4z3EdN",
    "outputId": "d213aceb-95f0-42d8-ac76-4add135ec2a5",
    "scrolled": false
   },
   "outputs": [
    {
     "name": "stdout",
     "output_type": "stream",
     "text": [
      "The optimal Alpha value found using GridSearchCV is 1\n",
      "The best CV value found is 4\n",
      "\n",
      "The test accuracy of SVM for alpha = 1 is 85.083333%\n",
      "\n",
      "The test precision of SVM for alpha = 1 is 86.100139%\n",
      "\n",
      "The test recall of SVM for alpha = 1 is 94.294400%\n",
      "\n",
      "The test f1 score of SVM for alpha = 1 is 90.011161%\n",
      "**************************************************\n",
      "             precision    recall  f1-score   support\n",
      "\n",
      "   Negative       0.81      0.62      0.71     17235\n",
      "   Positive       0.86      0.94      0.90     42765\n",
      "\n",
      "avg / total       0.85      0.85      0.84     60000\n",
      "\n",
      "**************************************************\n",
      "[[10725  6510]\n",
      " [ 2440 40325]]\n"
     ]
    },
    {
     "data": {
      "image/png": "[encoded data removed]",
      "text/plain": [
       "<matplotlib.figure.Figure at 0x7ff8147b2b00>"
      ]
     },
     "metadata": {
      "tags": []
     },
     "output_type": "display_data"
    },
    {
     "name": "stdout",
     "output_type": "stream",
     "text": [
      "**************************************************\n",
      "The True Positive Rate observed is 0.9429439962586227\n",
      "The True Negative Rate observed is 0.6222802436901653\n",
      "The False Positive Rate observed is 0.3777197563098346\n",
      "The False Negative Rate observed is 0.057056003741377294\n",
      "**************************************************\n",
      "The stats observed for confusion matrix are:\n",
      "population: 60000\n",
      "P: 42765\n",
      "N: 17235\n",
      "PositiveTest: 46835\n",
      "NegativeTest: 13165\n",
      "TP: 40325\n",
      "TN: 10725\n",
      "FP: 6510\n",
      "FN: 2440\n",
      "TPR: 0.9429439962586227\n",
      "TNR: 0.6222802436901653\n",
      "PPV: 0.8610013878509661\n",
      "NPV: 0.8146600835548804\n",
      "FPR: 0.3777197563098346\n",
      "FDR: 0.13899861214903383\n",
      "FNR: 0.057056003741377294\n",
      "ACC: 0.8508333333333333\n",
      "F1_score: 0.9001116071428571\n",
      "MCC: 0.617980777725367\n",
      "informedness: 0.5652242399487881\n",
      "markedness: 0.6756614714058466\n",
      "prevalence: 0.71275\n",
      "LRP: 2.496411639864418\n",
      "LRN: 0.09168859901936016\n",
      "DOR: 27.22706712245977\n",
      "FOR: 0.18533991644511963\n",
      "\n",
      "\n",
      "**************************** Plotting Alpha, Error and number of non zero elements ****************************\n"
     ]
    },
    {
     "data": {
      "image/png": "[encoded data removed]",
      "text/plain": [
       "<matplotlib.figure.Figure at 0x7ff81ac024a8>"
      ]
     },
     "metadata": {
      "tags": []
     },
     "output_type": "display_data"
    },
    {
     "data": {
      "image/png": "[encoded data removed]",
      "text/plain": [
       "<matplotlib.figure.Figure at 0x7ff818d48c88>"
      ]
     },
     "metadata": {
      "tags": []
     },
     "output_type": "display_data"
    },
    {
     "name": "stdout",
     "output_type": "stream",
     "text": [
      "********************************************************************************\n",
      "The value of alpha is                   :  [0.0001, 0.001, 0.01, 0.1, 1, 10, 100, 1000]\n",
      "The train error for each alpha value is :  [0.237 0.238 0.235 0.216 0.151 0.157 0.271 0.263]\n",
      "The test error for each alpha value is :  [0.233 0.238 0.236 0.218 0.149 0.155 0.27  0.263]\n"
     ]
    }
   ],
   "source": [
    "optimala_gs(standardized_train, y_train, standardized_test, y_test, standardized_cv, y_cv)"
   ]
  },
  {
   "cell_type": "code",
   "execution_count": 10,
   "metadata": {
    "colab": {
     "base_uri": "https://localhost:8080/",
     "height": 1277
    },
    "colab_type": "code",
    "id": "Ru06DO-WNmG_",
    "outputId": "1df591bd-89ae-4d45-d5b8-33163f6274bd"
   },
   "outputs": [
    {
     "name": "stdout",
     "output_type": "stream",
     "text": [
      "The optimal Alpha value found using RandomizedSearchCV is 1\n",
      "\n",
      "The test accuracy of SVM for alpha = 1 is 85.058333%\n",
      "\n",
      "The test precision of SVM for alpha = 1 is 86.077192%\n",
      "\n",
      "The test recall of SVM for alpha = 1 is 94.287385%\n",
      "\n",
      "The test f1 score of SVM for alpha = 1 is 89.995425%\n",
      "**************************************************\n",
      "             precision    recall  f1-score   support\n",
      "\n",
      "   Negative       0.81      0.62      0.71     17235\n",
      "   Positive       0.86      0.94      0.90     42765\n",
      "\n",
      "avg / total       0.85      0.85      0.84     60000\n",
      "\n",
      "**************************************************\n",
      "[[10713  6522]\n",
      " [ 2443 40322]]\n"
     ]
    },
    {
     "data": {
      "image/png": "[encoded data removed]",
      "text/plain": [
       "<matplotlib.figure.Figure at 0x7ff815585358>"
      ]
     },
     "metadata": {
      "tags": []
     },
     "output_type": "display_data"
    },
    {
     "name": "stdout",
     "output_type": "stream",
     "text": [
      "**************************************************\n",
      "The True Positive Rate observed is 0.9428738454343505\n",
      "The True Negative Rate observed is 0.6215839860748477\n",
      "The False Positive Rate observed is 0.3784160139251523\n",
      "The False Negative Rate observed is 0.05712615456564948\n",
      "**************************************************\n",
      "The stats observed for confusion matrix are:\n",
      "population: 60000\n",
      "P: 42765\n",
      "N: 17235\n",
      "PositiveTest: 46844\n",
      "NegativeTest: 13156\n",
      "TP: 40322\n",
      "TN: 10713\n",
      "FP: 6522\n",
      "FN: 2443\n",
      "TPR: 0.9428738454343505\n",
      "TNR: 0.6215839860748477\n",
      "PPV: 0.8607719238322944\n",
      "NPV: 0.8143052599574339\n",
      "FPR: 0.3784160139251523\n",
      "FDR: 0.13922807616770558\n",
      "FNR: 0.05712615456564948\n",
      "ACC: 0.8505833333333334\n",
      "F1_score: 0.8999542456672879\n",
      "MCC: 0.6172945838603207\n",
      "informedness: 0.5644578315091981\n",
      "markedness: 0.6750771837897283\n",
      "prevalence: 0.71275\n",
      "LRP: 2.491633046007518\n",
      "LRN: 0.09190416073359178\n",
      "DOR: 27.11121048404073\n",
      "FOR: 0.18569474004256614\n"
     ]
    }
   ],
   "source": [
    "optimala_rs(standardized_train, y_train, standardized_test, y_test, 4)"
   ]
  },
  {
   "cell_type": "markdown",
   "metadata": {
    "colab_type": "text",
    "id": "c4GQJ4hrVXIr"
   },
   "source": [
    "# Word2Vec"
   ]
  },
  {
   "cell_type": "code",
   "execution_count": 5,
   "metadata": {
    "colab": {
     "base_uri": "https://localhost:8080/",
     "height": 34
    },
    "colab_type": "code",
    "id": "kGlVKc25Vb-E",
    "outputId": "ba9e7b7c-03f1-410f-ca17-95bce4cfa212"
   },
   "outputs": [
    {
     "name": "stdout",
     "output_type": "stream",
     "text": [
      "The shape of grouped data after time based splitting is (200000, 13)\n"
     ]
    }
   ],
   "source": [
    "import pandas as pd\n",
    "grouped_data = pd.read_csv(\"grouped_data_200.csv\")\n",
    "scores = grouped_data['Score']\n",
    "print(\"The shape of grouped data after time based splitting is {}\".format(grouped_data.shape))"
   ]
  },
  {
   "cell_type": "code",
   "execution_count": 0,
   "metadata": {
    "colab": {},
    "colab_type": "code",
    "id": "4qA8xhZQXCCB"
   },
   "outputs": [],
   "source": [
    "grouped_data.dropna(inplace = True) #Drops rows with Nan\n",
    "grouped_data.reset_index(inplace=True) #Replaces missing indexes\n",
    "grouped_data = grouped_data.sort_values('Time', axis=0, ascending=True, kind='quicksort')\n",
    "scores = grouped_data['Score']"
   ]
  },
  {
   "cell_type": "code",
   "execution_count": 0,
   "metadata": {
    "colab": {},
    "colab_type": "code",
    "id": "8BLCBgKQWl8V"
   },
   "outputs": [],
   "source": [
    "x_1, x_test, y_1, y_test = cross_validation.train_test_split(grouped_data, scores, test_size=0.3, random_state=0)\n",
    "x_train, x_cv, y_train, y_cv = cross_validation.train_test_split(x_1, y_1, test_size=0.3)"
   ]
  },
  {
   "cell_type": "code",
   "execution_count": 13,
   "metadata": {
    "colab": {
     "base_uri": "https://localhost:8080/",
     "height": 88
    },
    "colab_type": "code",
    "id": "RLYiTjpQWnSu",
    "outputId": "65d8a4b8-c8ff-4a28-a1e8-c05dc618d06c"
   },
   "outputs": [
    {
     "name": "stdout",
     "output_type": "stream",
     "text": [
      "use buy canada vacat havent back year couldnt find store thrill find stuff amaz simpli add fresh cream prepar whip cream whip remain stiff sever day particular handi put top anoth dessert wont serv next day one creat leftov whip cream usual fall flat get runni whipit youll love tad expens worth believ\n",
      "*****************************************************************\n",
      "['use', 'buy', 'canada', 'vacat', 'havent', 'back', 'year', 'couldnt', 'find', 'store', 'thrill', 'find', 'stuff', 'amaz', 'simpli', 'add', 'fresh', 'cream', 'prepar', 'whip', 'cream', 'whip', 'remain', 'stiff', 'sever', 'day', 'particular', 'handi', 'put', 'top', 'anoth', 'dessert', 'wont', 'serv', 'next', 'day', 'one', 'creat', 'leftov', 'whip', 'cream', 'usual', 'fall', 'flat', 'get', 'runni', 'whipit', 'youll', 'love', 'tad', 'expens', 'worth', 'believ']\n"
     ]
    }
   ],
   "source": [
    "list_of_sent=[]\n",
    "for sent in x_train['CleanedText'].values: #Splits sentences into words and stores it in a list\n",
    "    list_of_sent.append(sent.split())\n",
    "print(x_train['CleanedText'].values[9])\n",
    "print(\"*****************************************************************\")\n",
    "print(list_of_sent[9])"
   ]
  },
  {
   "cell_type": "code",
   "execution_count": 14,
   "metadata": {
    "colab": {
     "base_uri": "https://localhost:8080/",
     "height": 71
    },
    "colab_type": "code",
    "id": "Kst8rKhcXLBK",
    "outputId": "fb70201f-0f3d-4682-8383-4365fe58760e"
   },
   "outputs": [
    {
     "name": "stdout",
     "output_type": "stream",
     "text": [
      "number of words that occured minimum 5 times  12684\n",
      "sample words  ['lemon', 'lime', 'juic', 'search', 'idea', 'mani', 'includ', 'minc', 'garlic', 'ginger', 'etc', 'premad', 'teriyaki', 'sauc', 'liquid', 'penetr', 'half']\n"
     ]
    }
   ],
   "source": [
    "w2v_train=Word2Vec(list_of_sent,min_count=5,size=200, workers=4) #Initialises the Word2Vec model with words occuring more than 5 times.\n",
    "\n",
    "w2v_train_words = list(w2v_train.wv.vocab) #This gives a dictionary of words which tells about the uniqueness of a word among other things.\n",
    "print(\"number of words that occured minimum 5 times \",len(w2v_train_words))\n",
    "print(\"sample words \", w2v_train_words[298:315])"
   ]
  },
  {
   "cell_type": "code",
   "execution_count": 15,
   "metadata": {
    "colab": {
     "base_uri": "https://localhost:8080/",
     "height": 51
    },
    "colab_type": "code",
    "id": "j46WCTEAYec-",
    "outputId": "f8964b8c-aa1d-49a2-853f-0ebbf2e97c2e"
   },
   "outputs": [
    {
     "name": "stdout",
     "output_type": "stream",
     "text": [
      "59998\n",
      "200\n"
     ]
    }
   ],
   "source": [
    "sent_vectors = [];\n",
    "sent_list = []\n",
    "for sent in x_test['CleanedText'].values:\n",
    "    sent_list.append(sent.split())\n",
    "for sent in sent_list: # For a sentence in the previously created list of sentences\n",
    "    sent_vec = np.zeros(200) # As word vectors are of zero length, returns an array of size 50 filled with zeros\n",
    "    i = 0; # Number of words with a valid vector in the sentence/review\n",
    "    for word in sent: # For each word in a review/sentence\n",
    "        if word in w2v_train_words:\n",
    "            vec = w2v_train.wv[word] #Gets the corresponding vector for the word\n",
    "            sent_vec += vec\n",
    "            i += 1\n",
    "    if i != 0:\n",
    "        sent_vec /= i\n",
    "    sent_vectors.append(sent_vec)\n",
    "print(len(sent_vectors))\n",
    "print(len(sent_vectors[0]))"
   ]
  },
  {
   "cell_type": "code",
   "execution_count": 16,
   "metadata": {
    "colab": {
     "base_uri": "https://localhost:8080/",
     "height": 51
    },
    "colab_type": "code",
    "id": "t9sLBnLFYpc7",
    "outputId": "f336728c-bcf7-4393-d342-28df48e0b91c"
   },
   "outputs": [
    {
     "name": "stdout",
     "output_type": "stream",
     "text": [
      "97995\n",
      "200\n"
     ]
    }
   ],
   "source": [
    "sent_vectors_train = [];\n",
    "sent_list = []\n",
    "for sent in x_train['CleanedText'].values:\n",
    "    sent_list.append(sent.split())\n",
    "for sent in sent_list: # For a sentence in the previously created list of sentences\n",
    "    sent_vec = np.zeros(200) # As word vectors are of zero length, returns an array of size 50 filled with zeros\n",
    "    i = 0; # Number of words with a valid vector in the sentence/review\n",
    "    for word in sent: # For each word in a review/sentence\n",
    "        if word in w2v_train_words:\n",
    "            vec = w2v_train.wv[word] #Gets the corresponding vector for the word\n",
    "            sent_vec += vec\n",
    "            i += 1\n",
    "    if i != 0:\n",
    "        sent_vec /= i\n",
    "    sent_vectors_train.append(sent_vec)\n",
    "print(len(sent_vectors_train))\n",
    "print(len(sent_vectors_train[0]))"
   ]
  },
  {
   "cell_type": "code",
   "execution_count": 17,
   "metadata": {
    "colab": {
     "base_uri": "https://localhost:8080/",
     "height": 51
    },
    "colab_type": "code",
    "id": "s3FZG58mZElk",
    "outputId": "c70e9b3a-e0ed-44b2-ad25-e72f2528d255"
   },
   "outputs": [
    {
     "name": "stdout",
     "output_type": "stream",
     "text": [
      "41998\n",
      "200\n"
     ]
    }
   ],
   "source": [
    "sent_vectors_cv = [];\n",
    "sent_list = []\n",
    "for sent in x_cv['CleanedText'].values:\n",
    "    sent_list.append(sent.split())\n",
    "for sent in sent_list: # For a sentence in the previously created list of sentences\n",
    "    sent_vec = np.zeros(200) # As word vectors are of zero length, returns an array of size 50 filled with zeros\n",
    "    i = 0; # Number of words with a valid vector in the sentence/review\n",
    "    for word in sent: # For each word in a review/sentence\n",
    "        if word in w2v_train_words:\n",
    "            vec = w2v_train.wv[word] #Gets the corresponding vector for the word\n",
    "            sent_vec += vec\n",
    "            i += 1\n",
    "    if i != 0:\n",
    "        sent_vec /= i\n",
    "    sent_vectors_cv.append(sent_vec)\n",
    "print(len(sent_vectors_cv))\n",
    "print(len(sent_vectors_cv[0]))"
   ]
  },
  {
   "cell_type": "code",
   "execution_count": 18,
   "metadata": {
    "colab": {
     "base_uri": "https://localhost:8080/",
     "height": 102
    },
    "colab_type": "code",
    "id": "r6vHlbj2ZUyF",
    "outputId": "3beb3b7b-17a2-43b4-9c3f-cf73cadd8098"
   },
   "outputs": [
    {
     "name": "stdout",
     "output_type": "stream",
     "text": [
      "The type of standard_train is  <class 'numpy.ndarray'>\n",
      "The type of standard_test is  <class 'numpy.ndarray'>\n",
      "The shape of standard_train is  (97995, 200)\n",
      "The shape of standard_test is  (59998, 200)\n",
      "The shape of standard_cv is  (41998, 200)\n"
     ]
    }
   ],
   "source": [
    "import warnings\n",
    "warnings.filterwarnings(\"ignore\")\n",
    "from sklearn.preprocessing import StandardScaler\n",
    "std = StandardScaler(with_mean=False)\n",
    "std_vocab = std.fit(sent_vectors_train)\n",
    "standardized_train = std.transform(sent_vectors_train)\n",
    "standardized_test = std.transform(sent_vectors)\n",
    "standardized_cv = std.transform(sent_vectors_cv)\n",
    "print(\"The type of standard_train is \",type(standardized_train))\n",
    "print(\"The type of standard_test is \",type(standardized_test))\n",
    "print(\"The shape of standard_train is \",standardized_train.shape)\n",
    "print(\"The shape of standard_test is \",standardized_test.shape)\n",
    "print(\"The shape of standard_cv is \",standardized_cv.shape)"
   ]
  },
  {
   "cell_type": "code",
   "execution_count": 19,
   "metadata": {
    "colab": {
     "base_uri": "https://localhost:8080/",
     "height": 2131
    },
    "colab_type": "code",
    "id": "GUbw_vfLaOy3",
    "outputId": "52b49b13-79ee-4e77-f5d7-d9695494ff6e",
    "scrolled": false
   },
   "outputs": [
    {
     "name": "stdout",
     "output_type": "stream",
     "text": [
      "The optimal Alpha value found using GridSearchCV is 0.1\n",
      "The best CV value found is 3\n",
      "\n",
      "The test accuracy of SVM for alpha = 0 is 87.034568%\n",
      "\n",
      "The test precision of SVM for alpha = 0 is 88.791102%\n",
      "\n",
      "The test recall of SVM for alpha = 0 is 93.677678%\n",
      "\n",
      "The test f1 score of SVM for alpha = 0 is 91.168958%\n",
      "**************************************************\n",
      "             precision    recall  f1-score   support\n",
      "\n",
      "   Negative       0.82      0.70      0.76     17134\n",
      "   Positive       0.89      0.94      0.91     42864\n",
      "\n",
      "avg / total       0.87      0.87      0.87     59998\n",
      "\n",
      "**************************************************\n",
      "[[12065  5069]\n",
      " [ 2710 40154]]\n"
     ]
    },
    {
     "data": {
      "image/png": "[encoded data removed]",
      "text/plain": [
       "<matplotlib.figure.Figure at 0x7ff7fa305ba8>"
      ]
     },
     "metadata": {
      "tags": []
     },
     "output_type": "display_data"
    },
    {
     "name": "stdout",
     "output_type": "stream",
     "text": [
      "**************************************************\n",
      "The True Positive Rate observed is 0.9367767823814857\n",
      "The True Negative Rate observed is 0.7041554803315047\n",
      "The False Positive Rate observed is 0.2958445196684954\n",
      "The False Negative Rate observed is 0.06322321761851438\n",
      "**************************************************\n",
      "The stats observed for confusion matrix are:\n",
      "population: 59998\n",
      "P: 42864\n",
      "N: 17134\n",
      "PositiveTest: 45223\n",
      "NegativeTest: 14775\n",
      "TP: 40154\n",
      "TN: 12065\n",
      "FP: 5069\n",
      "FN: 2710\n",
      "TPR: 0.9367767823814857\n",
      "TNR: 0.7041554803315047\n",
      "PPV: 0.8879110187294076\n",
      "NPV: 0.8165820642978003\n",
      "FPR: 0.2958445196684954\n",
      "FDR: 0.1120889812705924\n",
      "FNR: 0.06322321761851438\n",
      "ACC: 0.870345678189273\n",
      "F1_score: 0.9116895796201483\n",
      "MCC: 0.6719615656942582\n",
      "informedness: 0.6409322627129903\n",
      "markedness: 0.704493083027208\n",
      "prevalence: 0.7144238141271376\n",
      "LRP: 3.1664496723859488\n",
      "LRN: 0.08978587738712186\n",
      "DOR: 35.26667850817391\n",
      "FOR: 0.18341793570219966\n",
      "\n",
      "\n",
      "**************************** Plotting Alpha, Error and number of non zero elements ****************************\n"
     ]
    },
    {
     "data": {
      "image/png": "[encoded data removed]",
      "text/plain": [
       "<matplotlib.figure.Figure at 0x7ff7fa2c3cc0>"
      ]
     },
     "metadata": {
      "tags": []
     },
     "output_type": "display_data"
    },
    {
     "data": {
      "image/png": "[encoded data removed]",
      "text/plain": [
       "<matplotlib.figure.Figure at 0x7ff7fa287518>"
      ]
     },
     "metadata": {
      "tags": []
     },
     "output_type": "display_data"
    },
    {
     "name": "stdout",
     "output_type": "stream",
     "text": [
      "********************************************************************************\n",
      "The value of alpha is                   :  [0.0001, 0.001, 0.01, 0.1, 1, 10, 100, 1000]\n",
      "The train error for each alpha value is :  [0.245 0.131 0.128 0.129 0.162 0.285 0.267 0.715]\n",
      "The test error for each alpha value is :  [0.243 0.131 0.128 0.13  0.164 0.286 0.269 0.714]\n"
     ]
    }
   ],
   "source": [
    "optimala_gs(standardized_train, y_train, standardized_test, y_test, standardized_cv, y_cv)"
   ]
  },
  {
   "cell_type": "code",
   "execution_count": 21,
   "metadata": {
    "colab": {
     "base_uri": "https://localhost:8080/",
     "height": 1277
    },
    "colab_type": "code",
    "id": "NIBLrbjuV8rF",
    "outputId": "40886404-650a-4727-892e-457b51b9b13c"
   },
   "outputs": [
    {
     "name": "stdout",
     "output_type": "stream",
     "text": [
      "The optimal Alpha value found using RandomizedSearchCV is 0.01\n",
      "\n",
      "The test accuracy of SVM for alpha = 0 is 87.399580%\n",
      "\n",
      "The test precision of SVM for alpha = 0 is 89.477569%\n",
      "\n",
      "The test recall of SVM for alpha = 0 is 93.339399%\n",
      "\n",
      "The test f1 score of SVM for alpha = 0 is 91.367695%\n",
      "**************************************************\n",
      "             precision    recall  f1-score   support\n",
      "\n",
      "   Negative       0.81      0.73      0.77     17134\n",
      "   Positive       0.89      0.93      0.91     42864\n",
      "\n",
      "avg / total       0.87      0.87      0.87     59998\n",
      "\n",
      "**************************************************\n",
      "[[12429  4705]\n",
      " [ 2855 40009]]\n"
     ]
    },
    {
     "data": {
      "image/png": "[encoded data removed]",
      "text/plain": [
       "<matplotlib.figure.Figure at 0x7ff7fa12b940>"
      ]
     },
     "metadata": {
      "tags": []
     },
     "output_type": "display_data"
    },
    {
     "name": "stdout",
     "output_type": "stream",
     "text": [
      "**************************************************\n",
      "The True Positive Rate observed is 0.9333939902948861\n",
      "The True Negative Rate observed is 0.7253997898914439\n",
      "The False Positive Rate observed is 0.27460021010855606\n",
      "The False Negative Rate observed is 0.06660600970511385\n",
      "**************************************************\n",
      "The stats observed for confusion matrix are:\n",
      "population: 59998\n",
      "P: 42864\n",
      "N: 17134\n",
      "PositiveTest: 44714\n",
      "NegativeTest: 15284\n",
      "TP: 40009\n",
      "TN: 12429\n",
      "FP: 4705\n",
      "FN: 2855\n",
      "TPR: 0.9333939902948861\n",
      "TNR: 0.7253997898914439\n",
      "PPV: 0.8947756854676387\n",
      "NPV: 0.8132033499084009\n",
      "FPR: 0.27460021010855606\n",
      "FDR: 0.10522431453236122\n",
      "FNR: 0.06660600970511385\n",
      "ACC: 0.8739957998599953\n",
      "F1_score: 0.9136769508324009\n",
      "MCC: 0.6829437641622133\n",
      "informedness: 0.65879378018633\n",
      "markedness: 0.7079790353760398\n",
      "prevalence: 0.7144238141271376\n",
      "LRP: 3.399101515348051\n",
      "LRN: 0.09181972566476955\n",
      "DOR: 37.019295045141455\n",
      "FOR: 0.18679665009159907\n"
     ]
    }
   ],
   "source": [
    "optimala_rs(standardized_train, y_train, standardized_test, y_test, 3)"
   ]
  },
  {
   "cell_type": "markdown",
   "metadata": {
    "colab_type": "text",
    "id": "54m8cZ7F9Mda"
   },
   "source": [
    "# TFIDF Word2Vec"
   ]
  },
  {
   "cell_type": "code",
   "execution_count": 3,
   "metadata": {
    "colab": {
     "base_uri": "https://localhost:8080/",
     "height": 34
    },
    "colab_type": "code",
    "id": "YwSClnlAWLU4",
    "outputId": "7c04270c-8718-464b-d770-8bec3b5500d3"
   },
   "outputs": [
    {
     "name": "stdout",
     "output_type": "stream",
     "text": [
      "The shape of grouped data after time based splitting is (10000, 12)\n"
     ]
    }
   ],
   "source": [
    "import pandas as pd\n",
    "grouped_data = pd.read_csv(\"grouped_data_200.csv\")\n",
    "scores = grouped_data['Score']\n",
    "print(\"The shape of grouped data after time based splitting is {}\".format(grouped_data.shape))"
   ]
  },
  {
   "cell_type": "markdown",
   "metadata": {
    "colab_type": "text",
    "id": "CLXcBj0HWLVY"
   },
   "source": [
    "Observations:\n",
    "Import a csv file containing 20000 data points and form a new dataframe with 10000 data points containing 6000 positive and 4000 negative points. Time based splitting is performed upon."
   ]
  },
  {
   "cell_type": "code",
   "execution_count": 0,
   "metadata": {
    "colab": {},
    "colab_type": "code",
    "id": "Z4byBqyG_1WY"
   },
   "outputs": [],
   "source": [
    "grouped_data.dropna(inplace = True) #Drops rows with Nan\n",
    "grouped_data.reset_index(inplace=True) #Replaces missing indexes\n",
    "grouped_data = grouped_data.sort_values('Time', axis=0, ascending=True, kind='quicksort')\n",
    "scores = grouped_data['Score']"
   ]
  },
  {
   "cell_type": "code",
   "execution_count": 0,
   "metadata": {
    "colab": {},
    "colab_type": "code",
    "id": "_zC6Ogt8WLVZ"
   },
   "outputs": [],
   "source": [
    "x_1, x_test, y_1, y_test = cross_validation.train_test_split(grouped_data, scores, test_size=0.3, random_state=0)\n",
    "x_train, x_cv, y_train, y_cv = cross_validation.train_test_split(x_1, y_1, test_size=0.3)"
   ]
  },
  {
   "cell_type": "markdown",
   "metadata": {
    "colab_type": "text",
    "id": "Nmq8rqV1WLVk"
   },
   "source": [
    "Observations: Data is split into train, test and cross validate."
   ]
  },
  {
   "cell_type": "code",
   "execution_count": 22,
   "metadata": {
    "colab": {
     "base_uri": "https://localhost:8080/",
     "height": 88
    },
    "colab_type": "code",
    "id": "CZZlqrqKWLVl",
    "outputId": "962324b6-f9ce-478d-d414-29fba4dbd2b0"
   },
   "outputs": [
    {
     "name": "stdout",
     "output_type": "stream",
     "text": [
      "use buy canada vacat havent back year couldnt find store thrill find stuff amaz simpli add fresh cream prepar whip cream whip remain stiff sever day particular handi put top anoth dessert wont serv next day one creat leftov whip cream usual fall flat get runni whipit youll love tad expens worth believ\n",
      "*****************************************************************\n",
      "['use', 'buy', 'canada', 'vacat', 'havent', 'back', 'year', 'couldnt', 'find', 'store', 'thrill', 'find', 'stuff', 'amaz', 'simpli', 'add', 'fresh', 'cream', 'prepar', 'whip', 'cream', 'whip', 'remain', 'stiff', 'sever', 'day', 'particular', 'handi', 'put', 'top', 'anoth', 'dessert', 'wont', 'serv', 'next', 'day', 'one', 'creat', 'leftov', 'whip', 'cream', 'usual', 'fall', 'flat', 'get', 'runni', 'whipit', 'youll', 'love', 'tad', 'expens', 'worth', 'believ']\n"
     ]
    }
   ],
   "source": [
    "list_of_sent=[]\n",
    "for sent in x_train['CleanedText'].values: #Splits sentences into words and stores it in a list\n",
    "    list_of_sent.append(sent.split())\n",
    "print(x_train['CleanedText'].values[9])\n",
    "print(\"*****************************************************************\")\n",
    "print(list_of_sent[9])"
   ]
  },
  {
   "cell_type": "markdown",
   "metadata": {
    "colab_type": "text",
    "id": "eQ0vRsL4WLVo"
   },
   "source": [
    "Observations:\n",
    "Prints the corresponding split words in a given review."
   ]
  },
  {
   "cell_type": "code",
   "execution_count": 23,
   "metadata": {
    "colab": {
     "base_uri": "https://localhost:8080/",
     "height": 71
    },
    "colab_type": "code",
    "id": "ThUdgrxEWLVq",
    "outputId": "143a1458-6812-411a-ac09-42e8d442978b"
   },
   "outputs": [
    {
     "name": "stdout",
     "output_type": "stream",
     "text": [
      "number of words that occured minimum 5 times  12684\n",
      "sample words  ['lemon', 'lime', 'juic', 'search', 'idea', 'mani', 'includ', 'minc', 'garlic', 'ginger', 'etc', 'premad', 'teriyaki', 'sauc', 'liquid', 'penetr', 'half']\n"
     ]
    }
   ],
   "source": [
    "w2v_train=Word2Vec(list_of_sent,min_count=5,size=200, workers=4) #Initialises the Word2Vec model with words occuring more than 5 times.\n",
    "\n",
    "w2v_train_words = list(w2v_train.wv.vocab) #This gives a dictionary of words which tells about the uniqueness of a word among other things.\n",
    "print(\"number of words that occured minimum 5 times \",len(w2v_train_words))\n",
    "print(\"sample words \", w2v_train_words[298:315])"
   ]
  },
  {
   "cell_type": "markdown",
   "metadata": {
    "colab_type": "text",
    "id": "2suJDeZnWLVu"
   },
   "source": [
    "Observations:\n",
    "Word2Vec model is built. We can see the number of times a word occured minimum 5 times."
   ]
  },
  {
   "cell_type": "code",
   "execution_count": 0,
   "metadata": {
    "colab": {},
    "colab_type": "code",
    "id": "72aYAM9QWLVw"
   },
   "outputs": [],
   "source": [
    "tf_idf_vect = TfidfVectorizer(ngram_range=(1,2))\n",
    "vocab_tf_idf = tf_idf_vect.fit(x_train['CleanedText'].values) #Converts to a sparse matrix of TF-IDF vectors.\n",
    "train_tf_idf = tf_idf_vect.transform(x_train['CleanedText'].values)\n",
    "test_tf_idf = tf_idf_vect.transform(x_test['CleanedText'].values)\n",
    "cv_tf_idf = tf_idf_vect.transform(x_cv['CleanedText'].values)\n",
    "tfidf_feat = tf_idf_vect.get_feature_names()\n",
    "dictionary = dict(zip(tfidf_feat, list(tf_idf_vect.idf_)))"
   ]
  },
  {
   "cell_type": "markdown",
   "metadata": {
    "colab_type": "text",
    "id": "jAB1-SVyWLVz"
   },
   "source": [
    "Observations:\n",
    "We build the vocabulary of TF-IDF on train data and obtain the vectors of train and test data."
   ]
  },
  {
   "cell_type": "code",
   "execution_count": 25,
   "metadata": {
    "colab": {
     "base_uri": "https://localhost:8080/",
     "height": 51
    },
    "colab_type": "code",
    "id": "uItaLf4qWLV0",
    "outputId": "11d9e3f8-7cc2-4e0b-8503-df695c20744a"
   },
   "outputs": [
    {
     "name": "stdout",
     "output_type": "stream",
     "text": [
      "97995\n",
      "200\n"
     ]
    }
   ],
   "source": [
    "sent_vectors_train = []; # the tfidf-w2v for each sentence/review is stored in this list\n",
    "row=0;\n",
    "sent_list = []\n",
    "for sent in x_train['CleanedText'].values:\n",
    "    sent_list.append(sent.split())\n",
    "for sent in sent_list: # for each review/sentence \n",
    "    sent_vec = np.zeros(200) # as word vectors are of zero length\n",
    "    weight_sum =0; # num of words with a valid vector in the sentence/review\n",
    "    for word in sent: # for each word in a review/sentence\n",
    "        if word in w2v_train_words:\n",
    "            try:\n",
    "                vec = w2v_train.wv[word] # obtain the tf_idfidf of a word in a sentence/review\n",
    "                tf_idf = tf_idf = dictionary[word]*sent.count(word)\n",
    "                sent_vec += (vec * tf_idf)\n",
    "                weight_sum += tf_idf\n",
    "            except:\n",
    "                pass\n",
    "    if weight_sum != 0:\n",
    "        sent_vec /= weight_sum\n",
    "    sent_vectors_train.append(sent_vec)\n",
    "    row += 1\n",
    "print(len(sent_vectors_train))\n",
    "print(len(sent_vectors_train[0]))"
   ]
  },
  {
   "cell_type": "markdown",
   "metadata": {
    "colab_type": "text",
    "id": "twW_V8FsWLV4"
   },
   "source": [
    "Observations:\n",
    "The vector form of train data is obtained."
   ]
  },
  {
   "cell_type": "code",
   "execution_count": 26,
   "metadata": {
    "colab": {
     "base_uri": "https://localhost:8080/",
     "height": 51
    },
    "colab_type": "code",
    "id": "aVoKBYvHWLV5",
    "outputId": "bfb1da8c-d4b2-4014-ff84-b843e964ae48"
   },
   "outputs": [
    {
     "name": "stdout",
     "output_type": "stream",
     "text": [
      "59998\n",
      "200\n"
     ]
    }
   ],
   "source": [
    "sent_vectors_test = [];\n",
    "row=0\n",
    "sent_list = []\n",
    "for sent in x_test['CleanedText'].values:\n",
    "    sent_list.append(sent.split())\n",
    "for sent in sent_list: # For a sentence in the previously created list of sentences\n",
    "    sent_vec = np.zeros(200) # As word vectors are of zero length, returns an array of size 50 filled with zeros\n",
    "    i = 0; # Number of words with a valid vector in the sentence/review\n",
    "    for word in sent: # For each word in a review/sentence\n",
    "        if word in w2v_train_words:\n",
    "            try:\n",
    "                vec = w2v_train.wv[word] #Gets the corresponding vector for the word\n",
    "                tf_idf = tf_idf = dictionary[word]*sent.count(word)\n",
    "                sent_vec += (vec * tf_idf)\n",
    "                i += tf_idf\n",
    "            except:\n",
    "                pass\n",
    "    if i != 0:\n",
    "        sent_vec /= i\n",
    "    sent_vectors_test.append(sent_vec)\n",
    "    row+=1\n",
    "print(len(sent_vectors_test))\n",
    "print(len(sent_vectors_test[0]))"
   ]
  },
  {
   "cell_type": "code",
   "execution_count": 27,
   "metadata": {
    "colab": {
     "base_uri": "https://localhost:8080/",
     "height": 51
    },
    "colab_type": "code",
    "id": "jCNUOJelA8hW",
    "outputId": "db0e0a87-5739-4edd-a275-00d2212c6374"
   },
   "outputs": [
    {
     "name": "stdout",
     "output_type": "stream",
     "text": [
      "41998\n",
      "200\n"
     ]
    }
   ],
   "source": [
    "sent_vectors_cv = [];\n",
    "row=0\n",
    "sent_list = []\n",
    "for sent in x_cv['CleanedText'].values:\n",
    "    sent_list.append(sent.split())\n",
    "for sent in sent_list: # For a sentence in the previously created list of sentences\n",
    "    sent_vec = np.zeros(200) # As word vectors are of zero length, returns an array of size 50 filled with zeros\n",
    "    i = 0; # Number of words with a valid vector in the sentence/review\n",
    "    for word in sent: # For each word in a review/sentence\n",
    "        if word in w2v_train_words:\n",
    "            try:\n",
    "                vec = w2v_train.wv[word] #Gets the corresponding vector for the word\n",
    "                tf_idf = tf_idf = dictionary[word]*sent.count(word)\n",
    "                sent_vec += (vec * tf_idf)\n",
    "                i += tf_idf\n",
    "            except:\n",
    "                pass\n",
    "    if i != 0:\n",
    "        sent_vec /= i\n",
    "    sent_vectors_cv.append(sent_vec)\n",
    "    row+=1\n",
    "print(len(sent_vectors_cv))\n",
    "print(len(sent_vectors_cv[0]))"
   ]
  },
  {
   "cell_type": "markdown",
   "metadata": {
    "colab_type": "text",
    "id": "buINskx8WLWL"
   },
   "source": [
    "Observations:\n",
    "The vector form of test data is obtained."
   ]
  },
  {
   "cell_type": "code",
   "execution_count": 28,
   "metadata": {
    "colab": {
     "base_uri": "https://localhost:8080/",
     "height": 102
    },
    "colab_type": "code",
    "id": "3-6xoF-eWLWM",
    "outputId": "34b3d7c1-1b53-4440-92d1-0bd78e910c57"
   },
   "outputs": [
    {
     "name": "stdout",
     "output_type": "stream",
     "text": [
      "The type of standard_train is  <class 'numpy.ndarray'>\n",
      "The type of standard_test is  <class 'numpy.ndarray'>\n",
      "The shape of standard_train is  (97995, 200)\n",
      "The shape of standard_test is  (59998, 200)\n",
      "The shape of standard_cv is  (41998, 200)\n"
     ]
    }
   ],
   "source": [
    "import warnings\n",
    "warnings.filterwarnings(\"ignore\")\n",
    "from sklearn.preprocessing import StandardScaler\n",
    "std = StandardScaler(with_mean=False)\n",
    "std_vocab = std.fit(sent_vectors_train)\n",
    "standardized_train = std.transform(sent_vectors_train)\n",
    "standardized_test = std.transform(sent_vectors_test)\n",
    "standardized_cv = std.transform(sent_vectors_cv)\n",
    "print(\"The type of standard_train is \",type(standardized_train))\n",
    "print(\"The type of standard_test is \",type(standardized_test))\n",
    "print(\"The shape of standard_train is \",standardized_train.shape)\n",
    "print(\"The shape of standard_test is \",standardized_test.shape)\n",
    "print(\"The shape of standard_cv is \",standardized_cv.shape)"
   ]
  },
  {
   "cell_type": "markdown",
   "metadata": {
    "colab_type": "text",
    "id": "DxhS6vF6WLWP"
   },
   "source": [
    "Observations: Data is standardized."
   ]
  },
  {
   "cell_type": "code",
   "execution_count": 31,
   "metadata": {
    "colab": {
     "base_uri": "https://localhost:8080/",
     "height": 2131
    },
    "colab_type": "code",
    "id": "tJLPyJHSB88R",
    "outputId": "f1fabb2e-c4d3-4da0-eba1-e3e9e6a25f9e",
    "scrolled": false
   },
   "outputs": [
    {
     "name": "stdout",
     "output_type": "stream",
     "text": [
      "The optimal Alpha value found using GridSearchCV is 0.01\n",
      "The best CV value found is 2\n",
      "\n",
      "The test accuracy of SVM for alpha = 0 is 85.086170%\n",
      "\n",
      "The test precision of SVM for alpha = 0 is 87.182073%\n",
      "\n",
      "The test recall of SVM for alpha = 0 is 92.763158%\n",
      "\n",
      "The test f1 score of SVM for alpha = 0 is 89.886066%\n",
      "**************************************************\n",
      "             precision    recall  f1-score   support\n",
      "\n",
      "   Negative       0.78      0.66      0.72     17134\n",
      "   Positive       0.87      0.93      0.90     42864\n",
      "\n",
      "avg / total       0.85      0.85      0.85     59998\n",
      "\n",
      "**************************************************\n",
      "[[11288  5846]\n",
      " [ 3102 39762]]\n"
     ]
    },
    {
     "data": {
      "image/png": "[encoded data removed]",
      "text/plain": [
       "<matplotlib.figure.Figure at 0x7ff8123fa780>"
      ]
     },
     "metadata": {
      "tags": []
     },
     "output_type": "display_data"
    },
    {
     "name": "stdout",
     "output_type": "stream",
     "text": [
      "**************************************************\n",
      "The True Positive Rate observed is 0.9276315789473685\n",
      "The True Negative Rate observed is 0.6588070503093265\n",
      "The False Positive Rate observed is 0.34119294969067354\n",
      "The False Negative Rate observed is 0.07236842105263158\n",
      "**************************************************\n",
      "The stats observed for confusion matrix are:\n",
      "population: 59998\n",
      "P: 42864\n",
      "N: 17134\n",
      "PositiveTest: 45608\n",
      "NegativeTest: 14390\n",
      "TP: 39762\n",
      "TN: 11288\n",
      "FP: 5846\n",
      "FN: 3102\n",
      "TPR: 0.9276315789473685\n",
      "TNR: 0.6588070503093265\n",
      "PPV: 0.8718207332047009\n",
      "NPV: 0.7844336344683808\n",
      "FPR: 0.34119294969067354\n",
      "FDR: 0.12817926679529906\n",
      "FNR: 0.07236842105263158\n",
      "ACC: 0.8508616953898464\n",
      "F1_score: 0.898860656478886\n",
      "MCC: 0.6203651439450166\n",
      "informedness: 0.586438629256695\n",
      "markedness: 0.6562543676730817\n",
      "prevalence: 0.7144238141271376\n",
      "LRP: 2.718788825467706\n",
      "LRN: 0.10984767242343989\n",
      "DOR: 24.75053649737194\n",
      "FOR: 0.21556636553161918\n",
      "\n",
      "\n",
      "**************************** Plotting Alpha, Error and number of non zero elements ****************************\n"
     ]
    },
    {
     "data": {
      "image/png": "[encoded data removed]",
      "text/plain": [
       "<matplotlib.figure.Figure at 0x7ff7fa2049e8>"
      ]
     },
     "metadata": {
      "tags": []
     },
     "output_type": "display_data"
    },
    {
     "data": {
      "image/png": "[encoded data removed]",
      "text/plain": [
       "<matplotlib.figure.Figure at 0x7ff7fa2272e8>"
      ]
     },
     "metadata": {
      "tags": []
     },
     "output_type": "display_data"
    },
    {
     "name": "stdout",
     "output_type": "stream",
     "text": [
      "********************************************************************************\n",
      "The value of alpha is                   :  [0.0001, 0.001, 0.01, 0.1, 1, 10, 100, 1000]\n",
      "The train error for each alpha value is :  [0.204 0.166 0.144 0.156 0.189 0.285 0.587 0.285]\n",
      "The test error for each alpha value is :  [0.206 0.168 0.148 0.158 0.189 0.286 0.585 0.286]\n"
     ]
    }
   ],
   "source": [
    "optimala_gs(standardized_train, y_train, standardized_test, y_test, standardized_cv, y_cv)"
   ]
  },
  {
   "cell_type": "code",
   "execution_count": 32,
   "metadata": {
    "colab": {
     "base_uri": "https://localhost:8080/",
     "height": 1277
    },
    "colab_type": "code",
    "id": "Cl9u9KAVms4I",
    "outputId": "ad4f64ae-dfc8-4791-aafa-eef5bf92a6a0"
   },
   "outputs": [
    {
     "name": "stdout",
     "output_type": "stream",
     "text": [
      "The optimal Alpha value found using RandomizedSearchCV is 0.01\n",
      "\n",
      "The test accuracy of SVM for alpha = 0 is 84.941165%\n",
      "\n",
      "The test precision of SVM for alpha = 0 is 86.639229%\n",
      "\n",
      "The test recall of SVM for alpha = 0 is 93.311404%\n",
      "\n",
      "The test f1 score of SVM for alpha = 0 is 89.851621%\n",
      "**************************************************\n",
      "             precision    recall  f1-score   support\n",
      "\n",
      "   Negative       0.79      0.64      0.71     17134\n",
      "   Positive       0.87      0.93      0.90     42864\n",
      "\n",
      "avg / total       0.85      0.85      0.84     59998\n",
      "\n",
      "**************************************************\n",
      "[[10966  6168]\n",
      " [ 2867 39997]]\n"
     ]
    },
    {
     "data": {
      "image/png": "[encoded data removed]",
      "text/plain": [
       "<matplotlib.figure.Figure at 0x7ff811e98588>"
      ]
     },
     "metadata": {
      "tags": []
     },
     "output_type": "display_data"
    },
    {
     "name": "stdout",
     "output_type": "stream",
     "text": [
      "**************************************************\n",
      "The True Positive Rate observed is 0.9331140350877193\n",
      "The True Negative Rate observed is 0.6400140072370725\n",
      "The False Positive Rate observed is 0.35998599276292753\n",
      "The False Negative Rate observed is 0.0668859649122807\n",
      "**************************************************\n",
      "The stats observed for confusion matrix are:\n",
      "population: 59998\n",
      "P: 42864\n",
      "N: 17134\n",
      "PositiveTest: 46165\n",
      "NegativeTest: 13833\n",
      "TP: 39997\n",
      "TN: 10966\n",
      "FP: 6168\n",
      "FN: 2867\n",
      "TPR: 0.9331140350877193\n",
      "TNR: 0.6400140072370725\n",
      "PPV: 0.8663922885302718\n",
      "NPV: 0.7927419937829827\n",
      "FPR: 0.35998599276292753\n",
      "FDR: 0.13360771146972814\n",
      "FNR: 0.0668859649122807\n",
      "ACC: 0.8494116470549018\n",
      "F1_score: 0.8985162138179694\n",
      "MCC: 0.6146286202670294\n",
      "informedness: 0.5731280423247918\n",
      "markedness: 0.6591342823132544\n",
      "prevalence: 0.7144238141271376\n",
      "LRP: 2.5920842861856324\n",
      "LRN: 0.1045070329023361\n",
      "DOR: 24.80296506559503\n",
      "FOR: 0.2072580062170173\n"
     ]
    }
   ],
   "source": [
    "optimala_rs(standardized_train, y_train, standardized_test, y_test, 2)"
   ]
  },
  {
   "cell_type": "markdown",
   "metadata": {
    "colab_type": "text",
    "id": "2MAKybTmaAS9"
   },
   "source": [
    "# Conclusion"
   ]
  },
  {
   "cell_type": "code",
   "execution_count": 7,
   "metadata": {
    "colab": {},
    "colab_type": "code",
    "id": "HcO1ivTlaATA"
   },
   "outputs": [
    {
     "name": "stdout",
     "output_type": "stream",
     "text": [
      "+----------------+--------------------+-----------------+---------------+-----------+--------+----------+\n",
      "|     Model      |  Parameter Search  | Hyper Parameter | Test Accuracy | Precision | Recall | F1 Score |\n",
      "+----------------+--------------------+-----------------+---------------+-----------+--------+----------+\n",
      "|  Bag of Words  |    GridSearchCV    |    alpha = 1    |     87.07%    |   86.76%  | 96.59% |  91.42%  |\n",
      "|                | RandomizedSearchCV |   alpha = 0.1   |     87.75%    |   89.93%  | 93.26% |  91.56%  |\n",
      "|                |                    |                 |               |           |        |          |\n",
      "|     TFIDF      |    GridSearchCV    |    alpha = 1    |     85.08%    |   86.10%  | 94.29% |  90.01%  |\n",
      "|                | RandomizedSearchCV |    alpha = 1    |     85.05%    |   86.07%  | 94.28% |  89.99%  |\n",
      "|                |                    |                 |               |           |        |          |\n",
      "|  Avg Word2vec  |    GridSearchCV    |   alpha = 0.1   |     87.03%    |   88.79%  | 93.67% |  91.16%  |\n",
      "|                | RandomizedSearchCV |   alpha = 0.01  |     87.39%    |   89.47%  | 93.33% |  91.36%  |\n",
      "|                |                    |                 |               |           |        |          |\n",
      "| TFIDF Word2vec |    GridSearchCV    |   alpha = 0.01  |     85.08%    |   87.18%  | 92.76% |  89.88%  |\n",
      "|                | RandomizedSearchCV |   alpha = 0.01  |     84.94%    |   86.63%  | 93.31% |  89.85%  |\n",
      "|                |                    |                 |               |           |        |          |\n",
      "+----------------+--------------------+-----------------+---------------+-----------+--------+----------+\n",
      "************************************************************************************************************************\n",
      "+--------------------------------------------------+--------------------------------------------------+\n",
      "| Words with higer importance for positive reviews | Words with higer importance for negative reviews |\n",
      "+--------------------------------------------------+--------------------------------------------------+\n",
      "|                      great                       |                    dissapoint                    |\n",
      "|                                                  |                                                  |\n",
      "|                       love                       |                      worst                       |\n",
      "|                                                  |                                                  |\n",
      "|                       best                       |                     terribl                      |\n",
      "|                                                  |                                                  |\n",
      "|                       good                       |                     unfortun                     |\n",
      "|                                                  |                                                  |\n",
      "|                     perfect                      |                      return                      |\n",
      "|                                                  |                                                  |\n",
      "|                      delci                       |                        aw                        |\n",
      "|                                                  |                                                  |\n",
      "|                      excel                       |                     horribl                      |\n",
      "+--------------------------------------------------+--------------------------------------------------+\n"
     ]
    }
   ],
   "source": [
    "x = PrettyTable()\n",
    "x.field_names = [\"Model\",\"Parameter Search\",\"Hyper Parameter\", \"Test Accuracy\",\"Precision\",\"Recall\",\"F1 Score\"]\n",
    "x.add_row([\"Bag of Words\",\"GridSearchCV\",\"alpha = 1\",\"87.07%\", \"86.76%\", \"96.59%\", \"91.42%\"])\n",
    "x.add_row([\"\",\"RandomizedSearchCV\",\"alpha = 0.1\",\"87.75%\", \"89.93%\", \"93.26%\", \"91.56%\"])\n",
    "x.add_row([\"\",\"\",\"\",\"\",\"\",\"\",\"\"])\n",
    "x.add_row([\"TFIDF\",\"GridSearchCV\",\"alpha = 1\",\"85.08%\", \"86.10%\", \"94.29%\", \"90.01%\"])\n",
    "x.add_row([\"\",\"RandomizedSearchCV\",\"alpha = 1\",\"85.05%\", \"86.07%\", \"94.28%\", \"89.99%\"])\n",
    "x.add_row([\"\",\"\",\"\",\"\",\"\",\"\",\"\"])\n",
    "x.add_row([\"Avg Word2vec\",\"GridSearchCV\",\"alpha = 0.1\",\"87.03%\", \"88.79%\", \"93.67%\", \"91.16%\"])\n",
    "x.add_row([\"\",\"RandomizedSearchCV\",\"alpha = 0.01\",\"87.39%\", \"89.47%\", \"93.33%\", \"91.36%\"])\n",
    "x.add_row([\"\",\"\",\"\",\"\",\"\",\"\",\"\"])\n",
    "x.add_row([\"TFIDF Word2vec\",\"GridSearchCV\",\"alpha = 0.01\",\"85.08%\", \"87.18%\", \"92.76%\", \"89.88%\"])\n",
    "x.add_row([\"\",\"RandomizedSearchCV\",\"alpha = 0.01\",\"84.94%\", \"86.63%\", \"93.31%\", \"89.85%\"])\n",
    "x.add_row([\"\",\"\",\"\",\"\",\"\",\"\",\"\"])\n",
    "\n",
    "print(x.get_string())\n",
    "print('*'*120)\n",
    "\n",
    "z = PrettyTable()\n",
    "z.field_names = [\"Words with higer importance for positive reviews\",\"Words with higer importance for negative reviews\"]\n",
    "z.add_row([\"great\",\"dissapoint\"])\n",
    "z.add_row([\"\",\"\"])\n",
    "z.add_row([\"love\",\"worst\"])\n",
    "z.add_row([\"\",\"\"])\n",
    "z.add_row([\"best\",\"terribl\"])\n",
    "z.add_row([\"\",\"\"])\n",
    "z.add_row([\"good\",\"unfortun\"])\n",
    "z.add_row([\"\",\"\"])\n",
    "z.add_row([\"perfect\",\"return\"])\n",
    "z.add_row([\"\",\"\"])\n",
    "z.add_row([\"delci\",\"aw\"])\n",
    "z.add_row([\"\",\"\"])\n",
    "z.add_row([\"excel\",\"horribl\"])\n",
    "print(z.get_string())"
   ]
  }
 ],
 "metadata": {
  "accelerator": "GPU",
  "colab": {
   "collapsed_sections": [],
   "name": "SVM on Amazon food reviews.ipynb",
   "provenance": [],
   "version": "0.3.2"
  },
  "kernelspec": {
   "display_name": "Python 3",
   "language": "python",
   "name": "python3"
  },
  "language_info": {
   "codemirror_mode": {
    "name": "ipython",
    "version": 3
   },
   "file_extension": ".py",
   "mimetype": "text/x-python",
   "name": "python",
   "nbconvert_exporter": "python",
   "pygments_lexer": "ipython3",
   "version": "3.6.5"
  }
 },
 "nbformat": 4,
 "nbformat_minor": 1
}
