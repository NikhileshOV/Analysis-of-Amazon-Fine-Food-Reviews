{
 "cells": [
  {
   "cell_type": "code",
   "execution_count": 40,
   "metadata": {
    "colab": {},
    "colab_type": "code",
    "id": "7kCz3GwpLaH5"
   },
   "outputs": [],
   "source": [
    "import warnings\n",
    "warnings.filterwarnings(\"ignore\")\n",
    "\n",
    "import sqlite3\n",
    "import numpy as np\n",
    "import pandas as pd\n",
    "import matplotlib.pyplot as plt\n",
    "import nltk\n",
    "import string\n",
    "import seaborn as sns\n",
    "from sklearn.feature_extraction.text import TfidfTransformer\n",
    "from sklearn.feature_extraction.text import TfidfVectorizer\n",
    "\n",
    "from sklearn.feature_extraction.text import CountVectorizer\n",
    "from sklearn.metrics import confusion_matrix\n",
    "from sklearn import metrics\n",
    "from sklearn.metrics import roc_curve, auc\n",
    "from nltk.stem.porter import PorterStemmer\n",
    "from sklearn.decomposition import TruncatedSVD\n",
    "\n",
    "import re\n",
    "from nltk.corpus import stopwords\n",
    "from nltk.stem import PorterStemmer\n",
    "from nltk.stem.wordnet import WordNetLemmatizer\n",
    "\n",
    "from gensim.models import Word2Vec\n",
    "from gensim.models import KeyedVectors\n",
    "import pickle\n",
    "\n",
    "from sklearn.cross_validation import train_test_split\n",
    "from sklearn.metrics import accuracy_score\n",
    "from sklearn.metrics import classification_report\n",
    "from sklearn.cross_validation import cross_val_score\n",
    "from collections import Counter\n",
    "from sklearn.metrics import accuracy_score\n",
    "from sklearn import cross_validation\n",
    "from prettytable import PrettyTable\n",
    "from sklearn.naive_bayes import BernoulliNB,GaussianNB,MultinomialNB"
   ]
  },
  {
   "cell_type": "markdown",
   "metadata": {},
   "source": [
    "# Import Data"
   ]
  },
  {
   "cell_type": "code",
   "execution_count": 0,
   "metadata": {
    "colab": {},
    "colab_type": "code",
    "id": "VCYK5rf3aAMl",
    "outputId": "ef24635d-30b9-4db4-878f-cd597f504169"
   },
   "outputs": [
    {
     "name": "stdout",
     "output_type": "stream",
     "text": [
      "The shape of grouped data is (200000, 11)\n"
     ]
    }
   ],
   "source": [
    "import pandas as pd\n",
    "final = pd.read_csv(\"final.csv\")\n",
    "p = final.groupby('Score')\n",
    "pos = p.get_group('Positive') #Gets the groups with Positive score\n",
    "neg = p.get_group('Negative') #Gets the groups with Negative score\n",
    "pos_2000 = pos.sample(142897) #Gets 1000 reviews of positive and negative scores\n",
    "neg_2000 = neg.sample(57103)\n",
    "grouped_data = pd.concat([pos_2000, neg_2000], ignore_index = True) #This data now contains positive and negative data in order.\n",
    "print(\"The shape of grouped data is {}\".format(grouped_data.shape))"
   ]
  },
  {
   "cell_type": "markdown",
   "metadata": {
    "colab_type": "text",
    "id": "XyQc9vqWaAMw"
   },
   "source": [
    "Observations:\n",
    "We choose 142897 positive and 57103 negative reviews from the final dataframe obtained after data cleaning process."
   ]
  },
  {
   "cell_type": "code",
   "execution_count": 0,
   "metadata": {
    "colab": {},
    "colab_type": "code",
    "id": "P2mIJz29aAMz",
    "outputId": "4ff58c93-d19f-413b-bafd-f523d750d322"
   },
   "outputs": [
    {
     "name": "stdout",
     "output_type": "stream",
     "text": [
      "The shape of grouped data after time based splitting is (200000, 11)\n"
     ]
    }
   ],
   "source": [
    "import datetime\n",
    "grouped_data['Time'] = grouped_data['Time'].map(lambda a: datetime.datetime.fromtimestamp(int(a)).strftime('%Y-%m-%d %H:%M:%S'))\n",
    "grouped_data = grouped_data.sort_values('Time', axis=0, ascending=True, kind='quicksort')\n",
    "scores = grouped_data['Score']\n",
    "print(\"The shape of grouped data after time based splitting is {}\".format(grouped_data.shape))"
   ]
  },
  {
   "cell_type": "markdown",
   "metadata": {
    "colab_type": "text",
    "id": "x5vHNZ_KaAM6"
   },
   "source": [
    "Observations:\n",
    "Time based splitting is done on the obtained dataframe."
   ]
  },
  {
   "cell_type": "code",
   "execution_count": 0,
   "metadata": {
    "colab": {},
    "colab_type": "code",
    "id": "Te2CFOSGaAM8"
   },
   "outputs": [],
   "source": [
    "grouped_data.to_csv(\"grouped_data_200\")"
   ]
  },
  {
   "cell_type": "markdown",
   "metadata": {
    "colab_type": "text",
    "id": "CqtaQHlzaAM_"
   },
   "source": [
    "Observations:\n",
    "Saving this dataframe into a new csv file."
   ]
  },
  {
   "cell_type": "markdown",
   "metadata": {},
   "source": [
    "# Utility Functions"
   ]
  },
  {
   "cell_type": "code",
   "execution_count": 27,
   "metadata": {
    "colab": {},
    "colab_type": "code",
    "id": "bvRx-hoBLaH-"
   },
   "outputs": [],
   "source": [
    "#We create a few utility functions whose use is described below\n",
    "\n",
    "\n",
    "def optimala_bayes(x_train,y_train,x_test,y_test,x_cv,y_cv): #This function implements Naive Bayes finds and plots confusion matrix for optimal alpha.\n",
    "    my_cv = TimeSeriesSplit(n_splits=2).split(x_train)\n",
    "    parameters = {'alpha' : [0.00001,0.0001,0.001,0.01,0.1,1,10,100,1000]}\n",
    "    model = MultinomialNB()\n",
    "    gsearch = GridSearchCV(estimator = model, param_grid = parameters,cv=my_cv)\n",
    "    gsearch.fit(x_train,y_train)\n",
    "    a = gsearch.best_params_\n",
    "    print(\"The optimal alpha value found is\",gsearch.best_params_)\n",
    "    nb = gsearch.best_estimator_\n",
    "    \n",
    "    '''\n",
    "    Find train and test accuracy\n",
    "    '''\n",
    "    nb.fit(x_train, y_train) # Fitting the model\n",
    "    predt = nb.predict(x_cv)\n",
    "    print('\\nThe train accuracy of naive bayes for alpha = %d is %f%%' % (gsearch.best_params_['alpha'], accuracy_score(y_cv, predt) * 100))\n",
    "    print('\\nThe train precision of naive bayes for alpha = %d is %f%%' % (gsearch.best_params_['alpha'], precision_score(y_cv,predt,pos_label='Positive')*100))\n",
    "    print('\\nThe train recall of naive bayes for alpha = %d is %f%%' % (gsearch.best_params_['alpha'], recall_score(y_cv,predt,pos_label='Positive')*100))\n",
    "    print('\\nThe train f1 score of naive bayes for alpha = %d is %f%%' % (gsearch.best_params_['alpha'], f1_score(y_cv,predt,pos_label='Positive')*100))\n",
    "    print(\"*\"*50)\n",
    "    pred = nb.predict(x_test) # Predict the response\n",
    "    print('\\nThe test accuracy of naive bayes for alpha = %d is %f%%' % (gsearch.best_params_['alpha'], accuracy_score(y_test, pred) * 100))\n",
    "    print('\\nThe test precision of naive bayes for alpha = %d is %f%%' % (gsearch.best_params_['alpha'], precision_score(y_test,pred,pos_label='Positive')*100))\n",
    "    print('\\nThe test recall of naive bayes for alpha = %d is %f%%' % (gsearch.best_params_['alpha'], recall_score(y_test,pred,pos_label='Positive')*100))\n",
    "    print('\\nThe test f1 score of naive bayes for alpha = %d is %f%%' % (gsearch.best_params_['alpha'], f1_score(y_test,pred,pos_label='Positive')*100))\n",
    "    print(\"*\"*50)\n",
    "    '''\n",
    "    Classification report\n",
    "    '''\n",
    "    print(classification_report(y_test,pred))\n",
    "    print(\"*\"*50)\n",
    "    \n",
    "    '''\n",
    "    Plot confusion matrix\n",
    "    '''\n",
    "    y_true = np.array(y_test)\n",
    "    y_pred = np.array(pred)\n",
    "    labels = ['Negative','Positive']\n",
    "    print(confusion_matrix(y_test, pred))\n",
    "    cm = ConfusionMatrix(np.where(y_true == 'Positive', True, False), np.where(y_pred == 'Negative',False, True)) #This the confusion matrix of pandas_ml which provides interesting stats.\n",
    "    confusion_matrix_plot = confusion_matrix(y_test,pred) #We are plotting confusion matrix of sklearn\n",
    "    heatmap = sns.heatmap(confusion_matrix_plot, annot=True,cmap='Blues', fmt='g',xticklabels=['Negative','Positive'],yticklabels=['Negative','Positive'])\n",
    "    plt.title('Confusion matrix of the classifier')\n",
    "    plt.xlabel('Predicted')\n",
    "    plt.ylabel('True')\n",
    "    plt.show()\n",
    "    print(\"*\"*50)\n",
    "    print(\"The True Positive Rate observed is\",cm.TPR) #This prints the True Positive Rate of the confusion matrix (using pandas_ml confusion matrix).\n",
    "    print(\"The True Negative Rate observed is\",cm.TNR)\n",
    "    print(\"The False Positive Rate observed is\",cm.FPR)\n",
    "    print(\"The False Negative Rate observed is\",cm.FNR)\n",
    "    print(\"*\"*50)\n",
    "    print(\"The stats observed for confusion matrix are:\")\n",
    "    cm.print_stats()#Prints all the stats of the confusion matrix plotted (using pandas_ml confusion matrix).\n",
    "    \n",
    "def get_top_feats(feats, alpha, x_train, y_train): #This function gets the top features from Naive Bayes\n",
    "    print(\"Total number of words detected are\", len(feats))\n",
    "    count_vect = CountVectorizer() #Initialise count vectorizer\n",
    "    vocab = count_vect.fit(x_train['CleanedText'].values) #Fit the entire dataset\n",
    "    data_train = count_vect.transform(x_train['CleanedText'].values) #Vector form of all the Cleaned text\n",
    "    data_feat = count_vect.transform(feats) #Vector form of all the words\n",
    "    standard_feat = StandardScaler(with_mean=False).fit_transform(data_train) #Standardize data\n",
    "    standard_feat = StandardScaler(with_mean=False).fit_transform(data_feat)\n",
    "    nb = MultinomialNB(alpha = alpha) #Multinomial naive bayes model\n",
    "    nb.fit(data_train, y_train)\n",
    "    pro = nb.predict_log_proba(standard_feat) #Outputs the log probabilities and returns a 2D array\n",
    "    pos, neg = pro[:,0],pro[:,1] #Split the 2D array into two 1D arrays\n",
    "    df = pd.DataFrame({'Words': feats, 'P(xi|y=0)':neg, 'P(xi|y=1)':pos}) #Create a dataframe\n",
    "    print('*'*50,'Completed','*'*50)\n",
    "    return df"
   ]
  },
  {
   "cell_type": "markdown",
   "metadata": {
    "colab_type": "raw",
    "id": "lER5Sy1CaANO"
   },
   "source": [
    "**Observations:**\n",
    "\n",
    "1) The first function finds the optimal alpha value, plots confusion matrix and lists all of its stats.\n",
    "\n",
    "2) Another function returns a dataframe with all the words and their probabilites of occurances in both positive and negative reviews."
   ]
  },
  {
   "cell_type": "markdown",
   "metadata": {
    "colab_type": "text",
    "id": "bYgTidwWUFQU"
   },
   "source": [
    "# Feature Importance"
   ]
  },
  {
   "cell_type": "code",
   "execution_count": 9,
   "metadata": {
    "colab": {
     "base_uri": "https://localhost:8080/",
     "height": 34
    },
    "colab_type": "code",
    "id": "gQU4sWKyt-5O",
    "outputId": "fd08ba37-42b4-48e8-949f-f720f25b031e"
   },
   "outputs": [
    {
     "name": "stdout",
     "output_type": "stream",
     "text": [
      "Some unique sample features are  ['ambianc', 'ambien', 'ambient', 'ambigu', 'ambit', 'ambiti', 'ambival', 'ambo', 'ambootia', 'ambrosi']\n",
      "The number of words available are 53788\n"
     ]
    }
   ],
   "source": [
    "grouped_data.dropna(inplace = True) #Drops rows with Nan\n",
    "grouped_data.reset_index(inplace=True) #Replaces missing indexes\n",
    "scores = grouped_data['Score']\n",
    "count_vect = CountVectorizer()\n",
    "vocab = count_vect.fit(grouped_data['CleanedText'].values) #Only the whole data is fit.\n",
    "features = count_vect.get_feature_names() #Gets the words present in the dataframe.\n",
    "print('Some unique sample features are ', features[1500:1510])\n",
    "print('The number of words available are', len(features))"
   ]
  },
  {
   "cell_type": "markdown",
   "metadata": {},
   "source": [
    "Observations: There are a few Nan valued data in the dataset. Also there are a few indexes missing. All these are resolved and all the words are obtained."
   ]
  },
  {
   "cell_type": "code",
   "execution_count": 28,
   "metadata": {},
   "outputs": [
    {
     "name": "stdout",
     "output_type": "stream",
     "text": [
      "Total number of words detected are 53788\n",
      "************************************************** Completed **************************************************\n"
     ]
    }
   ],
   "source": [
    "df = get_top_feats(features, 1000, grouped_data, scores)"
   ]
  },
  {
   "cell_type": "markdown",
   "metadata": {
    "colab_type": "text",
    "id": "0p9dN7z9UFQj"
   },
   "source": [
    "Observations: A dataframe is created with all the words and their probabilities."
   ]
  },
  {
   "cell_type": "code",
   "execution_count": 29,
   "metadata": {},
   "outputs": [
    {
     "data": {
      "text/html": [
       "<div>\n",
       "<style scoped>\n",
       "    .dataframe tbody tr th:only-of-type {\n",
       "        vertical-align: middle;\n",
       "    }\n",
       "\n",
       "    .dataframe tbody tr th {\n",
       "        vertical-align: top;\n",
       "    }\n",
       "\n",
       "    .dataframe thead th {\n",
       "        text-align: right;\n",
       "    }\n",
       "</style>\n",
       "<table border=\"1\" class=\"dataframe\">\n",
       "  <thead>\n",
       "    <tr style=\"text-align: right;\">\n",
       "      <th></th>\n",
       "      <th>Words</th>\n",
       "      <th>P(xi|y=0)</th>\n",
       "      <th>P(xi|y=1)</th>\n",
       "    </tr>\n",
       "  </thead>\n",
       "  <tbody>\n",
       "    <tr>\n",
       "      <th>20216</th>\n",
       "      <td>great</td>\n",
       "      <td>0.0</td>\n",
       "      <td>-443.108093</td>\n",
       "    </tr>\n",
       "    <tr>\n",
       "      <th>12302</th>\n",
       "      <td>delici</td>\n",
       "      <td>0.0</td>\n",
       "      <td>-429.186481</td>\n",
       "    </tr>\n",
       "    <tr>\n",
       "      <th>35046</th>\n",
       "      <td>perfect</td>\n",
       "      <td>0.0</td>\n",
       "      <td>-421.751188</td>\n",
       "    </tr>\n",
       "    <tr>\n",
       "      <th>4394</th>\n",
       "      <td>best</td>\n",
       "      <td>0.0</td>\n",
       "      <td>-398.661843</td>\n",
       "    </tr>\n",
       "    <tr>\n",
       "      <th>14475</th>\n",
       "      <td>easi</td>\n",
       "      <td>0.0</td>\n",
       "      <td>-376.914328</td>\n",
       "    </tr>\n",
       "    <tr>\n",
       "      <th>27549</th>\n",
       "      <td>love</td>\n",
       "      <td>0.0</td>\n",
       "      <td>-376.441001</td>\n",
       "    </tr>\n",
       "    <tr>\n",
       "      <th>16720</th>\n",
       "      <td>favorit</td>\n",
       "      <td>0.0</td>\n",
       "      <td>-368.915996</td>\n",
       "    </tr>\n",
       "  </tbody>\n",
       "</table>\n",
       "</div>"
      ],
      "text/plain": [
       "         Words  P(xi|y=0)   P(xi|y=1)\n",
       "20216    great        0.0 -443.108093\n",
       "12302   delici        0.0 -429.186481\n",
       "35046  perfect        0.0 -421.751188\n",
       "4394      best        0.0 -398.661843\n",
       "14475     easi        0.0 -376.914328\n",
       "27549     love        0.0 -376.441001\n",
       "16720  favorit        0.0 -368.915996"
      ]
     },
     "execution_count": 29,
     "metadata": {},
     "output_type": "execute_result"
    }
   ],
   "source": [
    "df.sort_values(['P(xi|y=1)'], ascending=True).head(7)"
   ]
  },
  {
   "cell_type": "markdown",
   "metadata": {
    "colab_type": "text",
    "id": "Oh9-K2w0UFQ7"
   },
   "source": [
    "Observations: Top 7 best words for positive reviews are 'great','delici','perfect','best','easi','love','favorit'."
   ]
  },
  {
   "cell_type": "code",
   "execution_count": 30,
   "metadata": {},
   "outputs": [
    {
     "data": {
      "text/html": [
       "<div>\n",
       "<style scoped>\n",
       "    .dataframe tbody tr th:only-of-type {\n",
       "        vertical-align: middle;\n",
       "    }\n",
       "\n",
       "    .dataframe tbody tr th {\n",
       "        vertical-align: top;\n",
       "    }\n",
       "\n",
       "    .dataframe thead th {\n",
       "        text-align: right;\n",
       "    }\n",
       "</style>\n",
       "<table border=\"1\" class=\"dataframe\">\n",
       "  <thead>\n",
       "    <tr style=\"text-align: right;\">\n",
       "      <th></th>\n",
       "      <th>Words</th>\n",
       "      <th>P(xi|y=0)</th>\n",
       "      <th>P(xi|y=1)</th>\n",
       "    </tr>\n",
       "  </thead>\n",
       "  <tbody>\n",
       "    <tr>\n",
       "      <th>39573</th>\n",
       "      <td>return</td>\n",
       "      <td>-232.172029</td>\n",
       "      <td>0.0</td>\n",
       "    </tr>\n",
       "    <tr>\n",
       "      <th>52776</th>\n",
       "      <td>worst</td>\n",
       "      <td>-214.890586</td>\n",
       "      <td>0.0</td>\n",
       "    </tr>\n",
       "    <tr>\n",
       "      <th>3144</th>\n",
       "      <td>aw</td>\n",
       "      <td>-195.228404</td>\n",
       "      <td>0.0</td>\n",
       "    </tr>\n",
       "    <tr>\n",
       "      <th>38961</th>\n",
       "      <td>refund</td>\n",
       "      <td>-192.108306</td>\n",
       "      <td>0.0</td>\n",
       "    </tr>\n",
       "    <tr>\n",
       "      <th>22333</th>\n",
       "      <td>horribl</td>\n",
       "      <td>-190.111769</td>\n",
       "      <td>0.0</td>\n",
       "    </tr>\n",
       "    <tr>\n",
       "      <th>13200</th>\n",
       "      <td>disappoint</td>\n",
       "      <td>-183.896113</td>\n",
       "      <td>0.0</td>\n",
       "    </tr>\n",
       "    <tr>\n",
       "      <th>47519</th>\n",
       "      <td>threw</td>\n",
       "      <td>-178.573280</td>\n",
       "      <td>0.0</td>\n",
       "    </tr>\n",
       "  </tbody>\n",
       "</table>\n",
       "</div>"
      ],
      "text/plain": [
       "            Words   P(xi|y=0)  P(xi|y=1)\n",
       "39573      return -232.172029        0.0\n",
       "52776       worst -214.890586        0.0\n",
       "3144           aw -195.228404        0.0\n",
       "38961      refund -192.108306        0.0\n",
       "22333     horribl -190.111769        0.0\n",
       "13200  disappoint -183.896113        0.0\n",
       "47519       threw -178.573280        0.0"
      ]
     },
     "execution_count": 30,
     "metadata": {},
     "output_type": "execute_result"
    }
   ],
   "source": [
    "df.sort_values(['P(xi|y=0)'], ascending=True).head(7)"
   ]
  },
  {
   "cell_type": "markdown",
   "metadata": {
    "colab_type": "text",
    "id": "-bSl2iPHUFQw"
   },
   "source": [
    "Observations: Top 7 best words for negative reviews are 'return','worst','aw','refund','horribl','disappoint','threw'."
   ]
  },
  {
   "cell_type": "markdown",
   "metadata": {
    "colab_type": "text",
    "id": "8uyA6VM9N4s0"
   },
   "source": [
    "# Bag of Words"
   ]
  },
  {
   "cell_type": "code",
   "execution_count": 4,
   "metadata": {
    "colab": {
     "base_uri": "https://localhost:8080/",
     "height": 34
    },
    "colab_type": "code",
    "id": "Kyw1qdUYgYxH",
    "outputId": "ef1e0c0f-1c2b-4d88-85da-ca86004b9865"
   },
   "outputs": [
    {
     "name": "stdout",
     "output_type": "stream",
     "text": [
      "The shape of grouped data after time based splitting is (200000, 12)\n"
     ]
    }
   ],
   "source": [
    "import pandas as pd\n",
    "grouped_data = pd.read_csv(\"grouped_data_200.csv\")\n",
    "scores = grouped_data['Score']\n",
    "print(\"The shape of grouped data after time based splitting is {}\".format(grouped_data.shape))"
   ]
  },
  {
   "cell_type": "markdown",
   "metadata": {
    "colab_type": "text",
    "id": "RB84yNisaANW"
   },
   "source": [
    "Observations:\n",
    "A csv file is imported which consists of 200000 data points. These data points are already sorted on the basis of time."
   ]
  },
  {
   "cell_type": "code",
   "execution_count": 0,
   "metadata": {
    "colab": {},
    "colab_type": "code",
    "id": "ZEB-ipqkaANZ"
   },
   "outputs": [],
   "source": [
    "x_1, x_test, y_1, y_test = cross_validation.train_test_split(grouped_data, scores, test_size=0.3, random_state=0)\n",
    "x_train, x_cv, y_train, y_cv = cross_validation.train_test_split(x_1, y_1, test_size=0.3)"
   ]
  },
  {
   "cell_type": "markdown",
   "metadata": {
    "colab_type": "text",
    "id": "t8p84yshaANg"
   },
   "source": [
    "Observations:\n",
    "The data is split into train, test and cross validate."
   ]
  },
  {
   "cell_type": "code",
   "execution_count": 23,
   "metadata": {
    "colab": {
     "base_uri": "https://localhost:8080/",
     "height": 68
    },
    "colab_type": "code",
    "id": "P_5vpR8QaANh",
    "outputId": "df65d80c-dada-450c-ef30-a7bfdfcad954"
   },
   "outputs": [
    {
     "name": "stdout",
     "output_type": "stream",
     "text": [
      "The shape of train data for BOW is (98000, 38078)\n",
      "The shape of test data for BOW is (60000, 38078)\n",
      "The shape of cv data for BOW is (42000, 38078)\n"
     ]
    }
   ],
   "source": [
    "count_vect = CountVectorizer()\n",
    "vocab = count_vect.fit(x_train['CleanedText'].values.astype('U'))\n",
    "data_train = count_vect.transform(x_train['CleanedText'].values.astype('U'))\n",
    "data_test = count_vect.transform(x_test['CleanedText'].values.astype('U'))\n",
    "data_cv = count_vect.transform(x_cv['CleanedText'].values.astype('U'))\n",
    "print(\"The shape of train data for BOW is {}\".format(data_train.shape))\n",
    "print(\"The shape of test data for BOW is {}\".format(data_test.shape))\n",
    "print(\"The shape of cv data for BOW is {}\".format(data_cv.shape))"
   ]
  },
  {
   "cell_type": "markdown",
   "metadata": {
    "colab_type": "text",
    "id": "PkcD4xDzaANp"
   },
   "source": [
    "Observations:\n",
    "We build out Bag of words vocabulary only on train data and get vectors of train and test data."
   ]
  },
  {
   "cell_type": "code",
   "execution_count": 24,
   "metadata": {
    "colab": {
     "base_uri": "https://localhost:8080/",
     "height": 102
    },
    "colab_type": "code",
    "id": "7jm36ZC3aANr",
    "outputId": "990c2e6f-b95f-4dd1-bf90-437a048fe514"
   },
   "outputs": [
    {
     "name": "stdout",
     "output_type": "stream",
     "text": [
      "The type of standard_train is  <class 'scipy.sparse.csr.csr_matrix'>\n",
      "The type of standard_test is  <class 'scipy.sparse.csr.csr_matrix'>\n",
      "The shape of standard_train is  (98000, 38078)\n",
      "The shape of standard_test is  (60000, 38078)\n",
      "The shape of standard_cv is  (42000, 38078)\n"
     ]
    }
   ],
   "source": [
    "import warnings\n",
    "warnings.filterwarnings(\"ignore\")\n",
    "from sklearn.preprocessing import StandardScaler\n",
    "standard_train = StandardScaler(with_mean=False).fit_transform(data_train)\n",
    "standard_test = StandardScaler(with_mean=False).fit_transform(data_test)\n",
    "standard_cv = StandardScaler(with_mean=False).fit_transform(data_cv)\n",
    "print(\"The type of standard_train is \",type(data_train))\n",
    "print(\"The type of standard_test is \",type(data_test))\n",
    "print(\"The shape of standard_train is \",standard_train.get_shape())\n",
    "print(\"The shape of standard_test is \",standard_test.get_shape())\n",
    "print(\"The shape of standard_cv is \",standard_cv.get_shape())"
   ]
  },
  {
   "cell_type": "markdown",
   "metadata": {},
   "source": [
    "Observations: The data is standardized."
   ]
  },
  {
   "cell_type": "code",
   "execution_count": 25,
   "metadata": {
    "colab": {
     "base_uri": "https://localhost:8080/",
     "height": 1430
    },
    "colab_type": "code",
    "id": "BXq4_4Ccih3S",
    "outputId": "23725e59-4b24-4008-fcb5-28acfed432ef"
   },
   "outputs": [
    {
     "name": "stdout",
     "output_type": "stream",
     "text": [
      "The optimal alpha value found is {'alpha': 100}\n",
      "\n",
      "The train accuracy of naive bayes for alpha = 100 is 80.595238%\n",
      "\n",
      "The train precision of naive bayes for alpha = 100 is 85.858419%\n",
      "\n",
      "The train recall of naive bayes for alpha = 100 is 87.087388%\n",
      "\n",
      "The train f1 score of naive bayes for alpha = 100 is 86.468537%\n",
      "**************************************************\n",
      "\n",
      "The accuracy of naive bayes for alpha = 100 is 80.826667%\n",
      "\n",
      "The precision of naive bayes for alpha = 100 is 86.014147%\n",
      "\n",
      "The recall of naive bayes for alpha = 100 is 87.293347%\n",
      "\n",
      "The f1 score of naive bayes for alpha = 100 is 86.649026%\n",
      "**************************************************\n",
      "             precision    recall  f1-score   support\n",
      "\n",
      "   Negative       0.67      0.65      0.66     17235\n",
      "   Positive       0.86      0.87      0.87     42765\n",
      "\n",
      "avg / total       0.81      0.81      0.81     60000\n",
      "\n",
      "**************************************************\n",
      "[[11165  6070]\n",
      " [ 5434 37331]]\n"
     ]
    },
    {
     "data": {
      "image/png": "[encoded data removed]",
      "text/plain": [
       "<matplotlib.figure.Figure at 0x7f508c84b4e0>"
      ]
     },
     "metadata": {
      "tags": []
     },
     "output_type": "display_data"
    },
    {
     "name": "stdout",
     "output_type": "stream",
     "text": [
      "**************************************************\n",
      "The True Positive Rate observed is 0.8729334736349819\n",
      "The True Negative Rate observed is 0.6478096895851465\n",
      "The False Positive Rate observed is 0.3521903104148535\n",
      "The False Negative Rate observed is 0.1270665263650181\n",
      "**************************************************\n",
      "The stats observed for confusion matrix are:\n",
      "population: 60000\n",
      "P: 42765\n",
      "N: 17235\n",
      "PositiveTest: 43401\n",
      "NegativeTest: 16599\n",
      "TP: 37331\n",
      "TN: 11165\n",
      "FP: 6070\n",
      "FN: 5434\n",
      "TPR: 0.8729334736349819\n",
      "TNR: 0.6478096895851465\n",
      "PPV: 0.8601414713946683\n",
      "NPV: 0.6726308813783963\n",
      "FPR: 0.3521903104148535\n",
      "FDR: 0.13985852860533168\n",
      "FNR: 0.1270665263650181\n",
      "ACC: 0.8082666666666667\n",
      "F1_score: 0.866490262980758\n",
      "MCC: 0.5267234191293148\n",
      "informedness: 0.5207431632201285\n",
      "markedness: 0.5327723527730646\n",
      "prevalence: 0.71275\n",
      "LRP: 2.4785845828828523\n",
      "LRN: 0.1961479249351623\n",
      "DOR: 12.636302850015676\n",
      "FOR: 0.3273691186216037\n"
     ]
    }
   ],
   "source": [
    "optimala_bayes(standard_train, y_train, standard_test, y_test, standard_cv, y_cv)"
   ]
  },
  {
   "cell_type": "markdown",
   "metadata": {
    "colab_type": "text",
    "id": "Uy9lMqY-XPmF"
   },
   "source": [
    "# TFIDF"
   ]
  },
  {
   "cell_type": "code",
   "execution_count": 33,
   "metadata": {
    "colab": {
     "base_uri": "https://localhost:8080/",
     "height": 34
    },
    "colab_type": "code",
    "id": "AWFJArzTZNwn",
    "outputId": "08d89b70-ec94-4dd4-a87d-fc332bb1f058"
   },
   "outputs": [
    {
     "name": "stdout",
     "output_type": "stream",
     "text": [
      "The shape of grouped data after time based splitting is (50000, 12)\n"
     ]
    }
   ],
   "source": [
    "import pandas as pd\n",
    "grouped_data = pd.read_csv(\"grouped_data.csv\")\n",
    "scores = grouped_data['Score']\n",
    "print(\"The shape of grouped data after time based splitting is {}\".format(grouped_data.shape))"
   ]
  },
  {
   "cell_type": "markdown",
   "metadata": {
    "colab_type": "text",
    "id": "AYi392MLaAPJ"
   },
   "source": [
    "Observations:\n",
    "A csv file is imported which consists of 50000 data points. These data points are already sorted on the basis of time."
   ]
  },
  {
   "cell_type": "code",
   "execution_count": 34,
   "metadata": {
    "colab": {},
    "colab_type": "code",
    "id": "bao77DWKYr_P"
   },
   "outputs": [],
   "source": [
    "x_1, x_test, y_1, y_test = cross_validation.train_test_split(grouped_data, scores, test_size=0.3, random_state=0)\n",
    "x_train, x_cv, y_train, y_cv = cross_validation.train_test_split(x_1, y_1, test_size=0.3)"
   ]
  },
  {
   "cell_type": "markdown",
   "metadata": {
    "colab_type": "text",
    "id": "WAIcrN0PaAPP"
   },
   "source": [
    "Observations: Data is split into train, test and cross validate"
   ]
  },
  {
   "cell_type": "code",
   "execution_count": 36,
   "metadata": {
    "colab": {
     "base_uri": "https://localhost:8080/",
     "height": 68
    },
    "colab_type": "code",
    "id": "7bAhVkyFXVcl",
    "outputId": "347dda67-dacb-4082-b111-511b9896b8ed"
   },
   "outputs": [
    {
     "name": "stdout",
     "output_type": "stream",
     "text": [
      "the type of count vectorizer  <class 'scipy.sparse.csr.csr_matrix'>\n",
      "The shape of train_tf_idf  (24500, 479756)\n",
      "The shape of test_tf_idf  (15000, 479756)\n",
      "The shape of cv_tf_idf  (10500, 479756)\n"
     ]
    }
   ],
   "source": [
    "tf_idf_vect = TfidfVectorizer(ngram_range=(1,2))\n",
    "vocab_tf_idf = tf_idf_vect.fit(x_train['CleanedText'].values) #Converts to a sparse matrix of TF-IDF vectors.\n",
    "train_tf_idf = tf_idf_vect.transform(x_train['CleanedText'].values)\n",
    "test_tf_idf = tf_idf_vect.transform(x_test['CleanedText'].values)\n",
    "cv_tf_idf = tf_idf_vect.transform(x_cv['CleanedText'].values)\n",
    "print(\"the type of count vectorizer \",type(train_tf_idf))\n",
    "print(\"The shape of train_tf_idf \",train_tf_idf.get_shape())\n",
    "print(\"The shape of test_tf_idf \", test_tf_idf.get_shape())\n",
    "print(\"The shape of cv_tf_idf \", cv_tf_idf.get_shape())"
   ]
  },
  {
   "cell_type": "markdown",
   "metadata": {
    "colab_type": "text",
    "id": "p4xtU-RiaAPb"
   },
   "source": [
    "Observations:\n",
    "Vocabulary of TF-IDF is trained for train data and vectors for train and test data are obtained."
   ]
  },
  {
   "cell_type": "code",
   "execution_count": 37,
   "metadata": {
    "colab": {
     "base_uri": "https://localhost:8080/",
     "height": 51
    },
    "colab_type": "code",
    "id": "WMyhqsiTfIPb",
    "outputId": "73a48fcb-4639-4b9b-dee8-e11c5a103934"
   },
   "outputs": [
    {
     "name": "stdout",
     "output_type": "stream",
     "text": [
      "The shape of standardized train data is (24500, 479756)\n",
      "The shape of standardized test data is (15000, 479756)\n",
      "The shape of standardized cv data is (10500, 479756)\n"
     ]
    }
   ],
   "source": [
    "from sklearn.preprocessing import StandardScaler\n",
    "from sklearn.decomposition import TruncatedSVD\n",
    "standardized_train = StandardScaler(with_mean=False).fit_transform(train_tf_idf) #It gets the mean, variance and performs standardization.\n",
    "standardized_test = StandardScaler(with_mean=False).fit_transform(test_tf_idf)\n",
    "standardized_cv = StandardScaler(with_mean=False).fit_transform(cv_tf_idf)\n",
    "print(\"The shape of standardized train data is\",standardized_train.shape)\n",
    "print(\"The shape of standardized test data is\",standardized_test.shape)\n",
    "print(\"The shape of standardized cv data is\",standardized_cv.shape)"
   ]
  },
  {
   "cell_type": "markdown",
   "metadata": {
    "colab_type": "text",
    "id": "16KFlMeIaAPj"
   },
   "source": [
    "Observations:\n",
    "Data is standardized."
   ]
  },
  {
   "cell_type": "code",
   "execution_count": 38,
   "metadata": {
    "colab": {},
    "colab_type": "code",
    "id": "jUQf0qSdfqBg"
   },
   "outputs": [
    {
     "name": "stdout",
     "output_type": "stream",
     "text": [
      "The optimal alpha value found is {'alpha': 1000}\n",
      "\n",
      "The train accuracy of naive bayes for alpha = 1000 is 82.761905%\n",
      "\n",
      "The train precision of naive bayes for alpha = 1000 is 79.665294%\n",
      "\n",
      "The train recall of naive bayes for alpha = 1000 is 95.555202%\n",
      "\n",
      "The train f1 score of naive bayes for alpha = 1000 is 86.889758%\n",
      "**************************************************\n",
      "\n",
      "The test accuracy of naive bayes for alpha = 1000 is 82.946667%\n",
      "\n",
      "The test precision of naive bayes for alpha = 1000 is 79.970035%\n",
      "\n",
      "The test recall of naive bayes for alpha = 1000 is 95.323139%\n",
      "\n",
      "The test f1 score of naive bayes for alpha = 1000 is 86.974234%\n",
      "**************************************************\n",
      "             precision    recall  f1-score   support\n",
      "\n",
      "   Negative       0.90      0.65      0.75      6041\n",
      "   Positive       0.80      0.95      0.87      8959\n",
      "\n",
      "avg / total       0.84      0.83      0.82     15000\n",
      "\n",
      "**************************************************\n",
      "[[3902 2139]\n",
      " [ 419 8540]]\n"
     ]
    },
    {
     "data": {
      "image/png": "[encoded data removed]",
      "text/plain": [
       "<Figure size 432x288 with 2 Axes>"
      ]
     },
     "metadata": {},
     "output_type": "display_data"
    },
    {
     "name": "stdout",
     "output_type": "stream",
     "text": [
      "**************************************************\n",
      "The True Positive Rate observed is 0.953231387431633\n",
      "The True Negative Rate observed is 0.6459195497434199\n",
      "The False Positive Rate observed is 0.35408045025658\n",
      "The False Negative Rate observed is 0.04676861256836701\n",
      "**************************************************\n",
      "The stats observed for confusion matrix are:\n",
      "population: 15000\n",
      "P: 8959\n",
      "N: 6041\n",
      "PositiveTest: 10679\n",
      "NegativeTest: 4321\n",
      "TP: 8540\n",
      "TN: 3902\n",
      "FP: 2139\n",
      "FN: 419\n",
      "TPR: 0.953231387431633\n",
      "TNR: 0.6459195497434199\n",
      "PPV: 0.799700346474389\n",
      "NPV: 0.9030317056236982\n",
      "FPR: 0.35408045025658\n",
      "FDR: 0.20029965352561102\n",
      "FNR: 0.04676861256836701\n",
      "ACC: 0.8294666666666667\n",
      "F1_score: 0.8697423362867909\n",
      "MCC: 0.648877929658204\n",
      "informedness: 0.599150937175053\n",
      "markedness: 0.7027320520980873\n",
      "prevalence: 0.5972666666666666\n",
      "LRP: 2.6921322166781185\n",
      "LRN: 0.07240625026281525\n",
      "DOR: 37.18093682391232\n",
      "FOR: 0.09696829437630178\n"
     ]
    }
   ],
   "source": [
    "optimala_bayes(standardized_train,y_train,standardized_test,y_test,standardized_cv,y_cv)"
   ]
  },
  {
   "cell_type": "markdown",
   "metadata": {
    "colab_type": "text",
    "id": "2MAKybTmaAS9"
   },
   "source": [
    "# Conclusion"
   ]
  },
  {
   "cell_type": "code",
   "execution_count": 39,
   "metadata": {
    "colab": {},
    "colab_type": "code",
    "id": "HcO1ivTlaATA",
    "outputId": "f848eb00-a4bd-4de0-d2ba-47485e0144a1"
   },
   "outputs": [
    {
     "name": "stdout",
     "output_type": "stream",
     "text": [
      "+--------------+-----------------+---------------+-----------+--------+----------+\n",
      "|    Model     | Hyper Parameter | Test Accuracy | Precision | Recall | F1 Score |\n",
      "+--------------+-----------------+---------------+-----------+--------+----------+\n",
      "| Bag of Words |   alpha = 1000  |     80.82%    |   86.01%  | 87.29% |  86.65%  |\n",
      "|              |                 |               |           |        |          |\n",
      "|    TF-IDF    |   alpha = 1000  |     82.95%    |   79.97%  | 95.32% |  86.97%  |\n",
      "+--------------+-----------------+---------------+-----------+--------+----------+\n",
      "************************************************************************************************************************\n",
      "+--------------+-----------------+--------+--------+--------+--------+\n",
      "|    Model     | Hyper Parameter |  TPR   |  TNR   |  FPR   |  FNR   |\n",
      "+--------------+-----------------+--------+--------+--------+--------+\n",
      "| Bag of Words |   alpha = 1000  | 95.07% | 54.99% | 45.00% | 4.92%  |\n",
      "|              |                 |        |        |        |        |\n",
      "|    TF-IDF    |   alpha = 1000  | 87.29% | 64.78% | 35.22% | 12.71% |\n",
      "+--------------+-----------------+--------+--------+--------+--------+\n",
      "************************************************************************************************************************\n",
      "+---------------------------------------------------+---------------------------------------------------+\n",
      "| Words with higer probability for positive reviews | Words with higer probability for negative reviews |\n",
      "+---------------------------------------------------+---------------------------------------------------+\n",
      "|                       great                       |                       return                      |\n",
      "|                                                   |                                                   |\n",
      "|                       delci                       |                       worst                       |\n",
      "|                                                   |                                                   |\n",
      "|                      perfect                      |                         aw                        |\n",
      "|                                                   |                                                   |\n",
      "|                        best                       |                       refund                      |\n",
      "|                                                   |                                                   |\n",
      "|                        easi                       |                      horribl                      |\n",
      "|                                                   |                                                   |\n",
      "|                        love                       |                     disappoint                    |\n",
      "|                                                   |                                                   |\n",
      "|                      favorit                      |                       threw                       |\n",
      "+---------------------------------------------------+---------------------------------------------------+\n"
     ]
    }
   ],
   "source": [
    "x = PrettyTable()\n",
    "x.field_names = [\"Model\", \"Hyper Parameter\", \"Test Accuracy\",\"Precision\",\"Recall\",\"F1 Score\"]\n",
    "x.add_row([\"Bag of Words\",\"alpha = 1000\",\"80.82%\", \"86.01%\", \"87.29%\", \"86.65%\"])\n",
    "x.add_row([\"\",\"\",\"\",\"\",\"\",\"\"])\n",
    "x.add_row([\"TF-IDF\",\"alpha = 1000\",\"82.95%\", \"79.97%\", \"95.32%\", \"86.97%\"])\n",
    "print(x.get_string())\n",
    "print('*'*120)\n",
    "\n",
    "y = PrettyTable()\n",
    "y.field_names = [\"Model\", \"Hyper Parameter\", \"TPR\", \"TNR\", \"FPR\", \"FNR\"]\n",
    "y.add_row([\"Bag of Words\",\"alpha = 1000\",\"95.07%\",\"54.99%\",\"45.00%\",\"4.92%\"])\n",
    "y.add_row([\"\",\"\",\"\",\"\",\"\",\"\"])\n",
    "y.add_row([\"TF-IDF\",\"alpha = 1000\",\"87.29%\", \"64.78%\", \"35.22%\", \"12.71%\"])\n",
    "print(y.get_string())\n",
    "print('*'*120)\n",
    "\n",
    "z = PrettyTable()\n",
    "z.field_names = [\"Words with higer probability for positive reviews\",\"Words with higer probability for negative reviews\"]\n",
    "z.add_row([\"great\",\"return\"])\n",
    "z.add_row([\"\",\"\"])\n",
    "z.add_row([\"delci\",\"worst\"])\n",
    "z.add_row([\"\",\"\"])\n",
    "z.add_row([\"perfect\",\"aw\"])\n",
    "z.add_row([\"\",\"\"])\n",
    "z.add_row([\"best\",\"refund\"])\n",
    "z.add_row([\"\",\"\"])\n",
    "z.add_row([\"easi\",\"horribl\"])\n",
    "z.add_row([\"\",\"\"])\n",
    "z.add_row([\"love\",\"disappoint\"])\n",
    "z.add_row([\"\",\"\"])\n",
    "z.add_row([\"favorit\",\"threw\"])\n",
    "print(z.get_string())"
   ]
  }
 ],
 "metadata": {
  "accelerator": "GPU",
  "colab": {
   "collapsed_sections": [],
   "name": "Naive Bayes on Amazon Food Reviews.ipynb",
   "provenance": [],
   "version": "0.3.2"
  },
  "kernelspec": {
   "display_name": "Python 3",
   "language": "python",
   "name": "python3"
  },
  "language_info": {
   "codemirror_mode": {
    "name": "ipython",
    "version": 3
   },
   "file_extension": ".py",
   "mimetype": "text/x-python",
   "name": "python",
   "nbconvert_exporter": "python",
   "pygments_lexer": "ipython3",
   "version": "3.6.5"
  }
 },
 "nbformat": 4,
 "nbformat_minor": 1
}
