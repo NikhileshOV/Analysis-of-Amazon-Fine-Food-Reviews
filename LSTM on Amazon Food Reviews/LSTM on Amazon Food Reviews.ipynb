{
 "cells": [
  {
   "cell_type": "code",
   "execution_count": 3,
   "metadata": {
    "colab": {
     "base_uri": "https://localhost:8080/",
     "height": 34
    },
    "colab_type": "code",
    "id": "RlKqRxPX8hPE",
    "outputId": "34322cfe-eaa4-42ac-c301-8246d838e113"
   },
   "outputs": [
    {
     "name": "stderr",
     "output_type": "stream",
     "text": [
      "Using TensorFlow backend.\n"
     ]
    }
   ],
   "source": [
    "import numpy\n",
    "from keras.datasets import imdb\n",
    "from keras.models import Sequential\n",
    "from keras.layers import Dense\n",
    "from keras.layers import LSTM\n",
    "from keras.layers.embeddings import Embedding\n",
    "from keras.preprocessing import sequence\n",
    "\n",
    "\n",
    "import pandas as pd\n",
    "from sklearn.model_selection import train_test_split\n",
    "import numpy as np\n",
    "# fix random seed for reproducibility\n",
    "numpy.random.seed(7)\n"
   ]
  },
  {
   "cell_type": "markdown",
   "metadata": {},
   "source": [
    "# Import the data"
   ]
  },
  {
   "cell_type": "code",
   "execution_count": 4,
   "metadata": {
    "colab": {
     "base_uri": "https://localhost:8080/",
     "height": 51
    },
    "colab_type": "code",
    "id": "Zq3BfxaTzzSU",
    "outputId": "fe54bbe3-e513-4cdc-c247-f7feafa24ea0"
   },
   "outputs": [
    {
     "name": "stdout",
     "output_type": "stream",
     "text": [
      "The shape of data is (149992, 12)\n",
      "The number of y labels is 149992\n"
     ]
    }
   ],
   "source": [
    "data = pd.read_csv('drive/grouped_data_200.csv')\n",
    "p = data.groupby('Score')\n",
    "pos = p.get_group('Positive') #Gets the groups with Positive score\n",
    "neg = p.get_group('Negative') #Gets the groups with Negative score\n",
    "pos_2000 = pos.sample(92897) #Gets 12000 reviews of positive and 8000 negative scores\n",
    "neg_2000 = neg.sample(57103)\n",
    "data = pd.concat([pos_2000, neg_2000], ignore_index = True) #This data now contains positive and negative data in order.\n",
    "data.dropna(inplace = True) #Drops rows with Nan\n",
    "data.reset_index(inplace=True) #Replaces missing indexes\n",
    "data.drop(['Unnamed: 0', 'Unnamed: 0.1'], axis=1, inplace=True)\n",
    "data = data.sort_values('Time', axis=0, ascending=True, kind='quicksort')\n",
    "scores = data['Score']\n",
    "print(\"The shape of data is\",data.shape)\n",
    "print(\"The number of y labels is\",len(scores))"
   ]
  },
  {
   "cell_type": "code",
   "execution_count": 5,
   "metadata": {
    "colab": {
     "base_uri": "https://localhost:8080/",
     "height": 68
    },
    "colab_type": "code",
    "id": "mL8sFmDWrOop",
    "outputId": "dcc8ba90-aa3e-4001-bfba-420f69dfc3de"
   },
   "outputs": [
    {
     "data": {
      "text/plain": [
       "Positive    92894\n",
       "Negative    57098\n",
       "Name: Score, dtype: int64"
      ]
     },
     "execution_count": 5,
     "metadata": {
      "tags": []
     },
     "output_type": "execute_result"
    }
   ],
   "source": [
    "data['Score'].value_counts()"
   ]
  },
  {
   "cell_type": "markdown",
   "metadata": {},
   "source": [
    "# Perform Train Test split"
   ]
  },
  {
   "cell_type": "code",
   "execution_count": 6,
   "metadata": {
    "colab": {
     "base_uri": "https://localhost:8080/",
     "height": 85
    },
    "colab_type": "code",
    "id": "uf8REfU7sDbA",
    "outputId": "1433a6e9-5cb4-4930-a00a-6b494b16f3fb"
   },
   "outputs": [
    {
     "name": "stdout",
     "output_type": "stream",
     "text": [
      "The shape of X_train is (119993, 12)\n",
      "The shape of X_test is (29999, 12)\n",
      "The shape of y_train is (119993,)\n",
      "The shape of y_test is (29999,)\n"
     ]
    }
   ],
   "source": [
    "X_train, X_test, y_train, y_test = train_test_split(data, scores, test_size=0.2)\n",
    "print(\"The shape of X_train is\",X_train.shape)\n",
    "print(\"The shape of X_test is\",X_test.shape)\n",
    "print(\"The shape of y_train is\",y_train.shape)\n",
    "print(\"The shape of y_test is\",y_test.shape)"
   ]
  },
  {
   "cell_type": "markdown",
   "metadata": {},
   "source": [
    "# Data Preprocessing"
   ]
  },
  {
   "cell_type": "code",
   "execution_count": 8,
   "metadata": {
    "colab": {
     "base_uri": "https://localhost:8080/",
     "height": 34
    },
    "colab_type": "code",
    "id": "qZimc5lxF_lT",
    "outputId": "3c8876b6-d9f9-463f-b9da-7d23a8eeb5f5"
   },
   "outputs": [
    {
     "data": {
      "text/plain": [
       "[1, 1, 1, 1, 0, 1, 1, 1, 0, 0]"
      ]
     },
     "execution_count": 8,
     "metadata": {
      "tags": []
     },
     "output_type": "execute_result"
    }
   ],
   "source": [
    "def pos_neg_conv(word): #Function which returns 1 for Positive and 0 for Negative\n",
    "    return(1 if word=='Positive' else 0)\n",
    "y_train = list(map(pos_neg_conv,y_train)) #Converts train data from Positive and Negative to 1 and 0\n",
    "y_test = list(map(pos_neg_conv,y_test))\n",
    "\n",
    "y_train[:10]"
   ]
  },
  {
   "cell_type": "code",
   "execution_count": 9,
   "metadata": {
    "colab": {
     "base_uri": "https://localhost:8080/",
     "height": 187
    },
    "colab_type": "code",
    "id": "T9gzjgFgLqou",
    "outputId": "840d624f-b965-40ce-9066-9aceb3a01744"
   },
   "outputs": [
    {
     "data": {
      "text/plain": [
       "['like',\n",
       " 'tast',\n",
       " 'product',\n",
       " 'flavor',\n",
       " 'one',\n",
       " 'good',\n",
       " 'use',\n",
       " 'tri',\n",
       " 'love',\n",
       " 'coffe']"
      ]
     },
     "execution_count": 9,
     "metadata": {
      "tags": []
     },
     "output_type": "execute_result"
    }
   ],
   "source": [
    "top_words = 5000 #Gets top 5000 words in frequency of occurance\n",
    "word_dict = dict(pd.Series(' '.join(X_train.CleanedText).split()).value_counts()[:top_words]) #Create a dictionary of words in decreasing order of frequency of occurance\n",
    "top_word_list = list(word_dict.keys()) #Gets the list of top words from the dictionary created above\n",
    "top_word_list[:10]"
   ]
  },
  {
   "cell_type": "markdown",
   "metadata": {},
   "source": [
    "**Observations:** Get top 5000 words in its frequency of occurance."
   ]
  },
  {
   "cell_type": "code",
   "execution_count": 0,
   "metadata": {
    "colab": {},
    "colab_type": "code",
    "id": "Py7MMwXGvaXL"
   },
   "outputs": [],
   "source": [
    "top_word_dict = dict({word:index for word, index in zip(top_word_list, list(range(5000)))}) #Creates a dictionary with word from list of top words and its index for faster lookup"
   ]
  },
  {
   "cell_type": "code",
   "execution_count": 11,
   "metadata": {
    "colab": {
     "base_uri": "https://localhost:8080/",
     "height": 51
    },
    "colab_type": "code",
    "id": "-aZmnXiPPMeE",
    "outputId": "8821e57e-9ee9-46cb-c677-6443be8f2432"
   },
   "outputs": [
    {
     "name": "stdout",
     "output_type": "stream",
     "text": [
      "Length of x_train is 119993\n",
      "Length of x_test is 29999\n"
     ]
    }
   ],
   "source": [
    "def return_ind(sent): #This function returns a list of indices if words in the review are among the top 5000 words.\n",
    "    l = sent.split()\n",
    "    return(list(top_word_dict[a] for a in l if a in top_word_list ))\n",
    "\n",
    "x_train = []\n",
    "x_test = []\n",
    "\n",
    "for train_sent in X_train['CleanedText'].values:\n",
    "    train_ind = return_ind(train_sent)\n",
    "    x_train.append(train_ind)\n",
    "\n",
    "for test_sent in X_test['CleanedText'].values:\n",
    "    test_ind = return_ind(test_sent)\n",
    "    x_test.append(test_ind)\n",
    "\n",
    "print('Length of x_train is',len(x_train))\n",
    "print('Length of x_test is',len(x_test))"
   ]
  },
  {
   "cell_type": "markdown",
   "metadata": {},
   "source": [
    "**Observations:** x_train and x_test are lists which contain indices of words contained in it previously that are also present in the top 5000 words."
   ]
  },
  {
   "cell_type": "markdown",
   "metadata": {},
   "source": [
    "# Implement LSTM"
   ]
  },
  {
   "cell_type": "code",
   "execution_count": 12,
   "metadata": {
    "colab": {
     "base_uri": "https://localhost:8080/",
     "height": 51
    },
    "colab_type": "code",
    "id": "liLh1pDN7k4o",
    "outputId": "40a15b17-5b80-4d58-b3b0-54240c9b0d3e"
   },
   "outputs": [
    {
     "name": "stdout",
     "output_type": "stream",
     "text": [
      "(119993, 600)\n",
      "(29999, 600)\n"
     ]
    }
   ],
   "source": [
    "max_review_length = 600\n",
    "x_train = sequence.pad_sequences(x_train, maxlen=max_review_length)\n",
    "x_test = sequence.pad_sequences(x_test, maxlen=max_review_length)\n",
    "\n",
    "print(x_train.shape)\n",
    "print(x_test.shape)"
   ]
  },
  {
   "cell_type": "code",
   "execution_count": 13,
   "metadata": {
    "colab": {
     "base_uri": "https://localhost:8080/",
     "height": 289
    },
    "colab_type": "code",
    "id": "_d2g4SEd9z2F",
    "outputId": "271c25af-27c6-4de7-dfc4-82b77caec6d9"
   },
   "outputs": [
    {
     "name": "stdout",
     "output_type": "stream",
     "text": [
      "_________________________________________________________________\n",
      "Layer (type)                 Output Shape              Param #   \n",
      "=================================================================\n",
      "embedding_1 (Embedding)      (None, 600, 32)           160000    \n",
      "_________________________________________________________________\n",
      "lstm_1 (LSTM)                (None, 600, 100)          53200     \n",
      "_________________________________________________________________\n",
      "lstm_2 (LSTM)                (None, 100)               80400     \n",
      "_________________________________________________________________\n",
      "dense_1 (Dense)              (None, 1)                 101       \n",
      "=================================================================\n",
      "Total params: 293,701\n",
      "Trainable params: 293,701\n",
      "Non-trainable params: 0\n",
      "_________________________________________________________________\n",
      "None\n"
     ]
    }
   ],
   "source": [
    "# create the model\n",
    "embedding_vecor_length = 32\n",
    "model = Sequential()\n",
    "model.add(Embedding(top_words, embedding_vecor_length, input_length=max_review_length,embeddings_regularizer='l2',embeddings_initializer='he_normal'))\n",
    "model.add(LSTM(100,return_sequences=True,dropout=0.5,kernel_initializer='he_normal'))\n",
    "model.add(LSTM(100,dropout=0.5,kernel_initializer='he_normal'))\n",
    "model.add(Dense(1, activation='sigmoid'))\n",
    "model.compile(loss='binary_crossentropy', optimizer='adam', metrics=['accuracy'])\n",
    "print(model.summary())\n",
    "#Refer: https://datascience.stackexchange.com/questions/10615/number-of-parameters-in-an-lstm-model"
   ]
  },
  {
   "cell_type": "code",
   "execution_count": 15,
   "metadata": {
    "colab": {
     "base_uri": "https://localhost:8080/",
     "height": 425
    },
    "colab_type": "code",
    "id": "aaBBI4js_nfQ",
    "outputId": "443e9250-7675-4798-c816-fb3971d20503"
   },
   "outputs": [
    {
     "name": "stderr",
     "output_type": "stream",
     "text": [
      "/usr/local/lib/python3.6/dist-packages/ipykernel_launcher.py:2: UserWarning: The `nb_epoch` argument in `fit` has been renamed `epochs`.\n",
      "  \n"
     ]
    },
    {
     "name": "stdout",
     "output_type": "stream",
     "text": [
      "Train on 119993 samples, validate on 29999 samples\n",
      "Epoch 1/10\n",
      "119993/119993 [==============================] - 3431s 29ms/step - loss: 0.4641 - acc: 0.8400 - val_loss: 0.4124 - val_acc: 0.8655\n",
      "Epoch 2/10\n",
      "119993/119993 [==============================] - 3439s 29ms/step - loss: 0.4264 - acc: 0.8608 - val_loss: 0.4053 - val_acc: 0.8682\n",
      "Epoch 3/10\n",
      "119993/119993 [==============================] - 3455s 29ms/step - loss: 0.4190 - acc: 0.8634 - val_loss: 0.4065 - val_acc: 0.8657\n",
      "Epoch 4/10\n",
      "119993/119993 [==============================] - 3451s 29ms/step - loss: 0.4161 - acc: 0.8648 - val_loss: 0.4177 - val_acc: 0.8670\n",
      "Epoch 5/10\n",
      "119993/119993 [==============================] - 3445s 29ms/step - loss: 0.4213 - acc: 0.8636 - val_loss: 0.4107 - val_acc: 0.8675\n",
      "Epoch 6/10\n",
      "119993/119993 [==============================] - 3458s 29ms/step - loss: 0.4146 - acc: 0.8669 - val_loss: 0.4106 - val_acc: 0.8701\n",
      "Epoch 7/10\n",
      "119993/119993 [==============================] - 3477s 29ms/step - loss: 0.4111 - acc: 0.8684 - val_loss: 0.4103 - val_acc: 0.8697\n",
      "Epoch 8/10\n",
      "119993/119993 [==============================] - 3467s 29ms/step - loss: 0.4100 - acc: 0.8691 - val_loss: 0.3964 - val_acc: 0.8741\n",
      "Epoch 9/10\n",
      "119993/119993 [==============================] - 3412s 28ms/step - loss: 0.4060 - acc: 0.8700 - val_loss: 0.4021 - val_acc: 0.8722\n",
      "Epoch 10/10\n",
      "119993/119993 [==============================] - 3408s 28ms/step - loss: 0.4094 - acc: 0.8705 - val_loss: 0.3958 - val_acc: 0.8735\n"
     ]
    },
    {
     "data": {
      "text/plain": [
       "['drive/model_lstm.pkl']"
      ]
     },
     "execution_count": 15,
     "metadata": {
      "tags": []
     },
     "output_type": "execute_result"
    }
   ],
   "source": [
    "model_fit = model.fit(x_train, y_train, nb_epoch=10, batch_size=120, verbose=1, validation_data = (x_test,y_test))"
   ]
  },
  {
   "cell_type": "code",
   "execution_count": 16,
   "metadata": {
    "colab": {
     "base_uri": "https://localhost:8080/",
     "height": 51
    },
    "colab_type": "code",
    "id": "XYdyVPosCQpp",
    "outputId": "1566225a-12be-44ee-d022-79a215158015"
   },
   "outputs": [
    {
     "name": "stdout",
     "output_type": "stream",
     "text": [
      "29999/29999 [==============================] - 1075s 36ms/step\n",
      "Accuracy: 87.35%\n"
     ]
    }
   ],
   "source": [
    "# Final evaluation of the model\n",
    "scores = model.evaluate(x_test, y_test, verbose=1)\n",
    "print(\"Accuracy: %.2f%%\" % (scores[1]*100))"
   ]
  },
  {
   "cell_type": "code",
   "execution_count": 0,
   "metadata": {
    "colab": {},
    "colab_type": "code",
    "id": "Zu_66aat3Eoq"
   },
   "outputs": [],
   "source": [
    "import matplotlib.pyplot as plt\n",
    "import numpy as np\n",
    "import time\n",
    "# https://gist.github.com/greydanus/f6eee59eaf1d90fcb3b534a25362cea4\n",
    "\n",
    "def plt_dynamic(x, vy, ty, ax, colors=['b']):\n",
    "    ax.plot(x, vy, 'b', label=\"Validation Loss\")\n",
    "    ax.plot(x, ty, 'r', label=\"Train Loss\")\n",
    "    plt.legend()\n",
    "    plt.grid(linestyle='-')\n",
    "    fig.canvas.draw()"
   ]
  },
  {
   "cell_type": "code",
   "execution_count": 18,
   "metadata": {
    "colab": {
     "base_uri": "https://localhost:8080/",
     "height": 395
    },
    "colab_type": "code",
    "id": "sI-hRiecFZhq",
    "outputId": "1dabf4ee-8d7c-4efa-b514-979942883ea1",
    "scrolled": false
   },
   "outputs": [
    {
     "name": "stdout",
     "output_type": "stream",
     "text": [
      "Test score: 0.39577894278131187\n",
      "Test accuracy: 0.8734957832007206\n"
     ]
    },
    {
     "data": {
      "image/png": "[encoded data removed]",
      "text/plain": [
       "<matplotlib.figure.Figure at 0x7f00221361d0>"
      ]
     },
     "metadata": {
      "tags": []
     },
     "output_type": "display_data"
    }
   ],
   "source": [
    "import matplotlib.pyplot as plt\n",
    "#model_scores = best_model.evaluate(x_test, y_test_cat, verbose=0) \n",
    "print('Test score:', scores[0]) \n",
    "print('Test accuracy:', scores[1])\n",
    "\n",
    "fig,ax = plt.subplots(1,1)\n",
    "ax.set_xlabel('epoch') ; ax.set_ylabel('Categorical Crossentropy Loss')\n",
    "\n",
    "# list of epoch numbers\n",
    "x = list(range(1,11))\n",
    "\n",
    "vy = model_fit.history['val_loss']\n",
    "ty = model_fit.history['loss']\n",
    "\n",
    "plt_dynamic(x, vy, ty, ax)"
   ]
  },
  {
   "cell_type": "markdown",
   "metadata": {
    "colab_type": "text",
    "id": "p5bMXO09-v46"
   },
   "source": [
    "# Results:"
   ]
  },
  {
   "cell_type": "markdown",
   "metadata": {
    "colab_type": "text",
    "id": "lOkyJH2S1Vlg"
   },
   "source": [
    "**1**. The model had a reduced log loss of (0.26 approx) and higher accuracy (92%) when there weren't any dropouts or kernel initializer. But it overfit a lot.\n",
    "\n",
    "**2**. When dropouts are added along with kernel initializers, a validation log loss of 0.3958 is obtained with an accuracy of 87.35%. This model had no overfitting and showed signs to improve performance over and increase in the number of epochs."
   ]
  }
 ],
 "metadata": {
  "accelerator": "GPU",
  "colab": {
   "collapsed_sections": [],
   "name": "LSTM on Amazon Food Reviews.ipynb",
   "provenance": [],
   "version": "0.3.2"
  },
  "kernelspec": {
   "display_name": "Python 3",
   "language": "python",
   "name": "python3"
  },
  "language_info": {
   "codemirror_mode": {
    "name": "ipython",
    "version": 3
   },
   "file_extension": ".py",
   "mimetype": "text/x-python",
   "name": "python",
   "nbconvert_exporter": "python",
   "pygments_lexer": "ipython3",
   "version": "3.6.5"
  }
 },
 "nbformat": 4,
 "nbformat_minor": 1
}
