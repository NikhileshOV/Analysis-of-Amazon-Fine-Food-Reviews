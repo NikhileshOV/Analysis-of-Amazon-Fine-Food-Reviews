{
 "cells": [
  {
   "cell_type": "code",
   "execution_count": 0,
   "metadata": {
    "colab": {},
    "colab_type": "code",
    "id": "7kCz3GwpLaH5"
   },
   "outputs": [],
   "source": [
    "import warnings\n",
    "warnings.filterwarnings(\"ignore\")\n",
    "\n",
    "import sqlite3\n",
    "import numpy as np\n",
    "import pandas as pd\n",
    "import matplotlib.pyplot as plt\n",
    "import nltk\n",
    "import string\n",
    "import seaborn as sns\n",
    "from sklearn.feature_extraction.text import TfidfTransformer\n",
    "from sklearn.feature_extraction.text import TfidfVectorizer\n",
    "\n",
    "from sklearn.feature_extraction.text import CountVectorizer\n",
    "from sklearn.metrics import confusion_matrix\n",
    "from sklearn import metrics\n",
    "from sklearn.metrics import roc_curve, auc\n",
    "from nltk.stem.porter import PorterStemmer\n",
    "from sklearn.decomposition import TruncatedSVD\n",
    "\n",
    "import re\n",
    "from nltk.corpus import stopwords\n",
    "from nltk.stem import PorterStemmer\n",
    "from nltk.stem.wordnet import WordNetLemmatizer\n",
    "\n",
    "from gensim.models import Word2Vec\n",
    "from gensim.models import KeyedVectors\n",
    "import pickle\n",
    "\n",
    "from sklearn.cross_validation import train_test_split\n",
    "from sklearn.neighbors import KNeighborsClassifier\n",
    "from sklearn.metrics import accuracy_score\n",
    "from sklearn.metrics import classification_report\n",
    "from sklearn.cross_validation import cross_val_score\n",
    "from collections import Counter\n",
    "from sklearn.metrics import accuracy_score\n",
    "from sklearn import cross_validation\n",
    "from prettytable import PrettyTable\n",
    "\n",
    "import xgboost as xgb\n",
    "from sklearn.model_selection import StratifiedKFold\n",
    "from sklearn.ensemble import RandomForestClassifier"
   ]
  },
  {
   "cell_type": "markdown",
   "metadata": {},
   "source": [
    "# Import the data"
   ]
  },
  {
   "cell_type": "code",
   "execution_count": 0,
   "metadata": {
    "colab": {},
    "colab_type": "code",
    "id": "VCYK5rf3aAMl"
   },
   "outputs": [],
   "source": [
    "import pandas as pd\n",
    "final = pd.read_csv(\"final.csv\")\n",
    "p = final.groupby('Score')\n",
    "pos = p.get_group('Positive') #Gets the groups with Positive score\n",
    "neg = p.get_group('Negative') #Gets the groups with Negative score\n",
    "pos_2000 = pos.sample(142897) #Gets 1000 reviews of positive and negative scores\n",
    "neg_2000 = neg.sample(57103)\n",
    "grouped_data = pd.concat([pos_2000, neg_2000], ignore_index = True) #This data now contains positive and negative data in order.\n",
    "print(\"The shape of grouped data is {}\".format(grouped_data.shape))"
   ]
  },
  {
   "cell_type": "markdown",
   "metadata": {
    "colab_type": "text",
    "id": "XyQc9vqWaAMw"
   },
   "source": [
    "Observations:\n",
    "We choose 142897 positive and 57103 negative reviews from the final dataframe obtained after data cleaning process."
   ]
  },
  {
   "cell_type": "code",
   "execution_count": 0,
   "metadata": {
    "colab": {},
    "colab_type": "code",
    "id": "P2mIJz29aAMz"
   },
   "outputs": [],
   "source": [
    "import datetime\n",
    "grouped_data['Time'] = grouped_data['Time'].map(lambda a: datetime.datetime.fromtimestamp(int(a)).strftime('%Y-%m-%d %H:%M:%S'))\n",
    "grouped_data = grouped_data.sort_values('Time', axis=0, ascending=True, kind='quicksort')\n",
    "scores = grouped_data['Score']\n",
    "print(\"The shape of grouped data after time based splitting is {}\".format(grouped_data.shape))"
   ]
  },
  {
   "cell_type": "markdown",
   "metadata": {
    "colab_type": "text",
    "id": "x5vHNZ_KaAM6"
   },
   "source": [
    "Observations:\n",
    "Time based splitting is done on the obtained dataframe."
   ]
  },
  {
   "cell_type": "code",
   "execution_count": 0,
   "metadata": {
    "colab": {},
    "colab_type": "code",
    "id": "Te2CFOSGaAM8"
   },
   "outputs": [],
   "source": [
    "grouped_data.to_csv(\"grouped_data_200\")"
   ]
  },
  {
   "cell_type": "markdown",
   "metadata": {
    "colab_type": "text",
    "id": "CqtaQHlzaAM_"
   },
   "source": [
    "Observations:\n",
    "Saving this dataframe into a new csv file."
   ]
  },
  {
   "cell_type": "markdown",
   "metadata": {},
   "source": [
    "# Utility Functions"
   ]
  },
  {
   "cell_type": "code",
   "execution_count": 0,
   "metadata": {
    "colab": {},
    "colab_type": "code",
    "id": "bvRx-hoBLaH-"
   },
   "outputs": [],
   "source": [
    "#We create a few utility functions whose use is described below\n",
    "\n",
    "\n",
    "def xgb_gbdt(x_train,y_train,x_test,y_test,words): #Perform XGBoost, plot confusion matrix and get feature importances\n",
    "    my_cv = TimeSeriesSplit(n_splits=10).split(x_train)\n",
    "    param_grid = {'n_estimators' : list(range(100,301,100)), 'max_depth' : list(range(10,16,5)), 'learning_rate' : [0.01, 0.1, 0.2]} #Parameters for grid search\n",
    "    model1 = xgb.XGBClassifier()\n",
    "    f1_scorer = make_scorer(f1_score, pos_label='Positive') #This lets the f1 scorer know that positive label is 'Positive'\n",
    "    \n",
    "    gsearch1 = GridSearchCV(estimator = model1, param_grid = param_grid,cv=my_cv, scoring = f1_scorer) #Initiate GridsearchCV\n",
    "    gsearch1.fit(x_train, y_train) #Fitting the model\n",
    "    print(\"The optimal base learners found using GridSearchCV is\",gsearch1.best_params_['n_estimators'])\n",
    "    print(\"The optimal max depth found using GridSearchCV is\",gsearch1.best_params_['max_depth'])\n",
    "    print(\"The optimal learning rate found using GridSearchCV is\",gsearch1.best_params_['learning_rate'])\n",
    "    print(\"The best CV value found is\",gsearch1.best_index_)\n",
    "    \n",
    "    gpred1 = gsearch1.predict(x_test) #Predicting test data\n",
    "    print('\\nThe test accuracy of SVM for max_depth = %d is %f%%' % (gsearch1.best_params_['max_depth'], accuracy_score(y_test, gpred1) * 100))\n",
    "    print('\\nThe test precision of SVM for max_depth = %d is %f%%' % (gsearch1.best_params_['max_depth'], precision_score(y_test,gpred1,pos_label='Positive')*100))\n",
    "    print('\\nThe test recall of SVM for max_depth = %d is %f%%' % (gsearch1.best_params_['max_depth'], recall_score(y_test,gpred1,pos_label='Positive')*100))\n",
    "    print('\\nThe test f1 score of SVM for max_depth = %d is %f%%' % (gsearch1.best_params_['max_depth'], f1_score(y_test,gpred1,pos_label='Positive')*100))\n",
    "    print('*'*50)\n",
    "    \n",
    "    \n",
    "    #Plot confusion matrix\n",
    "    \n",
    "    #We are using 2 types of confusion matrix here. SKLearn confusion matrix and pandas_ml confusion matrix.\n",
    "    #SKLearn confusion matrix is used to plot it diagramatically whereas pandas_ml confusion matrix is used just for intresting stats like TPR, TNR etc..\n",
    "    \n",
    "    \n",
    "    y_true = np.array(y_test) #Converting y_test and gpred1 to array for input into pandas_ml Confusion matrix\n",
    "    y_pred = np.array(gpred1)\n",
    "    labels = ['Negative','Positive']\n",
    "    print(confusion_matrix(y_test, gpred1)) #This prints TP, TN, FP, FN numerically before plotting it diagramatically.\n",
    "    cm = ConfusionMatrix(np.where(y_true == 'Positive', True, False), np.where(y_pred == 'Negative',False, True)) #This the confusion matrix of pandas_ml which provides interesting stats.\n",
    "    confusion_matrix_plot = confusion_matrix(y_test,gpred1) #We are plotting confusion matrix of sklearn\n",
    "    heatmap = sns.heatmap(confusion_matrix_plot, annot=True,cmap='Blues', fmt='g',xticklabels=['Negative','Positive'],yticklabels=['Negative','Positive'])\n",
    "    plt.title('Confusion matrix of the classifier')\n",
    "    plt.xlabel('Predicted')\n",
    "    plt.ylabel('True')\n",
    "    plt.show()\n",
    "    print(\"*\"*50)\n",
    "    print(\"The True Positive Rate observed is\",cm.TPR) #This prints the True Positive Rate of the confusion matrix (using pandas_ml confusion matrix).\n",
    "    print(\"The True Negative Rate observed is\",cm.TNR)\n",
    "    print(\"The False Positive Rate observed is\",cm.FPR)\n",
    "    print(\"The False Negative Rate observed is\",cm.FNR)\n",
    "    print(\"*\"*50)\n",
    "    print(\"The stats observed for confusion matrix are:\")\n",
    "    cm.print_stats()#Prints all the stats of the confusion matrix plotted (using pandas_ml confusion matrix).\n",
    "    \n",
    "    print('\\n')\n",
    "    \n",
    "    \n",
    "    if len(x_train[0])!=len(words): #This checks if the n_features matches with the number of words. Only matches for BOW and TFIDF.\n",
    "        words=None #If they dont match then feature names in the decision tree graph will be set to None.\n",
    "    \n",
    "    print('\\n')\n",
    "    print('*'*70)\n",
    "        \n",
    "    if words == None: #If the input is 1, a dataframe is output with important features.\n",
    "        df = 0 #If input is 0 the data frame is not obtained.        \n",
    "    else:\n",
    "        #Get feature Importances\n",
    "        clf = gsearch1.best_estimator_\n",
    "        clf.fit(x_train,y_train)\n",
    "        feat_imps = clf.feature_importances_ #Storing the feature importances into a new variable\n",
    "        \n",
    "        df = pd.DataFrame({'Words': words, 'Coefficients':feat_imps}) #Create a dataframe for feature importances of all the words\n",
    "    return df\n",
    "\n",
    "def rf_classifier(x_train,y_train,x_test,y_test,words): #Perform random forests, plot confusion matrix and get feature importances\n",
    "    my_cv = TimeSeriesSplit(n_splits=10).split(x_train)\n",
    "    param_grid = {'n_estimators' : list(range(100,1001,100))} #Parameters for grid search\n",
    "    model1 = RandomForestClassifier()\n",
    "    f1_scorer = make_scorer(f1_score, pos_label='Positive') #This lets the f1 scorer know that positive label is 'Positive'\n",
    "    \n",
    "    gsearch1 = GridSearchCV(estimator = model1, param_grid = param_grid,cv=my_cv, scoring = f1_scorer) #Initiate GridsearchCV\n",
    "    gsearch1.fit(x_train, y_train) #Fitting the model\n",
    "    print(\"The optimal base learners found using GridSearchCV is\",gsearch1.best_params_['n_estimators'])\n",
    "    print(\"The best CV value found is\",gsearch1.best_index_)\n",
    "    \n",
    "    gpred1 = gsearch1.predict(x_test) #Predicting test data\n",
    "    print('\\nThe test accuracy of SVM for n_estimators = %d is %f%%' % (gsearch1.best_params_['n_estimators'], accuracy_score(y_test, gpred1) * 100))\n",
    "    print('\\nThe test precision of SVM for n_estimators = %d is %f%%' % (gsearch1.best_params_['n_estimators'], precision_score(y_test,gpred1,pos_label='Positive')*100))\n",
    "    print('\\nThe test recall of SVM for n_estimators = %d is %f%%' % (gsearch1.best_params_['n_estimators'], recall_score(y_test,gpred1,pos_label='Positive')*100))\n",
    "    print('\\nThe test f1 score of SVM for n_estimators = %d is %f%%' % (gsearch1.best_params_['n_estimators'], f1_score(y_test,gpred1,pos_label='Positive')*100))\n",
    "    print('*'*50)\n",
    "    \n",
    "    \n",
    "    #Plot confusion matrix\n",
    "    \n",
    "    #We are using 2 types of confusion matrix here. SKLearn confusion matrix and pandas_ml confusion matrix.\n",
    "    #SKLearn confusion matrix is used to plot it diagramatically whereas pandas_ml confusion matrix is used just for intresting stats like TPR, TNR etc..\n",
    "    \n",
    "    \n",
    "    y_true = np.array(y_test) #Converting y_test and gpred1 to array for input into pandas_ml Confusion matrix\n",
    "    y_pred = np.array(gpred1)\n",
    "    labels = ['Negative','Positive']\n",
    "    print(confusion_matrix(y_test, gpred1)) #This prints TP, TN, FP, FN numerically before plotting it diagramatically.\n",
    "    cm = ConfusionMatrix(np.where(y_true == 'Positive', True, False), np.where(y_pred == 'Negative',False, True)) #This the confusion matrix of pandas_ml which provides interesting stats.\n",
    "    confusion_matrix_plot = confusion_matrix(y_test,gpred1) #We are plotting confusion matrix of sklearn\n",
    "    heatmap = sns.heatmap(confusion_matrix_plot, annot=True,cmap='Blues', fmt='g',xticklabels=['Negative','Positive'],yticklabels=['Negative','Positive'])\n",
    "    plt.title('Confusion matrix of the classifier')\n",
    "    plt.xlabel('Predicted')\n",
    "    plt.ylabel('True')\n",
    "    plt.show()\n",
    "    print(\"*\"*50)\n",
    "    print(\"The True Positive Rate observed is\",cm.TPR) #This prints the True Positive Rate of the confusion matrix (using pandas_ml confusion matrix).\n",
    "    print(\"The True Negative Rate observed is\",cm.TNR)\n",
    "    print(\"The False Positive Rate observed is\",cm.FPR)\n",
    "    print(\"The False Negative Rate observed is\",cm.FNR)\n",
    "    print(\"*\"*50)\n",
    "    print(\"The stats observed for confusion matrix are:\")\n",
    "    cm.print_stats()#Prints all the stats of the confusion matrix plotted (using pandas_ml confusion matrix).\n",
    "    \n",
    "    print('\\n')\n",
    "    \n",
    "    \n",
    "    if len(x_train[0])!=len(words): #This checks if the n_features matches with the number of words. Only matches for BOW and TFIDF.\n",
    "        words=None #If they dont match then feature names in the decision tree graph will be set to None.\n",
    "    \n",
    "    print('\\n')\n",
    "    print('*'*70)\n",
    "        \n",
    "    if words == None: #If the input is 1, a dataframe is output with important features.\n",
    "        df = 0 #If input is 0 the data frame is not obtained.        \n",
    "    else:\n",
    "        #Get feature Importances\n",
    "        clf = gsearch1.best_estimator_\n",
    "        clf.fit(x_train,y_train)\n",
    "        feat_imps = clf.feature_importances_ #Storing the feature importances into a new variable\n",
    "        \n",
    "        df = pd.DataFrame({'Words': words, 'Coefficients':feat_imps}) #Create a dataframe for feature importances of all the words\n",
    "    return df"
   ]
  },
  {
   "cell_type": "markdown",
   "metadata": {
    "colab_type": "raw",
    "id": "lER5Sy1CaANO"
   },
   "source": [
    "**Observations:**\n",
    "\n",
    "1) The first function finds the number of base learners, maximum depth and learning rate for XGBClassifier, plots confusion matrix and lists all of its stats using GridsearchCV. \n",
    "\n",
    "2) It also returns a dataframe with all the important features. \n",
    "\n",
    "3) The second function finds the number of base learners for RandomForestClassifier, plots confusion matrix and lists all of its stats using GridSearchCV. \n",
    "\n",
    "4) It also returns a dataframe with all the important features."
   ]
  },
  {
   "cell_type": "markdown",
   "metadata": {
    "colab_type": "text",
    "id": "8uyA6VM9N4s0"
   },
   "source": [
    "# Bag of Words"
   ]
  },
  {
   "cell_type": "code",
   "execution_count": 0,
   "metadata": {
    "colab": {
     "base_uri": "https://localhost:8080/",
     "height": 34
    },
    "colab_type": "code",
    "id": "AAzW1SL3Qb-n",
    "outputId": "0d9d07c5-cc1f-4871-c6e4-925559b65022"
   },
   "outputs": [
    {
     "name": "stdout",
     "output_type": "stream",
     "text": [
      "The shape of grouped data is (19999, 12)\n"
     ]
    }
   ],
   "source": [
    "import pandas as pd\n",
    "final = pd.read_csv(\"grouped_data_200.csv\")\n",
    "p = final.groupby('Score')\n",
    "pos = p.get_group('Positive') #Gets the groups with Positive score\n",
    "neg = p.get_group('Negative') #Gets the groups with Negative score\n",
    "pos_2000 = pos.sample(12000) #Gets 12000 reviews of positive and 8000 negative scores\n",
    "neg_2000 = neg.sample(8000)\n",
    "grouped_data = pd.concat([pos_2000, neg_2000], ignore_index = True) #This data now contains positive and negative data in order.\n",
    "grouped_data.dropna(inplace = True) #Drops rows with Nan\n",
    "grouped_data.reset_index(inplace=True) #Replaces missing indexes\n",
    "grouped_data.drop(['Unnamed: 0', 'Unnamed: 0.1'], axis=1, inplace=True)\n",
    "grouped_data = grouped_data.sort_values('Time', axis=0, ascending=True, kind='quicksort')\n",
    "scores=grouped_data['Score']\n",
    "print(\"The shape of grouped data is {}\".format(grouped_data.shape))"
   ]
  },
  {
   "cell_type": "markdown",
   "metadata": {
    "colab_type": "text",
    "id": "RB84yNisaANW"
   },
   "source": [
    "Observations:\n",
    "A csv file is imported which consists of 200000 data points. These data points are already sorted on the basis of time. We create a new dataframe with over 20000 data points."
   ]
  },
  {
   "cell_type": "code",
   "execution_count": 0,
   "metadata": {
    "colab": {},
    "colab_type": "code",
    "id": "ofP8djHc7bab"
   },
   "outputs": [],
   "source": [
    "x_train, x_test, y_train, y_test = train_test_split(grouped_data,scores,test_size=0.3,shuffle=False)"
   ]
  },
  {
   "cell_type": "markdown",
   "metadata": {
    "colab_type": "text",
    "id": "t8p84yshaANg"
   },
   "source": [
    "Observations:\n",
    "The data is split into train and test."
   ]
  },
  {
   "cell_type": "code",
   "execution_count": 0,
   "metadata": {
    "colab": {
     "base_uri": "https://localhost:8080/",
     "height": 51
    },
    "colab_type": "code",
    "id": "P_5vpR8QaANh",
    "outputId": "bd5043d7-07db-4f8f-db2e-b754336302c5"
   },
   "outputs": [
    {
     "name": "stdout",
     "output_type": "stream",
     "text": [
      "The shape of train data for BOW is (13999, 15322)\n",
      "The shape of test data for BOW is (6000, 15322)\n"
     ]
    }
   ],
   "source": [
    "count_vect = CountVectorizer()\n",
    "vocab = count_vect.fit(x_train['CleanedText'].values.astype('U'))\n",
    "data_train = count_vect.transform(x_train['CleanedText'].values.astype('U'))\n",
    "data_test = count_vect.transform(x_test['CleanedText'].values.astype('U'))\n",
    "words = count_vect.get_feature_names()\n",
    "print(\"The shape of train data for BOW is {}\".format(data_train.shape))\n",
    "print(\"The shape of test data for BOW is {}\".format(data_test.shape))"
   ]
  },
  {
   "cell_type": "markdown",
   "metadata": {
    "colab_type": "text",
    "id": "PkcD4xDzaANp"
   },
   "source": [
    "Observations:\n",
    "We build out Bag of words vocabulary only on train data and get vectors of train and test data."
   ]
  },
  {
   "cell_type": "code",
   "execution_count": 0,
   "metadata": {
    "colab": {},
    "colab_type": "code",
    "id": "e8ULfu9AwfcJ"
   },
   "outputs": [],
   "source": [
    "from sklearn.preprocessing import normalize\n",
    "data_train=normalize(data_train)\n",
    "data_test=normalize(data_test)"
   ]
  },
  {
   "cell_type": "markdown",
   "metadata": {
    "colab_type": "text",
    "id": "9tNeGlcrOjXd"
   },
   "source": [
    "Observations: We normalize the data."
   ]
  },
  {
   "cell_type": "code",
   "execution_count": 0,
   "metadata": {
    "colab": {
     "base_uri": "https://localhost:8080/",
     "height": 1243
    },
    "colab_type": "code",
    "id": "lse3oKmuzocS",
    "outputId": "71e41b22-78d6-4ed0-8a4f-78b01ff88164"
   },
   "outputs": [
    {
     "name": "stdout",
     "output_type": "stream",
     "text": [
      "The optimal base learners found using GridSearchCV is 300\n",
      "The optimal max depth found using GridSearchCV is 10\n",
      "The optimal learning rate found using GridSearchCV is 0.2\n",
      "The best CV value found is 14\n",
      "\n",
      "The test accuracy of SVM for max_depth = 10 is 85.733333%\n",
      "\n",
      "The test precision of SVM for max_depth = 10 is 85.346535%\n",
      "\n",
      "The test recall of SVM for max_depth = 10 is 89.925484%\n",
      "\n",
      "The test f1 score of SVM for max_depth = 10 is 87.576197%\n",
      "**************************************************\n",
      "[[2127  518]\n",
      " [ 338 3017]]\n"
     ]
    },
    {
     "data": {
      "image/png": "[encoded data removed]",
      "text/plain": [
       "<matplotlib.figure.Figure at 0x7f61a0c38908>"
      ]
     },
     "metadata": {
      "tags": []
     },
     "output_type": "display_data"
    },
    {
     "name": "stdout",
     "output_type": "stream",
     "text": [
      "**************************************************\n",
      "The True Positive Rate observed is 0.8992548435171386\n",
      "The True Negative Rate observed is 0.8041587901701324\n",
      "The False Positive Rate observed is 0.19584120982986766\n",
      "The False Negative Rate observed is 0.1007451564828614\n",
      "**************************************************\n",
      "The stats observed for confusion matrix are:\n",
      "population: 6000\n",
      "P: 3355\n",
      "N: 2645\n",
      "PositiveTest: 3535\n",
      "NegativeTest: 2465\n",
      "TP: 3017\n",
      "TN: 2127\n",
      "FP: 518\n",
      "FN: 338\n",
      "TPR: 0.8992548435171386\n",
      "TNR: 0.8041587901701324\n",
      "PPV: 0.8534653465346534\n",
      "NPV: 0.8628803245436105\n",
      "FPR: 0.19584120982986766\n",
      "FDR: 0.14653465346534653\n",
      "FNR: 0.1007451564828614\n",
      "ACC: 0.8573333333333333\n",
      "F1_score: 0.8757619738751814\n",
      "MCC: 0.7098502035424856\n",
      "informedness: 0.703413633687271\n",
      "markedness: 0.7163456710782641\n",
      "prevalence: 0.5591666666666667\n",
      "LRP: 4.591754944213961\n",
      "LRN: 0.12528017813689157\n",
      "DOR: 36.6518870941948\n",
      "FOR: 0.13711967545638945\n",
      "\n",
      "\n",
      "The number of words available are 15322\n"
     ]
    }
   ],
   "source": [
    "df = xgb_gbdt(data_train, y_train, data_test, y_test, words)"
   ]
  },
  {
   "cell_type": "code",
   "execution_count": 0,
   "metadata": {
    "colab": {
     "base_uri": "https://localhost:8080/",
     "height": 514
    },
    "colab_type": "code",
    "id": "kXqeiu9BzM_1",
    "outputId": "cd1597b1-f741-4ba3-91c1-cf3fe3ca12c5"
   },
   "outputs": [
    {
     "data": {
      "text/html": [
       "<div>\n",
       "<style scoped>\n",
       "    .dataframe tbody tr th:only-of-type {\n",
       "        vertical-align: middle;\n",
       "    }\n",
       "\n",
       "    .dataframe tbody tr th {\n",
       "        vertical-align: top;\n",
       "    }\n",
       "\n",
       "    .dataframe thead th {\n",
       "        text-align: right;\n",
       "    }\n",
       "</style>\n",
       "<table border=\"1\" class=\"dataframe\">\n",
       "  <thead>\n",
       "    <tr style=\"text-align: right;\">\n",
       "      <th></th>\n",
       "      <th>Coefficients</th>\n",
       "      <th>Words</th>\n",
       "    </tr>\n",
       "  </thead>\n",
       "  <tbody>\n",
       "    <tr>\n",
       "      <th>7662</th>\n",
       "      <td>0.035457</td>\n",
       "      <td>like</td>\n",
       "    </tr>\n",
       "    <tr>\n",
       "      <th>13321</th>\n",
       "      <td>0.035017</td>\n",
       "      <td>tast</td>\n",
       "    </tr>\n",
       "    <tr>\n",
       "      <th>10506</th>\n",
       "      <td>0.024283</td>\n",
       "      <td>product</td>\n",
       "    </tr>\n",
       "    <tr>\n",
       "      <th>5655</th>\n",
       "      <td>0.022523</td>\n",
       "      <td>good</td>\n",
       "    </tr>\n",
       "    <tr>\n",
       "      <th>9331</th>\n",
       "      <td>0.021731</td>\n",
       "      <td>one</td>\n",
       "    </tr>\n",
       "    <tr>\n",
       "      <th>4943</th>\n",
       "      <td>0.021116</td>\n",
       "      <td>flavor</td>\n",
       "    </tr>\n",
       "    <tr>\n",
       "      <th>15078</th>\n",
       "      <td>0.020412</td>\n",
       "      <td>would</td>\n",
       "    </tr>\n",
       "    <tr>\n",
       "      <th>13865</th>\n",
       "      <td>0.019004</td>\n",
       "      <td>tri</td>\n",
       "    </tr>\n",
       "    <tr>\n",
       "      <th>7839</th>\n",
       "      <td>0.016189</td>\n",
       "      <td>love</td>\n",
       "    </tr>\n",
       "    <tr>\n",
       "      <th>5782</th>\n",
       "      <td>0.014869</td>\n",
       "      <td>great</td>\n",
       "    </tr>\n",
       "    <tr>\n",
       "      <th>1808</th>\n",
       "      <td>0.014253</td>\n",
       "      <td>buy</td>\n",
       "    </tr>\n",
       "    <tr>\n",
       "      <th>14358</th>\n",
       "      <td>0.012581</td>\n",
       "      <td>use</td>\n",
       "    </tr>\n",
       "    <tr>\n",
       "      <th>5478</th>\n",
       "      <td>0.011438</td>\n",
       "      <td>get</td>\n",
       "    </tr>\n",
       "    <tr>\n",
       "      <th>9385</th>\n",
       "      <td>0.010646</td>\n",
       "      <td>order</td>\n",
       "    </tr>\n",
       "    <tr>\n",
       "      <th>13637</th>\n",
       "      <td>0.010030</td>\n",
       "      <td>time</td>\n",
       "    </tr>\n",
       "  </tbody>\n",
       "</table>\n",
       "</div>"
      ],
      "text/plain": [
       "       Coefficients    Words\n",
       "7662       0.035457     like\n",
       "13321      0.035017     tast\n",
       "10506      0.024283  product\n",
       "5655       0.022523     good\n",
       "9331       0.021731      one\n",
       "4943       0.021116   flavor\n",
       "15078      0.020412    would\n",
       "13865      0.019004      tri\n",
       "7839       0.016189     love\n",
       "5782       0.014869    great\n",
       "1808       0.014253      buy\n",
       "14358      0.012581      use\n",
       "5478       0.011438      get\n",
       "9385       0.010646    order\n",
       "13637      0.010030     time"
      ]
     },
     "execution_count": 39,
     "metadata": {
      "tags": []
     },
     "output_type": "execute_result"
    }
   ],
   "source": [
    "df.sort_values(['Coefficients'], ascending=False).head(15)"
   ]
  },
  {
   "cell_type": "code",
   "execution_count": 0,
   "metadata": {
    "colab": {
     "base_uri": "https://localhost:8080/",
     "height": 1209
    },
    "colab_type": "code",
    "id": "FBpJXyhw3qWl",
    "outputId": "3b050122-1e05-4274-dfa9-b189a847649e"
   },
   "outputs": [
    {
     "name": "stdout",
     "output_type": "stream",
     "text": [
      "The optimal base learners found using GridSearchCV is 400\n",
      "The best CV value found is 3\n",
      "\n",
      "The test accuracy of SVM for n_estimators = 400 is 83.600000%\n",
      "\n",
      "The test precision of SVM for n_estimators = 400 is 80.358515%\n",
      "\n",
      "The test recall of SVM for n_estimators = 400 is 93.532042%\n",
      "\n",
      "The test f1 score of SVM for n_estimators = 400 is 86.446281%\n",
      "**************************************************\n",
      "[[1878  767]\n",
      " [ 217 3138]]\n"
     ]
    },
    {
     "data": {
      "image/png": "[encoded data removed]",
      "text/plain": [
       "<matplotlib.figure.Figure at 0x7f61aa865710>"
      ]
     },
     "metadata": {
      "tags": []
     },
     "output_type": "display_data"
    },
    {
     "name": "stdout",
     "output_type": "stream",
     "text": [
      "**************************************************\n",
      "The True Positive Rate observed is 0.9353204172876304\n",
      "The True Negative Rate observed is 0.7100189035916824\n",
      "The False Positive Rate observed is 0.2899810964083176\n",
      "The False Negative Rate observed is 0.0646795827123696\n",
      "**************************************************\n",
      "The stats observed for confusion matrix are:\n",
      "population: 6000\n",
      "P: 3355\n",
      "N: 2645\n",
      "PositiveTest: 3905\n",
      "NegativeTest: 2095\n",
      "TP: 3138\n",
      "TN: 1878\n",
      "FP: 767\n",
      "FN: 217\n",
      "TPR: 0.9353204172876304\n",
      "TNR: 0.7100189035916824\n",
      "PPV: 0.803585147247119\n",
      "NPV: 0.8964200477326969\n",
      "FPR: 0.2899810964083176\n",
      "FDR: 0.19641485275288093\n",
      "FNR: 0.0646795827123696\n",
      "ACC: 0.836\n",
      "F1_score: 0.8644628099173554\n",
      "MCC: 0.6721167139271761\n",
      "informedness: 0.6453393208793128\n",
      "markedness: 0.7000051949798158\n",
      "prevalence: 0.5591666666666667\n",
      "LRP: 3.2254530687428713\n",
      "LRN: 0.09109557842077613\n",
      "DOR: 35.407350440702\n",
      "FOR: 0.1035799522673031\n",
      "\n",
      "\n",
      "The number of words available are 15322\n"
     ]
    }
   ],
   "source": [
    "df = rf_classifier(data_train, y_train, data_test, y_test, words)"
   ]
  },
  {
   "cell_type": "code",
   "execution_count": 0,
   "metadata": {
    "colab": {
     "base_uri": "https://localhost:8080/",
     "height": 514
    },
    "colab_type": "code",
    "id": "lzwEe-9D9C_l",
    "outputId": "391aa97d-42f2-41fc-b1dd-3e4500c1973d"
   },
   "outputs": [
    {
     "data": {
      "text/html": [
       "<div>\n",
       "<style scoped>\n",
       "    .dataframe tbody tr th:only-of-type {\n",
       "        vertical-align: middle;\n",
       "    }\n",
       "\n",
       "    .dataframe tbody tr th {\n",
       "        vertical-align: top;\n",
       "    }\n",
       "\n",
       "    .dataframe thead th {\n",
       "        text-align: right;\n",
       "    }\n",
       "</style>\n",
       "<table border=\"1\" class=\"dataframe\">\n",
       "  <thead>\n",
       "    <tr style=\"text-align: right;\">\n",
       "      <th></th>\n",
       "      <th>Coefficients</th>\n",
       "      <th>Words</th>\n",
       "    </tr>\n",
       "  </thead>\n",
       "  <tbody>\n",
       "    <tr>\n",
       "      <th>5782</th>\n",
       "      <td>0.017341</td>\n",
       "      <td>great</td>\n",
       "    </tr>\n",
       "    <tr>\n",
       "      <th>3742</th>\n",
       "      <td>0.012915</td>\n",
       "      <td>disappoint</td>\n",
       "    </tr>\n",
       "    <tr>\n",
       "      <th>7839</th>\n",
       "      <td>0.011909</td>\n",
       "      <td>love</td>\n",
       "    </tr>\n",
       "    <tr>\n",
       "      <th>1204</th>\n",
       "      <td>0.008967</td>\n",
       "      <td>best</td>\n",
       "    </tr>\n",
       "    <tr>\n",
       "      <th>13321</th>\n",
       "      <td>0.007382</td>\n",
       "      <td>tast</td>\n",
       "    </tr>\n",
       "    <tr>\n",
       "      <th>8608</th>\n",
       "      <td>0.007250</td>\n",
       "      <td>money</td>\n",
       "    </tr>\n",
       "    <tr>\n",
       "      <th>15078</th>\n",
       "      <td>0.007040</td>\n",
       "      <td>would</td>\n",
       "    </tr>\n",
       "    <tr>\n",
       "      <th>5655</th>\n",
       "      <td>0.006831</td>\n",
       "      <td>good</td>\n",
       "    </tr>\n",
       "    <tr>\n",
       "      <th>11210</th>\n",
       "      <td>0.006457</td>\n",
       "      <td>return</td>\n",
       "    </tr>\n",
       "    <tr>\n",
       "      <th>3487</th>\n",
       "      <td>0.006121</td>\n",
       "      <td>delici</td>\n",
       "    </tr>\n",
       "    <tr>\n",
       "      <th>14732</th>\n",
       "      <td>0.005667</td>\n",
       "      <td>wast</td>\n",
       "    </tr>\n",
       "    <tr>\n",
       "      <th>905</th>\n",
       "      <td>0.005367</td>\n",
       "      <td>bad</td>\n",
       "    </tr>\n",
       "    <tr>\n",
       "      <th>10506</th>\n",
       "      <td>0.005252</td>\n",
       "      <td>product</td>\n",
       "    </tr>\n",
       "    <tr>\n",
       "      <th>13558</th>\n",
       "      <td>0.004815</td>\n",
       "      <td>thought</td>\n",
       "    </tr>\n",
       "    <tr>\n",
       "      <th>9872</th>\n",
       "      <td>0.004677</td>\n",
       "      <td>perfect</td>\n",
       "    </tr>\n",
       "  </tbody>\n",
       "</table>\n",
       "</div>"
      ],
      "text/plain": [
       "       Coefficients       Words\n",
       "5782       0.017341       great\n",
       "3742       0.012915  disappoint\n",
       "7839       0.011909        love\n",
       "1204       0.008967        best\n",
       "13321      0.007382        tast\n",
       "8608       0.007250       money\n",
       "15078      0.007040       would\n",
       "5655       0.006831        good\n",
       "11210      0.006457      return\n",
       "3487       0.006121      delici\n",
       "14732      0.005667        wast\n",
       "905        0.005367         bad\n",
       "10506      0.005252     product\n",
       "13558      0.004815     thought\n",
       "9872       0.004677     perfect"
      ]
     },
     "execution_count": 41,
     "metadata": {
      "tags": []
     },
     "output_type": "execute_result"
    }
   ],
   "source": [
    "df.sort_values(['Coefficients'], ascending=False).head(15)"
   ]
  },
  {
   "cell_type": "markdown",
   "metadata": {
    "colab_type": "text",
    "id": "Uy9lMqY-XPmF"
   },
   "source": [
    "# TFIDF"
   ]
  },
  {
   "cell_type": "code",
   "execution_count": 0,
   "metadata": {
    "colab": {
     "base_uri": "https://localhost:8080/",
     "height": 34
    },
    "colab_type": "code",
    "id": "AWFJArzTZNwn",
    "outputId": "49cd15ac-bf20-4c47-8f8b-fc77a4360cda"
   },
   "outputs": [
    {
     "name": "stdout",
     "output_type": "stream",
     "text": [
      "The shape of grouped data is (5000, 12)\n"
     ]
    }
   ],
   "source": [
    "import pandas as pd\n",
    "final = pd.read_csv(\"grouped_data_200.csv\")\n",
    "p = final.groupby('Score')\n",
    "pos = p.get_group('Positive') #Gets the groups with Positive score\n",
    "neg = p.get_group('Negative') #Gets the groups with Negative score\n",
    "pos_2000 = pos.sample(3000) #Gets 3000 reviews of positive and 2000 negative scores\n",
    "neg_2000 = neg.sample(2000)\n",
    "grouped_data = pd.concat([pos_2000, neg_2000], ignore_index = True) #This data now contains positive and negative data in order.\n",
    "grouped_data.dropna(inplace = True) #Drops rows with Nan\n",
    "grouped_data.reset_index(inplace=True) #Replaces missing indexes\n",
    "grouped_data.drop(['Unnamed: 0', 'Unnamed: 0.1'], axis=1, inplace=True)\n",
    "grouped_data = grouped_data.sort_values('Time', axis=0, ascending=True, kind='quicksort')\n",
    "scores=grouped_data['Score']\n",
    "print(\"The shape of grouped data is {}\".format(grouped_data.shape))"
   ]
  },
  {
   "cell_type": "markdown",
   "metadata": {
    "colab_type": "text",
    "id": "AYi392MLaAPJ"
   },
   "source": [
    "Observations:\n",
    "A csv file is imported which consists of 200000 data points. These data points are already sorted on the basis of time. We create a new dataframe with over 5000 data points."
   ]
  },
  {
   "cell_type": "code",
   "execution_count": 0,
   "metadata": {
    "colab": {},
    "colab_type": "code",
    "id": "bao77DWKYr_P"
   },
   "outputs": [],
   "source": [
    "x_train, x_test, y_train, y_test = train_test_split(grouped_data,scores,test_size=0.3,shuffle=False)"
   ]
  },
  {
   "cell_type": "markdown",
   "metadata": {
    "colab_type": "text",
    "id": "WAIcrN0PaAPP"
   },
   "source": [
    "Observations: Data is split into train, test and cross validate"
   ]
  },
  {
   "cell_type": "code",
   "execution_count": 0,
   "metadata": {
    "colab": {
     "base_uri": "https://localhost:8080/",
     "height": 68
    },
    "colab_type": "code",
    "id": "7bAhVkyFXVcl",
    "outputId": "95e89bd4-8178-4f7e-ac3c-366c5914ff5c"
   },
   "outputs": [
    {
     "name": "stdout",
     "output_type": "stream",
     "text": [
      "the type of count vectorizer  <class 'scipy.sparse.csr.csr_matrix'>\n",
      "The shape of train_tf_idf  (3500, 104543)\n",
      "The shape of test_tf_idf  (1500, 104543)\n"
     ]
    }
   ],
   "source": [
    "tf_idf_vect = TfidfVectorizer(ngram_range=(1,2))\n",
    "vocab_tf_idf = tf_idf_vect.fit(x_train['CleanedText'].values.astype('U')) #Converts to a sparse matrix of TF-IDF vectors.\n",
    "train_tf_idf = tf_idf_vect.transform(x_train['CleanedText'].values.astype('U'))\n",
    "test_tf_idf = tf_idf_vect.transform(x_test['CleanedText'].values.astype('U'))\n",
    "words = tf_idf_vect.get_feature_names()\n",
    "print(\"the type of count vectorizer \",type(train_tf_idf))\n",
    "print(\"The shape of train_tf_idf \",train_tf_idf.get_shape())\n",
    "print(\"The shape of test_tf_idf \", test_tf_idf.get_shape())"
   ]
  },
  {
   "cell_type": "markdown",
   "metadata": {
    "colab_type": "text",
    "id": "p4xtU-RiaAPb"
   },
   "source": [
    "Observations:\n",
    "Vocabulary of TF-IDF is trained for train data and vectors for train and test data are obtained."
   ]
  },
  {
   "cell_type": "code",
   "execution_count": 0,
   "metadata": {
    "colab": {},
    "colab_type": "code",
    "id": "WMyhqsiTfIPb"
   },
   "outputs": [],
   "source": [
    "from sklearn.preprocessing import normalize\n",
    "train_tf_idf=normalize(train_tf_idf)\n",
    "test_tf_idf=normalize(test_tf_idf)"
   ]
  },
  {
   "cell_type": "markdown",
   "metadata": {
    "colab_type": "text",
    "id": "16KFlMeIaAPj"
   },
   "source": [
    "Observations:\n",
    "Data is normalized."
   ]
  },
  {
   "cell_type": "code",
   "execution_count": 0,
   "metadata": {
    "colab": {
     "base_uri": "https://localhost:8080/",
     "height": 1243
    },
    "colab_type": "code",
    "id": "yFORYOk80IHq",
    "outputId": "c907002c-51a4-408e-a179-cd11d160118c"
   },
   "outputs": [
    {
     "name": "stdout",
     "output_type": "stream",
     "text": [
      "The optimal base learners found using GridSearchCV is 200\n",
      "The optimal max depth found using GridSearchCV is 10\n",
      "The optimal learning rate found using GridSearchCV is 0.1\n",
      "The best CV value found is 7\n",
      "\n",
      "The test accuracy of SVM for max_depth = 10 is 79.200000%\n",
      "\n",
      "The test precision of SVM for max_depth = 10 is 77.661795%\n",
      "\n",
      "The test recall of SVM for max_depth = 10 is 88.361045%\n",
      "\n",
      "The test f1 score of SVM for max_depth = 10 is 82.666667%\n",
      "**************************************************\n",
      "[[444 214]\n",
      " [ 98 744]]\n"
     ]
    },
    {
     "data": {
      "image/png": "[encoded data removed]",
      "text/plain": [
       "<matplotlib.figure.Figure at 0x7f577b427400>"
      ]
     },
     "metadata": {
      "tags": []
     },
     "output_type": "display_data"
    },
    {
     "name": "stdout",
     "output_type": "stream",
     "text": [
      "**************************************************\n",
      "The True Positive Rate observed is 0.8836104513064132\n",
      "The True Negative Rate observed is 0.6747720364741642\n",
      "The False Positive Rate observed is 0.3252279635258359\n",
      "The False Negative Rate observed is 0.1163895486935867\n",
      "**************************************************\n",
      "The stats observed for confusion matrix are:\n",
      "population: 1500\n",
      "P: 842\n",
      "N: 658\n",
      "PositiveTest: 958\n",
      "NegativeTest: 542\n",
      "TP: 744\n",
      "TN: 444\n",
      "FP: 214\n",
      "FN: 98\n",
      "TPR: 0.8836104513064132\n",
      "TNR: 0.6747720364741642\n",
      "PPV: 0.7766179540709812\n",
      "NPV: 0.8191881918819188\n",
      "FPR: 0.3252279635258359\n",
      "FDR: 0.22338204592901878\n",
      "FNR: 0.1163895486935867\n",
      "ACC: 0.792\n",
      "F1_score: 0.8266666666666667\n",
      "MCC: 0.5767908789259225\n",
      "informedness: 0.5583824877805774\n",
      "markedness: 0.5958061459529\n",
      "prevalence: 0.5613333333333334\n",
      "LRP: 2.7168956867271956\n",
      "LRN: 0.17248721405491\n",
      "DOR: 15.751287430860195\n",
      "FOR: 0.18081180811808117\n",
      "\n",
      "\n",
      "The number of words available are 104543\n"
     ]
    }
   ],
   "source": [
    "df = xgb_gbdt(train_tf_idf, y_train, test_tf_idf, y_test, words, 'TFIDF_GBDT')"
   ]
  },
  {
   "cell_type": "code",
   "execution_count": 0,
   "metadata": {
    "colab": {
     "base_uri": "https://localhost:8080/",
     "height": 514
    },
    "colab_type": "code",
    "id": "qocC7c2WdOv8",
    "outputId": "a607353c-d04d-4b08-d0aa-dbd97f47cd71"
   },
   "outputs": [
    {
     "data": {
      "text/html": [
       "<div>\n",
       "<style scoped>\n",
       "    .dataframe tbody tr th:only-of-type {\n",
       "        vertical-align: middle;\n",
       "    }\n",
       "\n",
       "    .dataframe tbody tr th {\n",
       "        vertical-align: top;\n",
       "    }\n",
       "\n",
       "    .dataframe thead th {\n",
       "        text-align: right;\n",
       "    }\n",
       "</style>\n",
       "<table border=\"1\" class=\"dataframe\">\n",
       "  <thead>\n",
       "    <tr style=\"text-align: right;\">\n",
       "      <th></th>\n",
       "      <th>Coefficients</th>\n",
       "      <th>Words</th>\n",
       "    </tr>\n",
       "  </thead>\n",
       "  <tbody>\n",
       "    <tr>\n",
       "      <th>51381</th>\n",
       "      <td>0.035791</td>\n",
       "      <td>like</td>\n",
       "    </tr>\n",
       "    <tr>\n",
       "      <th>90391</th>\n",
       "      <td>0.033476</td>\n",
       "      <td>tast</td>\n",
       "    </tr>\n",
       "    <tr>\n",
       "      <th>71166</th>\n",
       "      <td>0.023504</td>\n",
       "      <td>product</td>\n",
       "    </tr>\n",
       "    <tr>\n",
       "      <th>34662</th>\n",
       "      <td>0.020655</td>\n",
       "      <td>flavor</td>\n",
       "    </tr>\n",
       "    <tr>\n",
       "      <th>39707</th>\n",
       "      <td>0.020299</td>\n",
       "      <td>good</td>\n",
       "    </tr>\n",
       "    <tr>\n",
       "      <th>53847</th>\n",
       "      <td>0.020299</td>\n",
       "      <td>love</td>\n",
       "    </tr>\n",
       "    <tr>\n",
       "      <th>63263</th>\n",
       "      <td>0.020121</td>\n",
       "      <td>one</td>\n",
       "    </tr>\n",
       "    <tr>\n",
       "      <th>38252</th>\n",
       "      <td>0.018875</td>\n",
       "      <td>get</td>\n",
       "    </tr>\n",
       "    <tr>\n",
       "      <th>97797</th>\n",
       "      <td>0.016382</td>\n",
       "      <td>use</td>\n",
       "    </tr>\n",
       "    <tr>\n",
       "      <th>40884</th>\n",
       "      <td>0.014779</td>\n",
       "      <td>great</td>\n",
       "    </tr>\n",
       "    <tr>\n",
       "      <th>26799</th>\n",
       "      <td>0.012999</td>\n",
       "      <td>dont</td>\n",
       "    </tr>\n",
       "    <tr>\n",
       "      <th>59562</th>\n",
       "      <td>0.012999</td>\n",
       "      <td>much</td>\n",
       "    </tr>\n",
       "    <tr>\n",
       "      <th>103103</th>\n",
       "      <td>0.011574</td>\n",
       "      <td>would</td>\n",
       "    </tr>\n",
       "    <tr>\n",
       "      <th>95677</th>\n",
       "      <td>0.011396</td>\n",
       "      <td>tri</td>\n",
       "    </tr>\n",
       "    <tr>\n",
       "      <th>12486</th>\n",
       "      <td>0.010506</td>\n",
       "      <td>buy</td>\n",
       "    </tr>\n",
       "  </tbody>\n",
       "</table>\n",
       "</div>"
      ],
      "text/plain": [
       "        Coefficients    Words\n",
       "51381       0.035791     like\n",
       "90391       0.033476     tast\n",
       "71166       0.023504  product\n",
       "34662       0.020655   flavor\n",
       "39707       0.020299     good\n",
       "53847       0.020299     love\n",
       "63263       0.020121      one\n",
       "38252       0.018875      get\n",
       "97797       0.016382      use\n",
       "40884       0.014779    great\n",
       "26799       0.012999     dont\n",
       "59562       0.012999     much\n",
       "103103      0.011574    would\n",
       "95677       0.011396      tri\n",
       "12486       0.010506      buy"
      ]
     },
     "execution_count": 29,
     "metadata": {
      "tags": []
     },
     "output_type": "execute_result"
    }
   ],
   "source": [
    "df.sort_values(['Coefficients'], ascending=False).head(15)"
   ]
  },
  {
   "cell_type": "code",
   "execution_count": 0,
   "metadata": {
    "colab": {
     "base_uri": "https://localhost:8080/",
     "height": 1209
    },
    "colab_type": "code",
    "id": "Rx1-ZCjyQ1Hc",
    "outputId": "cc05d5b3-b357-479a-9dc5-7e992ae5bb90"
   },
   "outputs": [
    {
     "name": "stdout",
     "output_type": "stream",
     "text": [
      "The optimal base learners found using GridSearchCV is 100\n",
      "The best CV value found is 0\n",
      "\n",
      "The test accuracy of SVM for n_estimators = 100 is 76.066667%\n",
      "\n",
      "The test precision of SVM for n_estimators = 100 is 72.135655%\n",
      "\n",
      "The test recall of SVM for n_estimators = 100 is 93.467933%\n",
      "\n",
      "The test f1 score of SVM for n_estimators = 100 is 81.427832%\n",
      "**************************************************\n",
      "[[354 304]\n",
      " [ 55 787]]\n"
     ]
    },
    {
     "data": {
      "image/png": "[encoded data removed]",
      "text/plain": [
       "<matplotlib.figure.Figure at 0x7f57496d07b8>"
      ]
     },
     "metadata": {
      "tags": []
     },
     "output_type": "display_data"
    },
    {
     "name": "stdout",
     "output_type": "stream",
     "text": [
      "**************************************************\n",
      "The True Positive Rate observed is 0.9346793349168646\n",
      "The True Negative Rate observed is 0.5379939209726444\n",
      "The False Positive Rate observed is 0.46200607902735563\n",
      "The False Negative Rate observed is 0.06532066508313539\n",
      "**************************************************\n",
      "The stats observed for confusion matrix are:\n",
      "population: 1500\n",
      "P: 842\n",
      "N: 658\n",
      "PositiveTest: 1091\n",
      "NegativeTest: 409\n",
      "TP: 787\n",
      "TN: 354\n",
      "FP: 304\n",
      "FN: 55\n",
      "TPR: 0.9346793349168646\n",
      "TNR: 0.5379939209726444\n",
      "PPV: 0.7213565536205316\n",
      "NPV: 0.8655256723716381\n",
      "FPR: 0.46200607902735563\n",
      "FDR: 0.27864344637946836\n",
      "FNR: 0.06532066508313539\n",
      "ACC: 0.7606666666666667\n",
      "F1_score: 0.8142783238489395\n",
      "MCC: 0.5266911168639562\n",
      "informedness: 0.47267325588950904\n",
      "markedness: 0.5868822259921698\n",
      "prevalence: 0.5613333333333334\n",
      "LRP: 2.0230888236029503\n",
      "LRN: 0.12141524752740983\n",
      "DOR: 16.662559808612443\n",
      "FOR: 0.13447432762836187\n",
      "\n",
      "\n",
      "The number of words available are 104543\n"
     ]
    }
   ],
   "source": [
    "df = rf_classifier(train_tf_idf, y_train, test_tf_idf, y_test, words, 'TFIDF_RF')"
   ]
  },
  {
   "cell_type": "code",
   "execution_count": 0,
   "metadata": {
    "colab": {
     "base_uri": "https://localhost:8080/",
     "height": 514
    },
    "colab_type": "code",
    "id": "VFdyE31GdTrx",
    "outputId": "e75a87ac-958e-4d1f-85e4-48f89ccf9e80"
   },
   "outputs": [
    {
     "data": {
      "text/html": [
       "<div>\n",
       "<style scoped>\n",
       "    .dataframe tbody tr th:only-of-type {\n",
       "        vertical-align: middle;\n",
       "    }\n",
       "\n",
       "    .dataframe tbody tr th {\n",
       "        vertical-align: top;\n",
       "    }\n",
       "\n",
       "    .dataframe thead th {\n",
       "        text-align: right;\n",
       "    }\n",
       "</style>\n",
       "<table border=\"1\" class=\"dataframe\">\n",
       "  <thead>\n",
       "    <tr style=\"text-align: right;\">\n",
       "      <th></th>\n",
       "      <th>Coefficients</th>\n",
       "      <th>Words</th>\n",
       "    </tr>\n",
       "  </thead>\n",
       "  <tbody>\n",
       "    <tr>\n",
       "      <th>40884</th>\n",
       "      <td>0.008910</td>\n",
       "      <td>great</td>\n",
       "    </tr>\n",
       "    <tr>\n",
       "      <th>25703</th>\n",
       "      <td>0.007758</td>\n",
       "      <td>disappoint</td>\n",
       "    </tr>\n",
       "    <tr>\n",
       "      <th>53847</th>\n",
       "      <td>0.007391</td>\n",
       "      <td>love</td>\n",
       "    </tr>\n",
       "    <tr>\n",
       "      <th>100111</th>\n",
       "      <td>0.005160</td>\n",
       "      <td>wast</td>\n",
       "    </tr>\n",
       "    <tr>\n",
       "      <th>8062</th>\n",
       "      <td>0.004826</td>\n",
       "      <td>best</td>\n",
       "    </tr>\n",
       "    <tr>\n",
       "      <th>93656</th>\n",
       "      <td>0.004156</td>\n",
       "      <td>threw</td>\n",
       "    </tr>\n",
       "    <tr>\n",
       "      <th>100142</th>\n",
       "      <td>0.003755</td>\n",
       "      <td>wast money</td>\n",
       "    </tr>\n",
       "    <tr>\n",
       "      <th>76328</th>\n",
       "      <td>0.003712</td>\n",
       "      <td>return</td>\n",
       "    </tr>\n",
       "    <tr>\n",
       "      <th>39707</th>\n",
       "      <td>0.003697</td>\n",
       "      <td>good</td>\n",
       "    </tr>\n",
       "    <tr>\n",
       "      <th>5445</th>\n",
       "      <td>0.003613</td>\n",
       "      <td>aw</td>\n",
       "    </tr>\n",
       "    <tr>\n",
       "      <th>93440</th>\n",
       "      <td>0.003608</td>\n",
       "      <td>thought</td>\n",
       "    </tr>\n",
       "    <tr>\n",
       "      <th>74490</th>\n",
       "      <td>0.003539</td>\n",
       "      <td>receiv</td>\n",
       "    </tr>\n",
       "    <tr>\n",
       "      <th>6035</th>\n",
       "      <td>0.003463</td>\n",
       "      <td>bad</td>\n",
       "    </tr>\n",
       "    <tr>\n",
       "      <th>55126</th>\n",
       "      <td>0.003439</td>\n",
       "      <td>make</td>\n",
       "    </tr>\n",
       "    <tr>\n",
       "      <th>103103</th>\n",
       "      <td>0.003432</td>\n",
       "      <td>would</td>\n",
       "    </tr>\n",
       "  </tbody>\n",
       "</table>\n",
       "</div>"
      ],
      "text/plain": [
       "        Coefficients       Words\n",
       "40884       0.008910       great\n",
       "25703       0.007758  disappoint\n",
       "53847       0.007391        love\n",
       "100111      0.005160        wast\n",
       "8062        0.004826        best\n",
       "93656       0.004156       threw\n",
       "100142      0.003755  wast money\n",
       "76328       0.003712      return\n",
       "39707       0.003697        good\n",
       "5445        0.003613          aw\n",
       "93440       0.003608     thought\n",
       "74490       0.003539      receiv\n",
       "6035        0.003463         bad\n",
       "55126       0.003439        make\n",
       "103103      0.003432       would"
      ]
     },
     "execution_count": 31,
     "metadata": {
      "tags": []
     },
     "output_type": "execute_result"
    }
   ],
   "source": [
    "df.sort_values(['Coefficients'], ascending=False).head(15)"
   ]
  },
  {
   "cell_type": "markdown",
   "metadata": {
    "colab_type": "text",
    "id": "c4GQJ4hrVXIr"
   },
   "source": [
    "# Word2Vec"
   ]
  },
  {
   "cell_type": "code",
   "execution_count": 0,
   "metadata": {
    "colab": {
     "base_uri": "https://localhost:8080/",
     "height": 34
    },
    "colab_type": "code",
    "id": "kGlVKc25Vb-E",
    "outputId": "853f7e83-4d7e-4e66-a6de-f05ec1554f19"
   },
   "outputs": [
    {
     "name": "stdout",
     "output_type": "stream",
     "text": [
      "The shape of grouped data is (19997, 12)\n"
     ]
    }
   ],
   "source": [
    "import pandas as pd\n",
    "final = pd.read_csv(\"grouped_data_200.csv\")\n",
    "p = final.groupby('Score')\n",
    "pos = p.get_group('Positive') #Gets the groups with Positive score\n",
    "neg = p.get_group('Negative') #Gets the groups with Negative score\n",
    "pos_2000 = pos.sample(12000) #Gets 12000 reviews of positive and 8000 negative scores\n",
    "neg_2000 = neg.sample(8000)\n",
    "grouped_data = pd.concat([pos_2000, neg_2000], ignore_index = True) #This data now contains positive and negative data in order.\n",
    "grouped_data.dropna(inplace = True) #Drops rows with Nan\n",
    "grouped_data.reset_index(inplace=True) #Replaces missing indexes\n",
    "grouped_data.drop(['Unnamed: 0', 'Unnamed: 0.1'], axis=1, inplace=True)\n",
    "grouped_data = grouped_data.sort_values('Time', axis=0, ascending=True, kind='quicksort')\n",
    "scores=grouped_data['Score']\n",
    "print(\"The shape of grouped data is {}\".format(grouped_data.shape))"
   ]
  },
  {
   "cell_type": "markdown",
   "metadata": {
    "colab_type": "text",
    "id": "lj7TXFMdOjZA"
   },
   "source": [
    "Observations:\n",
    "A csv file is imported which consists of 200000 data points. These data points are already sorted on the basis of time. We create a new dataframe with over 20000 data points."
   ]
  },
  {
   "cell_type": "code",
   "execution_count": 0,
   "metadata": {
    "colab": {},
    "colab_type": "code",
    "id": "8BLCBgKQWl8V"
   },
   "outputs": [],
   "source": [
    "x_train, x_test, y_train, y_test = train_test_split(grouped_data,scores,test_size=0.3,shuffle=False)"
   ]
  },
  {
   "cell_type": "markdown",
   "metadata": {
    "colab_type": "text",
    "id": "4Ui63fnVOjZF"
   },
   "source": [
    "Observations: Data is split into train and test."
   ]
  },
  {
   "cell_type": "code",
   "execution_count": 0,
   "metadata": {
    "colab": {
     "base_uri": "https://localhost:8080/",
     "height": 88
    },
    "colab_type": "code",
    "id": "RLYiTjpQWnSu",
    "outputId": "d31e8f72-6681-4f44-b344-97cdc786a1f1"
   },
   "outputs": [
    {
     "name": "stdout",
     "output_type": "stream",
     "text": [
      "far ive tri breakfest blend columbian sumatra verona winter blend hous blend special christma blend one year diffrent spicy look forward tri blend eventu ive tri far french roast probabl french winter blend french roast excel tast deep dark bean smooth smoki tast absolut delici smell great would recomend love dark coffe alot tast excel high recomend\n",
      "*****************************************************************\n",
      "['far', 'ive', 'tri', 'breakfest', 'blend', 'columbian', 'sumatra', 'verona', 'winter', 'blend', 'hous', 'blend', 'special', 'christma', 'blend', 'one', 'year', 'diffrent', 'spicy', 'look', 'forward', 'tri', 'blend', 'eventu', 'ive', 'tri', 'far', 'french', 'roast', 'probabl', 'french', 'winter', 'blend', 'french', 'roast', 'excel', 'tast', 'deep', 'dark', 'bean', 'smooth', 'smoki', 'tast', 'absolut', 'delici', 'smell', 'great', 'would', 'recomend', 'love', 'dark', 'coffe', 'alot', 'tast', 'excel', 'high', 'recomend']\n"
     ]
    }
   ],
   "source": [
    "list_of_sent=[]\n",
    "for sent in x_train['CleanedText'].values: #Splits sentences into words and stores it in a list\n",
    "    list_of_sent.append(sent.split())\n",
    "print(x_train['CleanedText'].values[9])\n",
    "print(\"*****************************************************************\")\n",
    "print(list_of_sent[9])"
   ]
  },
  {
   "cell_type": "markdown",
   "metadata": {
    "colab_type": "text",
    "id": "Or9eam5VOjZL"
   },
   "source": [
    "Observations: Get a list of all the words in train data."
   ]
  },
  {
   "cell_type": "code",
   "execution_count": 0,
   "metadata": {
    "colab": {
     "base_uri": "https://localhost:8080/",
     "height": 71
    },
    "colab_type": "code",
    "id": "Kst8rKhcXLBK",
    "outputId": "02fda3d9-36a6-4ef9-a717-67e52f13c2b1"
   },
   "outputs": [
    {
     "name": "stdout",
     "output_type": "stream",
     "text": [
      "number of words that occured minimum 5 times  5351\n",
      "sample words  ['instead', 'pour', 'drain', 'finish', 'paid', 'time', 'glass', 'entir', 'encourag', 'remov', 'air', 'qualiti', 'replac', 'cork', 'itali', 'juic', 'orang']\n"
     ]
    }
   ],
   "source": [
    "w2v_train=Word2Vec(list_of_sent,min_count=5,size=100, workers=4) #Initialises the Word2Vec model with words occuring more than 5 times.\n",
    "\n",
    "w2v_train_words = list(w2v_train.wv.vocab) #This gives a dictionary of words which tells about the uniqueness of a word among other things.\n",
    "print(\"number of words that occured minimum 5 times \",len(w2v_train_words))\n",
    "print(\"sample words \", w2v_train_words[298:315])"
   ]
  },
  {
   "cell_type": "markdown",
   "metadata": {
    "colab_type": "text",
    "id": "gBlz03AJOjZR"
   },
   "source": [
    "Observations: Train the word2vec model on the obtained list of train words."
   ]
  },
  {
   "cell_type": "code",
   "execution_count": 0,
   "metadata": {
    "colab": {
     "base_uri": "https://localhost:8080/",
     "height": 51
    },
    "colab_type": "code",
    "id": "j46WCTEAYec-",
    "outputId": "ec27bd12-b264-4893-f8b8-c7ad65a555ab"
   },
   "outputs": [
    {
     "name": "stdout",
     "output_type": "stream",
     "text": [
      "6000\n",
      "100\n"
     ]
    }
   ],
   "source": [
    "sent_vectors = [];\n",
    "sent_list = []\n",
    "for sent in x_test['CleanedText'].values:\n",
    "    sent_list.append(sent.split())\n",
    "for sent in sent_list: # For a sentence in the previously created list of sentences\n",
    "    sent_vec = np.zeros(100) # As word vectors are of zero length, returns an array of size 50 filled with zeros\n",
    "    i = 0; # Number of words with a valid vector in the sentence/review\n",
    "    for word in sent: # For each word in a review/sentence\n",
    "        if word in w2v_train_words:\n",
    "            vec = w2v_train.wv[word] #Gets the corresponding vector for the word\n",
    "            sent_vec += vec\n",
    "            i += 1\n",
    "    if i != 0:\n",
    "        sent_vec /= i\n",
    "    sent_vectors.append(sent_vec)\n",
    "print(len(sent_vectors))\n",
    "print(len(sent_vectors[0]))"
   ]
  },
  {
   "cell_type": "markdown",
   "metadata": {
    "colab_type": "text",
    "id": "5M1t3cywOjZW"
   },
   "source": [
    "Observations: Gets the sentence vectors for test data."
   ]
  },
  {
   "cell_type": "code",
   "execution_count": 0,
   "metadata": {
    "colab": {
     "base_uri": "https://localhost:8080/",
     "height": 51
    },
    "colab_type": "code",
    "id": "t9sLBnLFYpc7",
    "outputId": "52493aa9-86f1-4952-fa7b-cd95d2d697a3"
   },
   "outputs": [
    {
     "name": "stdout",
     "output_type": "stream",
     "text": [
      "13997\n",
      "100\n"
     ]
    }
   ],
   "source": [
    "sent_vectors_train = [];\n",
    "sent_list = []\n",
    "for sent in x_train['CleanedText'].values:\n",
    "    sent_list.append(sent.split())\n",
    "for sent in sent_list: # For a sentence in the previously created list of sentences\n",
    "    sent_vec = np.zeros(100) # As word vectors are of zero length, returns an array of size 50 filled with zeros\n",
    "    i = 0; # Number of words with a valid vector in the sentence/review\n",
    "    for word in sent: # For each word in a review/sentence\n",
    "        if word in w2v_train_words:\n",
    "            vec = w2v_train.wv[word] #Gets the corresponding vector for the word\n",
    "            sent_vec += vec\n",
    "            i += 1\n",
    "    if i != 0:\n",
    "        sent_vec /= i\n",
    "    sent_vectors_train.append(sent_vec)\n",
    "print(len(sent_vectors_train))\n",
    "print(len(sent_vectors_train[0]))"
   ]
  },
  {
   "cell_type": "markdown",
   "metadata": {
    "colab_type": "text",
    "id": "2giewN_zOjZc"
   },
   "source": [
    "Observations: Gets the sentence vectors for train data"
   ]
  },
  {
   "cell_type": "code",
   "execution_count": 0,
   "metadata": {
    "colab": {},
    "colab_type": "code",
    "id": "r6vHlbj2ZUyF"
   },
   "outputs": [],
   "source": [
    "from sklearn.preprocessing import normalize\n",
    "data_train=normalize(sent_vectors_train)\n",
    "data_test=normalize(sent_vectors)"
   ]
  },
  {
   "cell_type": "markdown",
   "metadata": {
    "colab_type": "text",
    "id": "qbHcU4llOjZl"
   },
   "source": [
    "Observations: Normalize the data."
   ]
  },
  {
   "cell_type": "code",
   "execution_count": 0,
   "metadata": {
    "colab": {
     "base_uri": "https://localhost:8080/",
     "height": 1277
    },
    "colab_type": "code",
    "id": "GUbw_vfLaOy3",
    "outputId": "513bc8ea-343f-4cc6-aeee-a08b968827c6",
    "scrolled": false
   },
   "outputs": [
    {
     "name": "stdout",
     "output_type": "stream",
     "text": [
      "The optimal base learners found using GridSearchCV is 300\n",
      "The optimal max depth found using GridSearchCV is 15\n",
      "The optimal learning rate found using GridSearchCV is 0.1\n",
      "The best CV value found is 11\n",
      "\n",
      "The test accuracy of SVM for max_depth = 15 is 80.683333%\n",
      "\n",
      "The test precision of SVM for max_depth = 15 is 81.640625%\n",
      "\n",
      "The test recall of SVM for max_depth = 15 is 85.380800%\n",
      "\n",
      "The test f1 score of SVM for max_depth = 15 is 83.468835%\n",
      "**************************************************\n",
      "[[1915  658]\n",
      " [ 501 2926]]\n"
     ]
    },
    {
     "data": {
      "image/png": "[encoded data removed]",
      "text/plain": [
       "<matplotlib.figure.Figure at 0x7fbdabc77d68>"
      ]
     },
     "metadata": {
      "tags": []
     },
     "output_type": "display_data"
    },
    {
     "name": "stdout",
     "output_type": "stream",
     "text": [
      "**************************************************\n",
      "The True Positive Rate observed is 0.8538079953311934\n",
      "The True Negative Rate observed is 0.7442673921492421\n",
      "The False Positive Rate observed is 0.25573260785075785\n",
      "The False Negative Rate observed is 0.14619200466880652\n",
      "**************************************************\n",
      "The stats observed for confusion matrix are:\n",
      "population: 6000\n",
      "P: 3427\n",
      "N: 2573\n",
      "PositiveTest: 3584\n",
      "NegativeTest: 2416\n",
      "TP: 2926\n",
      "TN: 1915\n",
      "FP: 658\n",
      "FN: 501\n",
      "TPR: 0.8538079953311934\n",
      "TNR: 0.7442673921492421\n",
      "PPV: 0.81640625\n",
      "NPV: 0.7926324503311258\n",
      "FPR: 0.25573260785075785\n",
      "FDR: 0.18359375\n",
      "FNR: 0.14619200466880652\n",
      "ACC: 0.8068333333333333\n",
      "F1_score: 0.8346883468834688\n",
      "MCC: 0.6035321505032842\n",
      "informedness: 0.5980753874804354\n",
      "markedness: 0.609038700331126\n",
      "prevalence: 0.5711666666666667\n",
      "LRP: 3.3386747294637704\n",
      "LRN: 0.19642403551584292\n",
      "DOR: 16.99728203168132\n",
      "FOR: 0.20736754966887416\n",
      "\n",
      "\n",
      "\n",
      "\n",
      "**********************************************************************\n"
     ]
    }
   ],
   "source": [
    "df = xgb_gbdt(data_train, y_train, data_test, y_test, list_of_sent)"
   ]
  },
  {
   "cell_type": "code",
   "execution_count": 0,
   "metadata": {
    "colab": {
     "base_uri": "https://localhost:8080/",
     "height": 1243
    },
    "colab_type": "code",
    "id": "Vyy_VvurGx-n",
    "outputId": "cd1b59a1-50ec-4b49-e004-02f81efb1c27"
   },
   "outputs": [
    {
     "name": "stdout",
     "output_type": "stream",
     "text": [
      "The optimal base learners found using GridSearchCV is 600\n",
      "The best CV value found is 5\n",
      "\n",
      "The test accuracy of SVM for n_estimators = 600 is 80.050000%\n",
      "\n",
      "The test precision of SVM for n_estimators = 600 is 80.564693%\n",
      "\n",
      "The test recall of SVM for n_estimators = 600 is 85.760140%\n",
      "\n",
      "The test f1 score of SVM for n_estimators = 600 is 83.081272%\n",
      "**************************************************\n",
      "[[1864  709]\n",
      " [ 488 2939]]\n"
     ]
    },
    {
     "data": {
      "image/png": "[encoded data removed]",
      "text/plain": [
       "<matplotlib.figure.Figure at 0x7fbd8aa135f8>"
      ]
     },
     "metadata": {
      "tags": []
     },
     "output_type": "display_data"
    },
    {
     "name": "stdout",
     "output_type": "stream",
     "text": [
      "**************************************************\n",
      "The True Positive Rate observed is 0.8576014006419609\n",
      "The True Negative Rate observed is 0.7244461717839098\n",
      "The False Positive Rate observed is 0.27555382821609015\n",
      "The False Negative Rate observed is 0.1423985993580391\n",
      "**************************************************\n",
      "The stats observed for confusion matrix are:\n",
      "population: 6000\n",
      "P: 3427\n",
      "N: 2573\n",
      "PositiveTest: 3648\n",
      "NegativeTest: 2352\n",
      "TP: 2939\n",
      "TN: 1864\n",
      "FP: 709\n",
      "FN: 488\n",
      "TPR: 0.8576014006419609\n",
      "TNR: 0.7244461717839098\n",
      "PPV: 0.8056469298245614\n",
      "NPV: 0.7925170068027211\n",
      "FPR: 0.27555382821609015\n",
      "FDR: 0.1943530701754386\n",
      "FNR: 0.1423985993580391\n",
      "ACC: 0.8005\n",
      "F1_score: 0.8308127208480566\n",
      "MCC: 0.5900507327566098\n",
      "informedness: 0.5820475724258707\n",
      "markedness: 0.5981639366272824\n",
      "prevalence: 0.5711666666666667\n",
      "LRP: 3.1122826570546764\n",
      "LRN: 0.19656201510098426\n",
      "DOR: 15.833591528127817\n",
      "FOR: 0.20748299319727892\n",
      "\n",
      "\n",
      "\n",
      "\n",
      "**********************************************************************\n"
     ]
    }
   ],
   "source": [
    "df = rf_classifier(data_train, y_train, data_test, y_test, list_of_sent)"
   ]
  },
  {
   "cell_type": "markdown",
   "metadata": {
    "colab_type": "text",
    "id": "54m8cZ7F9Mda"
   },
   "source": [
    "# TFIDF Word2Vec"
   ]
  },
  {
   "cell_type": "code",
   "execution_count": 3,
   "metadata": {
    "colab": {
     "base_uri": "https://localhost:8080/",
     "height": 34
    },
    "colab_type": "code",
    "id": "r9Y144t6ZdNE",
    "outputId": "6845c283-2c51-44de-f7d2-d9d649428ad6"
   },
   "outputs": [
    {
     "name": "stdout",
     "output_type": "stream",
     "text": [
      "The shape of grouped data is (19998, 12)\n"
     ]
    }
   ],
   "source": [
    "import pandas as pd\n",
    "final = pd.read_csv(\"grouped_data_200.csv\")\n",
    "p = final.groupby('Score')\n",
    "pos = p.get_group('Positive') #Gets the groups with Positive score\n",
    "neg = p.get_group('Negative') #Gets the groups with Negative score\n",
    "pos_2000 = pos.sample(12000) #Gets 12000 reviews of positive and 8000 negative scores\n",
    "neg_2000 = neg.sample(8000)\n",
    "grouped_data = pd.concat([pos_2000, neg_2000], ignore_index = True) #This data now contains positive and negative data in order.\n",
    "grouped_data.dropna(inplace = True) #Drops rows with Nan\n",
    "grouped_data.reset_index(inplace=True) #Replaces missing indexes\n",
    "grouped_data.drop(['Unnamed: 0', 'Unnamed: 0.1'], axis=1, inplace=True)\n",
    "grouped_data = grouped_data.sort_values('Time', axis=0, ascending=True, kind='quicksort')\n",
    "scores=grouped_data['Score']\n",
    "print(\"The shape of grouped data is {}\".format(grouped_data.shape))"
   ]
  },
  {
   "cell_type": "markdown",
   "metadata": {
    "colab_type": "text",
    "id": "-DE8RubpIkXk"
   },
   "source": [
    "Observations:\n",
    "A csv file is imported which consists of 200000 data points. These data points are already sorted on the basis of time. We create a new dataframe with over 20000 data points."
   ]
  },
  {
   "cell_type": "code",
   "execution_count": 0,
   "metadata": {
    "colab": {},
    "colab_type": "code",
    "id": "40TXbz9XZdNJ"
   },
   "outputs": [],
   "source": [
    "x_train, x_test, y_train, y_test = train_test_split(grouped_data,scores,test_size=0.3,shuffle=False)"
   ]
  },
  {
   "cell_type": "markdown",
   "metadata": {
    "colab_type": "text",
    "id": "1d48jloAIkXw"
   },
   "source": [
    "Observations: Data is split into train and test datasets."
   ]
  },
  {
   "cell_type": "code",
   "execution_count": 5,
   "metadata": {
    "colab": {
     "base_uri": "https://localhost:8080/",
     "height": 88
    },
    "colab_type": "code",
    "id": "-S57D583ZdNO",
    "outputId": "bf73e209-0d56-432c-adf5-24661c8a3d01"
   },
   "outputs": [
    {
     "name": "stdout",
     "output_type": "stream",
     "text": [
      "yes summer come rather drink tea sweet breakfast cereal consid take glass fill ice pour limead add shot cherri syrup stir shake swizzl content\n",
      "*****************************************************************\n",
      "['yes', 'summer', 'come', 'rather', 'drink', 'tea', 'sweet', 'breakfast', 'cereal', 'consid', 'take', 'glass', 'fill', 'ice', 'pour', 'limead', 'add', 'shot', 'cherri', 'syrup', 'stir', 'shake', 'swizzl', 'content']\n"
     ]
    }
   ],
   "source": [
    "list_of_sent=[]\n",
    "for sent in x_train['CleanedText'].values: #Splits sentences into words and stores it in a list\n",
    "    list_of_sent.append(sent.split())\n",
    "print(x_train['CleanedText'].values[9])\n",
    "print(\"*****************************************************************\")\n",
    "print(list_of_sent[9])"
   ]
  },
  {
   "cell_type": "markdown",
   "metadata": {
    "colab_type": "text",
    "id": "unRh7PajIkX0"
   },
   "source": [
    "Observations: Get a list of all the words in train data."
   ]
  },
  {
   "cell_type": "code",
   "execution_count": 6,
   "metadata": {
    "colab": {
     "base_uri": "https://localhost:8080/",
     "height": 71
    },
    "colab_type": "code",
    "id": "s0J-v-G4ZdNd",
    "outputId": "6edcd454-c856-4ba5-8b1c-57bf2804bd4e"
   },
   "outputs": [
    {
     "name": "stdout",
     "output_type": "stream",
     "text": [
      "number of words that occured minimum 5 times  5368\n",
      "sample words  ['visual', 'joke', 'charact', 'wait', 'room', 'laugh', 'begin', 'main', 'death', 'minut', 'balanc', 'car', 'wood', 'edg', 'bridg', 'fall', 'manag']\n"
     ]
    }
   ],
   "source": [
    "w2v_train=Word2Vec(list_of_sent,min_count=5,size=100, workers=4) #Initialises the Word2Vec model with words occuring more than 5 times.\n",
    "\n",
    "w2v_train_words = list(w2v_train.wv.vocab) #This gives a dictionary of words which tells about the uniqueness of a word among other things.\n",
    "print(\"number of words that occured minimum 5 times \",len(w2v_train_words))\n",
    "print(\"sample words \", w2v_train_words[298:315])"
   ]
  },
  {
   "cell_type": "markdown",
   "metadata": {
    "colab_type": "text",
    "id": "2suJDeZnWLVu"
   },
   "source": [
    "Observations:\n",
    "Word2Vec model is built. We can see the number of times a word occured minimum 5 times."
   ]
  },
  {
   "cell_type": "code",
   "execution_count": 0,
   "metadata": {
    "colab": {},
    "colab_type": "code",
    "id": "72aYAM9QWLVw"
   },
   "outputs": [],
   "source": [
    "tf_idf_vect = TfidfVectorizer(ngram_range=(1,2))\n",
    "vocab_tf_idf = tf_idf_vect.fit(x_train['CleanedText'].values) #Converts to a sparse matrix of TF-IDF vectors.\n",
    "train_tf_idf = tf_idf_vect.transform(x_train['CleanedText'].values)\n",
    "test_tf_idf = tf_idf_vect.transform(x_test['CleanedText'].values)\n",
    "tfidf_feat = tf_idf_vect.get_feature_names()\n",
    "dictionary = dict(zip(tfidf_feat, list(tf_idf_vect.idf_)))"
   ]
  },
  {
   "cell_type": "markdown",
   "metadata": {
    "colab_type": "text",
    "id": "jAB1-SVyWLVz"
   },
   "source": [
    "Observations:\n",
    "We build the vocabulary of TF-IDF on train data and obtain the vectors of train and test data."
   ]
  },
  {
   "cell_type": "code",
   "execution_count": 8,
   "metadata": {
    "colab": {
     "base_uri": "https://localhost:8080/",
     "height": 51
    },
    "colab_type": "code",
    "id": "uItaLf4qWLV0",
    "outputId": "c7d75ce6-eb3f-41ce-9b47-993e6a905d4e"
   },
   "outputs": [
    {
     "name": "stdout",
     "output_type": "stream",
     "text": [
      "13998\n",
      "100\n"
     ]
    }
   ],
   "source": [
    "sent_vectors_train = []; # the tfidf-w2v for each sentence/review is stored in this list\n",
    "row=0;\n",
    "sent_list = []\n",
    "for sent in x_train['CleanedText'].values:\n",
    "    sent_list.append(sent.split())\n",
    "for sent in sent_list: # for each review/sentence \n",
    "    sent_vec = np.zeros(100) # as word vectors are of zero length\n",
    "    weight_sum =0; # num of words with a valid vector in the sentence/review\n",
    "    for word in sent: # for each word in a review/sentence\n",
    "        if word in w2v_train_words:\n",
    "            try:\n",
    "                vec = w2v_train.wv[word] # obtain the tf_idfidf of a word in a sentence/review\n",
    "                tf_idf = tf_idf = dictionary[word]*sent.count(word)\n",
    "                sent_vec += (vec * tf_idf)\n",
    "                weight_sum += tf_idf\n",
    "            except:\n",
    "                pass\n",
    "    if weight_sum != 0:\n",
    "        sent_vec /= weight_sum\n",
    "    sent_vectors_train.append(sent_vec)\n",
    "    row += 1\n",
    "print(len(sent_vectors_train))\n",
    "print(len(sent_vectors_train[0]))"
   ]
  },
  {
   "cell_type": "markdown",
   "metadata": {
    "colab_type": "text",
    "id": "twW_V8FsWLV4"
   },
   "source": [
    "Observations:\n",
    "The vector form of train data is obtained."
   ]
  },
  {
   "cell_type": "code",
   "execution_count": 9,
   "metadata": {
    "colab": {
     "base_uri": "https://localhost:8080/",
     "height": 51
    },
    "colab_type": "code",
    "id": "aVoKBYvHWLV5",
    "outputId": "f3520aa0-6511-41d5-93bc-f78a863afdf6"
   },
   "outputs": [
    {
     "name": "stdout",
     "output_type": "stream",
     "text": [
      "6000\n",
      "100\n"
     ]
    }
   ],
   "source": [
    "sent_vectors_test = [];\n",
    "row=0\n",
    "sent_list = []\n",
    "for sent in x_test['CleanedText'].values:\n",
    "    sent_list.append(sent.split())\n",
    "for sent in sent_list: # For a sentence in the previously created list of sentences\n",
    "    sent_vec = np.zeros(100) # As word vectors are of zero length, returns an array of size 50 filled with zeros\n",
    "    i = 0; # Number of words with a valid vector in the sentence/review\n",
    "    for word in sent: # For each word in a review/sentence\n",
    "        if word in w2v_train_words:\n",
    "            try:\n",
    "                vec = w2v_train.wv[word] #Gets the corresponding vector for the word\n",
    "                tf_idf = tf_idf = dictionary[word]*sent.count(word)\n",
    "                sent_vec += (vec * tf_idf)\n",
    "                i += tf_idf\n",
    "            except:\n",
    "                pass\n",
    "    if i != 0:\n",
    "        sent_vec /= i\n",
    "    sent_vectors_test.append(sent_vec)\n",
    "    row+=1\n",
    "print(len(sent_vectors_test))\n",
    "print(len(sent_vectors_test[0]))"
   ]
  },
  {
   "cell_type": "markdown",
   "metadata": {
    "colab_type": "text",
    "id": "buINskx8WLWL"
   },
   "source": [
    "Observations:\n",
    "The vector form of test data is obtained."
   ]
  },
  {
   "cell_type": "code",
   "execution_count": 0,
   "metadata": {
    "colab": {},
    "colab_type": "code",
    "id": "BU12RnjNiHfQ"
   },
   "outputs": [],
   "source": [
    "from sklearn.preprocessing import normalize\n",
    "data_train=normalize(sent_vectors_train)\n",
    "data_test=normalize(sent_vectors_test)"
   ]
  },
  {
   "cell_type": "markdown",
   "metadata": {
    "colab_type": "text",
    "id": "YQofL8k_rILX"
   },
   "source": [
    "Observations: Data is normalized."
   ]
  },
  {
   "cell_type": "code",
   "execution_count": 11,
   "metadata": {
    "colab": {
     "base_uri": "https://localhost:8080/",
     "height": 1277
    },
    "colab_type": "code",
    "id": "tJLPyJHSB88R",
    "outputId": "b0b8a3b5-dc8a-43fd-be28-de9d57cb4e66",
    "scrolled": false
   },
   "outputs": [
    {
     "name": "stdout",
     "output_type": "stream",
     "text": [
      "The optimal base learners found using GridSearchCV is 300\n",
      "The optimal max depth found using GridSearchCV is 10\n",
      "The optimal learning rate found using GridSearchCV is 0.1\n",
      "The best CV value found is 8\n",
      "\n",
      "The test accuracy of SVM for max_depth = 10 is 76.816667%\n",
      "\n",
      "The test precision of SVM for max_depth = 10 is 76.371992%\n",
      "\n",
      "The test recall of SVM for max_depth = 10 is 84.530221%\n",
      "\n",
      "The test f1 score of SVM for max_depth = 10 is 80.244283%\n",
      "**************************************************\n",
      "[[1784  874]\n",
      " [ 517 2825]]\n"
     ]
    },
    {
     "data": {
      "image/png": "[encoded data removed]",
      "text/plain": [
       "<matplotlib.figure.Figure at 0x7fb59636d0f0>"
      ]
     },
     "metadata": {
      "tags": []
     },
     "output_type": "display_data"
    },
    {
     "name": "stdout",
     "output_type": "stream",
     "text": [
      "**************************************************\n",
      "The True Positive Rate observed is 0.8453022142429683\n",
      "The True Negative Rate observed is 0.6711813393528969\n",
      "The False Positive Rate observed is 0.3288186606471031\n",
      "The False Negative Rate observed is 0.15469778575703172\n",
      "**************************************************\n",
      "The stats observed for confusion matrix are:\n",
      "population: 6000\n",
      "P: 3342\n",
      "N: 2658\n",
      "PositiveTest: 3699\n",
      "NegativeTest: 2301\n",
      "TP: 2825\n",
      "TN: 1784\n",
      "FP: 874\n",
      "FN: 517\n",
      "TPR: 0.8453022142429683\n",
      "TNR: 0.6711813393528969\n",
      "PPV: 0.7637199243038659\n",
      "NPV: 0.7753150803998262\n",
      "FPR: 0.3288186606471031\n",
      "FDR: 0.2362800756961341\n",
      "FNR: 0.15469778575703172\n",
      "ACC: 0.7681666666666667\n",
      "F1_score: 0.8024428348245988\n",
      "MCC: 0.5276388108753248\n",
      "informedness: 0.5164835535958652\n",
      "markedness: 0.5390350047036923\n",
      "prevalence: 0.557\n",
      "LRP: 2.5707245829036722\n",
      "LRN: 0.2304858265371022\n",
      "DOR: 11.1535039769131\n",
      "FOR: 0.22468491960017384\n",
      "\n",
      "\n",
      "\n",
      "\n",
      "**********************************************************************\n"
     ]
    }
   ],
   "source": [
    "df = xgb_gbdt(data_train, y_train, data_test, y_test, list_of_sent)"
   ]
  },
  {
   "cell_type": "code",
   "execution_count": 12,
   "metadata": {
    "colab": {
     "base_uri": "https://localhost:8080/",
     "height": 1243
    },
    "colab_type": "code",
    "id": "-5Uiaj6a7_Y2",
    "outputId": "53a63002-74a3-4924-a90b-6b1b438dac2a"
   },
   "outputs": [
    {
     "name": "stdout",
     "output_type": "stream",
     "text": [
      "The optimal base learners found using GridSearchCV is 700\n",
      "The best CV value found is 6\n",
      "\n",
      "The test accuracy of SVM for n_estimators = 700 is 75.966667%\n",
      "\n",
      "The test precision of SVM for n_estimators = 700 is 74.434156%\n",
      "\n",
      "The test recall of SVM for n_estimators = 700 is 86.594853%\n",
      "\n",
      "The test f1 score of SVM for n_estimators = 700 is 80.055325%\n",
      "**************************************************\n",
      "[[1664  994]\n",
      " [ 448 2894]]\n"
     ]
    },
    {
     "data": {
      "image/png": "[encoded data removed]",
      "text/plain": [
       "<matplotlib.figure.Figure at 0x7fb559a81588>"
      ]
     },
     "metadata": {
      "tags": []
     },
     "output_type": "display_data"
    },
    {
     "name": "stdout",
     "output_type": "stream",
     "text": [
      "**************************************************\n",
      "The True Positive Rate observed is 0.8659485338120886\n",
      "The True Negative Rate observed is 0.6260346124905944\n",
      "The False Positive Rate observed is 0.37396538750940556\n",
      "The False Negative Rate observed is 0.13405146618791142\n",
      "**************************************************\n",
      "The stats observed for confusion matrix are:\n",
      "population: 6000\n",
      "P: 3342\n",
      "N: 2658\n",
      "PositiveTest: 3888\n",
      "NegativeTest: 2112\n",
      "TP: 2894\n",
      "TN: 1664\n",
      "FP: 994\n",
      "FN: 448\n",
      "TPR: 0.8659485338120886\n",
      "TNR: 0.6260346124905944\n",
      "PPV: 0.7443415637860082\n",
      "NPV: 0.7878787878787878\n",
      "FPR: 0.37396538750940556\n",
      "FDR: 0.25565843621399176\n",
      "FNR: 0.13405146618791142\n",
      "ACC: 0.7596666666666667\n",
      "F1_score: 0.8005532503457815\n",
      "MCC: 0.5117064032610563\n",
      "informedness: 0.49198314630268314\n",
      "markedness: 0.5322203516647961\n",
      "prevalence: 0.557\n",
      "LRP: 2.3155847111393677\n",
      "LRN: 0.2141278828891037\n",
      "DOR: 10.81402701925841\n",
      "FOR: 0.21212121212121213\n",
      "\n",
      "\n",
      "\n",
      "\n",
      "**********************************************************************\n"
     ]
    }
   ],
   "source": [
    "df = rf_classifier(data_train, y_train, data_test, y_test, list_of_sent)"
   ]
  },
  {
   "cell_type": "markdown",
   "metadata": {
    "colab_type": "text",
    "id": "2MAKybTmaAS9"
   },
   "source": [
    "# Summary and  Conclusions"
   ]
  },
  {
   "cell_type": "markdown",
   "metadata": {
    "colab_type": "text",
    "id": "HqG7kwKaIkYm"
   },
   "source": [
    "1) Import the csv file containing pre processed data which is already arranged on the basis of time.\n",
    "\n",
    "2) Two functions are created for DecisionTreeClassifier and to plot max depth vs errors.\n",
    "\n",
    "3) The first function performs GridSearchCv on n_estimators, max_depth, learning_rate and finds the right hyper parameters for XGBClassifier. Then the model is fitted and its respective accuracy and precision values are obtained. Then a Confusion matrix is plotted and its various values like TPR, TNR, FPR, FNR are obtained. Then a dataframe is constructed with all the words and their feature importances and it is given as output.\n",
    "\n",
    "4) The second function performs GridSearchCv on n_estimators and finds the right hyper parameter for RandomForestClassifier. Then the model is fitted and its respective accuracy and precision values are obtained. Then a Confusion matrix is plotted and its various values like TPR, TNR, FPR, FNR are obtained. Then a dataframe is constructed with all the words and their feature importances and it is given as output.\n",
    "\n",
    "5) These functions are applied on Bag of Words, TFIDF, avg Word2Vec and TFIDF Word2Vec."
   ]
  },
  {
   "cell_type": "code",
   "execution_count": 13,
   "metadata": {
    "colab": {
     "base_uri": "https://localhost:8080/",
     "height": 425
    },
    "colab_type": "code",
    "id": "HcO1ivTlaATA",
    "outputId": "37cda470-b4ce-4b7f-b78f-12c753f31167"
   },
   "outputs": [
    {
     "name": "stdout",
     "output_type": "stream",
     "text": [
      "+----------------+-------+---------------------+---------------+-----------+--------+----------+\n",
      "| Featurization  | Model |   Hyper Parameter   | Test Accuracy | Precision | Recall | F1 Score |\n",
      "+----------------+-------+---------------------+---------------+-----------+--------+----------+\n",
      "|  Bag of Words  |  GBDT |  n_estimators = 300 |     85.73%    |   85.34%  | 89.25% |  87.57%  |\n",
      "|                |       |    max_depth = 10   |               |           |        |          |\n",
      "|                |       | learning_rate = 0.2 |               |           |        |          |\n",
      "|                |   RF  |  n_estimators = 400 |     83.60%    |   80.35%  | 93.53% |  86.44%  |\n",
      "|                |       |                     |               |           |        |          |\n",
      "|     TFIDF      |  GBDT |  n_estimators = 200 |     79.20%    |   77.66%  | 88.36% |  82.66%  |\n",
      "|                |       |    max_depth = 10   |               |           |        |          |\n",
      "|                |       | learning_rate = 0.1 |               |           |        |          |\n",
      "|                |   RF  |  n_estimators = 100 |     76.06%    |   72.13%  | 93.46% |  81.42%  |\n",
      "|                |       |                     |               |           |        |          |\n",
      "|  Avg Word2Vec  |  GBDT |  n_estimators = 300 |     80.68%    |   81.64%  | 85.38% |  85.46%  |\n",
      "|                |       |    max_depth = 15   |               |           |        |          |\n",
      "|                |       | learning_rate = 0.1 |               |           |        |          |\n",
      "|                |   RF  |  n_estimators = 600 |     80.05%    |   80.56%  | 85.76% |  83.08%  |\n",
      "|                |       |                     |               |           |        |          |\n",
      "| TFIDF Word2Vec |  GBDT |  n_estimators = 300 |     76.81%    |   76.37%  | 84.53% |  80.24%  |\n",
      "|                |       |    max_depth = 10   |               |           |        |          |\n",
      "|                |       | learning_rate = 0.1 |               |           |        |          |\n",
      "|                |   RF  |  n_estimators = 700 |     75.56%    |   74.43%  | 86.59% |  80.05%  |\n",
      "|                |       |                     |               |           |        |          |\n",
      "+----------------+-------+---------------------+---------------+-----------+--------+----------+\n"
     ]
    }
   ],
   "source": [
    "x = PrettyTable()\n",
    "x.field_names = [\"Featurization\",\"Model\",\"Hyper Parameter\", \"Test Accuracy\",\"Precision\",\"Recall\",\"F1 Score\"]\n",
    "x.add_row([\"Bag of Words\",\"GBDT\",\"n_estimators = 300\",\"85.73%\", \"85.34%\", \"89.25%\", \"87.57%\"])\n",
    "x.add_row([\"\",\"\",\"max_depth = 10\",\"\", \"\", \"\", \"\"])\n",
    "x.add_row([\"\",\"\",\"learning_rate = 0.2\",\"\", \"\", \"\", \"\"])\n",
    "x.add_row([\"\",\"RF\",\"n_estimators = 400\",\"83.60%\", \"80.35%\", \"93.53%\", \"86.44%\"])\n",
    "x.add_row([\"\",\"\",\"\",\"\",\"\",\"\",\"\"])\n",
    "x.add_row([\"TFIDF\",\"GBDT\",\"n_estimators = 200\",\"79.20%\", \"77.66%\", \"88.36%\", \"82.66%\"])\n",
    "x.add_row([\"\",\"\",\"max_depth = 10\",\"\", \"\", \"\", \"\"])\n",
    "x.add_row([\"\",\"\",\"learning_rate = 0.1\",\"\", \"\", \"\", \"\"])\n",
    "x.add_row([\"\",\"RF\",\"n_estimators = 100\",\"76.06%\", \"72.13%\", \"93.46%\", \"81.42%\"])\n",
    "x.add_row([\"\",\"\",\"\",\"\",\"\",\"\",\"\"])\n",
    "x.add_row([\"Avg Word2Vec\",\"GBDT\",\"n_estimators = 300\",\"80.68%\", \"81.64%\", \"85.38%\", \"85.46%\"])\n",
    "x.add_row([\"\",\"\",\"max_depth = 15\",\"\", \"\", \"\", \"\"])\n",
    "x.add_row([\"\",\"\",\"learning_rate = 0.1\",\"\", \"\", \"\", \"\"])\n",
    "x.add_row([\"\",\"RF\",\"n_estimators = 600\",\"80.05%\", \"80.56%\", \"85.76%\", \"83.08%\"])\n",
    "x.add_row([\"\",\"\",\"\",\"\",\"\",\"\",\"\"])\n",
    "x.add_row([\"TFIDF Word2Vec\",\"GBDT\",\"n_estimators = 300\",\"76.81%\", \"76.37%\", \"84.53%\", \"80.24%\"])\n",
    "x.add_row([\"\",\"\",\"max_depth = 10\",\"\", \"\", \"\", \"\"])\n",
    "x.add_row([\"\",\"\",\"learning_rate = 0.1\",\"\", \"\", \"\", \"\"])\n",
    "x.add_row([\"\",\"RF\",\"n_estimators = 700\",\"75.56%\", \"74.43%\", \"86.59%\", \"80.05%\"])\n",
    "x.add_row([\"\",\"\",\"\",\"\",\"\",\"\",\"\"])\n",
    "\n",
    "\n",
    "print(x.get_string())"
   ]
  }
 ],
 "metadata": {
  "accelerator": "GPU",
  "colab": {
   "collapsed_sections": [],
   "name": "GBDT and Random Forests on Amazon food reviews.ipynb",
   "provenance": [],
   "version": "0.3.2"
  },
  "kernelspec": {
   "display_name": "Python 3",
   "language": "python",
   "name": "python3"
  },
  "language_info": {
   "codemirror_mode": {
    "name": "ipython",
    "version": 3
   },
   "file_extension": ".py",
   "mimetype": "text/x-python",
   "name": "python",
   "nbconvert_exporter": "python",
   "pygments_lexer": "ipython3",
   "version": "3.6.5"
  }
 },
 "nbformat": 4,
 "nbformat_minor": 1
}
