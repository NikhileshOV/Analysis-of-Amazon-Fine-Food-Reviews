{
 "cells": [
  {
   "cell_type": "code",
   "execution_count": 3,
   "metadata": {
    "colab": {},
    "colab_type": "code",
    "id": "7kCz3GwpLaH5"
   },
   "outputs": [],
   "source": [
    "import warnings\n",
    "warnings.filterwarnings(\"ignore\")\n",
    "\n",
    "import sqlite3\n",
    "import numpy as np\n",
    "import pandas as pd\n",
    "import matplotlib.pyplot as plt\n",
    "import nltk\n",
    "import string\n",
    "import seaborn as sns\n",
    "from sklearn.feature_extraction.text import TfidfTransformer\n",
    "from sklearn.feature_extraction.text import TfidfVectorizer\n",
    "\n",
    "from sklearn.feature_extraction.text import CountVectorizer\n",
    "from sklearn.metrics import confusion_matrix\n",
    "from sklearn import metrics\n",
    "from sklearn.metrics import roc_curve, auc\n",
    "from nltk.stem.porter import PorterStemmer\n",
    "from sklearn.decomposition import TruncatedSVD\n",
    "\n",
    "import re\n",
    "from nltk.corpus import stopwords\n",
    "from nltk.stem import PorterStemmer\n",
    "from nltk.stem.wordnet import WordNetLemmatizer\n",
    "\n",
    "from gensim.models import Word2Vec\n",
    "from gensim.models import KeyedVectors\n",
    "import pickle\n",
    "\n",
    "from sklearn.cross_validation import train_test_split\n",
    "from sklearn.metrics import accuracy_score\n",
    "from sklearn.metrics import classification_report\n",
    "from sklearn.cross_validation import cross_val_score\n",
    "from collections import Counter\n",
    "from sklearn.metrics import accuracy_score\n",
    "from sklearn import cross_validation\n",
    "from prettytable import PrettyTable\n",
    "\n",
    "from sklearn.tree import DecisionTreeClassifier\n",
    "from sklearn.tree import DecisionTreeRegressor\n",
    "from sklearn.tree import export_graphviz\n",
    "from sklearn.model_selection import StratifiedKFold\n",
    "import graphviz"
   ]
  },
  {
   "cell_type": "markdown",
   "metadata": {},
   "source": [
    "# Import the data"
   ]
  },
  {
   "cell_type": "code",
   "execution_count": 0,
   "metadata": {
    "colab": {},
    "colab_type": "code",
    "id": "VCYK5rf3aAMl"
   },
   "outputs": [],
   "source": [
    "import pandas as pd\n",
    "final = pd.read_csv(\"final.csv\") #csv file which consists of Amazon food reviews with data cleaning performed upon previously\n",
    "p = final.groupby('Score')\n",
    "pos = p.get_group('Positive') #Gets the groups with Positive score\n",
    "neg = p.get_group('Negative') #Gets the groups with Negative score\n",
    "pos_2000 = pos.sample(142897) #Gets 1000 reviews of positive and negative scores\n",
    "neg_2000 = neg.sample(57103)\n",
    "grouped_data = pd.concat([pos_2000, neg_2000], ignore_index = True) #This data now contains positive and negative data in order.\n",
    "print(\"The shape of grouped data is {}\".format(grouped_data.shape))"
   ]
  },
  {
   "cell_type": "markdown",
   "metadata": {
    "colab_type": "text",
    "id": "XyQc9vqWaAMw"
   },
   "source": [
    "Observations:\n",
    "We choose 142897 positive and 57103 negative reviews from the final dataframe obtained after data cleaning process."
   ]
  },
  {
   "cell_type": "code",
   "execution_count": 0,
   "metadata": {
    "colab": {},
    "colab_type": "code",
    "id": "P2mIJz29aAMz"
   },
   "outputs": [],
   "source": [
    "import datetime\n",
    "grouped_data['Time'] = grouped_data['Time'].map(lambda a: datetime.datetime.fromtimestamp(int(a)).strftime('%Y-%m-%d %H:%M:%S'))\n",
    "grouped_data = grouped_data.sort_values('Time', axis=0, ascending=True, kind='quicksort')\n",
    "scores = grouped_data['Score']\n",
    "print(\"The shape of grouped data after time based splitting is {}\".format(grouped_data.shape))"
   ]
  },
  {
   "cell_type": "markdown",
   "metadata": {
    "colab_type": "text",
    "id": "x5vHNZ_KaAM6"
   },
   "source": [
    "Observations:\n",
    "Time based splitting is done on the obtained dataframe."
   ]
  },
  {
   "cell_type": "code",
   "execution_count": 0,
   "metadata": {
    "colab": {},
    "colab_type": "code",
    "id": "Te2CFOSGaAM8"
   },
   "outputs": [],
   "source": [
    "grouped_data.to_csv(\"grouped_data_200\")"
   ]
  },
  {
   "cell_type": "markdown",
   "metadata": {
    "colab_type": "text",
    "id": "CqtaQHlzaAM_"
   },
   "source": [
    "Observations:\n",
    "Saving this dataframe into a new csv file."
   ]
  },
  {
   "cell_type": "markdown",
   "metadata": {},
   "source": [
    "# Utility Function"
   ]
  },
  {
   "cell_type": "code",
   "execution_count": 2,
   "metadata": {
    "colab": {},
    "colab_type": "code",
    "id": "bvRx-hoBLaH-"
   },
   "outputs": [],
   "source": [
    "#We create a few utility functions whose use is described below\n",
    "\n",
    "\n",
    "def decision_trees(x_train,y_train,x_test,y_test,words,tree_name): \n",
    "    #This function implements the decision trees, gets confusion matrix and gets feature importances\n",
    "    my_cv = TimeSeriesSplit(n_splits=3).split(x_train)\n",
    "    param_max_depth = {'max_depth' : list(range(1,1000,10))} #Parameter max_depth for grid search\n",
    "    model1 = DecisionTreeClassifier(min_samples_split=50, min_samples_leaf=50)\n",
    "    f1_scorer = make_scorer(f1_score, pos_label='Positive') #This lets the f1 scorer know that positive label is 'Positive'\n",
    "    \n",
    "    gsearch1 = GridSearchCV(estimator = model1, param_grid = param_max_depth,cv=my_cv, scoring = f1_scorer) #Initiate GridsearchCV\n",
    "    gsearch1.fit(x_train, y_train) #Fitting the model\n",
    "    \n",
    "    print(\"The optimal max depth value found using GridSearchCV is\",gsearch1.best_params_['max_depth'])\n",
    "    print(\"The best CV value found is\",gsearch1.best_index_)\n",
    "    \n",
    "    gpred1 = gsearch1.predict(x_test) #Predicting test data\n",
    "    print('\\nThe test accuracy of SVM for max_depth = %d is %f%%' % (gsearch1.best_params_['max_depth'], accuracy_score(y_test, gpred1) * 100))\n",
    "    print('\\nThe test precision of SVM for max_depth = %d is %f%%' % (gsearch1.best_params_['max_depth'], precision_score(y_test,gpred1,pos_label='Positive')*100))\n",
    "    print('\\nThe test recall of SVM for max_depth = %d is %f%%' % (gsearch1.best_params_['max_depth'], recall_score(y_test,gpred1,pos_label='Positive')*100))\n",
    "    print('\\nThe test f1 score of SVM for max_depth = %d is %f%%' % (gsearch1.best_params_['max_depth'], f1_score(y_test,gpred1,pos_label='Positive')*100))\n",
    "    print('*'*50)\n",
    "    \n",
    "    \n",
    "    #Plot confusion matrix\n",
    "    \n",
    "    #We are using 2 types of confusion matrix here. SKLearn confusion matrix and pandas_ml confusion matrix.\n",
    "    #SKLearn confusion matrix is used to plot it diagramatically whereas pandas_ml confusion matrix is used just for intresting stats like TPR, TNR etc..\n",
    "    \n",
    "    y_true = np.array(y_test) #Converting y_test and gpred1 to array for input into pandas_ml Confusion matrix\n",
    "    y_pred = np.array(gpred1)\n",
    "    labels = ['Negative','Positive']\n",
    "    print(confusion_matrix(y_test, gpred1)) #This prints TP, TN, FP, FN numerically before plotting it diagramatically.\n",
    "    cm = ConfusionMatrix(np.where(y_true == 'Positive', True, False), np.where(y_pred == 'Negative',False, True)) #This the confusion matrix of pandas_ml which provides interesting stats.\n",
    "    confusion_matrix_plot = confusion_matrix(y_test,gpred1) #We are plotting confusion matrix of sklearn\n",
    "    heatmap = sns.heatmap(confusion_matrix_plot, annot=True,cmap='Blues', fmt='g',xticklabels=['Negative','Positive'],yticklabels=['Negative','Positive'])\n",
    "    plt.title('Confusion matrix of the classifier')\n",
    "    plt.xlabel('Predicted')\n",
    "    plt.ylabel('True')\n",
    "    plt.show()\n",
    "    print(\"*\"*50)\n",
    "    print(\"The True Positive Rate observed is\",cm.TPR) #This prints the True Positive Rate of the confusion matrix (using pandas_ml confusion matrix).\n",
    "    print(\"The True Negative Rate observed is\",cm.TNR)\n",
    "    print(\"The False Positive Rate observed is\",cm.FPR)\n",
    "    print(\"The False Negative Rate observed is\",cm.FNR)\n",
    "    print(\"*\"*50)\n",
    "    print(\"The stats observed for confusion matrix are:\")\n",
    "    cm.print_stats()#Prints all the stats of the confusion matrix plotted (using pandas_ml confusion matrix).\n",
    "    \n",
    "    print('\\n')\n",
    "    \n",
    "    \n",
    "    #Get feature Importances\n",
    "    \n",
    "    clf = gsearch1.best_estimator_\n",
    "    clf.fit(x_train,y_train)\n",
    "    feat_imps = clf.feature_importances_ #Storing the feature importances into a new variable\n",
    "    \n",
    "    if len(x_train[0])!=len(words): #This checks if the n_features matches with the number of words. Only matches for BOW and TFIDF.\n",
    "        words==None #If they dont match then feature names in the decision tree graph will be set to None.\n",
    "    \n",
    "    print('\\n')\n",
    "    print('*'*70)\n",
    "    dot_data = export_graphviz(clf, out_file=None, filled=True, rounded=True, feature_names=words) #Plots the decision tree graph\n",
    "    graph = graphviz.Source(dot_data) \n",
    "    graph.render(tree_name) #Saves it into a desired file name\n",
    "        \n",
    "    print('The number of words available are', len(words))\n",
    "    \n",
    "    if words == None: #If the n_features is not equal to number of words, a dataframe is output with important features.\n",
    "        df = 0 #If input is 0 the data frame is not obtained.        \n",
    "    else:\n",
    "        df = pd.DataFrame({'Words': words, 'Coefficients':feat_imps}) #Create a dataframe for feature importances of all the words\n",
    "    \n",
    "    return df\n",
    "  \n",
    "def plot_graph(x_train,y_train,x_test,y_test,cv,step): #For plotting the hyper parameter against various errors\n",
    "    print('*'*28,\"Plotting max depth, Error\",'*'*28)\n",
    "    test_error=[]\n",
    "    cv_scores=[]\n",
    "   \n",
    "    f1_scorer = make_scorer(f1_score, pos_label='Positive')\n",
    "    param_list=list(range(1,1000,step)) #Here step determines the number of points to take for plotting.\n",
    "    \n",
    "    for i in param_list:\n",
    "        model=DecisionTreeClassifier(max_depth=i,min_samples_split=50, min_samples_leaf=50) #Define decision tree model\n",
    "        model.fit(x_train,y_train)\n",
    "        test_error.append(1-accuracy_score(y_test, model.predict(x_test))) #Get the test error\n",
    "        scores = cross_val_score(model, x_train, y_train, cv=cv, scoring=f1_scorer)\n",
    "        cv_scores.append(scores.mean()) #The mean of the obtained scores is taken #Get the CV scores\n",
    "    \n",
    "    MSE = [1 - x for x in cv_scores] #Gets the MSE\n",
    "    \n",
    "    plt.figure(1)\n",
    "    plt.plot([a for a in param_list], test_error)\n",
    "\n",
    "    plt.xlim(0,1001)\n",
    "    plt.ylim(0,0.7)\n",
    "    plt.title('Max Depth vs Test Error')\n",
    "    plt.xlabel('Max Depth')\n",
    "    plt.ylabel('Test Error')\n",
    "    plt.show()\n",
    "    \n",
    "    plt.figure(2)\n",
    "    plt.plot([a for a in param_list], MSE)\n",
    "\n",
    "    plt.xlim(0,1001)\n",
    "    plt.ylim(0,0.7)\n",
    "    plt.title('Max Depth vs MSE')\n",
    "    plt.xlabel('Max Depth')\n",
    "    plt.ylabel('MSE')\n",
    "    plt.show()"
   ]
  },
  {
   "cell_type": "markdown",
   "metadata": {
    "colab_type": "raw",
    "id": "lER5Sy1CaANO"
   },
   "source": [
    "**Observations:**\n",
    "\n",
    "1) The first function finds the maximum depth value for DecisionTreeClassifier, plots confusion matrix and lists all of its stats using GridsearchCV. \n",
    "\n",
    "2) It also returns a dataframe with all the important features, and plots the decision tree. \n",
    "\n",
    "3) The second function plots the max depth vs various errors."
   ]
  },
  {
   "cell_type": "markdown",
   "metadata": {
    "colab_type": "text",
    "id": "8uyA6VM9N4s0"
   },
   "source": [
    "# Bag of Words"
   ]
  },
  {
   "cell_type": "code",
   "execution_count": 5,
   "metadata": {
    "colab": {
     "base_uri": "https://localhost:8080/",
     "height": 34
    },
    "colab_type": "code",
    "id": "AAzW1SL3Qb-n",
    "outputId": "bd37dba8-2bde-41f2-ae80-23996293f858"
   },
   "outputs": [
    {
     "name": "stdout",
     "output_type": "stream",
     "text": [
      "The shape of grouped data is (49998, 14)\n"
     ]
    }
   ],
   "source": [
    "import pandas as pd\n",
    "final = pd.read_csv(\"grouped_data_200.csv\")\n",
    "p = final.groupby('Score')\n",
    "pos = p.get_group('Positive') #Gets the groups with Positive score\n",
    "neg = p.get_group('Negative') #Gets the groups with Negative score\n",
    "pos_2000 = pos.sample(30000) #Gets 30000 reviews of positive and 20000 negative scores\n",
    "neg_2000 = neg.sample(20000)\n",
    "grouped_data = pd.concat([pos_2000, neg_2000], ignore_index = True) #This data now contains positive and negative data in order.\n",
    "grouped_data.dropna(inplace = True) #Drops rows with Nan\n",
    "grouped_data.reset_index(inplace=True) #Replaces missing indexes\n",
    "grouped_data = grouped_data.sort_values('Time', axis=0, ascending=True, kind='quicksort')\n",
    "scores=grouped_data['Score']\n",
    "print(\"The shape of grouped data is {}\".format(grouped_data.shape))"
   ]
  },
  {
   "cell_type": "markdown",
   "metadata": {
    "colab_type": "text",
    "id": "RB84yNisaANW"
   },
   "source": [
    "Observations:\n",
    "A csv file is imported which consists of 200000 data points. These data points are already sorted on the basis of time. We create a new dataframe with over 50000 data points."
   ]
  },
  {
   "cell_type": "code",
   "execution_count": 6,
   "metadata": {
    "colab": {},
    "colab_type": "code",
    "id": "ofP8djHc7bab"
   },
   "outputs": [],
   "source": [
    "x_train, x_test, y_train, y_test = train_test_split(grouped_data,scores,test_size=0.3,shuffle=False)"
   ]
  },
  {
   "cell_type": "markdown",
   "metadata": {
    "colab_type": "text",
    "id": "t8p84yshaANg"
   },
   "source": [
    "Observations:\n",
    "The data is split into train and test."
   ]
  },
  {
   "cell_type": "code",
   "execution_count": 7,
   "metadata": {
    "colab": {
     "base_uri": "https://localhost:8080/",
     "height": 51
    },
    "colab_type": "code",
    "id": "P_5vpR8QaANh",
    "outputId": "403be1f2-7ec1-4701-fac7-f43d6a4664c2"
   },
   "outputs": [
    {
     "name": "stdout",
     "output_type": "stream",
     "text": [
      "The shape of train data for BOW is (34998, 23628)\n",
      "The shape of test data for BOW is (15000, 23628)\n"
     ]
    }
   ],
   "source": [
    "count_vect = CountVectorizer()\n",
    "vocab = count_vect.fit(x_train['CleanedText'].values.astype('U'))\n",
    "data_train = count_vect.transform(x_train['CleanedText'].values.astype('U'))\n",
    "data_test = count_vect.transform(x_test['CleanedText'].values.astype('U'))\n",
    "words = count_vect.get_feature_names()\n",
    "print(\"The shape of train data for BOW is {}\".format(data_train.shape))\n",
    "print(\"The shape of test data for BOW is {}\".format(data_test.shape))"
   ]
  },
  {
   "cell_type": "markdown",
   "metadata": {
    "colab_type": "text",
    "id": "PkcD4xDzaANp"
   },
   "source": [
    "Observations:\n",
    "We build out Bag of words vocabulary only on train data and get vectors of train and test data."
   ]
  },
  {
   "cell_type": "code",
   "execution_count": 8,
   "metadata": {
    "colab": {},
    "colab_type": "code",
    "id": "e8ULfu9AwfcJ"
   },
   "outputs": [],
   "source": [
    "from sklearn.preprocessing import normalize\n",
    "data_train=normalize(data_train)\n",
    "data_test=normalize(data_test)"
   ]
  },
  {
   "cell_type": "markdown",
   "metadata": {},
   "source": [
    "Observations: We normalize the data."
   ]
  },
  {
   "cell_type": "code",
   "execution_count": 11,
   "metadata": {
    "colab": {
     "base_uri": "https://localhost:8080/",
     "height": 1260
    },
    "colab_type": "code",
    "id": "FBpJXyhw3qWl",
    "outputId": "e151550a-5341-4baa-f1b4-492afa50c429"
   },
   "outputs": [
    {
     "name": "stdout",
     "output_type": "stream",
     "text": [
      "The optimal max depth value found using GridSearchCV is 21\n",
      "The best CV value found is 2\n",
      "\n",
      "The test accuracy of SVM for max_depth = 21 is 75.425028%\n",
      "\n",
      "The test precision of SVM for max_depth = 21 is 78.463357%\n",
      "\n",
      "The test recall of SVM for max_depth = 21 is 78.075747%\n",
      "\n",
      "The test f1 score of SVM for max_depth = 21 is 78.269072%\n",
      "**************************************************\n",
      "[[4675 1822]\n",
      " [1864 6638]]\n"
     ]
    },
    {
     "data": {
      "image/png": "[encoded data removed]",
      "text/plain": [
       "<matplotlib.figure.Figure at 0x7f0da0f06898>"
      ]
     },
     "metadata": {
      "tags": []
     },
     "output_type": "display_data"
    },
    {
     "name": "stdout",
     "output_type": "stream",
     "text": [
      "**************************************************\n",
      "The True Positive Rate observed is 0.7807574688308633\n",
      "The True Negative Rate observed is 0.7195628751731569\n",
      "The False Positive Rate observed is 0.28043712482684313\n",
      "The False Negative Rate observed is 0.21924253116913667\n",
      "**************************************************\n",
      "The stats observed for confusion matrix are:\n",
      "population: 14999\n",
      "P: 8502\n",
      "N: 6497\n",
      "PositiveTest: 8460\n",
      "NegativeTest: 6539\n",
      "TP: 6638\n",
      "TN: 4675\n",
      "FP: 1822\n",
      "FN: 1864\n",
      "TPR: 0.7807574688308633\n",
      "TNR: 0.7195628751731569\n",
      "PPV: 0.7846335697399527\n",
      "NPV: 0.7149411224957944\n",
      "FPR: 0.28043712482684313\n",
      "FDR: 0.2153664302600473\n",
      "FNR: 0.21924253116913667\n",
      "ACC: 0.7542502833522234\n",
      "F1_score: 0.7826907204339111\n",
      "MCC: 0.499947379106133\n",
      "informedness: 0.5003203440040203\n",
      "markedness: 0.49957469223574713\n",
      "prevalence: 0.5668377891859457\n",
      "LRP: 2.7840731476367284\n",
      "LRN: 0.30468849732746117\n",
      "DOR: 9.137440934124177\n",
      "FOR: 0.28505887750420555\n",
      "\n",
      "\n",
      "\n",
      "\n",
      "**********************************************************************\n",
      "The number of words available are 23370\n"
     ]
    }
   ],
   "source": [
    "df = decision_trees(data_train, y_train, data_test, y_test,words, 'BagOfWords')"
   ]
  },
  {
   "cell_type": "code",
   "execution_count": 14,
   "metadata": {
    "colab": {
     "base_uri": "https://localhost:8080/",
     "height": 752
    },
    "colab_type": "code",
    "id": "-e-jktFQNY7i",
    "outputId": "1170d9d5-ddd9-4946-8e70-0779f38ffee7",
    "scrolled": false
   },
   "outputs": [
    {
     "name": "stdout",
     "output_type": "stream",
     "text": [
      "**************************** Plotting max depth, Error ****************************\n"
     ]
    },
    {
     "data": {
      "image/png": "[encoded data removed]",
      "text/plain": [
       "<matplotlib.figure.Figure at 0x7f0d75e8f6d8>"
      ]
     },
     "metadata": {
      "tags": []
     },
     "output_type": "display_data"
    },
    {
     "data": {
      "image/png": "[encoded data removed]",
      "text/plain": [
       "<matplotlib.figure.Figure at 0x7f0d6bcad588>"
      ]
     },
     "metadata": {
      "tags": []
     },
     "output_type": "display_data"
    }
   ],
   "source": [
    "plot_graph(data_train, y_train, data_test, y_test, 2, 10)"
   ]
  },
  {
   "cell_type": "code",
   "execution_count": 16,
   "metadata": {
    "colab": {
     "base_uri": "https://localhost:8080/",
     "height": 514
    },
    "colab_type": "code",
    "id": "lzwEe-9D9C_l",
    "outputId": "7016a83f-498a-4ee5-ef4a-9e1f77598e79"
   },
   "outputs": [
    {
     "data": {
      "text/html": [
       "<div>\n",
       "<style scoped>\n",
       "    .dataframe tbody tr th:only-of-type {\n",
       "        vertical-align: middle;\n",
       "    }\n",
       "\n",
       "    .dataframe tbody tr th {\n",
       "        vertical-align: top;\n",
       "    }\n",
       "\n",
       "    .dataframe thead th {\n",
       "        text-align: right;\n",
       "    }\n",
       "</style>\n",
       "<table border=\"1\" class=\"dataframe\">\n",
       "  <thead>\n",
       "    <tr style=\"text-align: right;\">\n",
       "      <th></th>\n",
       "      <th>Coefficients</th>\n",
       "      <th>Words</th>\n",
       "    </tr>\n",
       "  </thead>\n",
       "  <tbody>\n",
       "    <tr>\n",
       "      <th>8765</th>\n",
       "      <td>0.149587</td>\n",
       "      <td>great</td>\n",
       "    </tr>\n",
       "    <tr>\n",
       "      <th>5728</th>\n",
       "      <td>0.115459</td>\n",
       "      <td>disappoint</td>\n",
       "    </tr>\n",
       "    <tr>\n",
       "      <th>11871</th>\n",
       "      <td>0.097742</td>\n",
       "      <td>love</td>\n",
       "    </tr>\n",
       "    <tr>\n",
       "      <th>1825</th>\n",
       "      <td>0.074982</td>\n",
       "      <td>best</td>\n",
       "    </tr>\n",
       "    <tr>\n",
       "      <th>5322</th>\n",
       "      <td>0.057888</td>\n",
       "      <td>delici</td>\n",
       "    </tr>\n",
       "    <tr>\n",
       "      <th>8565</th>\n",
       "      <td>0.040831</td>\n",
       "      <td>good</td>\n",
       "    </tr>\n",
       "    <tr>\n",
       "      <th>13036</th>\n",
       "      <td>0.035665</td>\n",
       "      <td>money</td>\n",
       "    </tr>\n",
       "    <tr>\n",
       "      <th>20199</th>\n",
       "      <td>0.035453</td>\n",
       "      <td>tast</td>\n",
       "    </tr>\n",
       "    <tr>\n",
       "      <th>7228</th>\n",
       "      <td>0.032042</td>\n",
       "      <td>favorit</td>\n",
       "    </tr>\n",
       "    <tr>\n",
       "      <th>15009</th>\n",
       "      <td>0.031507</td>\n",
       "      <td>perfect</td>\n",
       "    </tr>\n",
       "    <tr>\n",
       "      <th>6934</th>\n",
       "      <td>0.027352</td>\n",
       "      <td>excel</td>\n",
       "    </tr>\n",
       "    <tr>\n",
       "      <th>17010</th>\n",
       "      <td>0.024869</td>\n",
       "      <td>return</td>\n",
       "    </tr>\n",
       "    <tr>\n",
       "      <th>1370</th>\n",
       "      <td>0.019739</td>\n",
       "      <td>bad</td>\n",
       "    </tr>\n",
       "    <tr>\n",
       "      <th>6629</th>\n",
       "      <td>0.018746</td>\n",
       "      <td>enjoy</td>\n",
       "    </tr>\n",
       "    <tr>\n",
       "      <th>20587</th>\n",
       "      <td>0.017965</td>\n",
       "      <td>thought</td>\n",
       "    </tr>\n",
       "  </tbody>\n",
       "</table>\n",
       "</div>"
      ],
      "text/plain": [
       "       Coefficients       Words\n",
       "8765       0.149587       great\n",
       "5728       0.115459  disappoint\n",
       "11871      0.097742        love\n",
       "1825       0.074982        best\n",
       "5322       0.057888      delici\n",
       "8565       0.040831        good\n",
       "13036      0.035665       money\n",
       "20199      0.035453        tast\n",
       "7228       0.032042     favorit\n",
       "15009      0.031507     perfect\n",
       "6934       0.027352       excel\n",
       "17010      0.024869      return\n",
       "1370       0.019739         bad\n",
       "6629       0.018746       enjoy\n",
       "20587      0.017965     thought"
      ]
     },
     "execution_count": 16,
     "metadata": {
      "tags": []
     },
     "output_type": "execute_result"
    }
   ],
   "source": [
    "df.sort_values(['Coefficients'], ascending=False).head(15)"
   ]
  },
  {
   "cell_type": "markdown",
   "metadata": {
    "colab_type": "text",
    "id": "Uy9lMqY-XPmF"
   },
   "source": [
    "# TFIDF"
   ]
  },
  {
   "cell_type": "code",
   "execution_count": 10,
   "metadata": {
    "colab": {
     "base_uri": "https://localhost:8080/",
     "height": 34
    },
    "colab_type": "code",
    "id": "ITYRwP_YBsnw",
    "outputId": "6f473541-fb09-4de5-c565-a6fc0506beb7"
   },
   "outputs": [
    {
     "name": "stdout",
     "output_type": "stream",
     "text": [
      "The shape of grouped data is (14999, 12)\n"
     ]
    }
   ],
   "source": [
    "import pandas as pd\n",
    "final = pd.read_csv(\"grouped_data_200.csv\")\n",
    "p = final.groupby('Score')\n",
    "pos = p.get_group('Positive') #Gets the groups with Positive score\n",
    "neg = p.get_group('Negative') #Gets the groups with Negative score\n",
    "pos_2000 = pos.sample(8000) #Gets 30000 reviews of positive and 20000 negative scores\n",
    "neg_2000 = neg.sample(7000)\n",
    "grouped_data = pd.concat([pos_2000, neg_2000], ignore_index = True) #This data now contains positive and negative data in order.\n",
    "grouped_data.dropna(inplace = True) #Drops rows with Nan\n",
    "grouped_data.reset_index(inplace=True) #Replaces missing indexes\n",
    "grouped_data.drop(['Unnamed: 0', 'Unnamed: 0.1'], axis=1, inplace=True)\n",
    "grouped_data = grouped_data.sort_values('Time', axis=0, ascending=True, kind='quicksort')\n",
    "scores=grouped_data['Score']\n",
    "print(\"The shape of grouped data is {}\".format(grouped_data.shape))"
   ]
  },
  {
   "cell_type": "markdown",
   "metadata": {
    "colab_type": "text",
    "id": "ZsZq3wE1Bsn4"
   },
   "source": [
    "Observations:\n",
    "A csv file is imported which consists of 200000 data points. These data points are already sorted on the basis of time. We create a new dataframe with over 15000 data points."
   ]
  },
  {
   "cell_type": "code",
   "execution_count": 11,
   "metadata": {
    "colab": {},
    "colab_type": "code",
    "id": "KsOGO4mGBsn5"
   },
   "outputs": [],
   "source": [
    "x_train, x_test, y_train, y_test = train_test_split(grouped_data,scores,test_size=0.3,shuffle=False)"
   ]
  },
  {
   "cell_type": "markdown",
   "metadata": {
    "colab_type": "text",
    "id": "CTBd0DOQBsn-"
   },
   "source": [
    "Observations: Data is split into train, test."
   ]
  },
  {
   "cell_type": "code",
   "execution_count": 12,
   "metadata": {
    "colab": {
     "base_uri": "https://localhost:8080/",
     "height": 68
    },
    "colab_type": "code",
    "id": "fqjZlZgLBsn_",
    "outputId": "ae3089f8-b381-4199-8235-1eea1faf00e0"
   },
   "outputs": [
    {
     "name": "stdout",
     "output_type": "stream",
     "text": [
      "the type of count vectorizer  <class 'scipy.sparse.csr.csr_matrix'>\n",
      "The shape of train_tf_idf  (10499, 255735)\n",
      "The shape of test_tf_idf  (4500, 255735)\n"
     ]
    }
   ],
   "source": [
    "tf_idf_vect = TfidfVectorizer(ngram_range=(1,2))\n",
    "vocab_tf_idf = tf_idf_vect.fit(x_train['CleanedText'].values.astype('U')) #Converts to a sparse matrix of TF-IDF vectors.\n",
    "train_tf_idf = tf_idf_vect.transform(x_train['CleanedText'].values.astype('U'))\n",
    "test_tf_idf = tf_idf_vect.transform(x_test['CleanedText'].values.astype('U'))\n",
    "words = tf_idf_vect.get_feature_names()\n",
    "print(\"the type of count vectorizer \",type(train_tf_idf))\n",
    "print(\"The shape of train_tf_idf \",train_tf_idf.get_shape())\n",
    "print(\"The shape of test_tf_idf \", test_tf_idf.get_shape())"
   ]
  },
  {
   "cell_type": "markdown",
   "metadata": {
    "colab_type": "text",
    "id": "x4CwsqPbBsoH"
   },
   "source": [
    "Observations:\n",
    "Vocabulary of TF-IDF is trained for train data and vectors for train and test data are obtained."
   ]
  },
  {
   "cell_type": "code",
   "execution_count": 13,
   "metadata": {
    "colab": {},
    "colab_type": "code",
    "id": "WMyhqsiTfIPb"
   },
   "outputs": [],
   "source": [
    "from sklearn.preprocessing import normalize\n",
    "train_tf_idf=normalize(train_tf_idf)\n",
    "test_tf_idf=normalize(test_tf_idf)"
   ]
  },
  {
   "cell_type": "markdown",
   "metadata": {
    "colab_type": "text",
    "id": "gujMppi0BsoO"
   },
   "source": [
    "Observations:\n",
    "Data is normalized."
   ]
  },
  {
   "cell_type": "code",
   "execution_count": 0,
   "metadata": {
    "colab": {
     "base_uri": "https://localhost:8080/",
     "height": 1260
    },
    "colab_type": "code",
    "id": "Rx1-ZCjyQ1Hc",
    "outputId": "1c6eefac-464f-4bf9-9eaf-4e0e99bbc1cc"
   },
   "outputs": [
    {
     "name": "stdout",
     "output_type": "stream",
     "text": [
      "The optimal max depth value found using GridSearchCV is 21\n",
      "The best CV value found is 2\n",
      "\n",
      "The test accuracy of SVM for max_depth = 21 is 74.022222%\n",
      "\n",
      "The test precision of SVM for max_depth = 21 is 72.268908%\n",
      "\n",
      "The test recall of SVM for max_depth = 21 is 79.141104%\n",
      "\n",
      "The test f1 score of SVM for max_depth = 21 is 75.549048%\n",
      "**************************************************\n",
      "[[1525  693]\n",
      " [ 476 1806]]\n"
     ]
    },
    {
     "data": {
      "image/png": "[encoded data removed]",
      "text/plain": [
       "<matplotlib.figure.Figure at 0x7f1a4d925e10>"
      ]
     },
     "metadata": {
      "tags": []
     },
     "output_type": "display_data"
    },
    {
     "name": "stdout",
     "output_type": "stream",
     "text": [
      "**************************************************\n",
      "The True Positive Rate observed is 0.7914110429447853\n",
      "The True Negative Rate observed is 0.6875563570784491\n",
      "The False Positive Rate observed is 0.31244364292155097\n",
      "The False Negative Rate observed is 0.2085889570552147\n",
      "**************************************************\n",
      "The stats observed for confusion matrix are:\n",
      "population: 4500\n",
      "P: 2282\n",
      "N: 2218\n",
      "PositiveTest: 2499\n",
      "NegativeTest: 2001\n",
      "TP: 1806\n",
      "TN: 1525\n",
      "FP: 693\n",
      "FN: 476\n",
      "TPR: 0.7914110429447853\n",
      "TNR: 0.6875563570784491\n",
      "PPV: 0.7226890756302521\n",
      "NPV: 0.7621189405297352\n",
      "FPR: 0.31244364292155097\n",
      "FDR: 0.2773109243697479\n",
      "FNR: 0.2085889570552147\n",
      "ACC: 0.7402222222222222\n",
      "F1_score: 0.7554904831625183\n",
      "MCC: 0.48187885926918533\n",
      "informedness: 0.47896740002323446\n",
      "markedness: 0.48480801615998725\n",
      "prevalence: 0.5071111111111111\n",
      "LRP: 2.5329721403341035\n",
      "LRN: 0.3033772503268631\n",
      "DOR: 8.349248790425262\n",
      "FOR: 0.23788105947026486\n",
      "\n",
      "\n",
      "\n",
      "\n",
      "**********************************************************************\n",
      "The number of words available are 249753\n"
     ]
    }
   ],
   "source": [
    "df = decision_trees(train_tf_idf, y_train, test_tf_idf, y_test, words, 'TFIDF')"
   ]
  },
  {
   "cell_type": "code",
   "execution_count": 0,
   "metadata": {
    "colab": {
     "base_uri": "https://localhost:8080/",
     "height": 752
    },
    "colab_type": "code",
    "id": "nBic2bvlIzQU",
    "outputId": "a5324488-8fda-4b47-f52e-5849c94deb26",
    "scrolled": false
   },
   "outputs": [
    {
     "name": "stdout",
     "output_type": "stream",
     "text": [
      "**************************** Plotting max depth, Error ****************************\n"
     ]
    },
    {
     "data": {
      "image/png": "[encoded data removed]",
      "text/plain": [
       "<matplotlib.figure.Figure at 0x7f1a42b10ac8>"
      ]
     },
     "metadata": {
      "tags": []
     },
     "output_type": "display_data"
    },
    {
     "data": {
      "image/png": "[encoded data removed]",
      "text/plain": [
       "<matplotlib.figure.Figure at 0x7f1a42d236a0>"
      ]
     },
     "metadata": {
      "tags": []
     },
     "output_type": "display_data"
    }
   ],
   "source": [
    "plot_graph(train_tf_idf, y_train, test_tf_idf, y_test, 2, 10)"
   ]
  },
  {
   "cell_type": "code",
   "execution_count": 0,
   "metadata": {
    "colab": {
     "base_uri": "https://localhost:8080/",
     "height": 514
    },
    "colab_type": "code",
    "id": "xoa25o-GVtzP",
    "outputId": "ea11897a-29f2-4a26-f83a-41dfdf47bf76"
   },
   "outputs": [
    {
     "data": {
      "text/html": [
       "<div>\n",
       "<style scoped>\n",
       "    .dataframe tbody tr th:only-of-type {\n",
       "        vertical-align: middle;\n",
       "    }\n",
       "\n",
       "    .dataframe tbody tr th {\n",
       "        vertical-align: top;\n",
       "    }\n",
       "\n",
       "    .dataframe thead th {\n",
       "        text-align: right;\n",
       "    }\n",
       "</style>\n",
       "<table border=\"1\" class=\"dataframe\">\n",
       "  <thead>\n",
       "    <tr style=\"text-align: right;\">\n",
       "      <th></th>\n",
       "      <th>Coefficients</th>\n",
       "      <th>Words</th>\n",
       "    </tr>\n",
       "  </thead>\n",
       "  <tbody>\n",
       "    <tr>\n",
       "      <th>97288</th>\n",
       "      <td>0.171161</td>\n",
       "      <td>great</td>\n",
       "    </tr>\n",
       "    <tr>\n",
       "      <th>128186</th>\n",
       "      <td>0.107516</td>\n",
       "      <td>love</td>\n",
       "    </tr>\n",
       "    <tr>\n",
       "      <th>19122</th>\n",
       "      <td>0.091522</td>\n",
       "      <td>best</td>\n",
       "    </tr>\n",
       "    <tr>\n",
       "      <th>61507</th>\n",
       "      <td>0.090033</td>\n",
       "      <td>disappoint</td>\n",
       "    </tr>\n",
       "    <tr>\n",
       "      <th>57609</th>\n",
       "      <td>0.069811</td>\n",
       "      <td>delici</td>\n",
       "    </tr>\n",
       "    <tr>\n",
       "      <th>78858</th>\n",
       "      <td>0.043012</td>\n",
       "      <td>favorit</td>\n",
       "    </tr>\n",
       "    <tr>\n",
       "      <th>160128</th>\n",
       "      <td>0.040504</td>\n",
       "      <td>perfect</td>\n",
       "    </tr>\n",
       "    <tr>\n",
       "      <th>94665</th>\n",
       "      <td>0.038972</td>\n",
       "      <td>good</td>\n",
       "    </tr>\n",
       "    <tr>\n",
       "      <th>104346</th>\n",
       "      <td>0.028018</td>\n",
       "      <td>high recommend</td>\n",
       "    </tr>\n",
       "    <tr>\n",
       "      <th>139769</th>\n",
       "      <td>0.022260</td>\n",
       "      <td>money</td>\n",
       "    </tr>\n",
       "    <tr>\n",
       "      <th>217170</th>\n",
       "      <td>0.021691</td>\n",
       "      <td>tasti</td>\n",
       "    </tr>\n",
       "    <tr>\n",
       "      <th>244550</th>\n",
       "      <td>0.020206</td>\n",
       "      <td>wonder</td>\n",
       "    </tr>\n",
       "    <tr>\n",
       "      <th>74462</th>\n",
       "      <td>0.017881</td>\n",
       "      <td>excel</td>\n",
       "    </tr>\n",
       "    <tr>\n",
       "      <th>215994</th>\n",
       "      <td>0.017179</td>\n",
       "      <td>tast</td>\n",
       "    </tr>\n",
       "    <tr>\n",
       "      <th>70639</th>\n",
       "      <td>0.016415</td>\n",
       "      <td>enjoy</td>\n",
       "    </tr>\n",
       "  </tbody>\n",
       "</table>\n",
       "</div>"
      ],
      "text/plain": [
       "        Coefficients           Words\n",
       "97288       0.171161           great\n",
       "128186      0.107516            love\n",
       "19122       0.091522            best\n",
       "61507       0.090033      disappoint\n",
       "57609       0.069811          delici\n",
       "78858       0.043012         favorit\n",
       "160128      0.040504         perfect\n",
       "94665       0.038972            good\n",
       "104346      0.028018  high recommend\n",
       "139769      0.022260           money\n",
       "217170      0.021691           tasti\n",
       "244550      0.020206          wonder\n",
       "74462       0.017881           excel\n",
       "215994      0.017179            tast\n",
       "70639       0.016415           enjoy"
      ]
     },
     "execution_count": 13,
     "metadata": {
      "tags": []
     },
     "output_type": "execute_result"
    }
   ],
   "source": [
    "df.sort_values(['Coefficients'], ascending=False).head(15)"
   ]
  },
  {
   "cell_type": "markdown",
   "metadata": {
    "colab_type": "text",
    "id": "c4GQJ4hrVXIr"
   },
   "source": [
    "#  Avg Word2Vec"
   ]
  },
  {
   "cell_type": "code",
   "execution_count": 32,
   "metadata": {
    "colab": {
     "base_uri": "https://localhost:8080/",
     "height": 34
    },
    "colab_type": "code",
    "id": "kGlVKc25Vb-E",
    "outputId": "e1e4dc26-71b7-4404-8360-af6d91267342"
   },
   "outputs": [
    {
     "name": "stdout",
     "output_type": "stream",
     "text": [
      "The shape of grouped data is (49995, 12)\n"
     ]
    }
   ],
   "source": [
    "import pandas as pd\n",
    "final = pd.read_csv(\"grouped_data_200.csv\")\n",
    "p = final.groupby('Score')\n",
    "pos = p.get_group('Positive') #Gets the groups with Positive score\n",
    "neg = p.get_group('Negative') #Gets the groups with Negative score\n",
    "pos_2000 = pos.sample(30000) #Gets 30000 reviews of positive and 20000 negative scores\n",
    "neg_2000 = neg.sample(20000)\n",
    "grouped_data = pd.concat([pos_2000, neg_2000], ignore_index = True) #This data now contains positive and negative data in order.\n",
    "grouped_data.dropna(inplace = True) #Drops rows with Nan\n",
    "grouped_data.reset_index(inplace=True) #Replaces missing indexes\n",
    "grouped_data.drop(['Unnamed: 0', 'Unnamed: 0.1'], axis=1, inplace=True)\n",
    "grouped_data = grouped_data.sort_values('Time', axis=0, ascending=True, kind='quicksort')\n",
    "scores=grouped_data['Score']\n",
    "print(\"The shape of grouped data is {}\".format(grouped_data.shape))"
   ]
  },
  {
   "cell_type": "markdown",
   "metadata": {},
   "source": [
    "Observations:\n",
    "A csv file is imported which consists of 200000 data points. These data points are already sorted on the basis of time. We create a new dataframe with over 50000 data points."
   ]
  },
  {
   "cell_type": "code",
   "execution_count": 33,
   "metadata": {
    "colab": {},
    "colab_type": "code",
    "id": "8BLCBgKQWl8V"
   },
   "outputs": [],
   "source": [
    "x_train, x_test, y_train, y_test = train_test_split(grouped_data,scores,test_size=0.3,shuffle=False)"
   ]
  },
  {
   "cell_type": "markdown",
   "metadata": {},
   "source": [
    "Observations: Data is split into train and test."
   ]
  },
  {
   "cell_type": "code",
   "execution_count": 34,
   "metadata": {
    "colab": {
     "base_uri": "https://localhost:8080/",
     "height": 68
    },
    "colab_type": "code",
    "id": "RLYiTjpQWnSu",
    "outputId": "3fd39543-bb80-40bd-90ca-0c6f7dc763fd"
   },
   "outputs": [
    {
     "name": "stdout",
     "output_type": "stream",
     "text": [
      "love stuff doesnt rot gum tast good go buy gum get\n",
      "*****************************************************************\n",
      "['love', 'stuff', 'doesnt', 'rot', 'gum', 'tast', 'good', 'go', 'buy', 'gum', 'get']\n"
     ]
    }
   ],
   "source": [
    "list_of_sent=[]\n",
    "for sent in x_train['CleanedText'].values: #Splits sentences into words and stores it in a list\n",
    "    list_of_sent.append(sent.split())\n",
    "print(x_train['CleanedText'].values[9])\n",
    "print(\"*****************************************************************\")\n",
    "print(list_of_sent[9])"
   ]
  },
  {
   "cell_type": "markdown",
   "metadata": {},
   "source": [
    "Observations: Get a list of all the words in train data."
   ]
  },
  {
   "cell_type": "code",
   "execution_count": 35,
   "metadata": {
    "colab": {
     "base_uri": "https://localhost:8080/",
     "height": 71
    },
    "colab_type": "code",
    "id": "Kst8rKhcXLBK",
    "outputId": "42d516b2-e6ab-43a8-8af3-0cd5ee7a78c6"
   },
   "outputs": [
    {
     "name": "stdout",
     "output_type": "stream",
     "text": [
      "number of words that occured minimum 5 times  8282\n",
      "sample words  ['monkey', 'bone', 'copi', 'strang', 'fail', 'wasnt', 'review', 'came', 'that', 'critic', 'think', 'effect', 'energet', 'perform', 'plot', 'year', 'there']\n"
     ]
    }
   ],
   "source": [
    "w2v_train=Word2Vec(list_of_sent,min_count=5,size=200, workers=4) #Initialises the Word2Vec model with words occuring more than 5 times.\n",
    "\n",
    "w2v_train_words = list(w2v_train.wv.vocab) #This gives a dictionary of words which tells about the uniqueness of a word among other things.\n",
    "print(\"number of words that occured minimum 5 times \",len(w2v_train_words))\n",
    "print(\"sample words \", w2v_train_words[298:315])"
   ]
  },
  {
   "cell_type": "markdown",
   "metadata": {},
   "source": [
    "Observations: Train the word2vec model on the obtained list of train words."
   ]
  },
  {
   "cell_type": "code",
   "execution_count": 36,
   "metadata": {
    "colab": {
     "base_uri": "https://localhost:8080/",
     "height": 51
    },
    "colab_type": "code",
    "id": "j46WCTEAYec-",
    "outputId": "513edb3c-84d9-48c7-8bc0-3dcee7160236"
   },
   "outputs": [
    {
     "name": "stdout",
     "output_type": "stream",
     "text": [
      "14999\n",
      "200\n"
     ]
    }
   ],
   "source": [
    "sent_vectors = [];\n",
    "sent_list = []\n",
    "for sent in x_test['CleanedText'].values:\n",
    "    sent_list.append(sent.split())\n",
    "for sent in sent_list: # For a sentence in the previously created list of sentences\n",
    "    sent_vec = np.zeros(200) # As word vectors are of zero length, returns an array of size 50 filled with zeros\n",
    "    i = 0; # Number of words with a valid vector in the sentence/review\n",
    "    for word in sent: # For each word in a review/sentence\n",
    "        if word in w2v_train_words:\n",
    "            vec = w2v_train.wv[word] #Gets the corresponding vector for the word\n",
    "            sent_vec += vec\n",
    "            i += 1\n",
    "    if i != 0:\n",
    "        sent_vec /= i\n",
    "    sent_vectors.append(sent_vec)\n",
    "print(len(sent_vectors))\n",
    "print(len(sent_vectors[0]))"
   ]
  },
  {
   "cell_type": "markdown",
   "metadata": {},
   "source": [
    "Observations: Gets the sentence vectors for test data."
   ]
  },
  {
   "cell_type": "code",
   "execution_count": 37,
   "metadata": {
    "colab": {
     "base_uri": "https://localhost:8080/",
     "height": 51
    },
    "colab_type": "code",
    "id": "t9sLBnLFYpc7",
    "outputId": "71d1976d-47d9-4eee-de7d-e3661d8a144f"
   },
   "outputs": [
    {
     "name": "stdout",
     "output_type": "stream",
     "text": [
      "34996\n",
      "200\n"
     ]
    }
   ],
   "source": [
    "sent_vectors_train = [];\n",
    "sent_list = []\n",
    "for sent in x_train['CleanedText'].values:\n",
    "    sent_list.append(sent.split())\n",
    "for sent in sent_list: # For a sentence in the previously created list of sentences\n",
    "    sent_vec = np.zeros(200) # As word vectors are of zero length, returns an array of size 50 filled with zeros\n",
    "    i = 0; # Number of words with a valid vector in the sentence/review\n",
    "    for word in sent: # For each word in a review/sentence\n",
    "        if word in w2v_train_words:\n",
    "            vec = w2v_train.wv[word] #Gets the corresponding vector for the word\n",
    "            sent_vec += vec\n",
    "            i += 1\n",
    "    if i != 0:\n",
    "        sent_vec /= i\n",
    "    sent_vectors_train.append(sent_vec)\n",
    "print(len(sent_vectors_train))\n",
    "print(len(sent_vectors_train[0]))"
   ]
  },
  {
   "cell_type": "markdown",
   "metadata": {},
   "source": [
    "Observations: Gets the sentence vectors for train data"
   ]
  },
  {
   "cell_type": "code",
   "execution_count": 38,
   "metadata": {
    "colab": {},
    "colab_type": "code",
    "id": "r6vHlbj2ZUyF"
   },
   "outputs": [],
   "source": [
    "from sklearn.preprocessing import normalize\n",
    "data_train=normalize(sent_vectors_train)\n",
    "data_test=normalize(sent_vectors)"
   ]
  },
  {
   "cell_type": "markdown",
   "metadata": {},
   "source": [
    "Observations: Normalize the data."
   ]
  },
  {
   "cell_type": "code",
   "execution_count": 42,
   "metadata": {
    "colab": {
     "base_uri": "https://localhost:8080/",
     "height": 1260
    },
    "colab_type": "code",
    "id": "GUbw_vfLaOy3",
    "outputId": "87f63d29-f060-4d88-f94d-acca121f6ddc",
    "scrolled": false
   },
   "outputs": [
    {
     "name": "stdout",
     "output_type": "stream",
     "text": [
      "The optimal max depth value found using GridSearchCV is 321\n",
      "The best CV value found is 32\n",
      "\n",
      "The test accuracy of SVM for max_depth = 321 is 76.100000%\n",
      "\n",
      "The test precision of SVM for max_depth = 321 is 77.906186%\n",
      "\n",
      "The test recall of SVM for max_depth = 321 is 80.789566%\n",
      "\n",
      "The test f1 score of SVM for max_depth = 321 is 79.321682%\n",
      "**************************************************\n",
      "[[4539 1950]\n",
      " [1635 6876]]\n"
     ]
    },
    {
     "data": {
      "image/png": "[encoded data removed]",
      "text/plain": [
       "<matplotlib.figure.Figure at 0x7f0d5bb77a90>"
      ]
     },
     "metadata": {
      "tags": []
     },
     "output_type": "display_data"
    },
    {
     "name": "stdout",
     "output_type": "stream",
     "text": [
      "**************************************************\n",
      "The True Positive Rate observed is 0.8078956644342615\n",
      "The True Negative Rate observed is 0.6994914470642626\n",
      "The False Positive Rate observed is 0.3005085529357374\n",
      "The False Negative Rate observed is 0.19210433556573844\n",
      "**************************************************\n",
      "The stats observed for confusion matrix are:\n",
      "population: 15000\n",
      "P: 8511\n",
      "N: 6489\n",
      "PositiveTest: 8826\n",
      "NegativeTest: 6174\n",
      "TP: 6876\n",
      "TN: 4539\n",
      "FP: 1950\n",
      "FN: 1635\n",
      "TPR: 0.8078956644342615\n",
      "TNR: 0.6994914470642626\n",
      "PPV: 0.77906186267845\n",
      "NPV: 0.7351797862001944\n",
      "FPR: 0.3005085529357374\n",
      "FDR: 0.22093813732154996\n",
      "FNR: 0.19210433556573844\n",
      "ACC: 0.761\n",
      "F1_score: 0.793216819518948\n",
      "MCC: 0.5108028825650592\n",
      "informedness: 0.5073871114985242\n",
      "markedness: 0.5142416488786443\n",
      "prevalence: 0.5674\n",
      "LRP: 2.688428187955858\n",
      "LRN: 0.2746342880559764\n",
      "DOR: 9.78912067748765\n",
      "FOR: 0.26482021379980564\n",
      "\n",
      "\n",
      "\n",
      "\n",
      "**********************************************************************\n",
      "The number of words available are 34998\n"
     ]
    }
   ],
   "source": [
    "df = decision_trees(sent_vectors_train, y_train, sent_vectors, y_test, list_of_sent, 'Word2Vec')"
   ]
  },
  {
   "cell_type": "code",
   "execution_count": 11,
   "metadata": {
    "colab": {
     "base_uri": "https://localhost:8080/",
     "height": 752
    },
    "colab_type": "code",
    "id": "NIBLrbjuV8rF",
    "outputId": "fbad5bc7-ecf4-495a-b540-282e91ce9530"
   },
   "outputs": [
    {
     "name": "stdout",
     "output_type": "stream",
     "text": [
      "**************************** Plotting max depth, Error ****************************\n"
     ]
    },
    {
     "data": {
      "image/png": "[encoded data removed]",
      "text/plain": [
       "<matplotlib.figure.Figure at 0x7f7fd356d160>"
      ]
     },
     "metadata": {
      "tags": []
     },
     "output_type": "display_data"
    },
    {
     "data": {
      "image/png": "[encoded data removed]",
      "text/plain": [
       "<matplotlib.figure.Figure at 0x7f7f8e1d9d30>"
      ]
     },
     "metadata": {
      "tags": []
     },
     "output_type": "display_data"
    }
   ],
   "source": [
    "plot_graph(data_train, y_train, data_test, y_test,32,100)"
   ]
  },
  {
   "cell_type": "markdown",
   "metadata": {
    "colab_type": "text",
    "id": "54m8cZ7F9Mda"
   },
   "source": [
    "# TFIDF Word2Vec"
   ]
  },
  {
   "cell_type": "code",
   "execution_count": 48,
   "metadata": {
    "colab": {
     "base_uri": "https://localhost:8080/",
     "height": 34
    },
    "colab_type": "code",
    "id": "r9Y144t6ZdNE",
    "outputId": "23a8a795-228c-4134-b6b8-b4401c3cac84"
   },
   "outputs": [
    {
     "name": "stdout",
     "output_type": "stream",
     "text": [
      "The shape of grouped data is (49997, 12)\n"
     ]
    }
   ],
   "source": [
    "import pandas as pd\n",
    "final = pd.read_csv(\"grouped_data_200.csv\")\n",
    "p = final.groupby('Score')\n",
    "pos = p.get_group('Positive') #Gets the groups with Positive score\n",
    "neg = p.get_group('Negative') #Gets the groups with Negative score\n",
    "pos_2000 = pos.sample(30000) #Gets 30000 reviews of positive and 20000 negative scores\n",
    "neg_2000 = neg.sample(20000)\n",
    "grouped_data = pd.concat([pos_2000, neg_2000], ignore_index = True) #This data now contains positive and negative data in order.\n",
    "grouped_data.dropna(inplace = True) #Drops rows with Nan\n",
    "grouped_data.reset_index(inplace=True) #Replaces missing indexes\n",
    "grouped_data.drop(['Unnamed: 0', 'Unnamed: 0.1'], axis=1, inplace=True)\n",
    "grouped_data = grouped_data.sort_values('Time', axis=0, ascending=True, kind='quicksort')\n",
    "scores=grouped_data['Score']\n",
    "print(\"The shape of grouped data is {}\".format(grouped_data.shape))"
   ]
  },
  {
   "cell_type": "markdown",
   "metadata": {},
   "source": [
    "Observations:\n",
    "A csv file is imported which consists of 200000 data points. These data points are already sorted on the basis of time. We create a new dataframe with over 50000 data points."
   ]
  },
  {
   "cell_type": "code",
   "execution_count": 49,
   "metadata": {
    "colab": {},
    "colab_type": "code",
    "id": "40TXbz9XZdNJ"
   },
   "outputs": [],
   "source": [
    "x_train, x_test, y_train, y_test = train_test_split(grouped_data,scores,test_size=0.3,shuffle=False)"
   ]
  },
  {
   "cell_type": "code",
   "execution_count": 50,
   "metadata": {
    "colab": {
     "base_uri": "https://localhost:8080/",
     "height": 88
    },
    "colab_type": "code",
    "id": "-S57D583ZdNO",
    "outputId": "5329ad03-cae6-4972-c2f3-b5f01992129b"
   },
   "outputs": [
    {
     "name": "stdout",
     "output_type": "stream",
     "text": [
      "love meow mix cat love eat togther cat kittl use attack brother franci could get delious belend chicken liver buy pleas\n",
      "*****************************************************************\n",
      "['love', 'meow', 'mix', 'cat', 'love', 'eat', 'togther', 'cat', 'kittl', 'use', 'attack', 'brother', 'franci', 'could', 'get', 'delious', 'belend', 'chicken', 'liver', 'buy', 'pleas']\n"
     ]
    }
   ],
   "source": [
    "list_of_sent=[]\n",
    "for sent in x_train['CleanedText'].values: #Splits sentences into words and stores it in a list\n",
    "    list_of_sent.append(sent.split())\n",
    "print(x_train['CleanedText'].values[9])\n",
    "print(\"*****************************************************************\")\n",
    "print(list_of_sent[9])"
   ]
  },
  {
   "cell_type": "code",
   "execution_count": 51,
   "metadata": {
    "colab": {
     "base_uri": "https://localhost:8080/",
     "height": 71
    },
    "colab_type": "code",
    "id": "s0J-v-G4ZdNd",
    "outputId": "fd6b1d89-f650-4073-d2e2-a37038c299f3"
   },
   "outputs": [
    {
     "name": "stdout",
     "output_type": "stream",
     "text": [
      "number of words that occured minimum 5 times  8180\n",
      "sample words  ['amazon', 'pull', 'shelv', 'love', 'meow', 'mix', 'cat', 'eat', 'attack', 'brother', 'franci', 'chicken', 'liver', 'buy', 'pleas', 'roast', 'drink']\n"
     ]
    }
   ],
   "source": [
    "w2v_train=Word2Vec(list_of_sent,min_count=5,size=200, workers=4) #Initialises the Word2Vec model with words occuring more than 5 times.\n",
    "\n",
    "w2v_train_words = list(w2v_train.wv.vocab) #This gives a dictionary of words which tells about the uniqueness of a word among other things.\n",
    "print(\"number of words that occured minimum 5 times \",len(w2v_train_words))\n",
    "print(\"sample words \", w2v_train_words[298:315])"
   ]
  },
  {
   "cell_type": "markdown",
   "metadata": {
    "colab_type": "text",
    "id": "2suJDeZnWLVu"
   },
   "source": [
    "Observations:\n",
    "Word2Vec model is built. We can see the number of times a word occured minimum 5 times."
   ]
  },
  {
   "cell_type": "code",
   "execution_count": 52,
   "metadata": {
    "colab": {},
    "colab_type": "code",
    "id": "72aYAM9QWLVw"
   },
   "outputs": [],
   "source": [
    "tf_idf_vect = TfidfVectorizer(ngram_range=(1,2))\n",
    "vocab_tf_idf = tf_idf_vect.fit(x_train['CleanedText'].values) #Converts to a sparse matrix of TF-IDF vectors.\n",
    "train_tf_idf = tf_idf_vect.transform(x_train['CleanedText'].values)\n",
    "test_tf_idf = tf_idf_vect.transform(x_test['CleanedText'].values)\n",
    "tfidf_feat = tf_idf_vect.get_feature_names()\n",
    "dictionary = dict(zip(tfidf_feat, list(tf_idf_vect.idf_)))"
   ]
  },
  {
   "cell_type": "markdown",
   "metadata": {
    "colab_type": "text",
    "id": "jAB1-SVyWLVz"
   },
   "source": [
    "Observations:\n",
    "We build the vocabulary of TF-IDF on train data and obtain the vectors of train and test data."
   ]
  },
  {
   "cell_type": "code",
   "execution_count": 53,
   "metadata": {
    "colab": {
     "base_uri": "https://localhost:8080/",
     "height": 51
    },
    "colab_type": "code",
    "id": "uItaLf4qWLV0",
    "outputId": "df932f89-6a9f-4692-f41d-bc162610d888"
   },
   "outputs": [
    {
     "name": "stdout",
     "output_type": "stream",
     "text": [
      "34997\n",
      "200\n"
     ]
    }
   ],
   "source": [
    "sent_vectors_train = []; # the tfidf-w2v for each sentence/review is stored in this list\n",
    "row=0;\n",
    "sent_list = []\n",
    "for sent in x_train['CleanedText'].values:\n",
    "    sent_list.append(sent.split())\n",
    "for sent in sent_list: # for each review/sentence \n",
    "    sent_vec = np.zeros(200) # as word vectors are of zero length\n",
    "    weight_sum =0; # num of words with a valid vector in the sentence/review\n",
    "    for word in sent: # for each word in a review/sentence\n",
    "        if word in w2v_train_words:\n",
    "            try:\n",
    "                vec = w2v_train.wv[word] # obtain the tf_idfidf of a word in a sentence/review\n",
    "                tf_idf = tf_idf = dictionary[word]*sent.count(word)\n",
    "                sent_vec += (vec * tf_idf)\n",
    "                weight_sum += tf_idf\n",
    "            except:\n",
    "                pass\n",
    "    if weight_sum != 0:\n",
    "        sent_vec /= weight_sum\n",
    "    sent_vectors_train.append(sent_vec)\n",
    "    row += 1\n",
    "print(len(sent_vectors_train))\n",
    "print(len(sent_vectors_train[0]))"
   ]
  },
  {
   "cell_type": "markdown",
   "metadata": {
    "colab_type": "text",
    "id": "twW_V8FsWLV4"
   },
   "source": [
    "Observations:\n",
    "The vector form of train data is obtained."
   ]
  },
  {
   "cell_type": "code",
   "execution_count": 54,
   "metadata": {
    "colab": {
     "base_uri": "https://localhost:8080/",
     "height": 51
    },
    "colab_type": "code",
    "id": "aVoKBYvHWLV5",
    "outputId": "6f97b1ba-4594-433e-9be6-f90699d508c4"
   },
   "outputs": [
    {
     "name": "stdout",
     "output_type": "stream",
     "text": [
      "15000\n",
      "200\n"
     ]
    }
   ],
   "source": [
    "sent_vectors_test = [];\n",
    "row=0\n",
    "sent_list = []\n",
    "for sent in x_test['CleanedText'].values:\n",
    "    sent_list.append(sent.split())\n",
    "for sent in sent_list: # For a sentence in the previously created list of sentences\n",
    "    sent_vec = np.zeros(200) # As word vectors are of zero length, returns an array of size 50 filled with zeros\n",
    "    i = 0; # Number of words with a valid vector in the sentence/review\n",
    "    for word in sent: # For each word in a review/sentence\n",
    "        if word in w2v_train_words:\n",
    "            try:\n",
    "                vec = w2v_train.wv[word] #Gets the corresponding vector for the word\n",
    "                tf_idf = tf_idf = dictionary[word]*sent.count(word)\n",
    "                sent_vec += (vec * tf_idf)\n",
    "                i += tf_idf\n",
    "            except:\n",
    "                pass\n",
    "    if i != 0:\n",
    "        sent_vec /= i\n",
    "    sent_vectors_test.append(sent_vec)\n",
    "    row+=1\n",
    "print(len(sent_vectors_test))\n",
    "print(len(sent_vectors_test[0]))"
   ]
  },
  {
   "cell_type": "markdown",
   "metadata": {
    "colab_type": "text",
    "id": "buINskx8WLWL"
   },
   "source": [
    "Observations:\n",
    "The vector form of test data is obtained."
   ]
  },
  {
   "cell_type": "code",
   "execution_count": 0,
   "metadata": {
    "colab": {
     "base_uri": "https://localhost:8080/",
     "height": 1260
    },
    "colab_type": "code",
    "id": "tJLPyJHSB88R",
    "outputId": "24e42bbb-70f2-465a-c225-0684858eab4c",
    "scrolled": false
   },
   "outputs": [
    {
     "name": "stdout",
     "output_type": "stream",
     "text": [
      "The optimal max depth value found using GridSearchCV is 561\n",
      "The best CV value found is 56\n",
      "\n",
      "The test accuracy of SVM for max_depth = 561 is 73.513333%\n",
      "\n",
      "The test precision of SVM for max_depth = 561 is 74.566349%\n",
      "\n",
      "The test recall of SVM for max_depth = 561 is 80.870076%\n",
      "\n",
      "The test f1 score of SVM for max_depth = 561 is 77.590389%\n",
      "**************************************************\n",
      "[[4149 2346]\n",
      " [1627 6878]]\n"
     ]
    },
    {
     "data": {
      "image/png": "[encoded data removed]",
      "text/plain": [
       "<matplotlib.figure.Figure at 0x7fa41fe98668>"
      ]
     },
     "metadata": {
      "tags": []
     },
     "output_type": "display_data"
    },
    {
     "name": "stdout",
     "output_type": "stream",
     "text": [
      "**************************************************\n",
      "The True Positive Rate observed is 0.8087007642563198\n",
      "The True Negative Rate observed is 0.6387990762124711\n",
      "The False Positive Rate observed is 0.3612009237875289\n",
      "The False Negative Rate observed is 0.19129923574368018\n",
      "**************************************************\n",
      "The stats observed for confusion matrix are:\n",
      "population: 15000\n",
      "P: 8505\n",
      "N: 6495\n",
      "PositiveTest: 9224\n",
      "NegativeTest: 5776\n",
      "TP: 6878\n",
      "TN: 4149\n",
      "FP: 2346\n",
      "FN: 1627\n",
      "TPR: 0.8087007642563198\n",
      "TNR: 0.6387990762124711\n",
      "PPV: 0.7456634865568084\n",
      "NPV: 0.7183171745152355\n",
      "FPR: 0.3612009237875289\n",
      "FDR: 0.2543365134431917\n",
      "FNR: 0.19129923574368018\n",
      "ACC: 0.7351333333333333\n",
      "F1_score: 0.7759038862880027\n",
      "MCC: 0.45566574570659113\n",
      "informedness: 0.4474998404687909\n",
      "markedness: 0.46398066107204383\n",
      "prevalence: 0.567\n",
      "LRP: 2.238922192602215\n",
      "LRN: 0.29946698870937644\n",
      "DOR: 7.476357251433215\n",
      "FOR: 0.28168282548476453\n",
      "\n",
      "\n",
      "\n",
      "\n",
      "**********************************************************************\n",
      "The number of words available are 34998\n"
     ]
    }
   ],
   "source": [
    "df = decision_trees(sent_vectors_train, y_train, sent_vectors_test, y_test, list_of_sent, 'TFIDF_Word2vec')"
   ]
  },
  {
   "cell_type": "code",
   "execution_count": 0,
   "metadata": {
    "colab": {
     "base_uri": "https://localhost:8080/",
     "height": 752
    },
    "colab_type": "code",
    "id": "3dKfoEXMw_6_",
    "outputId": "05a98d92-c251-4282-d665-1b53af165b7a"
   },
   "outputs": [
    {
     "name": "stdout",
     "output_type": "stream",
     "text": [
      "**************************** Plotting max depth, Error ****************************\n"
     ]
    },
    {
     "data": {
      "image/png": "[encoded data removed]",
      "text/plain": [
       "<matplotlib.figure.Figure at 0x7fa41d3c4630>"
      ]
     },
     "metadata": {
      "tags": []
     },
     "output_type": "display_data"
    },
    {
     "data": {
      "image/png": "[encoded data removed]",
      "text/plain": [
       "<matplotlib.figure.Figure at 0x7fa41d492f28>"
      ]
     },
     "metadata": {
      "tags": []
     },
     "output_type": "display_data"
    }
   ],
   "source": [
    "plot_graph(sent_vectors_train, y_train, sent_vectors_test, y_test,56,100)"
   ]
  },
  {
   "cell_type": "markdown",
   "metadata": {
    "colab_type": "text",
    "id": "2MAKybTmaAS9"
   },
   "source": [
    "# Summary and Conclusions"
   ]
  },
  {
   "cell_type": "markdown",
   "metadata": {},
   "source": [
    "1) Import the csv file containing pre processed data which is already arranged on the basis of time."
   ]
  },
  {
   "cell_type": "markdown",
   "metadata": {},
   "source": [
    "2) Two functions are created for DecisionTreeClassifier and to plot max depth vs errors."
   ]
  },
  {
   "cell_type": "markdown",
   "metadata": {},
   "source": [
    "3) The first function performs GridSearchCv on max_depth and finds the right hyper parameter for DecisionTreeClassifier. Then the model is fitted and its respective accuracy and precision values are obtained. Then a Confusion matrix is plotted and its various values like TPR, TNR, FPR, FNR are obtained. A decision tree graph is saved as PDF using graphviz. Then a dataframe is constructed with all the words and their feature importances and it is given as output."
   ]
  },
  {
   "cell_type": "markdown",
   "metadata": {},
   "source": [
    "4) The second function plots the hyperparameter which is max_depth versus test error and MSE. Since it is computationally expensive a step size can be input into the function which will in turn decide the number of points to be taken for plotting the graph."
   ]
  },
  {
   "cell_type": "markdown",
   "metadata": {},
   "source": [
    "5) These functions are applied on Bag of Words, TFIDF, avg Word2Vec and TFIDF Word2Vec."
   ]
  },
  {
   "cell_type": "code",
   "execution_count": 27,
   "metadata": {
    "colab": {},
    "colab_type": "code",
    "id": "HcO1ivTlaATA"
   },
   "outputs": [
    {
     "name": "stdout",
     "output_type": "stream",
     "text": [
      "+----------------+-----------------+---------------+-----------+--------+----------+\n",
      "|     Model      | Hyper Parameter | Test Accuracy | Precision | Recall | F1 Score |\n",
      "+----------------+-----------------+---------------+-----------+--------+----------+\n",
      "|  Bag of Words  |  max_depth = 21 |     75.42%    |   72.46%  | 78.07% |  78.26%  |\n",
      "|                |                 |               |           |        |          |\n",
      "|     TFIDF      |  max_depth = 21 |     74.02%    |   72.26%  | 79.14% |  75.54%  |\n",
      "|                |                 |               |           |        |          |\n",
      "|  Avg Word2vec  | max_depth = 321 |     76.10%    |   77.90%  | 80.78% |  79.32%  |\n",
      "|                |                 |               |           |        |          |\n",
      "| TFIDF Word2vec | max_depth = 561 |     73.51%    |   74.56%  | 80.87% |  77.59%  |\n",
      "|                |                 |               |           |        |          |\n",
      "+----------------+-----------------+---------------+-----------+--------+----------+\n",
      "************************************************************************************************************************\n",
      "+-------------------------------------+------------------------------+\n",
      "| Feature Importance for Bag of words | Feature Importance for TFIDF |\n",
      "+-------------------------------------+------------------------------+\n",
      "|                great                |            great             |\n",
      "|                                     |                              |\n",
      "|              dissapoint             |             love             |\n",
      "|                                     |                              |\n",
      "|                 love                |             best             |\n",
      "|                                     |                              |\n",
      "|                 best                |          dissapoint          |\n",
      "|                                     |                              |\n",
      "|                delci                |            delci             |\n",
      "|                                     |                              |\n",
      "+-------------------------------------+------------------------------+\n"
     ]
    }
   ],
   "source": [
    "x = PrettyTable()\n",
    "x.field_names = [\"Model\",\"Hyper Parameter\", \"Test Accuracy\",\"Precision\",\"Recall\",\"F1 Score\"]\n",
    "x.add_row([\"Bag of Words\",\"max_depth = 21\",\"75.42%\", \"72.46%\", \"78.07%\", \"78.26%\"])\n",
    "x.add_row([\"\",\"\",\"\",\"\",\"\",\"\"])\n",
    "x.add_row([\"TFIDF\",\"max_depth = 21\",\"74.02%\", \"72.26%\", \"79.14%\", \"75.54%\"])\n",
    "x.add_row([\"\",\"\",\"\",\"\",\"\",\"\"])\n",
    "x.add_row([\"Avg Word2vec\",\"max_depth = 321\",\"76.10%\", \"77.90%\", \"80.78%\", \"79.32%\"])\n",
    "x.add_row([\"\",\"\",\"\",\"\",\"\",\"\"])\n",
    "x.add_row([\"TFIDF Word2vec\",\"max_depth = 561\",\"73.51%\", \"74.56%\", \"80.87%\", \"77.59%\"])\n",
    "x.add_row([\"\",\"\",\"\",\"\",\"\",\"\"])\n",
    "\n",
    "print(x.get_string())\n",
    "print('*'*120)\n",
    "\n",
    "z = PrettyTable()\n",
    "z.field_names = [\"Feature Importance for Bag of words\",\"Feature Importance for TFIDF\" ]\n",
    "z.add_row([\"great\",\"great\"])\n",
    "z.add_row([\"\",\"\"])\n",
    "z.add_row([\"dissapoint\",\"love\"])\n",
    "z.add_row([\"\",\"\"])\n",
    "z.add_row([\"love\",\"best\"])\n",
    "z.add_row([\"\",\"\"])\n",
    "z.add_row([\"best\",\"dissapoint\"])\n",
    "z.add_row([\"\",\"\"])\n",
    "z.add_row([\"delci\",\"delci\"])\n",
    "z.add_row([\"\",\"\"])\n",
    "\n",
    "print(z.get_string())"
   ]
  }
 ],
 "metadata": {
  "accelerator": "GPU",
  "colab": {
   "collapsed_sections": [],
   "name": "SVM on Amazon food reviews - Copy.ipynb",
   "provenance": [],
   "version": "0.3.2"
  },
  "kernelspec": {
   "display_name": "Python 3",
   "language": "python",
   "name": "python3"
  },
  "language_info": {
   "codemirror_mode": {
    "name": "ipython",
    "version": 3
   },
   "file_extension": ".py",
   "mimetype": "text/x-python",
   "name": "python",
   "nbconvert_exporter": "python",
   "pygments_lexer": "ipython3",
   "version": "3.6.5"
  }
 },
 "nbformat": 4,
 "nbformat_minor": 1
}
